






<!DOCTYPE html>
<html lang="en" data-color-mode="auto" data-light-theme="light" data-dark-theme="dark" data-a11y-animated-images="system">
  <head>
    <meta charset="utf-8">
  <link rel="dns-prefetch" href="https://github.githubassets.com">
  <link rel="dns-prefetch" href="https://avatars.githubusercontent.com">
  <link rel="dns-prefetch" href="https://github-cloud.s3.amazonaws.com">
  <link rel="dns-prefetch" href="https://user-images.githubusercontent.com/">
  <link rel="preconnect" href="https://github.githubassets.com" crossorigin>
  <link rel="preconnect" href="https://avatars.githubusercontent.com">

  <link crossorigin="anonymous" media="all" rel="stylesheet" href="https://github.githubassets.com/assets/light-fe3f886b577a.css" /><link crossorigin="anonymous" media="all" rel="stylesheet" href="https://github.githubassets.com/assets/dark-a1dbeda2886c.css" /><link data-color-theme="dark_dimmed" crossorigin="anonymous" media="all" rel="stylesheet" data-href="https://github.githubassets.com/assets/dark_dimmed-1ad5cf51dfeb.css" /><link data-color-theme="dark_high_contrast" crossorigin="anonymous" media="all" rel="stylesheet" data-href="https://github.githubassets.com/assets/dark_high_contrast-11d3505dc06a.css" /><link data-color-theme="dark_colorblind" crossorigin="anonymous" media="all" rel="stylesheet" data-href="https://github.githubassets.com/assets/dark_colorblind-8b800495504f.css" /><link data-color-theme="light_colorblind" crossorigin="anonymous" media="all" rel="stylesheet" data-href="https://github.githubassets.com/assets/light_colorblind-daa38c88b795.css" /><link data-color-theme="light_high_contrast" crossorigin="anonymous" media="all" rel="stylesheet" data-href="https://github.githubassets.com/assets/light_high_contrast-1b9ea565820a.css" /><link data-color-theme="light_tritanopia" crossorigin="anonymous" media="all" rel="stylesheet" data-href="https://github.githubassets.com/assets/light_tritanopia-e4be9332dd6c.css" /><link data-color-theme="dark_tritanopia" crossorigin="anonymous" media="all" rel="stylesheet" data-href="https://github.githubassets.com/assets/dark_tritanopia-0dcf95848dd5.css" />
  
  
    <link crossorigin="anonymous" media="all" rel="stylesheet" href="https://github.githubassets.com/assets/primer-7cc439b4edd0.css" />
    <link crossorigin="anonymous" media="all" rel="stylesheet" href="https://github.githubassets.com/assets/global-835b815139bc.css" />
    <link crossorigin="anonymous" media="all" rel="stylesheet" href="https://github.githubassets.com/assets/github-2ecd26fb65a9.css" />
  <link crossorigin="anonymous" media="all" rel="stylesheet" href="https://github.githubassets.com/assets/code-13bfb3f3dbf3.css" />



  <script crossorigin="anonymous" defer="defer" type="application/javascript" src="https://github.githubassets.com/assets/wp-runtime-fe0dd7316fe4.js"></script>
<script crossorigin="anonymous" defer="defer" type="application/javascript" src="https://github.githubassets.com/assets/vendors-node_modules_stacktrace-parser_dist_stack-trace-parser_esm_js-node_modules_github_bro-327bbf-0aaeb22dd2a5.js"></script>
<script crossorigin="anonymous" defer="defer" type="application/javascript" src="https://github.githubassets.com/assets/ui_packages_soft-nav_soft-nav_ts-21fc7a4a0e8f.js"></script>
<script crossorigin="anonymous" defer="defer" type="application/javascript" src="https://github.githubassets.com/assets/environment-1a3ab62fa5e0.js"></script>
<script crossorigin="anonymous" defer="defer" type="application/javascript" src="https://github.githubassets.com/assets/vendors-node_modules_github_selector-observer_dist_index_esm_js-2646a2c533e3.js"></script>
<script crossorigin="anonymous" defer="defer" type="application/javascript" src="https://github.githubassets.com/assets/vendors-node_modules_github_relative-time-element_dist_index_js-99e288659d4f.js"></script>
<script crossorigin="anonymous" defer="defer" type="application/javascript" src="https://github.githubassets.com/assets/vendors-node_modules_fzy_js_index_js-node_modules_github_markdown-toolbar-element_dist_index_js-e3de700a4c9d.js"></script>
<script crossorigin="anonymous" defer="defer" type="application/javascript" src="https://github.githubassets.com/assets/vendors-node_modules_github_filter-input-element_dist_index_js-node_modules_github_remote-inp-44ef1e-ff95e778f461.js"></script>
<script crossorigin="anonymous" defer="defer" type="application/javascript" src="https://github.githubassets.com/assets/vendors-node_modules_github_details-dialog-element_dist_index_js-node_modules_github_memoize_-8664b7-b1d9fac72bf3.js"></script>
<script crossorigin="anonymous" defer="defer" type="application/javascript" src="https://github.githubassets.com/assets/vendors-node_modules_delegated-events_dist_index_js-node_modules_github_details-menu-element_-bb7a4e-8ca5bb7b5e7e.js"></script>
<script crossorigin="anonymous" defer="defer" type="application/javascript" src="https://github.githubassets.com/assets/vendors-node_modules_github_file-attachment-element_dist_index_js-node_modules_github_text-ex-3415a8-7ecc10fb88d0.js"></script>
<script crossorigin="anonymous" defer="defer" type="application/javascript" src="https://github.githubassets.com/assets/vendors-node_modules_github_tab-container-element_dist_index_js-node_modules_github_auto-comp-bf192d-81631767a9f8.js"></script>
<script crossorigin="anonymous" defer="defer" type="application/javascript" src="https://github.githubassets.com/assets/vendors-node_modules_primer_view-components_app_components_primer_primer_js-node_modules_gith-6a1af4-68db00c62e33.js"></script>
<script crossorigin="anonymous" defer="defer" type="application/javascript" src="https://github.githubassets.com/assets/github-elements-6810ff4768f2.js"></script>
<script crossorigin="anonymous" defer="defer" type="application/javascript" src="https://github.githubassets.com/assets/element-registry-4af15132e85e.js"></script>
<script crossorigin="anonymous" defer="defer" type="application/javascript" src="https://github.githubassets.com/assets/vendors-node_modules_lit-html_lit-html_js-9d9fe1859ce5.js"></script>
<script crossorigin="anonymous" defer="defer" type="application/javascript" src="https://github.githubassets.com/assets/vendors-node_modules_github_mini-throttle_dist_index_js-node_modules_github_alive-client_dist-bf5aa2-424aa982deef.js"></script>
<script crossorigin="anonymous" defer="defer" type="application/javascript" src="https://github.githubassets.com/assets/vendors-node_modules_github_turbo_dist_turbo_es2017-esm_js-ba0e4d5b3207.js"></script>
<script crossorigin="anonymous" defer="defer" type="application/javascript" src="https://github.githubassets.com/assets/vendors-node_modules_delegated-events_dist_index_js-node_modules_github_hotkey_dist_index_js-b47a28757074.js"></script>
<script crossorigin="anonymous" defer="defer" type="application/javascript" src="https://github.githubassets.com/assets/vendors-node_modules_primer_behaviors_dist_esm_dimensions_js-node_modules_github_hydro-analyt-f69502-d8672aa6f36b.js"></script>
<script crossorigin="anonymous" defer="defer" type="application/javascript" src="https://github.githubassets.com/assets/vendors-node_modules_color-convert_index_js-35b3ae68c408.js"></script>
<script crossorigin="anonymous" defer="defer" type="application/javascript" src="https://github.githubassets.com/assets/vendors-node_modules_github_remote-form_dist_index_js-node_modules_github_template-parts_lib_-273494-0fb4f42e57f4.js"></script>
<script crossorigin="anonymous" defer="defer" type="application/javascript" src="https://github.githubassets.com/assets/vendors-node_modules_github_paste-markdown_dist_index_esm_js-node_modules_github_quote-select-1bdbba-dd6debfb8eb8.js"></script>
<script crossorigin="anonymous" defer="defer" type="application/javascript" src="https://github.githubassets.com/assets/app_assets_modules_github_updatable-content_ts-37e0a97aa2ee.js"></script>
<script crossorigin="anonymous" defer="defer" type="application/javascript" src="https://github.githubassets.com/assets/app_assets_modules_github_behaviors_keyboard-shortcuts-helper_ts-app_assets_modules_github_be-f5afdb-09a03d8bfce2.js"></script>
<script crossorigin="anonymous" defer="defer" type="application/javascript" src="https://github.githubassets.com/assets/app_assets_modules_github_sticky-scroll-into-view_ts-0af96d15a250.js"></script>
<script crossorigin="anonymous" defer="defer" type="application/javascript" src="https://github.githubassets.com/assets/app_assets_modules_github_behaviors_ajax-error_ts-app_assets_modules_github_behaviors_include-2e2258-c72c54ce3681.js"></script>
<script crossorigin="anonymous" defer="defer" type="application/javascript" src="https://github.githubassets.com/assets/app_assets_modules_github_behaviors_commenting_edit_ts-app_assets_modules_github_behaviors_ht-83c235-0cd932b9d025.js"></script>
<script crossorigin="anonymous" defer="defer" type="application/javascript" src="https://github.githubassets.com/assets/behaviors-6003c89dbe1e.js"></script>
<script crossorigin="anonymous" defer="defer" type="application/javascript" src="https://github.githubassets.com/assets/vendors-node_modules_delegated-events_dist_index_js-node_modules_github_catalyst_lib_index_js-06ff531-fe0b8ccc90a5.js"></script>
<script crossorigin="anonymous" defer="defer" type="application/javascript" src="https://github.githubassets.com/assets/notifications-global-86e9ba7bffb7.js"></script>
<script crossorigin="anonymous" defer="defer" type="application/javascript" src="https://github.githubassets.com/assets/vendors-node_modules_morphdom_dist_morphdom-esm_js-node_modules_github_template-parts_lib_index_js-58417dae193c.js"></script>
<script crossorigin="anonymous" defer="defer" type="application/javascript" src="https://github.githubassets.com/assets/vendors-node_modules_virtualized-list_es_index_js-node_modules_github_memoize_dist_esm_index_js-8496b7c4b809.js"></script>
<script crossorigin="anonymous" defer="defer" type="application/javascript" src="https://github.githubassets.com/assets/vendors-node_modules_github_file-attachment-element_dist_index_js-node_modules_github_mini-th-34a24a-01ff22798072.js"></script>
<script crossorigin="anonymous" defer="defer" type="application/javascript" src="https://github.githubassets.com/assets/app_assets_modules_github_ref-selector_ts-7bdefeb88a1a.js"></script>
<script crossorigin="anonymous" defer="defer" type="application/javascript" src="https://github.githubassets.com/assets/repositories-d8ed95411096.js"></script>
<script crossorigin="anonymous" defer="defer" type="application/javascript" src="https://github.githubassets.com/assets/vendors-node_modules_github_remote-form_dist_index_js-node_modules_delegated-events_dist_inde-414f05-4046b86b0100.js"></script>
<script crossorigin="anonymous" defer="defer" type="application/javascript" src="https://github.githubassets.com/assets/vendors-node_modules_github_clipboard-copy-element_dist_index_esm_js-node_modules_github_mini-17eb43-0e309b61f5f6.js"></script>
<script crossorigin="anonymous" defer="defer" type="application/javascript" src="https://github.githubassets.com/assets/app_assets_modules_github_diffs_blob-lines_ts-app_assets_modules_github_diffs_linkable-line-n-f96c66-97aade341120.js"></script>
<script crossorigin="anonymous" defer="defer" type="application/javascript" src="https://github.githubassets.com/assets/diffs-5f78171ebd72.js"></script>
  

  <title>2022-1/Python_IM/2023-2/Week_8_bnb_Query.ipynb at main · cchuang2009/2022-1</title>



  <meta name="route-pattern" content="/:user_id/:repository/blame/*name(/*path)">

    
  <meta name="current-catalog-service-hash" content="581425c0eaaa5e5e53c5b736f58a14dbe5d38b0be425901738ad0670bd1d5a33">


  <meta name="request-id" content="DDDD:1038:43251:6F0A7:64225EAA" data-turbo-transient="true" /><meta name="html-safe-nonce" content="9a5572da9e4e1b082141c6e01ac7d25589fff94f1c859cbdaa20604dde402fef" data-turbo-transient="true" /><meta name="visitor-payload" content="eyJyZWZlcnJlciI6bnVsbCwicmVxdWVzdF9pZCI6IkREREQ6MTAzODo0MzI1MTo2RjBBNzo2NDIyNUVBQSIsInZpc2l0b3JfaWQiOiI0NDg5MDM3NjU4Mzk0NDcxMTM1IiwicmVnaW9uX2VkZ2UiOiJqYXBhbmVhc3QiLCJyZWdpb25fcmVuZGVyIjoiaWFkIn0=" data-turbo-transient="true" /><meta name="visitor-hmac" content="172242f599b98ccfbe62ac0f43ff387bf59d389d5fa1c0e277791796a615a908" data-turbo-transient="true" />


    <meta name="hovercard-subject-tag" content="repository:564766043" data-turbo-transient>


  <meta name="github-keyboard-shortcuts" content="repository" data-turbo-transient="true" />
  

  <meta name="selected-link" value="repo_source" data-turbo-transient>

    <meta name="google-site-verification" content="c1kuD-K2HIVF635lypcsWPoD4kilo5-jA_wBFyT4uMY">
  <meta name="google-site-verification" content="KT5gs8h0wvaagLKAVWq8bbeNwnZZK1r1XQysX3xurLU">
  <meta name="google-site-verification" content="ZzhVyEFwb7w3e0-uOTltm8Jsck2F5StVihD0exw2fsA">
  <meta name="google-site-verification" content="GXs5KoUUkNCoaAZn7wPN-t01Pywp9M3sEjnt_3_ZWPc">
  <meta name="google-site-verification" content="Apib7-x98H0j5cPqHWwSMm6dNU4GmODRoqxLiDzdx9I">

<meta name="octolytics-url" content="https://collector.github.com/github/collect" /><meta name="octolytics-actor-id" content="125939337" /><meta name="octolytics-actor-login" content="KAOCHINGHAO" /><meta name="octolytics-actor-hash" content="159579eb5d16ec28f650122576603da04dbaac045b821b10a127a7fc6d7309be" />

  <meta name="analytics-location" content="/&lt;user-name&gt;/&lt;repo-name&gt;/blob/blame" data-turbo-transient="true" />

  




  

    <meta name="user-login" content="KAOCHINGHAO">

  <link rel="sudo-modal" href="/sessions/sudo_modal">

    <meta name="viewport" content="width=device-width">
    
      <meta name="description" content="Resources in Chang-Gung University, Taiwan. Contribute to cchuang2009/2022-1 development by creating an account on GitHub.">
      <link rel="search" type="application/opensearchdescription+xml" href="/opensearch.xml" title="GitHub">
    <link rel="fluid-icon" href="https://github.com/fluidicon.png" title="GitHub">
    <meta property="fb:app_id" content="1401488693436528">
    <meta name="apple-itunes-app" content="app-id=1477376905" />
      <meta name="twitter:image:src" content="https://opengraph.githubassets.com/0308fe214a2b3592c678942bca2b471b95aaba6ff0a84a3c6378c33586b47c79/cchuang2009/2022-1" /><meta name="twitter:site" content="@github" /><meta name="twitter:card" content="summary_large_image" /><meta name="twitter:title" content="2022-1/Python_IM/2023-2/Week_8_bnb_Query.ipynb at main · cchuang2009/2022-1" /><meta name="twitter:description" content="Resources in Chang-Gung University, Taiwan. Contribute to cchuang2009/2022-1 development by creating an account on GitHub." />
      <meta property="og:image" content="https://opengraph.githubassets.com/0308fe214a2b3592c678942bca2b471b95aaba6ff0a84a3c6378c33586b47c79/cchuang2009/2022-1" /><meta property="og:image:alt" content="Resources in Chang-Gung University, Taiwan. Contribute to cchuang2009/2022-1 development by creating an account on GitHub." /><meta property="og:image:width" content="1200" /><meta property="og:image:height" content="600" /><meta property="og:site_name" content="GitHub" /><meta property="og:type" content="object" /><meta property="og:title" content="2022-1/Python_IM/2023-2/Week_8_bnb_Query.ipynb at main · cchuang2009/2022-1" /><meta property="og:url" content="https://github.com/cchuang2009/2022-1" /><meta property="og:description" content="Resources in Chang-Gung University, Taiwan. Contribute to cchuang2009/2022-1 development by creating an account on GitHub." />
      
    <link rel="assets" href="https://github.githubassets.com/">
      <link rel="shared-web-socket" href="wss://alive.github.com/_sockets/u/125939337/ws?session=eyJ2IjoiVjMiLCJ1IjoxMjU5MzkzMzcsInMiOjEwODQ3OTg5NDQsImMiOjQyMDMyODU3MDcsInQiOjE2Nzk5NzQwNjN9--06f1d9bb040fdae4632fee625238fa448c3ecfe4c843d015bfc2f02965bcfa83" data-refresh-url="/_alive" data-session-id="c4c54f627cd8e88628eb44287c6c2a4cd744949b84054432f8e29df23825b2e3">
      <link rel="shared-web-socket-src" href="/assets-cdn/worker/socket-worker-d7c2fe14563a.js">


        <meta name="hostname" content="github.com">


      <meta name="keyboard-shortcuts-preference" content="all">
      <script type="application/json" id="memex_keyboard_shortcuts_preference">"all"</script>

        <meta name="expected-hostname" content="github.com">

    <meta name="enabled-features" content="TURBO_EXPERIMENT_RISKY,IMAGE_METRIC_TRACKING,GEOJSON_AZURE_MAPS,ACTIONS_SIGNALR_RECONNECT_JITTER">


  <meta http-equiv="x-pjax-version" content="5a6037bc6b66d6e1ac3342644862aa0501ea597ac847d3e560b71c666f31f086" data-turbo-track="reload">
  <meta http-equiv="x-pjax-csp-version" content="2a84822a832da97f1ea76cf989a357ec70c85713a2fd8f14c8421b76bbffe38c" data-turbo-track="reload">
  <meta http-equiv="x-pjax-css-version" content="665baf07cc4524736774c0f7ba4ce5a143d306d7d32278d7e9699aace4fbf6b6" data-turbo-track="reload">
  <meta http-equiv="x-pjax-js-version" content="f0d97245154072cc4fa53c2f76bcc86ee81f7de31e22e011e1567c51b1ce23d1" data-turbo-track="reload">

  <meta name="turbo-cache-control" content="no-preview" data-turbo-transient="">

    
  <meta name="go-import" content="github.com/cchuang2009/2022-1 git https://github.com/cchuang2009/2022-1.git">

  <meta name="octolytics-dimension-user_id" content="5169903" /><meta name="octolytics-dimension-user_login" content="cchuang2009" /><meta name="octolytics-dimension-repository_id" content="564766043" /><meta name="octolytics-dimension-repository_nwo" content="cchuang2009/2022-1" /><meta name="octolytics-dimension-repository_public" content="true" /><meta name="octolytics-dimension-repository_is_fork" content="false" /><meta name="octolytics-dimension-repository_network_root_id" content="564766043" /><meta name="octolytics-dimension-repository_network_root_nwo" content="cchuang2009/2022-1" />



  <meta name="turbo-body-classes" content="logged-in env-production page-responsive full-width">


  <meta name="browser-stats-url" content="https://api.github.com/_private/browser/stats">

  <meta name="browser-errors-url" content="https://api.github.com/_private/browser/errors">

  <meta name="browser-optimizely-client-errors-url" content="https://api.github.com/_private/browser/optimizely_client/errors">

  <link rel="mask-icon" href="https://github.githubassets.com/pinned-octocat.svg" color="#000000">
  <link rel="alternate icon" class="js-site-favicon" type="image/png" href="https://github.githubassets.com/favicons/favicon.png">
  <link rel="icon" class="js-site-favicon" type="image/svg+xml" href="https://github.githubassets.com/favicons/favicon.svg">

<meta name="theme-color" content="#1e2327">
<meta name="color-scheme" content="light dark" />

  <link rel="apple-touch-icon" href="https://github.githubassets.com/apple-touch-icon.png">
  <link rel="apple-touch-icon" sizes="180x180" href="https://github.githubassets.com/apple-touch-icon-180x180.png">
  <meta name="apple-mobile-web-app-title" content="GitHub">

  <link rel="manifest" href="/manifest.json" crossOrigin="use-credentials">

  </head>

  <body class="logged-in env-production page-responsive full-width" style="word-wrap: break-word;">
    <div data-turbo-body class="logged-in env-production page-responsive full-width" style="word-wrap: break-word;">
      


    <div class="position-relative js-header-wrapper ">
      <a href="#start-of-content" class="p-3 color-bg-accent-emphasis color-fg-on-emphasis show-on-focus js-skip-to-content">Skip to content</a>
      <span data-view-component="true" class="progress-pjax-loader Progress position-fixed width-full">
    <span style="width: 0%;" data-view-component="true" class="Progress-item progress-pjax-loader-bar left-0 top-0 color-bg-accent-emphasis"></span>
</span>      
      


        <script crossorigin="anonymous" defer="defer" type="application/javascript" src="https://github.githubassets.com/assets/vendors-node_modules_github_command-palette-api_dist_command-palette-api_js-node_modules_gith-2eba16-be919efb60d2.js"></script>
<script crossorigin="anonymous" defer="defer" type="application/javascript" src="https://github.githubassets.com/assets/vendors-node_modules_github_clipboard-copy-element_dist_index_esm_js-node_modules_github_mini-dd78dd-e63b84b25be7.js"></script>
<script crossorigin="anonymous" defer="defer" type="application/javascript" src="https://github.githubassets.com/assets/app_assets_modules_github_command-palette_items_help-item_ts-app_assets_modules_github_comman-48ad9d-caa3c9446740.js"></script>
<script crossorigin="anonymous" defer="defer" type="application/javascript" src="https://github.githubassets.com/assets/command-palette-a2687563d1c6.js"></script>

            <header class="Header js-details-container Details px-3 px-md-4 px-lg-5 flex-wrap flex-md-nowrap" role="banner">

    <div class="Header-item mt-n1 mb-n1  d-none d-md-flex">
      <a
  class="Header-link"
  href="https://github.com/"
  data-hotkey="g d"
  aria-label="Homepage "
  data-turbo="false"
  data-analytics-event="{&quot;category&quot;:&quot;Header&quot;,&quot;action&quot;:&quot;go to dashboard&quot;,&quot;label&quot;:&quot;icon:logo&quot;}"
>
  <svg height="32" aria-hidden="true" viewBox="0 0 16 16" version="1.1" width="32" data-view-component="true" class="octicon octicon-mark-github v-align-middle">
    <path d="M8 0c4.42 0 8 3.58 8 8a8.013 8.013 0 0 1-5.45 7.59c-.4.08-.55-.17-.55-.38 0-.27.01-1.13.01-2.2 0-.75-.25-1.23-.54-1.48 1.78-.2 3.65-.88 3.65-3.95 0-.88-.31-1.59-.82-2.15.08-.2.36-1.02-.08-2.12 0 0-.67-.22-2.2.82-.64-.18-1.32-.27-2-.27-.68 0-1.36.09-2 .27-1.53-1.03-2.2-.82-2.2-.82-.44 1.1-.16 1.92-.08 2.12-.51.56-.82 1.28-.82 2.15 0 3.06 1.86 3.75 3.64 3.95-.23.2-.44.55-.51 1.07-.46.21-1.61.55-2.33-.66-.15-.24-.6-.83-1.23-.82-.67.01-.27.38.01.53.34.19.73.9.82 1.13.16.45.68 1.31 2.69.94 0 .67.01 1.3.01 1.49 0 .21-.15.45-.55.38A7.995 7.995 0 0 1 0 8c0-4.42 3.58-8 8-8Z"></path>
</svg>
</a>

    </div>

    <div class="Header-item d-md-none">
        <button aria-label="Toggle navigation" aria-expanded="false" type="button" data-view-component="true" class="Header-link js-details-target btn-link">    <svg aria-hidden="true" height="24" viewBox="0 0 16 16" version="1.1" width="24" data-view-component="true" class="octicon octicon-three-bars">
    <path d="M1 2.75A.75.75 0 0 1 1.75 2h12.5a.75.75 0 0 1 0 1.5H1.75A.75.75 0 0 1 1 2.75Zm0 5A.75.75 0 0 1 1.75 7h12.5a.75.75 0 0 1 0 1.5H1.75A.75.75 0 0 1 1 7.75ZM1.75 12h12.5a.75.75 0 0 1 0 1.5H1.75a.75.75 0 0 1 0-1.5Z"></path>
</svg>
</button>    </div>

    <div class="Header-item Header-item--full flex-column flex-md-row width-full flex-order-2 flex-md-order-none mr-0 mt-3 mt-md-0 Details-content--hidden-not-important d-md-flex">
              



<div class="header-search flex-auto position-relative js-site-search flex-self-stretch flex-md-self-auto mb-3 mb-md-0 mr-0 mr-md-3 scoped-search site-scoped-search js-jump-to"
>
  <div class="position-relative">
    <!-- '"` --><!-- </textarea></xmp> --></option></form><form class="js-site-search-form" role="search" aria-label="Site" data-scope-type="Repository" data-scope-id="564766043" data-scoped-search-url="/cchuang2009/2022-1/search" data-owner-scoped-search-url="/users/cchuang2009/search" data-unscoped-search-url="/search" data-turbo="false" action="/cchuang2009/2022-1/search" accept-charset="UTF-8" method="get">
      <label class="form-control header-search-wrapper input-sm p-0 js-chromeless-input-container header-search-wrapper-jump-to position-relative d-flex flex-justify-between flex-items-center">
        <input type="text"
          class="form-control js-site-search-focus header-search-input jump-to-field js-jump-to-field js-site-search-field is-clearable"
          data-hotkey=s,/
          name="q"
          
          placeholder="Search or jump to…"
          data-unscoped-placeholder="Search or jump to…"
          data-scoped-placeholder="Search or jump to…"
          autocapitalize="off"
          role="combobox"
          aria-haspopup="listbox"
          aria-expanded="false"
          aria-autocomplete="list"
          aria-controls="jump-to-results"
          aria-label="Search or jump to…"
          data-jump-to-suggestions-path="/_graphql/GetSuggestedNavigationDestinations"
          spellcheck="false"
          autocomplete="off"
        >
        <input type="hidden" value="Sl3yY5X6vSOHlhCsdR_BmnhnsWRPkchhjqaSzpcZOmizyURq-EzuyZPfiOIAJQdsdA_c2Z4J-WAC2pclKOzbIw" data-csrf="true" class="js-data-jump-to-suggestions-path-csrf" />
        <input type="hidden" class="js-site-search-type-field" name="type" >
            <svg xmlns="http://www.w3.org/2000/svg" width="22" height="20" aria-hidden="true" class="mr-1 header-search-key-slash"><path fill="none" stroke="#979A9C" opacity=".4" d="M3.5.5h12c1.7 0 3 1.3 3 3v13c0 1.7-1.3 3-3 3h-12c-1.7 0-3-1.3-3-3v-13c0-1.7 1.3-3 3-3z"></path><path fill="#979A9C" d="M11.8 6L8 15.1h-.9L10.8 6h1z"></path></svg>


          <div class="Box position-absolute overflow-hidden d-none jump-to-suggestions js-jump-to-suggestions-container">
            
<ul class="d-none js-jump-to-suggestions-template-container">
  

<li class="d-flex flex-justify-start flex-items-center p-0 f5 navigation-item js-navigation-item js-jump-to-suggestion" role="option">
  <a tabindex="-1" class="no-underline d-flex flex-auto flex-items-center jump-to-suggestions-path js-jump-to-suggestion-path js-navigation-open p-2" href="" data-item-type="suggestion">
    <div class="jump-to-octicon js-jump-to-octicon flex-shrink-0 mr-2 text-center d-none">
      <svg title="Repository" aria-label="Repository" role="img" height="16" viewBox="0 0 16 16" version="1.1" width="16" data-view-component="true" class="octicon octicon-repo js-jump-to-octicon-repo d-none flex-shrink-0">
    <path d="M2 2.5A2.5 2.5 0 0 1 4.5 0h8.75a.75.75 0 0 1 .75.75v12.5a.75.75 0 0 1-.75.75h-2.5a.75.75 0 0 1 0-1.5h1.75v-2h-8a1 1 0 0 0-.714 1.7.75.75 0 1 1-1.072 1.05A2.495 2.495 0 0 1 2 11.5Zm10.5-1h-8a1 1 0 0 0-1 1v6.708A2.486 2.486 0 0 1 4.5 9h8ZM5 12.25a.25.25 0 0 1 .25-.25h3.5a.25.25 0 0 1 .25.25v3.25a.25.25 0 0 1-.4.2l-1.45-1.087a.249.249 0 0 0-.3 0L5.4 15.7a.25.25 0 0 1-.4-.2Z"></path>
</svg>
      <svg title="Project" aria-label="Project" role="img" height="16" viewBox="0 0 16 16" version="1.1" width="16" data-view-component="true" class="octicon octicon-project js-jump-to-octicon-project d-none flex-shrink-0">
    <path d="M1.75 0h12.5C15.216 0 16 .784 16 1.75v12.5A1.75 1.75 0 0 1 14.25 16H1.75A1.75 1.75 0 0 1 0 14.25V1.75C0 .784.784 0 1.75 0ZM1.5 1.75v12.5c0 .138.112.25.25.25h12.5a.25.25 0 0 0 .25-.25V1.75a.25.25 0 0 0-.25-.25H1.75a.25.25 0 0 0-.25.25ZM11.75 3a.75.75 0 0 1 .75.75v7.5a.75.75 0 0 1-1.5 0v-7.5a.75.75 0 0 1 .75-.75Zm-8.25.75a.75.75 0 0 1 1.5 0v5.5a.75.75 0 0 1-1.5 0ZM8 3a.75.75 0 0 1 .75.75v3.5a.75.75 0 0 1-1.5 0v-3.5A.75.75 0 0 1 8 3Z"></path>
</svg>
      <svg title="Search" aria-label="Search" role="img" height="16" viewBox="0 0 16 16" version="1.1" width="16" data-view-component="true" class="octicon octicon-search js-jump-to-octicon-search d-none flex-shrink-0">
    <path d="M10.68 11.74a6 6 0 0 1-7.922-8.982 6 6 0 0 1 8.982 7.922l3.04 3.04a.749.749 0 0 1-.326 1.275.749.749 0 0 1-.734-.215ZM11.5 7a4.499 4.499 0 1 0-8.997 0A4.499 4.499 0 0 0 11.5 7Z"></path>
</svg>
    </div>

    <img class="avatar mr-2 flex-shrink-0 js-jump-to-suggestion-avatar d-none" alt="" aria-label="Team" src="" width="28" height="28">

    <div class="jump-to-suggestion-name js-jump-to-suggestion-name flex-auto overflow-hidden text-left no-wrap css-truncate css-truncate-target">
    </div>

    <div class="border rounded-2 flex-shrink-0 color-bg-subtle px-1 color-fg-muted ml-1 f6 d-none js-jump-to-badge-search">
      <span class="js-jump-to-badge-search-text-default d-none" aria-label="in this repository">
        In this repository
      </span>
      <span class="js-jump-to-badge-search-text-global d-none" aria-label="in all of GitHub">
        All GitHub
      </span>
      <span aria-hidden="true" class="d-inline-block ml-1 v-align-middle">↵</span>
    </div>

    <div aria-hidden="true" class="border rounded-2 flex-shrink-0 color-bg-subtle px-1 color-fg-muted ml-1 f6 d-none d-on-nav-focus js-jump-to-badge-jump">
      Jump to
      <span class="d-inline-block ml-1 v-align-middle">↵</span>
    </div>
  </a>
</li>

</ul>

<ul class="d-none js-jump-to-no-results-template-container">
  <li class="d-flex flex-justify-center flex-items-center f5 d-none js-jump-to-suggestion p-2">
    <span class="color-fg-muted">No suggested jump to results</span>
  </li>
</ul>

<ul id="jump-to-results" role="listbox" class="p-0 m-0 js-navigation-container jump-to-suggestions-results-container js-jump-to-suggestions-results-container">
  

<li class="d-flex flex-justify-start flex-items-center p-0 f5 navigation-item js-navigation-item js-jump-to-scoped-search d-none" role="option">
  <a tabindex="-1" class="no-underline d-flex flex-auto flex-items-center jump-to-suggestions-path js-jump-to-suggestion-path js-navigation-open p-2" href="" data-item-type="scoped_search">
    <div class="jump-to-octicon js-jump-to-octicon flex-shrink-0 mr-2 text-center d-none">
      <svg title="Repository" aria-label="Repository" role="img" height="16" viewBox="0 0 16 16" version="1.1" width="16" data-view-component="true" class="octicon octicon-repo js-jump-to-octicon-repo d-none flex-shrink-0">
    <path d="M2 2.5A2.5 2.5 0 0 1 4.5 0h8.75a.75.75 0 0 1 .75.75v12.5a.75.75 0 0 1-.75.75h-2.5a.75.75 0 0 1 0-1.5h1.75v-2h-8a1 1 0 0 0-.714 1.7.75.75 0 1 1-1.072 1.05A2.495 2.495 0 0 1 2 11.5Zm10.5-1h-8a1 1 0 0 0-1 1v6.708A2.486 2.486 0 0 1 4.5 9h8ZM5 12.25a.25.25 0 0 1 .25-.25h3.5a.25.25 0 0 1 .25.25v3.25a.25.25 0 0 1-.4.2l-1.45-1.087a.249.249 0 0 0-.3 0L5.4 15.7a.25.25 0 0 1-.4-.2Z"></path>
</svg>
      <svg title="Project" aria-label="Project" role="img" height="16" viewBox="0 0 16 16" version="1.1" width="16" data-view-component="true" class="octicon octicon-project js-jump-to-octicon-project d-none flex-shrink-0">
    <path d="M1.75 0h12.5C15.216 0 16 .784 16 1.75v12.5A1.75 1.75 0 0 1 14.25 16H1.75A1.75 1.75 0 0 1 0 14.25V1.75C0 .784.784 0 1.75 0ZM1.5 1.75v12.5c0 .138.112.25.25.25h12.5a.25.25 0 0 0 .25-.25V1.75a.25.25 0 0 0-.25-.25H1.75a.25.25 0 0 0-.25.25ZM11.75 3a.75.75 0 0 1 .75.75v7.5a.75.75 0 0 1-1.5 0v-7.5a.75.75 0 0 1 .75-.75Zm-8.25.75a.75.75 0 0 1 1.5 0v5.5a.75.75 0 0 1-1.5 0ZM8 3a.75.75 0 0 1 .75.75v3.5a.75.75 0 0 1-1.5 0v-3.5A.75.75 0 0 1 8 3Z"></path>
</svg>
      <svg title="Search" aria-label="Search" role="img" height="16" viewBox="0 0 16 16" version="1.1" width="16" data-view-component="true" class="octicon octicon-search js-jump-to-octicon-search d-none flex-shrink-0">
    <path d="M10.68 11.74a6 6 0 0 1-7.922-8.982 6 6 0 0 1 8.982 7.922l3.04 3.04a.749.749 0 0 1-.326 1.275.749.749 0 0 1-.734-.215ZM11.5 7a4.499 4.499 0 1 0-8.997 0A4.499 4.499 0 0 0 11.5 7Z"></path>
</svg>
    </div>

    <img class="avatar mr-2 flex-shrink-0 js-jump-to-suggestion-avatar d-none" alt="" aria-label="Team" src="" width="28" height="28">

    <div class="jump-to-suggestion-name js-jump-to-suggestion-name flex-auto overflow-hidden text-left no-wrap css-truncate css-truncate-target">
    </div>

    <div class="border rounded-2 flex-shrink-0 color-bg-subtle px-1 color-fg-muted ml-1 f6 d-none js-jump-to-badge-search">
      <span class="js-jump-to-badge-search-text-default d-none" aria-label="in this repository">
        In this repository
      </span>
      <span class="js-jump-to-badge-search-text-global d-none" aria-label="in all of GitHub">
        All GitHub
      </span>
      <span aria-hidden="true" class="d-inline-block ml-1 v-align-middle">↵</span>
    </div>

    <div aria-hidden="true" class="border rounded-2 flex-shrink-0 color-bg-subtle px-1 color-fg-muted ml-1 f6 d-none d-on-nav-focus js-jump-to-badge-jump">
      Jump to
      <span class="d-inline-block ml-1 v-align-middle">↵</span>
    </div>
  </a>
</li>

  

<li class="d-flex flex-justify-start flex-items-center p-0 f5 navigation-item js-navigation-item js-jump-to-owner-scoped-search d-none" role="option">
  <a tabindex="-1" class="no-underline d-flex flex-auto flex-items-center jump-to-suggestions-path js-jump-to-suggestion-path js-navigation-open p-2" href="" data-item-type="owner_scoped_search">
    <div class="jump-to-octicon js-jump-to-octicon flex-shrink-0 mr-2 text-center d-none">
      <svg title="Repository" aria-label="Repository" role="img" height="16" viewBox="0 0 16 16" version="1.1" width="16" data-view-component="true" class="octicon octicon-repo js-jump-to-octicon-repo d-none flex-shrink-0">
    <path d="M2 2.5A2.5 2.5 0 0 1 4.5 0h8.75a.75.75 0 0 1 .75.75v12.5a.75.75 0 0 1-.75.75h-2.5a.75.75 0 0 1 0-1.5h1.75v-2h-8a1 1 0 0 0-.714 1.7.75.75 0 1 1-1.072 1.05A2.495 2.495 0 0 1 2 11.5Zm10.5-1h-8a1 1 0 0 0-1 1v6.708A2.486 2.486 0 0 1 4.5 9h8ZM5 12.25a.25.25 0 0 1 .25-.25h3.5a.25.25 0 0 1 .25.25v3.25a.25.25 0 0 1-.4.2l-1.45-1.087a.249.249 0 0 0-.3 0L5.4 15.7a.25.25 0 0 1-.4-.2Z"></path>
</svg>
      <svg title="Project" aria-label="Project" role="img" height="16" viewBox="0 0 16 16" version="1.1" width="16" data-view-component="true" class="octicon octicon-project js-jump-to-octicon-project d-none flex-shrink-0">
    <path d="M1.75 0h12.5C15.216 0 16 .784 16 1.75v12.5A1.75 1.75 0 0 1 14.25 16H1.75A1.75 1.75 0 0 1 0 14.25V1.75C0 .784.784 0 1.75 0ZM1.5 1.75v12.5c0 .138.112.25.25.25h12.5a.25.25 0 0 0 .25-.25V1.75a.25.25 0 0 0-.25-.25H1.75a.25.25 0 0 0-.25.25ZM11.75 3a.75.75 0 0 1 .75.75v7.5a.75.75 0 0 1-1.5 0v-7.5a.75.75 0 0 1 .75-.75Zm-8.25.75a.75.75 0 0 1 1.5 0v5.5a.75.75 0 0 1-1.5 0ZM8 3a.75.75 0 0 1 .75.75v3.5a.75.75 0 0 1-1.5 0v-3.5A.75.75 0 0 1 8 3Z"></path>
</svg>
      <svg title="Search" aria-label="Search" role="img" height="16" viewBox="0 0 16 16" version="1.1" width="16" data-view-component="true" class="octicon octicon-search js-jump-to-octicon-search d-none flex-shrink-0">
    <path d="M10.68 11.74a6 6 0 0 1-7.922-8.982 6 6 0 0 1 8.982 7.922l3.04 3.04a.749.749 0 0 1-.326 1.275.749.749 0 0 1-.734-.215ZM11.5 7a4.499 4.499 0 1 0-8.997 0A4.499 4.499 0 0 0 11.5 7Z"></path>
</svg>
    </div>

    <img class="avatar mr-2 flex-shrink-0 js-jump-to-suggestion-avatar d-none" alt="" aria-label="Team" src="" width="28" height="28">

    <div class="jump-to-suggestion-name js-jump-to-suggestion-name flex-auto overflow-hidden text-left no-wrap css-truncate css-truncate-target">
    </div>

    <div class="border rounded-2 flex-shrink-0 color-bg-subtle px-1 color-fg-muted ml-1 f6 d-none js-jump-to-badge-search">
      <span class="js-jump-to-badge-search-text-default d-none" aria-label="in this user">
        In this user
      </span>
      <span class="js-jump-to-badge-search-text-global d-none" aria-label="in all of GitHub">
        All GitHub
      </span>
      <span aria-hidden="true" class="d-inline-block ml-1 v-align-middle">↵</span>
    </div>

    <div aria-hidden="true" class="border rounded-2 flex-shrink-0 color-bg-subtle px-1 color-fg-muted ml-1 f6 d-none d-on-nav-focus js-jump-to-badge-jump">
      Jump to
      <span class="d-inline-block ml-1 v-align-middle">↵</span>
    </div>
  </a>
</li>

  

<li class="d-flex flex-justify-start flex-items-center p-0 f5 navigation-item js-navigation-item js-jump-to-global-search d-none" role="option">
  <a tabindex="-1" class="no-underline d-flex flex-auto flex-items-center jump-to-suggestions-path js-jump-to-suggestion-path js-navigation-open p-2" href="" data-item-type="global_search">
    <div class="jump-to-octicon js-jump-to-octicon flex-shrink-0 mr-2 text-center d-none">
      <svg title="Repository" aria-label="Repository" role="img" height="16" viewBox="0 0 16 16" version="1.1" width="16" data-view-component="true" class="octicon octicon-repo js-jump-to-octicon-repo d-none flex-shrink-0">
    <path d="M2 2.5A2.5 2.5 0 0 1 4.5 0h8.75a.75.75 0 0 1 .75.75v12.5a.75.75 0 0 1-.75.75h-2.5a.75.75 0 0 1 0-1.5h1.75v-2h-8a1 1 0 0 0-.714 1.7.75.75 0 1 1-1.072 1.05A2.495 2.495 0 0 1 2 11.5Zm10.5-1h-8a1 1 0 0 0-1 1v6.708A2.486 2.486 0 0 1 4.5 9h8ZM5 12.25a.25.25 0 0 1 .25-.25h3.5a.25.25 0 0 1 .25.25v3.25a.25.25 0 0 1-.4.2l-1.45-1.087a.249.249 0 0 0-.3 0L5.4 15.7a.25.25 0 0 1-.4-.2Z"></path>
</svg>
      <svg title="Project" aria-label="Project" role="img" height="16" viewBox="0 0 16 16" version="1.1" width="16" data-view-component="true" class="octicon octicon-project js-jump-to-octicon-project d-none flex-shrink-0">
    <path d="M1.75 0h12.5C15.216 0 16 .784 16 1.75v12.5A1.75 1.75 0 0 1 14.25 16H1.75A1.75 1.75 0 0 1 0 14.25V1.75C0 .784.784 0 1.75 0ZM1.5 1.75v12.5c0 .138.112.25.25.25h12.5a.25.25 0 0 0 .25-.25V1.75a.25.25 0 0 0-.25-.25H1.75a.25.25 0 0 0-.25.25ZM11.75 3a.75.75 0 0 1 .75.75v7.5a.75.75 0 0 1-1.5 0v-7.5a.75.75 0 0 1 .75-.75Zm-8.25.75a.75.75 0 0 1 1.5 0v5.5a.75.75 0 0 1-1.5 0ZM8 3a.75.75 0 0 1 .75.75v3.5a.75.75 0 0 1-1.5 0v-3.5A.75.75 0 0 1 8 3Z"></path>
</svg>
      <svg title="Search" aria-label="Search" role="img" height="16" viewBox="0 0 16 16" version="1.1" width="16" data-view-component="true" class="octicon octicon-search js-jump-to-octicon-search d-none flex-shrink-0">
    <path d="M10.68 11.74a6 6 0 0 1-7.922-8.982 6 6 0 0 1 8.982 7.922l3.04 3.04a.749.749 0 0 1-.326 1.275.749.749 0 0 1-.734-.215ZM11.5 7a4.499 4.499 0 1 0-8.997 0A4.499 4.499 0 0 0 11.5 7Z"></path>
</svg>
    </div>

    <img class="avatar mr-2 flex-shrink-0 js-jump-to-suggestion-avatar d-none" alt="" aria-label="Team" src="" width="28" height="28">

    <div class="jump-to-suggestion-name js-jump-to-suggestion-name flex-auto overflow-hidden text-left no-wrap css-truncate css-truncate-target">
    </div>

    <div class="border rounded-2 flex-shrink-0 color-bg-subtle px-1 color-fg-muted ml-1 f6 d-none js-jump-to-badge-search">
      <span class="js-jump-to-badge-search-text-default d-none" aria-label="in this repository">
        In this repository
      </span>
      <span class="js-jump-to-badge-search-text-global d-none" aria-label="in all of GitHub">
        All GitHub
      </span>
      <span aria-hidden="true" class="d-inline-block ml-1 v-align-middle">↵</span>
    </div>

    <div aria-hidden="true" class="border rounded-2 flex-shrink-0 color-bg-subtle px-1 color-fg-muted ml-1 f6 d-none d-on-nav-focus js-jump-to-badge-jump">
      Jump to
      <span class="d-inline-block ml-1 v-align-middle">↵</span>
    </div>
  </a>
</li>


    <li class="d-flex flex-justify-center flex-items-center p-0 f5 js-jump-to-suggestion">
      <svg style="box-sizing: content-box; color: var(--color-icon-primary);" width="32" height="32" viewBox="0 0 16 16" fill="none" data-view-component="true" class="m-3 anim-rotate">
  <circle cx="8" cy="8" r="7" stroke="currentColor" stroke-opacity="0.25" stroke-width="2" vector-effect="non-scaling-stroke" />
  <path d="M15 8a7.002 7.002 0 00-7-7" stroke="currentColor" stroke-width="2" stroke-linecap="round" vector-effect="non-scaling-stroke" />
</svg>
    </li>
</ul>

          </div>
      </label>
</form>  </div>
</div>

        <nav id="global-nav" class="d-flex flex-column flex-md-row flex-self-stretch flex-md-self-auto" aria-label="Global">
    <a class="Header-link py-md-3 d-block d-md-none py-2 border-top border-md-top-0 border-white-fade" data-ga-click="Header, click, Nav menu - item:dashboard:user" aria-label="Dashboard" data-turbo="false" href="/dashboard">Dashboard</a>

  <a class="js-selected-navigation-item Header-link mt-md-n3 mb-md-n3 py-2 py-md-3 mr-0 mr-md-3 border-top border-md-top-0 border-white-fade" data-hotkey="g p" data-ga-click="Header, click, Nav menu - item:pulls context:user" aria-label="Pull requests you created" data-turbo="false" data-selected-links="/pulls /pulls/assigned /pulls/mentioned /pulls" href="/pulls">
      Pull<span class="d-inline d-md-none d-lg-inline"> request</span>s
</a>
  <a class="js-selected-navigation-item Header-link mt-md-n3 mb-md-n3 py-2 py-md-3 mr-0 mr-md-3 border-top border-md-top-0 border-white-fade" data-hotkey="g i" data-ga-click="Header, click, Nav menu - item:issues context:user" aria-label="Issues you created" data-turbo="false" data-selected-links="/issues /issues/assigned /issues/mentioned /issues" href="/issues">Issues</a>

      <a class="js-selected-navigation-item Header-link mt-md-n3 mb-md-n3 py-2 py-md-3 mr-0 mr-md-3 border-top border-md-top-0 border-white-fade" data-ga-click="Header, click, Nav menu - item:workspaces context:user" data-turbo="false" data-selected-links="/codespaces /codespaces" href="/codespaces">Codespaces</a>

    <div class="d-flex position-relative">
      <a class="js-selected-navigation-item Header-link flex-auto mt-md-n3 mb-md-n3 py-2 py-md-3 mr-0 mr-md-3 border-top border-md-top-0 border-white-fade" data-ga-click="Header, click, Nav menu - item:marketplace context:user" data-octo-click="marketplace_click" data-octo-dimensions="location:nav_bar" data-turbo="false" data-selected-links=" /marketplace" href="/marketplace">Marketplace</a>
    </div>

  <a class="js-selected-navigation-item Header-link mt-md-n3 mb-md-n3 py-2 py-md-3 mr-0 mr-md-3 border-top border-md-top-0 border-white-fade" data-ga-click="Header, click, Nav menu - item:explore" data-turbo="false" data-selected-links="/explore /trending /trending/developers /integrations /integrations/feature/code /integrations/feature/collaborate /integrations/feature/ship showcases showcases_search showcases_landing /explore" href="/explore">Explore</a>

      <a class="js-selected-navigation-item Header-link d-block d-md-none py-2 py-md-3 border-top border-md-top-0 border-white-fade" data-ga-click="Header, click, Nav menu - item:Sponsors" data-hydro-click="{&quot;event_type&quot;:&quot;sponsors.button_click&quot;,&quot;payload&quot;:{&quot;button&quot;:&quot;HEADER_SPONSORS_DASHBOARD&quot;,&quot;sponsorable_login&quot;:&quot;KAOCHINGHAO&quot;,&quot;originating_url&quot;:&quot;https://github.com/cchuang2009/2022-1/blame/main/Python_IM/2023-2/Week_8_bnb_Query.ipynb&quot;,&quot;user_id&quot;:125939337}}" data-hydro-click-hmac="c6bf6c4d0ce72dd1436e573c4ed44b13cbdb5a0b6a14d832c644ea3bc62f46c2" data-turbo="false" data-selected-links=" /sponsors/accounts" href="/sponsors/accounts">Sponsors</a>

    <a class="Header-link d-block d-md-none mr-0 mr-md-3 py-2 py-md-3 border-top border-md-top-0 border-white-fade" data-turbo="false" href="/settings/profile">Settings</a>

    <a class="Header-link d-block d-md-none mr-0 mr-md-3 py-2 py-md-3 border-top border-md-top-0 border-white-fade" data-turbo="false" href="/KAOCHINGHAO">
      <img class="avatar avatar-user" loading="lazy" decoding="async" src="https://avatars.githubusercontent.com/u/125939337?s=40&amp;v=4" width="20" height="20" alt="@KAOCHINGHAO" />
      KAOCHINGHAO
</a>
    <!-- '"` --><!-- </textarea></xmp> --></option></form><form data-turbo="false" action="/logout" accept-charset="UTF-8" method="post"><input type="hidden" name="authenticity_token" value="2p0P4uBLzR76lFp3vUYs6p1khT2j4udKPtdo67ASvEmiKwGByPmzd4u9JNYNczdUcXaNGdYswTykSIVsnM4hew" />
      <button
        type="submit"
        class="Header-link mr-0 mr-md-3 py-2 py-md-3 border-top border-md-top-0 border-white-fade d-md-none btn-link d-block width-full text-left"
        style="padding-left: 2px;"
        data-analytics-event="{&quot;category&quot;:&quot;Header&quot;,&quot;action&quot;:&quot;sign out&quot;,&quot;label&quot;:&quot;icon:logout&quot;}"
      >
        <svg aria-hidden="true" height="16" viewBox="0 0 16 16" version="1.1" width="16" data-view-component="true" class="octicon octicon-sign-out v-align-middle">
    <path d="M2 2.75C2 1.784 2.784 1 3.75 1h2.5a.75.75 0 0 1 0 1.5h-2.5a.25.25 0 0 0-.25.25v10.5c0 .138.112.25.25.25h2.5a.75.75 0 0 1 0 1.5h-2.5A1.75 1.75 0 0 1 2 13.25Zm10.44 4.5-1.97-1.97a.749.749 0 0 1 .326-1.275.749.749 0 0 1 .734.215l3.25 3.25a.75.75 0 0 1 0 1.06l-3.25 3.25a.749.749 0 0 1-1.275-.326.749.749 0 0 1 .215-.734l1.97-1.97H6.75a.75.75 0 0 1 0-1.5Z"></path>
</svg>
        Sign out
      </button>
</form></nav>

    </div>

    <div class="Header-item Header-item--full flex-justify-center d-md-none position-relative">
        <a
  class="Header-link"
  href="https://github.com/"
  data-hotkey="g d"
  aria-label="Homepage "
  data-turbo="false"
  data-analytics-event="{&quot;category&quot;:&quot;Header&quot;,&quot;action&quot;:&quot;go to dashboard&quot;,&quot;label&quot;:&quot;icon:logo&quot;}"
>
  <svg height="32" aria-hidden="true" viewBox="0 0 16 16" version="1.1" width="32" data-view-component="true" class="octicon octicon-mark-github v-align-middle">
    <path d="M8 0c4.42 0 8 3.58 8 8a8.013 8.013 0 0 1-5.45 7.59c-.4.08-.55-.17-.55-.38 0-.27.01-1.13.01-2.2 0-.75-.25-1.23-.54-1.48 1.78-.2 3.65-.88 3.65-3.95 0-.88-.31-1.59-.82-2.15.08-.2.36-1.02-.08-2.12 0 0-.67-.22-2.2.82-.64-.18-1.32-.27-2-.27-.68 0-1.36.09-2 .27-1.53-1.03-2.2-.82-2.2-.82-.44 1.1-.16 1.92-.08 2.12-.51.56-.82 1.28-.82 2.15 0 3.06 1.86 3.75 3.64 3.95-.23.2-.44.55-.51 1.07-.46.21-1.61.55-2.33-.66-.15-.24-.6-.83-1.23-.82-.67.01-.27.38.01.53.34.19.73.9.82 1.13.16.45.68 1.31 2.69.94 0 .67.01 1.3.01 1.49 0 .21-.15.45-.55.38A7.995 7.995 0 0 1 0 8c0-4.42 3.58-8 8-8Z"></path>
</svg>
</a>

    </div>

    <div class="Header-item mr-0 mr-md-3 flex-order-1 flex-md-order-none">
        

<notification-indicator data-channel="eyJjIjoibm90aWZpY2F0aW9uLWNoYW5nZWQ6MTI1OTM5MzM3IiwidCI6MTY3OTk3NDA2M30=--b91b9f78e864e63a3d903cc51273611a128988e058e6de8a01e9ea32c5cab95d" data-indicator-mode="none" data-tooltip-global="You have unread notifications" data-tooltip-unavailable="Notifications are unavailable at the moment." data-tooltip-none="You have no unread notifications" data-fetch-indicator-src="/notifications/indicator" data-fetch-indicator-enabled="true" data-view-component="true" class="js-socket-channel">
  <a id="AppHeader-notifications-button" href="/notifications"
    class="Header-link notification-indicator position-relative tooltipped tooltipped-sw"

    

    data-hotkey="g n"
    data-target="notification-indicator.link"
    aria-label="Notifications"

      data-analytics-event="{&quot;category&quot;:&quot;Header&quot;,&quot;action&quot;:&quot;go to notifications&quot;,&quot;label&quot;:&quot;icon:read&quot;}"
  >

    <span
      data-target="notification-indicator.badge"
      class="mail-status unread" hidden>
    </span>

      <svg aria-hidden="true" height="16" viewBox="0 0 16 16" version="1.1" width="16" data-view-component="true" class="octicon octicon-bell">
    <path d="M8 16a2 2 0 0 0 1.985-1.75c.017-.137-.097-.25-.235-.25h-3.5c-.138 0-.252.113-.235.25A2 2 0 0 0 8 16ZM3 5a5 5 0 0 1 10 0v2.947c0 .05.015.098.042.139l1.703 2.555A1.519 1.519 0 0 1 13.482 13H2.518a1.516 1.516 0 0 1-1.263-2.36l1.703-2.554A.255.255 0 0 0 3 7.947Zm5-3.5A3.5 3.5 0 0 0 4.5 5v2.947c0 .346-.102.683-.294.97l-1.703 2.556a.017.017 0 0 0-.003.01l.001.006c0 .002.002.004.004.006l.006.004.007.001h10.964l.007-.001.006-.004.004-.006.001-.007a.017.017 0 0 0-.003-.01l-1.703-2.554a1.745 1.745 0 0 1-.294-.97V5A3.5 3.5 0 0 0 8 1.5Z"></path>
</svg>
  </a>

</notification-indicator>
    </div>


    <div class="Header-item position-relative d-none d-md-flex">
        <details class="details-overlay details-reset">
  <summary
    class="Header-link"
    aria-label="Create new…"
    data-analytics-event="{&quot;category&quot;:&quot;Header&quot;,&quot;action&quot;:&quot;create new&quot;,&quot;label&quot;:&quot;icon:add&quot;}"
  >
    <svg aria-hidden="true" height="16" viewBox="0 0 16 16" version="1.1" width="16" data-view-component="true" class="octicon octicon-plus">
    <path d="M7.75 2a.75.75 0 0 1 .75.75V7h4.25a.75.75 0 0 1 0 1.5H8.5v4.25a.75.75 0 0 1-1.5 0V8.5H2.75a.75.75 0 0 1 0-1.5H7V2.75A.75.75 0 0 1 7.75 2Z"></path>
</svg> <span class="dropdown-caret"></span>
  </summary>
  <details-menu class="dropdown-menu dropdown-menu-sw">
    
<a role="menuitem" class="dropdown-item" href="/new" data-ga-click="Header, create new repository">
  New repository
</a>

  <a role="menuitem" class="dropdown-item" href="/new/import" data-ga-click="Header, import a repository">
    Import repository
  </a>

  <a role="menuitem" class="dropdown-item" href="/codespaces/new">
    New codespace
  </a>

<a role="menuitem" class="dropdown-item" href="https://gist.github.com/" data-ga-click="Header, create new gist">
  New gist
</a>

  <a role="menuitem" class="dropdown-item" href="/organizations/new" data-ga-click="Header, create new organization">
    New organization
  </a>



  </details-menu>
</details>

    </div>

    <div class="Header-item position-relative mr-0 d-none d-md-flex">
        
  <details class="details-overlay details-reset js-feature-preview-indicator-container" data-feature-preview-indicator-src="/users/KAOCHINGHAO/feature_preview/indicator_check">

  <summary
    class="Header-link"
    aria-label="View profile and more"
    data-analytics-event="{&quot;category&quot;:&quot;Header&quot;,&quot;action&quot;:&quot;show menu&quot;,&quot;label&quot;:&quot;icon:avatar&quot;}"
  >
    <img src="https://avatars.githubusercontent.com/u/125939337?s=40&amp;v=4" alt="@KAOCHINGHAO" size="20" height="20" width="20" data-view-component="true" class="avatar avatar-small circle" />
      <span class="unread-indicator js-feature-preview-indicator" style="top: 1px;" hidden></span>
    <span class="dropdown-caret"></span>
  </summary>
  <details-menu
      class="dropdown-menu dropdown-menu-sw"
      style="width: 180px"
      
      preload>
      <include-fragment src="/users/125939337/menu" loading="lazy">
        <p class="text-center mt-3" data-hide-on-error>
          <svg style="box-sizing: content-box; color: var(--color-icon-primary);" width="32" height="32" viewBox="0 0 16 16" fill="none" data-view-component="true" class="anim-rotate">
  <circle cx="8" cy="8" r="7" stroke="currentColor" stroke-opacity="0.25" stroke-width="2" vector-effect="non-scaling-stroke" />
  <path d="M15 8a7.002 7.002 0 00-7-7" stroke="currentColor" stroke-width="2" stroke-linecap="round" vector-effect="non-scaling-stroke" />
</svg>
        </p>
        <p class="ml-1 mb-2 mt-2 color-fg-default" data-show-on-error>
          <svg aria-hidden="true" height="16" viewBox="0 0 16 16" version="1.1" width="16" data-view-component="true" class="octicon octicon-alert">
    <path d="M6.457 1.047c.659-1.234 2.427-1.234 3.086 0l6.082 11.378A1.75 1.75 0 0 1 14.082 15H1.918a1.75 1.75 0 0 1-1.543-2.575Zm1.763.707a.25.25 0 0 0-.44 0L1.698 13.132a.25.25 0 0 0 .22.368h12.164a.25.25 0 0 0 .22-.368Zm.53 3.996v2.5a.75.75 0 0 1-1.5 0v-2.5a.75.75 0 0 1 1.5 0ZM9 11a1 1 0 1 1-2 0 1 1 0 0 1 2 0Z"></path>
</svg>
          Sorry, something went wrong.
        </p>
      </include-fragment>
  </details-menu>
</details>

    </div>
</header>

            
    </div>

  <div id="start-of-content" class="show-on-focus"></div>







    <div id="js-flash-container" data-turbo-replace>





  <template class="js-flash-template">
    
<div class="flash flash-full   {{ className }}">
  <div class="px-2" >
    <button autofocus class="flash-close js-flash-close" type="button" aria-label="Dismiss this message">
      <svg aria-hidden="true" height="16" viewBox="0 0 16 16" version="1.1" width="16" data-view-component="true" class="octicon octicon-x">
    <path d="M3.72 3.72a.75.75 0 0 1 1.06 0L8 6.94l3.22-3.22a.749.749 0 0 1 1.275.326.749.749 0 0 1-.215.734L9.06 8l3.22 3.22a.749.749 0 0 1-.326 1.275.749.749 0 0 1-.734-.215L8 9.06l-3.22 3.22a.751.751 0 0 1-1.042-.018.751.751 0 0 1-.018-1.042L6.94 8 3.72 4.78a.75.75 0 0 1 0-1.06Z"></path>
</svg>
    </button>
    <div aria-atomic="true" role="alert" class="js-flash-alert">
      
      <div>{{ message }}</div>

    </div>
  </div>
</div>
  </template>
</div>


    
    <notification-shelf-watcher data-base-url="https://github.com/notifications/beta/shelf" data-channel="eyJjIjoibm90aWZpY2F0aW9uLWNoYW5nZWQ6MTI1OTM5MzM3IiwidCI6MTY3OTk3NDA2M30=--b91b9f78e864e63a3d903cc51273611a128988e058e6de8a01e9ea32c5cab95d" data-view-component="true" class="js-socket-channel"></notification-shelf-watcher>
  <div hidden data-initial data-target="notification-shelf-watcher.placeholder"></div>






      <details
  class="details-reset details-overlay details-overlay-dark js-command-palette-dialog"
  id="command-palette-pjax-container"
  data-turbo-replace
>
  <summary aria-label="command palette trigger" tabindex="-1"></summary>
  <details-dialog class="command-palette-details-dialog d-flex flex-column flex-justify-center height-fit" aria-label="command palette">
    <command-palette
      class="command-palette color-bg-default rounded-3 border color-shadow-small"
      return-to=/cchuang2009/2022-1/blame/main/Python_IM/2023-2/Week_8_bnb_Query.ipynb
      user-id="125939337"
      activation-hotkey="Mod+k,Mod+Alt+k"
      command-mode-hotkey="Mod+Shift+k"
      data-action="
        command-palette-input-ready:command-palette#inputReady
        command-palette-page-stack-updated:command-palette#updateInputScope
        itemsUpdated:command-palette#itemsUpdated
        keydown:command-palette#onKeydown
        loadingStateChanged:command-palette#loadingStateChanged
        selectedItemChanged:command-palette#selectedItemChanged
        pageFetchError:command-palette#pageFetchError
      ">

        <command-palette-mode
          data-char="#"
            data-scope-types="[&quot;&quot;]"
            data-placeholder="Search issues and pull requests"
        ></command-palette-mode>
        <command-palette-mode
          data-char="#"
            data-scope-types="[&quot;owner&quot;,&quot;repository&quot;]"
            data-placeholder="Search issues, pull requests, discussions, and projects"
        ></command-palette-mode>
        <command-palette-mode
          data-char="!"
            data-scope-types="[&quot;owner&quot;,&quot;repository&quot;]"
            data-placeholder="Search projects"
        ></command-palette-mode>
        <command-palette-mode
          data-char="@"
            data-scope-types="[&quot;&quot;]"
            data-placeholder="Search or jump to a user, organization, or repository"
        ></command-palette-mode>
        <command-palette-mode
          data-char="@"
            data-scope-types="[&quot;owner&quot;]"
            data-placeholder="Search or jump to a repository"
        ></command-palette-mode>
        <command-palette-mode
          data-char="/"
            data-scope-types="[&quot;repository&quot;]"
            data-placeholder="Search files"
        ></command-palette-mode>
        <command-palette-mode
          data-char="?"
        ></command-palette-mode>
        <command-palette-mode
          data-char="&gt;"
            data-placeholder="Run a command"
        ></command-palette-mode>
        <command-palette-mode
          data-char=""
            data-scope-types="[&quot;&quot;]"
            data-placeholder="Search or jump to..."
        ></command-palette-mode>
        <command-palette-mode
          data-char=""
            data-scope-types="[&quot;owner&quot;]"
            data-placeholder="Search or jump to..."
        ></command-palette-mode>
      <command-palette-mode
        class="js-command-palette-default-mode"
        data-char=""
        data-placeholder="Search or jump to..."
      ></command-palette-mode>

      <command-palette-input placeholder="Search or jump to..."

        data-action="
          command-palette-input:command-palette#onInput
          command-palette-select:command-palette#onSelect
          command-palette-descope:command-palette#onDescope
          command-palette-cleared:command-palette#onInputClear
        "
      >
        <div class="js-search-icon d-flex flex-items-center mr-2" style="height: 26px">
          <svg aria-hidden="true" height="16" viewBox="0 0 16 16" version="1.1" width="16" data-view-component="true" class="octicon octicon-search color-fg-muted">
    <path d="M10.68 11.74a6 6 0 0 1-7.922-8.982 6 6 0 0 1 8.982 7.922l3.04 3.04a.749.749 0 0 1-.326 1.275.749.749 0 0 1-.734-.215ZM11.5 7a4.499 4.499 0 1 0-8.997 0A4.499 4.499 0 0 0 11.5 7Z"></path>
</svg>
        </div>
        <div class="js-spinner d-flex flex-items-center mr-2 color-fg-muted" hidden>
          <svg aria-label="Loading" class="anim-rotate" viewBox="0 0 16 16" fill="none" width="16" height="16">
            <circle
              cx="8"
              cy="8"
              r="7"
              stroke="currentColor"
              stroke-opacity="0.25"
              stroke-width="2"
              vector-effect="non-scaling-stroke"
            ></circle>
            <path
              d="M15 8a7.002 7.002 0 00-7-7"
              stroke="currentColor"
              stroke-width="2"
              stroke-linecap="round"
              vector-effect="non-scaling-stroke"
            ></path>
          </svg>
        </div>
        <command-palette-scope >
          <div data-target="command-palette-scope.placeholder" hidden class="color-fg-subtle">/&nbsp;&nbsp;<span class="text-semibold color-fg-default">...</span>&nbsp;&nbsp;/&nbsp;&nbsp;</div>
              <command-palette-token
                data-text="cchuang2009"
                data-id="MDQ6VXNlcjUxNjk5MDM="
                data-type="owner"
                data-value="cchuang2009"
                data-targets="command-palette-scope.tokens"
                class="color-fg-default text-semibold"
                style="white-space:nowrap;line-height:20px;"
                >cchuang2009<span class="color-fg-subtle text-normal">&nbsp;&nbsp;/&nbsp;&nbsp;</span></command-palette-token>
              <command-palette-token
                data-text="2022-1"
                data-id="R_kgDOIamlWw"
                data-type="repository"
                data-value="2022-1"
                data-targets="command-palette-scope.tokens"
                class="color-fg-default text-semibold"
                style="white-space:nowrap;line-height:20px;"
                >2022-1<span class="color-fg-subtle text-normal">&nbsp;&nbsp;/&nbsp;&nbsp;</span></command-palette-token>
        </command-palette-scope>
        <div class="command-palette-input-group flex-1 form-control border-0 box-shadow-none" style="z-index: 0">
          <div class="command-palette-typeahead position-absolute d-flex flex-items-center Truncate">
            <span class="typeahead-segment input-mirror" data-target="command-palette-input.mirror"></span>
            <span class="Truncate-text" data-target="command-palette-input.typeaheadText"></span>
            <span class="typeahead-segment" data-target="command-palette-input.typeaheadPlaceholder"></span>
          </div>
          <input
            class="js-overlay-input typeahead-input d-none"
            disabled
            tabindex="-1"
            aria-label="Hidden input for typeahead"
          >
          <input
            type="text"
            autocomplete="off"
            autocorrect="off"
            autocapitalize="off"
            spellcheck="false"
            class="js-input typeahead-input form-control border-0 box-shadow-none input-block width-full no-focus-indicator"
            aria-label="Command palette input"
            aria-haspopup="listbox"
            aria-expanded="false"
            aria-autocomplete="list"
            aria-controls="command-palette-page-stack"
            role="combobox"
            data-action="
              input:command-palette-input#onInput
              keydown:command-palette-input#onKeydown
            "
          >
        </div>
          <div data-view-component="true" class="position-relative d-inline-block">
    <button aria-keyshortcuts="Meta+Delete" data-action="click:command-palette-input#onClear keypress:command-palette-input#onClear" data-target="command-palette-input.clearButton" id="command-palette-clear-button" hidden="hidden" type="button" data-view-component="true" class="btn-octicon command-palette-input-clear-button">      <svg aria-hidden="true" height="16" viewBox="0 0 16 16" version="1.1" width="16" data-view-component="true" class="octicon octicon-x-circle-fill">
    <path d="M2.343 13.657A8 8 0 1 1 13.658 2.343 8 8 0 0 1 2.343 13.657ZM6.03 4.97a.751.751 0 0 0-1.042.018.751.751 0 0 0-.018 1.042L6.94 8 4.97 9.97a.749.749 0 0 0 .326 1.275.749.749 0 0 0 .734-.215L8 9.06l1.97 1.97a.749.749 0 0 0 1.275-.326.749.749 0 0 0-.215-.734L9.06 8l1.97-1.97a.749.749 0 0 0-.326-1.275.749.749 0 0 0-.734.215L8 6.94Z"></path>
</svg>
</button>    <tool-tip id="tooltip-44316f35-286b-4f59-9227-a138cc57f4e2" for="command-palette-clear-button" data-direction="w" data-type="label" data-view-component="true" class="sr-only position-absolute">Clear Command Palette</tool-tip>
</div>
      </command-palette-input>

      <command-palette-page-stack
        data-default-scope-id="R_kgDOIamlWw"
        data-default-scope-type="Repository"
        data-action="command-palette-page-octicons-cached:command-palette-page-stack#cacheOcticons"
      >
          <command-palette-tip
            class="color-fg-muted f6 px-3 py-1 my-2"
              data-scope-types="[&quot;&quot;,&quot;owner&quot;,&quot;repository&quot;]"
            data-mode=""
            data-value="">
            <div class="d-flex flex-items-start flex-justify-between">
              <div>
                <span class="text-bold">Tip:</span>
                  Type <kbd class="hx_kbd">#</kbd> to search pull requests
              </div>
              <div class="ml-2 flex-shrink-0">
                Type <kbd class="hx_kbd">?</kbd> for help and tips
              </div>
            </div>
          </command-palette-tip>
          <command-palette-tip
            class="color-fg-muted f6 px-3 py-1 my-2"
              data-scope-types="[&quot;&quot;,&quot;owner&quot;,&quot;repository&quot;]"
            data-mode=""
            data-value="">
            <div class="d-flex flex-items-start flex-justify-between">
              <div>
                <span class="text-bold">Tip:</span>
                  Type <kbd class="hx_kbd">#</kbd> to search issues
              </div>
              <div class="ml-2 flex-shrink-0">
                Type <kbd class="hx_kbd">?</kbd> for help and tips
              </div>
            </div>
          </command-palette-tip>
          <command-palette-tip
            class="color-fg-muted f6 px-3 py-1 my-2"
              data-scope-types="[&quot;owner&quot;,&quot;repository&quot;]"
            data-mode=""
            data-value="">
            <div class="d-flex flex-items-start flex-justify-between">
              <div>
                <span class="text-bold">Tip:</span>
                  Type <kbd class="hx_kbd">#</kbd> to search discussions
              </div>
              <div class="ml-2 flex-shrink-0">
                Type <kbd class="hx_kbd">?</kbd> for help and tips
              </div>
            </div>
          </command-palette-tip>
          <command-palette-tip
            class="color-fg-muted f6 px-3 py-1 my-2"
              data-scope-types="[&quot;owner&quot;,&quot;repository&quot;]"
            data-mode=""
            data-value="">
            <div class="d-flex flex-items-start flex-justify-between">
              <div>
                <span class="text-bold">Tip:</span>
                  Type <kbd class="hx_kbd">!</kbd> to search projects
              </div>
              <div class="ml-2 flex-shrink-0">
                Type <kbd class="hx_kbd">?</kbd> for help and tips
              </div>
            </div>
          </command-palette-tip>
          <command-palette-tip
            class="color-fg-muted f6 px-3 py-1 my-2"
              data-scope-types="[&quot;owner&quot;]"
            data-mode=""
            data-value="">
            <div class="d-flex flex-items-start flex-justify-between">
              <div>
                <span class="text-bold">Tip:</span>
                  Type <kbd class="hx_kbd">@</kbd> to search teams
              </div>
              <div class="ml-2 flex-shrink-0">
                Type <kbd class="hx_kbd">?</kbd> for help and tips
              </div>
            </div>
          </command-palette-tip>
          <command-palette-tip
            class="color-fg-muted f6 px-3 py-1 my-2"
              data-scope-types="[&quot;&quot;]"
            data-mode=""
            data-value="">
            <div class="d-flex flex-items-start flex-justify-between">
              <div>
                <span class="text-bold">Tip:</span>
                  Type <kbd class="hx_kbd">@</kbd> to search people and organizations
              </div>
              <div class="ml-2 flex-shrink-0">
                Type <kbd class="hx_kbd">?</kbd> for help and tips
              </div>
            </div>
          </command-palette-tip>
          <command-palette-tip
            class="color-fg-muted f6 px-3 py-1 my-2"
              data-scope-types="[&quot;&quot;,&quot;owner&quot;,&quot;repository&quot;]"
            data-mode=""
            data-value="">
            <div class="d-flex flex-items-start flex-justify-between">
              <div>
                <span class="text-bold">Tip:</span>
                  Type <kbd class="hx_kbd">&gt;</kbd> to activate command mode
              </div>
              <div class="ml-2 flex-shrink-0">
                Type <kbd class="hx_kbd">?</kbd> for help and tips
              </div>
            </div>
          </command-palette-tip>
          <command-palette-tip
            class="color-fg-muted f6 px-3 py-1 my-2"
              data-scope-types="[&quot;&quot;,&quot;owner&quot;,&quot;repository&quot;]"
            data-mode=""
            data-value="">
            <div class="d-flex flex-items-start flex-justify-between">
              <div>
                <span class="text-bold">Tip:</span>
                  Go to your accessibility settings to change your keyboard shortcuts
              </div>
              <div class="ml-2 flex-shrink-0">
                Type <kbd class="hx_kbd">?</kbd> for help and tips
              </div>
            </div>
          </command-palette-tip>
          <command-palette-tip
            class="color-fg-muted f6 px-3 py-1 my-2"
              data-scope-types="[&quot;&quot;,&quot;owner&quot;,&quot;repository&quot;]"
            data-mode="#"
            data-value="">
            <div class="d-flex flex-items-start flex-justify-between">
              <div>
                <span class="text-bold">Tip:</span>
                  Type author:@me to search your content
              </div>
              <div class="ml-2 flex-shrink-0">
                Type <kbd class="hx_kbd">?</kbd> for help and tips
              </div>
            </div>
          </command-palette-tip>
          <command-palette-tip
            class="color-fg-muted f6 px-3 py-1 my-2"
              data-scope-types="[&quot;&quot;,&quot;owner&quot;,&quot;repository&quot;]"
            data-mode="#"
            data-value="">
            <div class="d-flex flex-items-start flex-justify-between">
              <div>
                <span class="text-bold">Tip:</span>
                  Type is:pr to filter to pull requests
              </div>
              <div class="ml-2 flex-shrink-0">
                Type <kbd class="hx_kbd">?</kbd> for help and tips
              </div>
            </div>
          </command-palette-tip>
          <command-palette-tip
            class="color-fg-muted f6 px-3 py-1 my-2"
              data-scope-types="[&quot;&quot;,&quot;owner&quot;,&quot;repository&quot;]"
            data-mode="#"
            data-value="">
            <div class="d-flex flex-items-start flex-justify-between">
              <div>
                <span class="text-bold">Tip:</span>
                  Type is:issue to filter to issues
              </div>
              <div class="ml-2 flex-shrink-0">
                Type <kbd class="hx_kbd">?</kbd> for help and tips
              </div>
            </div>
          </command-palette-tip>
          <command-palette-tip
            class="color-fg-muted f6 px-3 py-1 my-2"
              data-scope-types="[&quot;owner&quot;,&quot;repository&quot;]"
            data-mode="#"
            data-value="">
            <div class="d-flex flex-items-start flex-justify-between">
              <div>
                <span class="text-bold">Tip:</span>
                  Type is:project to filter to projects
              </div>
              <div class="ml-2 flex-shrink-0">
                Type <kbd class="hx_kbd">?</kbd> for help and tips
              </div>
            </div>
          </command-palette-tip>
          <command-palette-tip
            class="color-fg-muted f6 px-3 py-1 my-2"
              data-scope-types="[&quot;&quot;,&quot;owner&quot;,&quot;repository&quot;]"
            data-mode="#"
            data-value="">
            <div class="d-flex flex-items-start flex-justify-between">
              <div>
                <span class="text-bold">Tip:</span>
                  Type is:open to filter to open content
              </div>
              <div class="ml-2 flex-shrink-0">
                Type <kbd class="hx_kbd">?</kbd> for help and tips
              </div>
            </div>
          </command-palette-tip>
        <command-palette-tip class="mx-3 my-2 flash flash-error d-flex flex-items-center" data-scope-types="*" data-on-error>
          <div>
            <svg aria-hidden="true" height="16" viewBox="0 0 16 16" version="1.1" width="16" data-view-component="true" class="octicon octicon-alert">
    <path d="M6.457 1.047c.659-1.234 2.427-1.234 3.086 0l6.082 11.378A1.75 1.75 0 0 1 14.082 15H1.918a1.75 1.75 0 0 1-1.543-2.575Zm1.763.707a.25.25 0 0 0-.44 0L1.698 13.132a.25.25 0 0 0 .22.368h12.164a.25.25 0 0 0 .22-.368Zm.53 3.996v2.5a.75.75 0 0 1-1.5 0v-2.5a.75.75 0 0 1 1.5 0ZM9 11a1 1 0 1 1-2 0 1 1 0 0 1 2 0Z"></path>
</svg>
          </div>
          <div class="px-2">
            We’ve encountered an error and some results aren't available at this time. Type a new search or try again later.
          </div>
        </command-palette-tip>
        <command-palette-tip class="h4 color-fg-default pl-3 pb-2 pt-3" data-on-empty data-scope-types="*" data-match-mode="[^?]|^$">
          No results matched your search
        </command-palette-tip>

        <div hidden>

            <div data-targets="command-palette-page-stack.localOcticons" data-octicon-id="arrow-right-color-fg-muted">
              <svg height="16" class="octicon octicon-arrow-right color-fg-muted" viewBox="0 0 16 16" version="1.1" width="16" aria-hidden="true"><path d="M8.22 2.97a.75.75 0 0 1 1.06 0l4.25 4.25a.75.75 0 0 1 0 1.06l-4.25 4.25a.751.751 0 0 1-1.042-.018.751.751 0 0 1-.018-1.042l2.97-2.97H3.75a.75.75 0 0 1 0-1.5h7.44L8.22 4.03a.75.75 0 0 1 0-1.06Z"></path></svg>
            </div>
            <div data-targets="command-palette-page-stack.localOcticons" data-octicon-id="arrow-right-color-fg-default">
              <svg height="16" class="octicon octicon-arrow-right color-fg-default" viewBox="0 0 16 16" version="1.1" width="16" aria-hidden="true"><path d="M8.22 2.97a.75.75 0 0 1 1.06 0l4.25 4.25a.75.75 0 0 1 0 1.06l-4.25 4.25a.751.751 0 0 1-1.042-.018.751.751 0 0 1-.018-1.042l2.97-2.97H3.75a.75.75 0 0 1 0-1.5h7.44L8.22 4.03a.75.75 0 0 1 0-1.06Z"></path></svg>
            </div>
            <div data-targets="command-palette-page-stack.localOcticons" data-octicon-id="codespaces-color-fg-muted">
              <svg height="16" class="octicon octicon-codespaces color-fg-muted" viewBox="0 0 16 16" version="1.1" width="16" aria-hidden="true"><path d="M0 11.25c0-.966.784-1.75 1.75-1.75h12.5c.966 0 1.75.784 1.75 1.75v3A1.75 1.75 0 0 1 14.25 16H1.75A1.75 1.75 0 0 1 0 14.25Zm2-9.5C2 .784 2.784 0 3.75 0h8.5C13.216 0 14 .784 14 1.75v5a1.75 1.75 0 0 1-1.75 1.75h-8.5A1.75 1.75 0 0 1 2 6.75Zm1.75-.25a.25.25 0 0 0-.25.25v5c0 .138.112.25.25.25h8.5a.25.25 0 0 0 .25-.25v-5a.25.25 0 0 0-.25-.25Zm-2 9.5a.25.25 0 0 0-.25.25v3c0 .138.112.25.25.25h12.5a.25.25 0 0 0 .25-.25v-3a.25.25 0 0 0-.25-.25Z"></path><path d="M7 12.75a.75.75 0 0 1 .75-.75h4.5a.75.75 0 0 1 0 1.5h-4.5a.75.75 0 0 1-.75-.75Zm-4 0a.75.75 0 0 1 .75-.75h.5a.75.75 0 0 1 0 1.5h-.5a.75.75 0 0 1-.75-.75Z"></path></svg>
            </div>
            <div data-targets="command-palette-page-stack.localOcticons" data-octicon-id="copy-color-fg-muted">
              <svg height="16" class="octicon octicon-copy color-fg-muted" viewBox="0 0 16 16" version="1.1" width="16" aria-hidden="true"><path d="M0 6.75C0 5.784.784 5 1.75 5h1.5a.75.75 0 0 1 0 1.5h-1.5a.25.25 0 0 0-.25.25v7.5c0 .138.112.25.25.25h7.5a.25.25 0 0 0 .25-.25v-1.5a.75.75 0 0 1 1.5 0v1.5A1.75 1.75 0 0 1 9.25 16h-7.5A1.75 1.75 0 0 1 0 14.25Z"></path><path d="M5 1.75C5 .784 5.784 0 6.75 0h7.5C15.216 0 16 .784 16 1.75v7.5A1.75 1.75 0 0 1 14.25 11h-7.5A1.75 1.75 0 0 1 5 9.25Zm1.75-.25a.25.25 0 0 0-.25.25v7.5c0 .138.112.25.25.25h7.5a.25.25 0 0 0 .25-.25v-7.5a.25.25 0 0 0-.25-.25Z"></path></svg>
            </div>
            <div data-targets="command-palette-page-stack.localOcticons" data-octicon-id="dash-color-fg-muted">
              <svg height="16" class="octicon octicon-dash color-fg-muted" viewBox="0 0 16 16" version="1.1" width="16" aria-hidden="true"><path d="M2 7.75A.75.75 0 0 1 2.75 7h10a.75.75 0 0 1 0 1.5h-10A.75.75 0 0 1 2 7.75Z"></path></svg>
            </div>
            <div data-targets="command-palette-page-stack.localOcticons" data-octicon-id="file-color-fg-muted">
              <svg height="16" class="octicon octicon-file color-fg-muted" viewBox="0 0 16 16" version="1.1" width="16" aria-hidden="true"><path d="M2 1.75C2 .784 2.784 0 3.75 0h6.586c.464 0 .909.184 1.237.513l2.914 2.914c.329.328.513.773.513 1.237v9.586A1.75 1.75 0 0 1 13.25 16h-9.5A1.75 1.75 0 0 1 2 14.25Zm1.75-.25a.25.25 0 0 0-.25.25v12.5c0 .138.112.25.25.25h9.5a.25.25 0 0 0 .25-.25V6h-2.75A1.75 1.75 0 0 1 9 4.25V1.5Zm6.75.062V4.25c0 .138.112.25.25.25h2.688l-.011-.013-2.914-2.914-.013-.011Z"></path></svg>
            </div>
            <div data-targets="command-palette-page-stack.localOcticons" data-octicon-id="gear-color-fg-muted">
              <svg height="16" class="octicon octicon-gear color-fg-muted" viewBox="0 0 16 16" version="1.1" width="16" aria-hidden="true"><path d="M8 0a8.2 8.2 0 0 1 .701.031C9.444.095 9.99.645 10.16 1.29l.288 1.107c.018.066.079.158.212.224.231.114.454.243.668.386.123.082.233.09.299.071l1.103-.303c.644-.176 1.392.021 1.82.63.27.385.506.792.704 1.218.315.675.111 1.422-.364 1.891l-.814.806c-.049.048-.098.147-.088.294.016.257.016.515 0 .772-.01.147.038.246.088.294l.814.806c.475.469.679 1.216.364 1.891a7.977 7.977 0 0 1-.704 1.217c-.428.61-1.176.807-1.82.63l-1.102-.302c-.067-.019-.177-.011-.3.071a5.909 5.909 0 0 1-.668.386c-.133.066-.194.158-.211.224l-.29 1.106c-.168.646-.715 1.196-1.458 1.26a8.006 8.006 0 0 1-1.402 0c-.743-.064-1.289-.614-1.458-1.26l-.289-1.106c-.018-.066-.079-.158-.212-.224a5.738 5.738 0 0 1-.668-.386c-.123-.082-.233-.09-.299-.071l-1.103.303c-.644.176-1.392-.021-1.82-.63a8.12 8.12 0 0 1-.704-1.218c-.315-.675-.111-1.422.363-1.891l.815-.806c.05-.048.098-.147.088-.294a6.214 6.214 0 0 1 0-.772c.01-.147-.038-.246-.088-.294l-.815-.806C.635 6.045.431 5.298.746 4.623a7.92 7.92 0 0 1 .704-1.217c.428-.61 1.176-.807 1.82-.63l1.102.302c.067.019.177.011.3-.071.214-.143.437-.272.668-.386.133-.066.194-.158.211-.224l.29-1.106C6.009.645 6.556.095 7.299.03 7.53.01 7.764 0 8 0Zm-.571 1.525c-.036.003-.108.036-.137.146l-.289 1.105c-.147.561-.549.967-.998 1.189-.173.086-.34.183-.5.29-.417.278-.97.423-1.529.27l-1.103-.303c-.109-.03-.175.016-.195.045-.22.312-.412.644-.573.99-.014.031-.021.11.059.19l.815.806c.411.406.562.957.53 1.456a4.709 4.709 0 0 0 0 .582c.032.499-.119 1.05-.53 1.456l-.815.806c-.081.08-.073.159-.059.19.162.346.353.677.573.989.02.03.085.076.195.046l1.102-.303c.56-.153 1.113-.008 1.53.27.161.107.328.204.501.29.447.222.85.629.997 1.189l.289 1.105c.029.109.101.143.137.146a6.6 6.6 0 0 0 1.142 0c.036-.003.108-.036.137-.146l.289-1.105c.147-.561.549-.967.998-1.189.173-.086.34-.183.5-.29.417-.278.97-.423 1.529-.27l1.103.303c.109.029.175-.016.195-.045.22-.313.411-.644.573-.99.014-.031.021-.11-.059-.19l-.815-.806c-.411-.406-.562-.957-.53-1.456a4.709 4.709 0 0 0 0-.582c-.032-.499.119-1.05.53-1.456l.815-.806c.081-.08.073-.159.059-.19a6.464 6.464 0 0 0-.573-.989c-.02-.03-.085-.076-.195-.046l-1.102.303c-.56.153-1.113.008-1.53-.27a4.44 4.44 0 0 0-.501-.29c-.447-.222-.85-.629-.997-1.189l-.289-1.105c-.029-.11-.101-.143-.137-.146a6.6 6.6 0 0 0-1.142 0ZM11 8a3 3 0 1 1-6 0 3 3 0 0 1 6 0ZM9.5 8a1.5 1.5 0 1 0-3.001.001A1.5 1.5 0 0 0 9.5 8Z"></path></svg>
            </div>
            <div data-targets="command-palette-page-stack.localOcticons" data-octicon-id="lock-color-fg-muted">
              <svg height="16" class="octicon octicon-lock color-fg-muted" viewBox="0 0 16 16" version="1.1" width="16" aria-hidden="true"><path d="M4 4a4 4 0 0 1 8 0v2h.25c.966 0 1.75.784 1.75 1.75v5.5A1.75 1.75 0 0 1 12.25 15h-8.5A1.75 1.75 0 0 1 2 13.25v-5.5C2 6.784 2.784 6 3.75 6H4Zm8.25 3.5h-8.5a.25.25 0 0 0-.25.25v5.5c0 .138.112.25.25.25h8.5a.25.25 0 0 0 .25-.25v-5.5a.25.25 0 0 0-.25-.25ZM10.5 6V4a2.5 2.5 0 1 0-5 0v2Z"></path></svg>
            </div>
            <div data-targets="command-palette-page-stack.localOcticons" data-octicon-id="moon-color-fg-muted">
              <svg height="16" class="octicon octicon-moon color-fg-muted" viewBox="0 0 16 16" version="1.1" width="16" aria-hidden="true"><path d="M9.598 1.591a.749.749 0 0 1 .785-.175 7.001 7.001 0 1 1-8.967 8.967.75.75 0 0 1 .961-.96 5.5 5.5 0 0 0 7.046-7.046.75.75 0 0 1 .175-.786Zm1.616 1.945a7 7 0 0 1-7.678 7.678 5.499 5.499 0 1 0 7.678-7.678Z"></path></svg>
            </div>
            <div data-targets="command-palette-page-stack.localOcticons" data-octicon-id="person-color-fg-muted">
              <svg height="16" class="octicon octicon-person color-fg-muted" viewBox="0 0 16 16" version="1.1" width="16" aria-hidden="true"><path d="M10.561 8.073a6.005 6.005 0 0 1 3.432 5.142.75.75 0 1 1-1.498.07 4.5 4.5 0 0 0-8.99 0 .75.75 0 0 1-1.498-.07 6.004 6.004 0 0 1 3.431-5.142 3.999 3.999 0 1 1 5.123 0ZM10.5 5a2.5 2.5 0 1 0-5 0 2.5 2.5 0 0 0 5 0Z"></path></svg>
            </div>
            <div data-targets="command-palette-page-stack.localOcticons" data-octicon-id="pencil-color-fg-muted">
              <svg height="16" class="octicon octicon-pencil color-fg-muted" viewBox="0 0 16 16" version="1.1" width="16" aria-hidden="true"><path d="M11.013 1.427a1.75 1.75 0 0 1 2.474 0l1.086 1.086a1.75 1.75 0 0 1 0 2.474l-8.61 8.61c-.21.21-.47.364-.756.445l-3.251.93a.75.75 0 0 1-.927-.928l.929-3.25c.081-.286.235-.547.445-.758l8.61-8.61Zm.176 4.823L9.75 4.81l-6.286 6.287a.253.253 0 0 0-.064.108l-.558 1.953 1.953-.558a.253.253 0 0 0 .108-.064Zm1.238-3.763a.25.25 0 0 0-.354 0L10.811 3.75l1.439 1.44 1.263-1.263a.25.25 0 0 0 0-.354Z"></path></svg>
            </div>
            <div data-targets="command-palette-page-stack.localOcticons" data-octicon-id="issue-opened-open">
              <svg height="16" class="octicon octicon-issue-opened open" viewBox="0 0 16 16" version="1.1" width="16" aria-hidden="true"><path d="M8 9.5a1.5 1.5 0 1 0 0-3 1.5 1.5 0 0 0 0 3Z"></path><path d="M8 0a8 8 0 1 1 0 16A8 8 0 0 1 8 0ZM1.5 8a6.5 6.5 0 1 0 13 0 6.5 6.5 0 0 0-13 0Z"></path></svg>
            </div>
            <div data-targets="command-palette-page-stack.localOcticons" data-octicon-id="git-pull-request-draft-color-fg-muted">
              <svg height="16" class="octicon octicon-git-pull-request-draft color-fg-muted" viewBox="0 0 16 16" version="1.1" width="16" aria-hidden="true"><path d="M3.25 1A2.25 2.25 0 0 1 4 5.372v5.256a2.251 2.251 0 1 1-1.5 0V5.372A2.251 2.251 0 0 1 3.25 1Zm9.5 14a2.25 2.25 0 1 1 0-4.5 2.25 2.25 0 0 1 0 4.5ZM2.5 3.25a.75.75 0 1 0 1.5 0 .75.75 0 0 0-1.5 0ZM3.25 12a.75.75 0 1 0 0 1.5.75.75 0 0 0 0-1.5Zm9.5 0a.75.75 0 1 0 0 1.5.75.75 0 0 0 0-1.5ZM14 7.5a1.25 1.25 0 1 1-2.5 0 1.25 1.25 0 0 1 2.5 0Zm0-4.25a1.25 1.25 0 1 1-2.5 0 1.25 1.25 0 0 1 2.5 0Z"></path></svg>
            </div>
            <div data-targets="command-palette-page-stack.localOcticons" data-octicon-id="search-color-fg-muted">
              <svg height="16" class="octicon octicon-search color-fg-muted" viewBox="0 0 16 16" version="1.1" width="16" aria-hidden="true"><path d="M10.68 11.74a6 6 0 0 1-7.922-8.982 6 6 0 0 1 8.982 7.922l3.04 3.04a.749.749 0 0 1-.326 1.275.749.749 0 0 1-.734-.215ZM11.5 7a4.499 4.499 0 1 0-8.997 0A4.499 4.499 0 0 0 11.5 7Z"></path></svg>
            </div>
            <div data-targets="command-palette-page-stack.localOcticons" data-octicon-id="sun-color-fg-muted">
              <svg height="16" class="octicon octicon-sun color-fg-muted" viewBox="0 0 16 16" version="1.1" width="16" aria-hidden="true"><path d="M8 12a4 4 0 1 1 0-8 4 4 0 0 1 0 8Zm0-1.5a2.5 2.5 0 1 0 0-5 2.5 2.5 0 0 0 0 5Zm5.657-8.157a.75.75 0 0 1 0 1.061l-1.061 1.06a.749.749 0 0 1-1.275-.326.749.749 0 0 1 .215-.734l1.06-1.06a.75.75 0 0 1 1.06 0Zm-9.193 9.193a.75.75 0 0 1 0 1.06l-1.06 1.061a.75.75 0 1 1-1.061-1.06l1.06-1.061a.75.75 0 0 1 1.061 0ZM8 0a.75.75 0 0 1 .75.75v1.5a.75.75 0 0 1-1.5 0V.75A.75.75 0 0 1 8 0ZM3 8a.75.75 0 0 1-.75.75H.75a.75.75 0 0 1 0-1.5h1.5A.75.75 0 0 1 3 8Zm13 0a.75.75 0 0 1-.75.75h-1.5a.75.75 0 0 1 0-1.5h1.5A.75.75 0 0 1 16 8Zm-8 5a.75.75 0 0 1 .75.75v1.5a.75.75 0 0 1-1.5 0v-1.5A.75.75 0 0 1 8 13Zm3.536-1.464a.75.75 0 0 1 1.06 0l1.061 1.06a.75.75 0 0 1-1.06 1.061l-1.061-1.06a.75.75 0 0 1 0-1.061ZM2.343 2.343a.75.75 0 0 1 1.061 0l1.06 1.061a.751.751 0 0 1-.018 1.042.751.751 0 0 1-1.042.018l-1.06-1.06a.75.75 0 0 1 0-1.06Z"></path></svg>
            </div>
            <div data-targets="command-palette-page-stack.localOcticons" data-octicon-id="sync-color-fg-muted">
              <svg height="16" class="octicon octicon-sync color-fg-muted" viewBox="0 0 16 16" version="1.1" width="16" aria-hidden="true"><path d="M1.705 8.005a.75.75 0 0 1 .834.656 5.5 5.5 0 0 0 9.592 2.97l-1.204-1.204a.25.25 0 0 1 .177-.427h3.646a.25.25 0 0 1 .25.25v3.646a.25.25 0 0 1-.427.177l-1.38-1.38A7.002 7.002 0 0 1 1.05 8.84a.75.75 0 0 1 .656-.834ZM8 2.5a5.487 5.487 0 0 0-4.131 1.869l1.204 1.204A.25.25 0 0 1 4.896 6H1.25A.25.25 0 0 1 1 5.75V2.104a.25.25 0 0 1 .427-.177l1.38 1.38A7.002 7.002 0 0 1 14.95 7.16a.75.75 0 0 1-1.49.178A5.5 5.5 0 0 0 8 2.5Z"></path></svg>
            </div>
            <div data-targets="command-palette-page-stack.localOcticons" data-octicon-id="trash-color-fg-muted">
              <svg height="16" class="octicon octicon-trash color-fg-muted" viewBox="0 0 16 16" version="1.1" width="16" aria-hidden="true"><path d="M11 1.75V3h2.25a.75.75 0 0 1 0 1.5H2.75a.75.75 0 0 1 0-1.5H5V1.75C5 .784 5.784 0 6.75 0h2.5C10.216 0 11 .784 11 1.75ZM4.496 6.675l.66 6.6a.25.25 0 0 0 .249.225h5.19a.25.25 0 0 0 .249-.225l.66-6.6a.75.75 0 0 1 1.492.149l-.66 6.6A1.748 1.748 0 0 1 10.595 15h-5.19a1.75 1.75 0 0 1-1.741-1.575l-.66-6.6a.75.75 0 1 1 1.492-.15ZM6.5 1.75V3h3V1.75a.25.25 0 0 0-.25-.25h-2.5a.25.25 0 0 0-.25.25Z"></path></svg>
            </div>
            <div data-targets="command-palette-page-stack.localOcticons" data-octicon-id="key-color-fg-muted">
              <svg height="16" class="octicon octicon-key color-fg-muted" viewBox="0 0 16 16" version="1.1" width="16" aria-hidden="true"><path d="M10.5 0a5.499 5.499 0 1 1-1.288 10.848l-.932.932a.749.749 0 0 1-.53.22H7v.75a.749.749 0 0 1-.22.53l-.5.5a.749.749 0 0 1-.53.22H5v.75a.749.749 0 0 1-.22.53l-.5.5a.749.749 0 0 1-.53.22h-2A1.75 1.75 0 0 1 0 14.25v-2c0-.199.079-.389.22-.53l4.932-4.932A5.5 5.5 0 0 1 10.5 0Zm-4 5.5c-.001.431.069.86.205 1.269a.75.75 0 0 1-.181.768L1.5 12.56v1.69c0 .138.112.25.25.25h1.69l.06-.06v-1.19a.75.75 0 0 1 .75-.75h1.19l.06-.06v-1.19a.75.75 0 0 1 .75-.75h1.19l1.023-1.025a.75.75 0 0 1 .768-.18A4 4 0 1 0 6.5 5.5ZM11 6a1 1 0 1 1 0-2 1 1 0 0 1 0 2Z"></path></svg>
            </div>
            <div data-targets="command-palette-page-stack.localOcticons" data-octicon-id="comment-discussion-color-fg-muted">
              <svg height="16" class="octicon octicon-comment-discussion color-fg-muted" viewBox="0 0 16 16" version="1.1" width="16" aria-hidden="true"><path d="M1.75 1h8.5c.966 0 1.75.784 1.75 1.75v5.5A1.75 1.75 0 0 1 10.25 10H7.061l-2.574 2.573A1.458 1.458 0 0 1 2 11.543V10h-.25A1.75 1.75 0 0 1 0 8.25v-5.5C0 1.784.784 1 1.75 1ZM1.5 2.75v5.5c0 .138.112.25.25.25h1a.75.75 0 0 1 .75.75v2.19l2.72-2.72a.749.749 0 0 1 .53-.22h3.5a.25.25 0 0 0 .25-.25v-5.5a.25.25 0 0 0-.25-.25h-8.5a.25.25 0 0 0-.25.25Zm13 2a.25.25 0 0 0-.25-.25h-.5a.75.75 0 0 1 0-1.5h.5c.966 0 1.75.784 1.75 1.75v5.5A1.75 1.75 0 0 1 14.25 12H14v1.543a1.458 1.458 0 0 1-2.487 1.03L9.22 12.28a.749.749 0 0 1 .326-1.275.749.749 0 0 1 .734.215l2.22 2.22v-2.19a.75.75 0 0 1 .75-.75h1a.25.25 0 0 0 .25-.25Z"></path></svg>
            </div>
            <div data-targets="command-palette-page-stack.localOcticons" data-octicon-id="bell-color-fg-muted">
              <svg height="16" class="octicon octicon-bell color-fg-muted" viewBox="0 0 16 16" version="1.1" width="16" aria-hidden="true"><path d="M8 16a2 2 0 0 0 1.985-1.75c.017-.137-.097-.25-.235-.25h-3.5c-.138 0-.252.113-.235.25A2 2 0 0 0 8 16ZM3 5a5 5 0 0 1 10 0v2.947c0 .05.015.098.042.139l1.703 2.555A1.519 1.519 0 0 1 13.482 13H2.518a1.516 1.516 0 0 1-1.263-2.36l1.703-2.554A.255.255 0 0 0 3 7.947Zm5-3.5A3.5 3.5 0 0 0 4.5 5v2.947c0 .346-.102.683-.294.97l-1.703 2.556a.017.017 0 0 0-.003.01l.001.006c0 .002.002.004.004.006l.006.004.007.001h10.964l.007-.001.006-.004.004-.006.001-.007a.017.017 0 0 0-.003-.01l-1.703-2.554a1.745 1.745 0 0 1-.294-.97V5A3.5 3.5 0 0 0 8 1.5Z"></path></svg>
            </div>
            <div data-targets="command-palette-page-stack.localOcticons" data-octicon-id="bell-slash-color-fg-muted">
              <svg height="16" class="octicon octicon-bell-slash color-fg-muted" viewBox="0 0 16 16" version="1.1" width="16" aria-hidden="true"><path d="m4.182 4.31.016.011 10.104 7.316.013.01 1.375.996a.75.75 0 1 1-.88 1.214L13.626 13H2.518a1.516 1.516 0 0 1-1.263-2.36l1.703-2.554A.255.255 0 0 0 3 7.947V5.305L.31 3.357a.75.75 0 1 1 .88-1.214Zm7.373 7.19L4.5 6.391v1.556c0 .346-.102.683-.294.97l-1.703 2.556a.017.017 0 0 0-.003.01c0 .005.002.009.005.012l.006.004.007.001ZM8 1.5c-.997 0-1.895.416-2.534 1.086A.75.75 0 1 1 4.38 1.55 5 5 0 0 1 13 5v2.373a.75.75 0 0 1-1.5 0V5A3.5 3.5 0 0 0 8 1.5ZM8 16a2 2 0 0 1-1.985-1.75c-.017-.137.097-.25.235-.25h3.5c.138 0 .252.113.235.25A2 2 0 0 1 8 16Z"></path></svg>
            </div>
            <div data-targets="command-palette-page-stack.localOcticons" data-octicon-id="paintbrush-color-fg-muted">
              <svg height="16" class="octicon octicon-paintbrush color-fg-muted" viewBox="0 0 16 16" version="1.1" width="16" aria-hidden="true"><path d="M11.134 1.535c.7-.509 1.416-.942 2.076-1.155.649-.21 1.463-.267 2.069.34.603.601.568 1.411.368 2.07-.202.668-.624 1.39-1.125 2.096-1.011 1.424-2.496 2.987-3.775 4.249-1.098 1.084-2.132 1.839-3.04 2.3a3.744 3.744 0 0 1-1.055 3.217c-.431.431-1.065.691-1.657.861-.614.177-1.294.287-1.914.357A21.151 21.151 0 0 1 .797 16H.743l.007-.75H.749L.742 16a.75.75 0 0 1-.743-.742l.743-.008-.742.007v-.054a21.25 21.25 0 0 1 .13-2.284c.067-.647.187-1.287.358-1.914.17-.591.43-1.226.86-1.657a3.746 3.746 0 0 1 3.227-1.054c.466-.893 1.225-1.907 2.314-2.982 1.271-1.255 2.833-2.75 4.245-3.777ZM1.62 13.089c-.051.464-.086.929-.104 1.395.466-.018.932-.053 1.396-.104a10.511 10.511 0 0 0 1.668-.309c.526-.151.856-.325 1.011-.48a2.25 2.25 0 1 0-3.182-3.182c-.155.155-.329.485-.48 1.01a10.515 10.515 0 0 0-.309 1.67Zm10.396-10.34c-1.224.89-2.605 2.189-3.822 3.384l1.718 1.718c1.21-1.205 2.51-2.597 3.387-3.833.47-.662.78-1.227.912-1.662.134-.444.032-.551.009-.575h-.001V1.78c-.014-.014-.113-.113-.548.027-.432.14-.995.462-1.655.942Zm-4.832 7.266-.001.001a9.859 9.859 0 0 0 1.63-1.142L7.155 7.216a9.7 9.7 0 0 0-1.161 1.607c.482.302.889.71 1.19 1.192Z"></path></svg>
            </div>

            <command-palette-item-group
              data-group-id="top"
              data-group-title="Top result"
              data-group-hint=""
              data-group-limits="{}"
              data-default-priority="0"
            >
            </command-palette-item-group>
            <command-palette-item-group
              data-group-id="commands"
              data-group-title="Commands"
              data-group-hint="Type &gt; to filter"
              data-group-limits="{&quot;static_items_page&quot;:50,&quot;issue&quot;:50,&quot;pull_request&quot;:50,&quot;discussion&quot;:50}"
              data-default-priority="1"
            >
            </command-palette-item-group>
            <command-palette-item-group
              data-group-id="global_commands"
              data-group-title="Global Commands"
              data-group-hint="Type &gt; to filter"
              data-group-limits="{&quot;issue&quot;:0,&quot;pull_request&quot;:0,&quot;discussion&quot;:0}"
              data-default-priority="2"
            >
            </command-palette-item-group>
            <command-palette-item-group
              data-group-id="this_page"
              data-group-title="This Page"
              data-group-hint=""
              data-group-limits="{}"
              data-default-priority="3"
            >
            </command-palette-item-group>
            <command-palette-item-group
              data-group-id="files"
              data-group-title="Files"
              data-group-hint=""
              data-group-limits="{}"
              data-default-priority="4"
            >
            </command-palette-item-group>
            <command-palette-item-group
              data-group-id="default"
              data-group-title="Default"
              data-group-hint=""
              data-group-limits="{&quot;static_items_page&quot;:50}"
              data-default-priority="5"
            >
            </command-palette-item-group>
            <command-palette-item-group
              data-group-id="pages"
              data-group-title="Pages"
              data-group-hint=""
              data-group-limits="{&quot;repository&quot;:10}"
              data-default-priority="6"
            >
            </command-palette-item-group>
            <command-palette-item-group
              data-group-id="access_policies"
              data-group-title="Access Policies"
              data-group-hint=""
              data-group-limits="{}"
              data-default-priority="7"
            >
            </command-palette-item-group>
            <command-palette-item-group
              data-group-id="organizations"
              data-group-title="Organizations"
              data-group-hint=""
              data-group-limits="{}"
              data-default-priority="8"
            >
            </command-palette-item-group>
            <command-palette-item-group
              data-group-id="repositories"
              data-group-title="Repositories"
              data-group-hint=""
              data-group-limits="{}"
              data-default-priority="9"
            >
            </command-palette-item-group>
            <command-palette-item-group
              data-group-id="references"
              data-group-title="Issues, pull requests, and discussions"
              data-group-hint="Type # to filter"
              data-group-limits="{}"
              data-default-priority="10"
            >
            </command-palette-item-group>
            <command-palette-item-group
              data-group-id="teams"
              data-group-title="Teams"
              data-group-hint=""
              data-group-limits="{}"
              data-default-priority="11"
            >
            </command-palette-item-group>
            <command-palette-item-group
              data-group-id="users"
              data-group-title="Users"
              data-group-hint=""
              data-group-limits="{}"
              data-default-priority="12"
            >
            </command-palette-item-group>
            <command-palette-item-group
              data-group-id="projects"
              data-group-title="Projects"
              data-group-hint=""
              data-group-limits="{}"
              data-default-priority="13"
            >
            </command-palette-item-group>
            <command-palette-item-group
              data-group-id="footer"
              data-group-title="Footer"
              data-group-hint=""
              data-group-limits="{}"
              data-default-priority="14"
            >
            </command-palette-item-group>
            <command-palette-item-group
              data-group-id="modes_help"
              data-group-title="Modes"
              data-group-hint=""
              data-group-limits="{}"
              data-default-priority="15"
            >
            </command-palette-item-group>
            <command-palette-item-group
              data-group-id="filters_help"
              data-group-title="Use filters in issues, pull requests, discussions, and projects"
              data-group-hint=""
              data-group-limits="{}"
              data-default-priority="16"
            >
            </command-palette-item-group>

            <command-palette-page
              data-page-title="cchuang2009"
              data-scope-id="MDQ6VXNlcjUxNjk5MDM="
              data-scope-type="owner"
              data-targets="command-palette-page-stack.defaultPages"
              hidden
            >
            </command-palette-page>
            <command-palette-page
              data-page-title="2022-1"
              data-scope-id="R_kgDOIamlWw"
              data-scope-type="repository"
              data-targets="command-palette-page-stack.defaultPages"
              hidden
            >
            </command-palette-page>
        </div>

        <command-palette-page data-is-root>
        </command-palette-page>
          <command-palette-page
            data-page-title="cchuang2009"
            data-scope-id="MDQ6VXNlcjUxNjk5MDM="
            data-scope-type="owner"
          >
          </command-palette-page>
          <command-palette-page
            data-page-title="2022-1"
            data-scope-id="R_kgDOIamlWw"
            data-scope-type="repository"
          >
          </command-palette-page>
      </command-palette-page-stack>

      <server-defined-provider data-type="search-links" data-targets="command-palette.serverDefinedProviderElements"></server-defined-provider>
      <server-defined-provider data-type="help" data-targets="command-palette.serverDefinedProviderElements">
          <command-palette-help
            data-group="modes_help"
              data-prefix="#"
              data-scope-types="[&quot;&quot;]"
          >
            <span data-target="command-palette-help.titleElement">Search for <strong>issues</strong> and <strong>pull requests</strong></span>
              <span data-target="command-palette-help.hintElement">
                <kbd class="hx_kbd">#</kbd>
              </span>
          </command-palette-help>
          <command-palette-help
            data-group="modes_help"
              data-prefix="#"
              data-scope-types="[&quot;owner&quot;,&quot;repository&quot;]"
          >
            <span data-target="command-palette-help.titleElement">Search for <strong>issues, pull requests, discussions,</strong> and <strong>projects</strong></span>
              <span data-target="command-palette-help.hintElement">
                <kbd class="hx_kbd">#</kbd>
              </span>
          </command-palette-help>
          <command-palette-help
            data-group="modes_help"
              data-prefix="@"
              data-scope-types="[&quot;&quot;]"
          >
            <span data-target="command-palette-help.titleElement">Search for <strong>organizations, repositories,</strong> and <strong>users</strong></span>
              <span data-target="command-palette-help.hintElement">
                <kbd class="hx_kbd">@</kbd>
              </span>
          </command-palette-help>
          <command-palette-help
            data-group="modes_help"
              data-prefix="!"
              data-scope-types="[&quot;owner&quot;,&quot;repository&quot;]"
          >
            <span data-target="command-palette-help.titleElement">Search for <strong>projects</strong></span>
              <span data-target="command-palette-help.hintElement">
                <kbd class="hx_kbd">!</kbd>
              </span>
          </command-palette-help>
          <command-palette-help
            data-group="modes_help"
              data-prefix="/"
              data-scope-types="[&quot;repository&quot;]"
          >
            <span data-target="command-palette-help.titleElement">Search for <strong>files</strong></span>
              <span data-target="command-palette-help.hintElement">
                <kbd class="hx_kbd">/</kbd>
              </span>
          </command-palette-help>
          <command-palette-help
            data-group="modes_help"
              data-prefix="&gt;"
          >
            <span data-target="command-palette-help.titleElement">Activate <strong>command mode</strong></span>
              <span data-target="command-palette-help.hintElement">
                <kbd class="hx_kbd">&gt;</kbd>
              </span>
          </command-palette-help>
          <command-palette-help
            data-group="filters_help"
              data-prefix="# author:@me"
          >
            <span data-target="command-palette-help.titleElement">Search your issues, pull requests, and discussions</span>
              <span data-target="command-palette-help.hintElement">
                <kbd class="hx_kbd"># author:@me</kbd>
              </span>
          </command-palette-help>
          <command-palette-help
            data-group="filters_help"
              data-prefix="# author:@me"
          >
            <span data-target="command-palette-help.titleElement">Search your issues, pull requests, and discussions</span>
              <span data-target="command-palette-help.hintElement">
                <kbd class="hx_kbd"># author:@me</kbd>
              </span>
          </command-palette-help>
          <command-palette-help
            data-group="filters_help"
              data-prefix="# is:pr"
          >
            <span data-target="command-palette-help.titleElement">Filter to pull requests</span>
              <span data-target="command-palette-help.hintElement">
                <kbd class="hx_kbd"># is:pr</kbd>
              </span>
          </command-palette-help>
          <command-palette-help
            data-group="filters_help"
              data-prefix="# is:issue"
          >
            <span data-target="command-palette-help.titleElement">Filter to issues</span>
              <span data-target="command-palette-help.hintElement">
                <kbd class="hx_kbd"># is:issue</kbd>
              </span>
          </command-palette-help>
          <command-palette-help
            data-group="filters_help"
              data-prefix="# is:discussion"
              data-scope-types="[&quot;owner&quot;,&quot;repository&quot;]"
          >
            <span data-target="command-palette-help.titleElement">Filter to discussions</span>
              <span data-target="command-palette-help.hintElement">
                <kbd class="hx_kbd"># is:discussion</kbd>
              </span>
          </command-palette-help>
          <command-palette-help
            data-group="filters_help"
              data-prefix="# is:project"
              data-scope-types="[&quot;owner&quot;,&quot;repository&quot;]"
          >
            <span data-target="command-palette-help.titleElement">Filter to projects</span>
              <span data-target="command-palette-help.hintElement">
                <kbd class="hx_kbd"># is:project</kbd>
              </span>
          </command-palette-help>
          <command-palette-help
            data-group="filters_help"
              data-prefix="# is:open"
          >
            <span data-target="command-palette-help.titleElement">Filter to open issues, pull requests, and discussions</span>
              <span data-target="command-palette-help.hintElement">
                <kbd class="hx_kbd"># is:open</kbd>
              </span>
          </command-palette-help>
      </server-defined-provider>

        <server-defined-provider
          data-type="commands"
          data-fetch-debounce="0"
            data-src="/command_palette/commands"
          data-supported-modes="[]"
            data-supports-commands
          
          data-targets="command-palette.serverDefinedProviderElements"
          ></server-defined-provider>
        <server-defined-provider
          data-type="prefetched"
          data-fetch-debounce="0"
            data-src="/command_palette/jump_to_page_navigation"
          data-supported-modes="[&quot;&quot;]"
            data-supported-scope-types="[&quot;&quot;,&quot;owner&quot;,&quot;repository&quot;]"
          
          data-targets="command-palette.serverDefinedProviderElements"
          ></server-defined-provider>
        <server-defined-provider
          data-type="remote"
          data-fetch-debounce="200"
            data-src="/command_palette/issues"
          data-supported-modes="[&quot;#&quot;,&quot;#&quot;]"
            data-supported-scope-types="[&quot;owner&quot;,&quot;repository&quot;,&quot;&quot;]"
          
          data-targets="command-palette.serverDefinedProviderElements"
          ></server-defined-provider>
        <server-defined-provider
          data-type="remote"
          data-fetch-debounce="200"
            data-src="/command_palette/jump_to"
          data-supported-modes="[&quot;@&quot;,&quot;@&quot;]"
            data-supported-scope-types="[&quot;&quot;,&quot;owner&quot;]"
          
          data-targets="command-palette.serverDefinedProviderElements"
          ></server-defined-provider>
        <server-defined-provider
          data-type="remote"
          data-fetch-debounce="200"
            data-src="/command_palette/jump_to_members_only"
          data-supported-modes="[&quot;@&quot;,&quot;@&quot;,&quot;&quot;,&quot;&quot;]"
            data-supported-scope-types="[&quot;&quot;,&quot;owner&quot;]"
          
          data-targets="command-palette.serverDefinedProviderElements"
          ></server-defined-provider>
        <server-defined-provider
          data-type="prefetched"
          data-fetch-debounce="0"
            data-src="/command_palette/jump_to_members_only_prefetched"
          data-supported-modes="[&quot;@&quot;,&quot;@&quot;,&quot;&quot;,&quot;&quot;]"
            data-supported-scope-types="[&quot;&quot;,&quot;owner&quot;]"
          
          data-targets="command-palette.serverDefinedProviderElements"
          ></server-defined-provider>
        <server-defined-provider
          data-type="files"
          data-fetch-debounce="0"
            data-src="/command_palette/files"
          data-supported-modes="[&quot;/&quot;]"
            data-supported-scope-types="[&quot;repository&quot;]"
          
          data-targets="command-palette.serverDefinedProviderElements"
          ></server-defined-provider>
        <server-defined-provider
          data-type="remote"
          data-fetch-debounce="200"
            data-src="/command_palette/discussions"
          data-supported-modes="[&quot;#&quot;]"
            data-supported-scope-types="[&quot;owner&quot;,&quot;repository&quot;]"
          
          data-targets="command-palette.serverDefinedProviderElements"
          ></server-defined-provider>
        <server-defined-provider
          data-type="remote"
          data-fetch-debounce="200"
            data-src="/command_palette/projects"
          data-supported-modes="[&quot;#&quot;,&quot;!&quot;]"
            data-supported-scope-types="[&quot;owner&quot;,&quot;repository&quot;]"
          
          data-targets="command-palette.serverDefinedProviderElements"
          ></server-defined-provider>
        <server-defined-provider
          data-type="prefetched"
          data-fetch-debounce="0"
            data-src="/command_palette/recent_issues"
          data-supported-modes="[&quot;#&quot;,&quot;#&quot;]"
            data-supported-scope-types="[&quot;owner&quot;,&quot;repository&quot;,&quot;&quot;]"
          
          data-targets="command-palette.serverDefinedProviderElements"
          ></server-defined-provider>
        <server-defined-provider
          data-type="remote"
          data-fetch-debounce="200"
            data-src="/command_palette/teams"
          data-supported-modes="[&quot;@&quot;,&quot;&quot;]"
            data-supported-scope-types="[&quot;owner&quot;]"
          
          data-targets="command-palette.serverDefinedProviderElements"
          ></server-defined-provider>
        <server-defined-provider
          data-type="remote"
          data-fetch-debounce="200"
            data-src="/command_palette/name_with_owner_repository"
          data-supported-modes="[&quot;@&quot;,&quot;@&quot;,&quot;&quot;,&quot;&quot;]"
            data-supported-scope-types="[&quot;&quot;,&quot;owner&quot;]"
          
          data-targets="command-palette.serverDefinedProviderElements"
          ></server-defined-provider>
    </command-palette>
  </details-dialog>
</details>

<div class="position-fixed bottom-0 left-0 ml-5 mb-5 js-command-palette-toasts" style="z-index: 1000">
  <div hidden class="Toast Toast--loading">
    <span class="Toast-icon">
      <svg class="Toast--spinner" viewBox="0 0 32 32" width="18" height="18" aria-hidden="true">
        <path
          fill="#959da5"
          d="M16 0 A16 16 0 0 0 16 32 A16 16 0 0 0 16 0 M16 4 A12 12 0 0 1 16 28 A12 12 0 0 1 16 4"
        />
        <path fill="#ffffff" d="M16 0 A16 16 0 0 1 32 16 L28 16 A12 12 0 0 0 16 4z"></path>
      </svg>
    </span>
    <span class="Toast-content"></span>
  </div>

  <div hidden class="anim-fade-in fast Toast Toast--error">
    <span class="Toast-icon">
      <svg aria-hidden="true" height="16" viewBox="0 0 16 16" version="1.1" width="16" data-view-component="true" class="octicon octicon-stop">
    <path d="M4.47.22A.749.749 0 0 1 5 0h6c.199 0 .389.079.53.22l4.25 4.25c.141.14.22.331.22.53v6a.749.749 0 0 1-.22.53l-4.25 4.25A.749.749 0 0 1 11 16H5a.749.749 0 0 1-.53-.22L.22 11.53A.749.749 0 0 1 0 11V5c0-.199.079-.389.22-.53Zm.84 1.28L1.5 5.31v5.38l3.81 3.81h5.38l3.81-3.81V5.31L10.69 1.5ZM8 4a.75.75 0 0 1 .75.75v3.5a.75.75 0 0 1-1.5 0v-3.5A.75.75 0 0 1 8 4Zm0 8a1 1 0 1 1 0-2 1 1 0 0 1 0 2Z"></path>
</svg>
    </span>
    <span class="Toast-content"></span>
  </div>

  <div hidden class="anim-fade-in fast Toast Toast--warning">
    <span class="Toast-icon">
      <svg aria-hidden="true" height="16" viewBox="0 0 16 16" version="1.1" width="16" data-view-component="true" class="octicon octicon-alert">
    <path d="M6.457 1.047c.659-1.234 2.427-1.234 3.086 0l6.082 11.378A1.75 1.75 0 0 1 14.082 15H1.918a1.75 1.75 0 0 1-1.543-2.575Zm1.763.707a.25.25 0 0 0-.44 0L1.698 13.132a.25.25 0 0 0 .22.368h12.164a.25.25 0 0 0 .22-.368Zm.53 3.996v2.5a.75.75 0 0 1-1.5 0v-2.5a.75.75 0 0 1 1.5 0ZM9 11a1 1 0 1 1-2 0 1 1 0 0 1 2 0Z"></path>
</svg>
    </span>
    <span class="Toast-content"></span>
  </div>


  <div hidden class="anim-fade-in fast Toast Toast--success">
    <span class="Toast-icon">
      <svg aria-hidden="true" height="16" viewBox="0 0 16 16" version="1.1" width="16" data-view-component="true" class="octicon octicon-check">
    <path d="M13.78 4.22a.75.75 0 0 1 0 1.06l-7.25 7.25a.75.75 0 0 1-1.06 0L2.22 9.28a.751.751 0 0 1 .018-1.042.751.751 0 0 1 1.042-.018L6 10.94l6.72-6.72a.75.75 0 0 1 1.06 0Z"></path>
</svg>
    </span>
    <span class="Toast-content"></span>
  </div>

  <div hidden class="anim-fade-in fast Toast">
    <span class="Toast-icon">
      <svg aria-hidden="true" height="16" viewBox="0 0 16 16" version="1.1" width="16" data-view-component="true" class="octicon octicon-info">
    <path d="M0 8a8 8 0 1 1 16 0A8 8 0 0 1 0 8Zm8-6.5a6.5 6.5 0 1 0 0 13 6.5 6.5 0 0 0 0-13ZM6.5 7.75A.75.75 0 0 1 7.25 7h1a.75.75 0 0 1 .75.75v2.75h.25a.75.75 0 0 1 0 1.5h-2a.75.75 0 0 1 0-1.5h.25v-2h-.25a.75.75 0 0 1-.75-.75ZM8 6a1 1 0 1 1 0-2 1 1 0 0 1 0 2Z"></path>
</svg>
    </span>
    <span class="Toast-content"></span>
  </div>
</div>


  <div
    class="application-main "
    data-commit-hovercards-enabled
    data-discussion-hovercards-enabled
    data-issue-and-pr-hovercards-enabled
  >
        <div itemscope itemtype="http://schema.org/SoftwareSourceCode" class="">
    <main id="js-repo-pjax-container" >
      
  
    






  
  <div id="repository-container-header"  class="pt-3 hide-full-screen" style="background-color: var(--color-page-header-bg);" data-turbo-replace>

      <div class="d-flex flex-wrap flex-justify-end mb-3  px-3 px-md-4 px-lg-5" style="gap: 1rem;">

        <div class="flex-auto min-width-0 width-fit mr-3">
            
  <div class=" d-flex flex-wrap flex-items-center wb-break-word f3 text-normal">
      <svg aria-hidden="true" height="16" viewBox="0 0 16 16" version="1.1" width="16" data-view-component="true" class="octicon octicon-repo color-fg-muted mr-2">
    <path d="M2 2.5A2.5 2.5 0 0 1 4.5 0h8.75a.75.75 0 0 1 .75.75v12.5a.75.75 0 0 1-.75.75h-2.5a.75.75 0 0 1 0-1.5h1.75v-2h-8a1 1 0 0 0-.714 1.7.75.75 0 1 1-1.072 1.05A2.495 2.495 0 0 1 2 11.5Zm10.5-1h-8a1 1 0 0 0-1 1v6.708A2.486 2.486 0 0 1 4.5 9h8ZM5 12.25a.25.25 0 0 1 .25-.25h3.5a.25.25 0 0 1 .25.25v3.25a.25.25 0 0 1-.4.2l-1.45-1.087a.249.249 0 0 0-.3 0L5.4 15.7a.25.25 0 0 1-.4-.2Z"></path>
</svg>
    
    <span class="author flex-self-stretch" itemprop="author">
      <a class="url fn" rel="author" data-hovercard-type="user" data-hovercard-url="/users/cchuang2009/hovercard" data-octo-click="hovercard-link-click" data-octo-dimensions="link_type:self" href="/cchuang2009">
        cchuang2009
</a>    </span>
    <span class="mx-1 flex-self-stretch color-fg-muted">/</span>
    <strong itemprop="name" class="mr-2 flex-self-stretch">
      <a data-pjax="#repo-content-pjax-container" data-turbo-frame="repo-content-turbo-frame" href="/cchuang2009/2022-1">2022-1</a>
    </strong>

    <span></span><span class="Label Label--secondary v-align-middle mr-1">Public</span>
  </div>


        </div>

          <ul class="pagehead-actions flex-shrink-0 d-none d-md-inline" style="padding: 2px 0;">

      

  <li>
            <notifications-list-subscription-form
        data-action="notifications-dialog-label-toggled:notifications-list-subscription-form#handleDialogLabelToggle"
        class="f5 position-relative"
      >
        <details
          class="details-reset details-overlay f5 position-relative"
          data-target="notifications-list-subscription-form.details"
          data-action="toggle:notifications-list-subscription-form#detailsToggled"
        >

          <summary data-hydro-click="{&quot;event_type&quot;:&quot;repository.click&quot;,&quot;payload&quot;:{&quot;target&quot;:&quot;WATCH_BUTTON&quot;,&quot;repository_id&quot;:564766043,&quot;originating_url&quot;:&quot;https://github.com/cchuang2009/2022-1/blame/main/Python_IM/2023-2/Week_8_bnb_Query.ipynb&quot;,&quot;user_id&quot;:125939337}}" data-hydro-click-hmac="fb33cfa2d24bf6725bfc2c8db9802de5f3b923d44ec931c735f671dc5befb107" data-ga-click="Repository, click Watch settings, action:blob#blame" aria-label="Notification settings" data-view-component="true" class="btn-sm btn">    <span data-menu-button>
              <span
                hidden
                
                data-target="notifications-list-subscription-form.unwatchButtonCopy"
              >
                <svg aria-hidden="true" height="16" viewBox="0 0 16 16" version="1.1" width="16" data-view-component="true" class="octicon octicon-eye">
    <path d="M8 2c1.981 0 3.671.992 4.933 2.078 1.27 1.091 2.187 2.345 2.637 3.023a1.62 1.62 0 0 1 0 1.798c-.45.678-1.367 1.932-2.637 3.023C11.67 13.008 9.981 14 8 14c-1.981 0-3.671-.992-4.933-2.078C1.797 10.83.88 9.576.43 8.898a1.62 1.62 0 0 1 0-1.798c.45-.677 1.367-1.931 2.637-3.022C4.33 2.992 6.019 2 8 2ZM1.679 7.932a.12.12 0 0 0 0 .136c.411.622 1.241 1.75 2.366 2.717C5.176 11.758 6.527 12.5 8 12.5c1.473 0 2.825-.742 3.955-1.715 1.124-.967 1.954-2.096 2.366-2.717a.12.12 0 0 0 0-.136c-.412-.621-1.242-1.75-2.366-2.717C10.824 4.242 9.473 3.5 8 3.5c-1.473 0-2.825.742-3.955 1.715-1.124.967-1.954 2.096-2.366 2.717ZM8 10a2 2 0 1 1-.001-3.999A2 2 0 0 1 8 10Z"></path>
</svg>
                Unwatch
              </span>
              <span
                hidden
                
                data-target="notifications-list-subscription-form.stopIgnoringButtonCopy"
              >
                <svg aria-hidden="true" height="16" viewBox="0 0 16 16" version="1.1" width="16" data-view-component="true" class="octicon octicon-bell-slash">
    <path d="m4.182 4.31.016.011 10.104 7.316.013.01 1.375.996a.75.75 0 1 1-.88 1.214L13.626 13H2.518a1.516 1.516 0 0 1-1.263-2.36l1.703-2.554A.255.255 0 0 0 3 7.947V5.305L.31 3.357a.75.75 0 1 1 .88-1.214Zm7.373 7.19L4.5 6.391v1.556c0 .346-.102.683-.294.97l-1.703 2.556a.017.017 0 0 0-.003.01c0 .005.002.009.005.012l.006.004.007.001ZM8 1.5c-.997 0-1.895.416-2.534 1.086A.75.75 0 1 1 4.38 1.55 5 5 0 0 1 13 5v2.373a.75.75 0 0 1-1.5 0V5A3.5 3.5 0 0 0 8 1.5ZM8 16a2 2 0 0 1-1.985-1.75c-.017-.137.097-.25.235-.25h3.5c.138 0 .252.113.235.25A2 2 0 0 1 8 16Z"></path>
</svg>
                Stop ignoring
              </span>
              <span
                
                
                data-target="notifications-list-subscription-form.watchButtonCopy"
              >
                <svg aria-hidden="true" height="16" viewBox="0 0 16 16" version="1.1" width="16" data-view-component="true" class="octicon octicon-eye">
    <path d="M8 2c1.981 0 3.671.992 4.933 2.078 1.27 1.091 2.187 2.345 2.637 3.023a1.62 1.62 0 0 1 0 1.798c-.45.678-1.367 1.932-2.637 3.023C11.67 13.008 9.981 14 8 14c-1.981 0-3.671-.992-4.933-2.078C1.797 10.83.88 9.576.43 8.898a1.62 1.62 0 0 1 0-1.798c.45-.677 1.367-1.931 2.637-3.022C4.33 2.992 6.019 2 8 2ZM1.679 7.932a.12.12 0 0 0 0 .136c.411.622 1.241 1.75 2.366 2.717C5.176 11.758 6.527 12.5 8 12.5c1.473 0 2.825-.742 3.955-1.715 1.124-.967 1.954-2.096 2.366-2.717a.12.12 0 0 0 0-.136c-.412-.621-1.242-1.75-2.366-2.717C10.824 4.242 9.473 3.5 8 3.5c-1.473 0-2.825.742-3.955 1.715-1.124.967-1.954 2.096-2.366 2.717ZM8 10a2 2 0 1 1-.001-3.999A2 2 0 0 1 8 10Z"></path>
</svg>
                Watch
              </span>
            </span>
              <span id="repo-notifications-counter" data-target="notifications-list-subscription-form.socialCount" data-pjax-replace="true" data-turbo-replace="true" title="1" data-view-component="true" class="Counter">1</span>
            <span class="dropdown-caret"></span>
</summary>
          <details-menu
            class="SelectMenu  "
            role="menu"
            data-target="notifications-list-subscription-form.menu"
            
          >
            <div class="SelectMenu-modal notifications-component-menu-modal">
              <header class="SelectMenu-header">
                <h3 class="SelectMenu-title">Notifications</h3>
                <button class="SelectMenu-closeButton" type="button" aria-label="Close menu" data-action="click:notifications-list-subscription-form#closeMenu">
                  <svg aria-hidden="true" height="16" viewBox="0 0 16 16" version="1.1" width="16" data-view-component="true" class="octicon octicon-x">
    <path d="M3.72 3.72a.75.75 0 0 1 1.06 0L8 6.94l3.22-3.22a.749.749 0 0 1 1.275.326.749.749 0 0 1-.215.734L9.06 8l3.22 3.22a.749.749 0 0 1-.326 1.275.749.749 0 0 1-.734-.215L8 9.06l-3.22 3.22a.751.751 0 0 1-1.042-.018.751.751 0 0 1-.018-1.042L6.94 8 3.72 4.78a.75.75 0 0 1 0-1.06Z"></path>
</svg>
                </button>
              </header>

              <div class="SelectMenu-list">
                <!-- '"` --><!-- </textarea></xmp> --></option></form><form data-target="notifications-list-subscription-form.form" data-action="submit:notifications-list-subscription-form#submitForm" data-turbo="false" action="/notifications/subscribe" accept-charset="UTF-8" method="post"><input type="hidden" name="authenticity_token" value="u3JBxVL7a-yj9Vrs_tiIzCZsTyM1YBN3aPpzW_VnYkHvQJnowO_Jaf6suQqWuaCpdSQtMMh67a-gQc9fjDRheA" autocomplete="off" />

                  <input type="hidden" name="repository_id" value="564766043">

                  <button
                    type="submit"
                    name="do"
                    value="included"
                    class="SelectMenu-item flex-items-start"
                    role="menuitemradio"
                    aria-checked="true"
                    data-targets="notifications-list-subscription-form.subscriptionButtons"
                    
                  >
                    <span class="f5">
                      <svg aria-hidden="true" height="16" viewBox="0 0 16 16" version="1.1" width="16" data-view-component="true" class="octicon octicon-check SelectMenu-icon SelectMenu-icon--check">
    <path d="M13.78 4.22a.75.75 0 0 1 0 1.06l-7.25 7.25a.75.75 0 0 1-1.06 0L2.22 9.28a.751.751 0 0 1 .018-1.042.751.751 0 0 1 1.042-.018L6 10.94l6.72-6.72a.75.75 0 0 1 1.06 0Z"></path>
</svg>
                    </span>
                    <div>
                      <div class="f5 text-bold">
                        Participating and @mentions
                      </div>
                      <div class="text-small color-fg-muted text-normal pb-1">
                        Only receive notifications from this repository when participating or @mentioned.
                      </div>
                    </div>
                  </button>

                  <button
                    type="submit"
                    name="do"
                    value="subscribed"
                    class="SelectMenu-item flex-items-start"
                    role="menuitemradio"
                    aria-checked="false"
                    data-targets="notifications-list-subscription-form.subscriptionButtons"
                  >
                    <span class="f5">
                      <svg aria-hidden="true" height="16" viewBox="0 0 16 16" version="1.1" width="16" data-view-component="true" class="octicon octicon-check SelectMenu-icon SelectMenu-icon--check">
    <path d="M13.78 4.22a.75.75 0 0 1 0 1.06l-7.25 7.25a.75.75 0 0 1-1.06 0L2.22 9.28a.751.751 0 0 1 .018-1.042.751.751 0 0 1 1.042-.018L6 10.94l6.72-6.72a.75.75 0 0 1 1.06 0Z"></path>
</svg>
                    </span>
                    <div>
                      <div class="f5 text-bold">
                        All Activity
                      </div>
                      <div class="text-small color-fg-muted text-normal pb-1">
                        Notified of all notifications on this repository.
                      </div>
                    </div>
                  </button>

                  <button
                    type="submit"
                    name="do"
                    value="ignore"
                    class="SelectMenu-item flex-items-start"
                    role="menuitemradio"
                    aria-checked="false"
                    data-targets="notifications-list-subscription-form.subscriptionButtons"
                  >
                    <span class="f5">
                      <svg aria-hidden="true" height="16" viewBox="0 0 16 16" version="1.1" width="16" data-view-component="true" class="octicon octicon-check SelectMenu-icon SelectMenu-icon--check">
    <path d="M13.78 4.22a.75.75 0 0 1 0 1.06l-7.25 7.25a.75.75 0 0 1-1.06 0L2.22 9.28a.751.751 0 0 1 .018-1.042.751.751 0 0 1 1.042-.018L6 10.94l6.72-6.72a.75.75 0 0 1 1.06 0Z"></path>
</svg>
                    </span>
                    <div>
                      <div class="f5 text-bold">
                        Ignore
                      </div>
                      <div class="text-small color-fg-muted text-normal pb-1">
                        Never be notified.
                      </div>
                    </div>
                  </button>
</form>
                <button
                  class="SelectMenu-item flex-items-start pr-3"
                  type="button"
                  role="menuitemradio"
                  data-target="notifications-list-subscription-form.customButton"
                  data-action="click:notifications-list-subscription-form#openCustomDialog"
                  aria-haspopup="true"
                  aria-checked="false"
                  
                >
                  <span class="f5">
                    <svg aria-hidden="true" height="16" viewBox="0 0 16 16" version="1.1" width="16" data-view-component="true" class="octicon octicon-check SelectMenu-icon SelectMenu-icon--check">
    <path d="M13.78 4.22a.75.75 0 0 1 0 1.06l-7.25 7.25a.75.75 0 0 1-1.06 0L2.22 9.28a.751.751 0 0 1 .018-1.042.751.751 0 0 1 1.042-.018L6 10.94l6.72-6.72a.75.75 0 0 1 1.06 0Z"></path>
</svg>
                  </span>
                  <div>
                    <div class="d-flex flex-items-start flex-justify-between">
                      <div class="f5 text-bold">Custom</div>
                      <div class="f5 pr-1">
                        <svg aria-hidden="true" height="16" viewBox="0 0 16 16" version="1.1" width="16" data-view-component="true" class="octicon octicon-arrow-right">
    <path d="M8.22 2.97a.75.75 0 0 1 1.06 0l4.25 4.25a.75.75 0 0 1 0 1.06l-4.25 4.25a.751.751 0 0 1-1.042-.018.751.751 0 0 1-.018-1.042l2.97-2.97H3.75a.75.75 0 0 1 0-1.5h7.44L8.22 4.03a.75.75 0 0 1 0-1.06Z"></path>
</svg>
                      </div>
                    </div>
                    <div class="text-small color-fg-muted text-normal pb-1">
                      Select events you want to be notified of in addition to participating and @mentions.
                    </div>
                  </div>
                </button>

                  <div class="px-3 py-2 d-flex color-bg-subtle flex-items-center">
                    <span class="f5">
                      <svg aria-hidden="true" height="16" viewBox="0 0 16 16" version="1.1" width="16" data-view-component="true" class="octicon octicon-device-mobile SelectMenu-icon SelectMenu-icon--device-mobile">
    <path d="M3.75 0h8.5C13.216 0 14 .784 14 1.75v12.5A1.75 1.75 0 0 1 12.25 16h-8.5A1.75 1.75 0 0 1 2 14.25V1.75C2 .784 2.784 0 3.75 0ZM3.5 1.75v12.5c0 .138.112.25.25.25h8.5a.25.25 0 0 0 .25-.25V1.75a.25.25 0 0 0-.25-.25h-8.5a.25.25 0 0 0-.25.25ZM8 13a1 1 0 1 1 0-2 1 1 0 0 1 0 2Z"></path>
</svg>
                    </span>
                    <span className="text-small color-fg-muted text-normal pb-1">
                      Get push notifications on <a target="_blank" rel="noopener noreferrer" href="https://apps.apple.com/app/apple-store/id1477376905?ct=watch-dropdown&amp;mt=8&amp;pt=524675">iOS</a> or <a target="_blank" rel="noopener noreferrer" href="https://play.google.com/store/apps/details?id=com.github.android&amp;referrer=utm_campaign%3Dwatch-dropdown%26utm_medium%3Dweb%26utm_source%3Dgithub">Android</a>.
                    </span>
                  </div>
              </div>
            </div>
          </details-menu>

          <details-dialog
            class="notifications-component-dialog "
            data-target="notifications-list-subscription-form.customDialog"
            aria-label="Custom dialog"
            hidden
          >
            <div class="SelectMenu-modal notifications-component-dialog-modal overflow-visible">
              <!-- '"` --><!-- </textarea></xmp> --></option></form><form data-target="notifications-list-subscription-form.customform" data-action="submit:notifications-list-subscription-form#submitCustomForm" data-turbo="false" action="/notifications/subscribe" accept-charset="UTF-8" method="post"><input type="hidden" name="authenticity_token" value="EtuYrfJcDn43ltcEsTpdIJjMIcq-TA9H-A9XvTYbHstG6UCAYEis-2rPNOLZW3VFy4RD2UNW8Z8wtOu5T0gd8g" autocomplete="off" />

                <input type="hidden" name="repository_id" value="564766043">

                <header class="d-sm-none SelectMenu-header pb-0 border-bottom-0 px-2 px-sm-3">
                  <h1 class="f3 SelectMenu-title d-inline-flex">
                    <button
                      class="color-bg-default border-0 px-2 py-0 m-0 Link--secondary f5"
                      aria-label="Return to menu"
                      type="button"
                      data-action="click:notifications-list-subscription-form#closeCustomDialog"
                    >
                      <svg aria-hidden="true" height="16" viewBox="0 0 16 16" version="1.1" width="16" data-view-component="true" class="octicon octicon-arrow-left">
    <path d="M7.78 12.53a.75.75 0 0 1-1.06 0L2.47 8.28a.75.75 0 0 1 0-1.06l4.25-4.25a.751.751 0 0 1 1.042.018.751.751 0 0 1 .018 1.042L4.81 7h7.44a.75.75 0 0 1 0 1.5H4.81l2.97 2.97a.75.75 0 0 1 0 1.06Z"></path>
</svg>
                    </button>
                    Custom
                  </h1>
                </header>

                <header class="d-none d-sm-flex flex-items-start pt-1">
                  <button
                    class="border-0 px-2 pt-1 m-0 Link--secondary f5"
                    style="background-color: transparent;"
                    aria-label="Return to menu"
                    type="button"
                    data-action="click:notifications-list-subscription-form#closeCustomDialog"
                  >
                    <svg style="position: relative; left: 2px; top: 1px" aria-hidden="true" height="16" viewBox="0 0 16 16" version="1.1" width="16" data-view-component="true" class="octicon octicon-arrow-left">
    <path d="M7.78 12.53a.75.75 0 0 1-1.06 0L2.47 8.28a.75.75 0 0 1 0-1.06l4.25-4.25a.751.751 0 0 1 1.042.018.751.751 0 0 1 .018 1.042L4.81 7h7.44a.75.75 0 0 1 0 1.5H4.81l2.97 2.97a.75.75 0 0 1 0 1.06Z"></path>
</svg>
                  </button>

                  <h1 class="pt-1 pr-4 pb-0 pl-0 f5 text-bold">
                    Custom
                  </h1>
                </header>

                <fieldset>
                  <legend>
                    <div class="text-small color-fg-muted pt-0 pr-3 pb-3 pl-6 pl-sm-5 border-bottom mb-3">
                      Select events you want to be notified of in addition to participating and @mentions.
                    </div>
                  </legend>
                  <div data-target="notifications-list-subscription-form.labelInputs">
                  </div>
                    <div class="form-checkbox mr-3 ml-6 ml-sm-5 mb-2 mt-0">
                      <label class="f5 text-normal">
                        <input
                          type="checkbox"
                          name="thread_types[]"
                          value="Issue"
                          data-targets="notifications-list-subscription-form.threadTypeCheckboxes"
                          data-action="change:notifications-list-subscription-form#threadTypeCheckboxesUpdated"
                          
                        >
                        Issues
                      </label>


                    </div>
                    <div class="form-checkbox mr-3 ml-6 ml-sm-5 mb-2 mt-0">
                      <label class="f5 text-normal">
                        <input
                          type="checkbox"
                          name="thread_types[]"
                          value="PullRequest"
                          data-targets="notifications-list-subscription-form.threadTypeCheckboxes"
                          data-action="change:notifications-list-subscription-form#threadTypeCheckboxesUpdated"
                          
                        >
                        Pull requests
                      </label>


                    </div>
                    <div class="form-checkbox mr-3 ml-6 ml-sm-5 mb-2 mt-0">
                      <label class="f5 text-normal">
                        <input
                          type="checkbox"
                          name="thread_types[]"
                          value="Release"
                          data-targets="notifications-list-subscription-form.threadTypeCheckboxes"
                          data-action="change:notifications-list-subscription-form#threadTypeCheckboxesUpdated"
                          
                        >
                        Releases
                      </label>


                    </div>
                    <div class="form-checkbox mr-3 ml-6 ml-sm-5 mb-2 mt-0">
                      <label class="f5 text-normal">
                        <input
                          type="checkbox"
                          name="thread_types[]"
                          value="Discussion"
                          data-targets="notifications-list-subscription-form.threadTypeCheckboxes"
                          data-action="change:notifications-list-subscription-form#threadTypeCheckboxesUpdated"
                          
                            aria-describedby="Discussion-disabled"
                            aria-disabled="true"
                        >
                        Discussions
                      </label>

                        <div
                          id="Discussion-disabled"
                          class="color-fg-muted"
                          >
                          Discussions are not enabled for this repository
                        </div>

                    </div>
                    <div class="form-checkbox mr-3 ml-6 ml-sm-5 mb-2 mt-0">
                      <label class="f5 text-normal">
                        <input
                          type="checkbox"
                          name="thread_types[]"
                          value="SecurityAlert"
                          data-targets="notifications-list-subscription-form.threadTypeCheckboxes"
                          data-action="change:notifications-list-subscription-form#threadTypeCheckboxesUpdated"
                          
                        >
                        Security alerts
                      </label>


                    </div>
                </fieldset>
                <div class="pt-2 pb-3 px-3 d-flex flex-justify-start flex-row-reverse">
                    <button name="do" value="custom" data-target="notifications-list-subscription-form.customSubmit" disabled="disabled" type="submit" data-view-component="true" class="btn-primary btn-sm btn ml-2">    Apply
</button>

                    <button data-action="click:notifications-list-subscription-form#resetForm" data-close-dialog="" type="button" data-view-component="true" class="btn-sm btn">    Cancel
</button>
                </div>
</form>            </div>
          </details-dialog>


          <div class="notifications-component-dialog-overlay"></div>
        </details>
      </notifications-list-subscription-form>


  </li>

  <li>
        <div data-view-component="true" class="d-flex">
        <div data-view-component="true" class="position-relative d-inline-block">
    <a icon="repo-forked" id="fork-button" href="/cchuang2009/2022-1/fork" data-hydro-click="{&quot;event_type&quot;:&quot;repository.click&quot;,&quot;payload&quot;:{&quot;target&quot;:&quot;FORK_BUTTON&quot;,&quot;repository_id&quot;:564766043,&quot;originating_url&quot;:&quot;https://github.com/cchuang2009/2022-1/blame/main/Python_IM/2023-2/Week_8_bnb_Query.ipynb&quot;,&quot;user_id&quot;:125939337}}" data-hydro-click-hmac="ebf68e5e51234a677dc3e25e37d94b695a24046e2febeaa15800683a86d41f69" data-ga-click="Repository, show fork modal, action:blob#blame; text:Fork" data-view-component="true" class="btn-sm btn BtnGroup-item border-right-0">      <svg aria-hidden="true" height="16" viewBox="0 0 16 16" version="1.1" width="16" data-view-component="true" class="octicon octicon-repo-forked mr-2">
    <path d="M5 5.372v.878c0 .414.336.75.75.75h4.5a.75.75 0 0 0 .75-.75v-.878a2.25 2.25 0 1 1 1.5 0v.878a2.25 2.25 0 0 1-2.25 2.25h-1.5v2.128a2.251 2.251 0 1 1-1.5 0V8.5h-1.5A2.25 2.25 0 0 1 3.5 6.25v-.878a2.25 2.25 0 1 1 1.5 0ZM5 3.25a.75.75 0 1 0-1.5 0 .75.75 0 0 0 1.5 0Zm6.75.75a.75.75 0 1 0 0-1.5.75.75 0 0 0 0 1.5Zm-3 8.75a.75.75 0 1 0-1.5 0 .75.75 0 0 0 1.5 0Z"></path>
</svg>Fork
          <span id="repo-network-counter" data-pjax-replace="true" data-turbo-replace="true" title="16" data-view-component="true" class="Counter">16</span>
</a>    <tool-tip id="tooltip-6428f3ec-58ab-4cfe-9a6b-bdee2d30c54d" for="fork-button" data-direction="s" data-type="description" data-view-component="true" class="sr-only position-absolute">Fork your own copy of cchuang2009/2022-1</tool-tip>
</div>
      <details group_item="true" id="my-forks-menu-564766043" data-view-component="true" class="details-reset details-overlay BtnGroup-parent d-inline-block position-relative">
              <summary aria-label="See your forks of this repository" data-view-component="true" class="btn-sm btn BtnGroup-item px-2 float-none">    <svg aria-hidden="true" height="16" viewBox="0 0 16 16" version="1.1" width="16" data-view-component="true" class="octicon octicon-triangle-down">
    <path d="m4.427 7.427 3.396 3.396a.25.25 0 0 0 .354 0l3.396-3.396A.25.25 0 0 0 11.396 7H4.604a.25.25 0 0 0-.177.427Z"></path>
</svg>
</summary>
  <details-menu
    class="SelectMenu right-0"
      src="/cchuang2009/2022-1/my_forks_menu_content?can_fork=true"
      
      role="menu"
      
>
    <div class="SelectMenu-modal">
        <button class="SelectMenu-closeButton position-absolute right-0 m-2" type="button" aria-label="Close menu" data-toggle-for="details-98164a">
          <svg aria-hidden="true" height="16" viewBox="0 0 16 16" version="1.1" width="16" data-view-component="true" class="octicon octicon-x">
    <path d="M3.72 3.72a.75.75 0 0 1 1.06 0L8 6.94l3.22-3.22a.749.749 0 0 1 1.275.326.749.749 0 0 1-.215.734L9.06 8l3.22 3.22a.749.749 0 0 1-.326 1.275.749.749 0 0 1-.734-.215L8 9.06l-3.22 3.22a.751.751 0 0 1-1.042-.018.751.751 0 0 1-.018-1.042L6.94 8 3.72 4.78a.75.75 0 0 1 0-1.06Z"></path>
</svg>
        </button>
      <div
        id="filter-menu-98164a"
        class="d-flex flex-column flex-1 overflow-hidden"
>
        <div
          class="SelectMenu-list"
          >

            <include-fragment class="SelectMenu-loading" aria-label="Loading">
              <svg role="menuitem" style="box-sizing: content-box; color: var(--color-icon-primary);" width="32" height="32" viewBox="0 0 16 16" fill="none" data-view-component="true" class="anim-rotate">
  <circle cx="8" cy="8" r="7" stroke="currentColor" stroke-opacity="0.25" stroke-width="2" vector-effect="non-scaling-stroke" />
  <path d="M15 8a7.002 7.002 0 00-7-7" stroke="currentColor" stroke-width="2" stroke-linecap="round" vector-effect="non-scaling-stroke" />
</svg>
            </include-fragment>
        </div>
        
      </div>
    </div>
  </details-menu>
</details></div>
  </li>

  <li>
        <template class="js-unstar-confirmation-dialog-template">
  <div class="Box-header">
    <h2 class="Box-title">Unstar this repository?</h2>
  </div>
  <div class="Box-body">
    <p class="mb-3">
      This will remove {{ repoNameWithOwner }} from the {{ listsWithCount }} that it's been added to.
    </p>
    <div class="form-actions">
      <!-- '"` --><!-- </textarea></xmp> --></option></form><form class="js-social-confirmation-form" data-turbo="false" action="{{ confirmUrl }}" accept-charset="UTF-8" method="post">
        <input type="hidden" name="authenticity_token" value="{{ confirmCsrfToken }}">
        <input type="hidden" name="confirm" value="true">
          <button data-close-dialog="true" type="submit" data-view-component="true" class="btn-danger btn width-full">    Unstar
</button>
</form>    </div>
  </div>
</template>

  <div data-view-component="true" class="js-toggler-container js-social-container starring-container d-flex">
    <div data-view-component="true" class="starred BtnGroup flex-1">
      <!-- '"` --><!-- </textarea></xmp> --></option></form><form class="js-social-form BtnGroup-parent flex-auto js-deferred-toggler-target" data-turbo="false" action="/cchuang2009/2022-1/unstar" accept-charset="UTF-8" method="post"><input type="hidden" name="authenticity_token" value="ApzxeWs4h4rdwr392w0b28niIJisJK5eo-cH6Fwvk-pwjIUanDEdJanRiNPWH8NT7sUT4cNoEZh1uVEz2zjurQ" autocomplete="off" />
          <input type="hidden" value="h6eKqaKF_nEvVLMxtIJF7coXsosgkgCS4uZXjFzmGo_1t_7KVYxk3ltHhh-5kJ1l7TCB8k_ev1Q0uAFX2_FnyA" data-csrf="true" class="js-confirm-csrf-token" />
        <input type="hidden" name="context" value="repository">
          <button data-hydro-click="{&quot;event_type&quot;:&quot;repository.click&quot;,&quot;payload&quot;:{&quot;target&quot;:&quot;UNSTAR_BUTTON&quot;,&quot;repository_id&quot;:564766043,&quot;originating_url&quot;:&quot;https://github.com/cchuang2009/2022-1/blame/main/Python_IM/2023-2/Week_8_bnb_Query.ipynb&quot;,&quot;user_id&quot;:125939337}}" data-hydro-click-hmac="2770aab8b14f8d3115c65046fdae5644b58d9ee233164218a08d5e55eeae5ee4" data-ga-click="Repository, click unstar button, action:blob#blame; text:Unstar" aria-label="Unstar this repository (1)" type="submit" data-view-component="true" class="rounded-left-2 btn-sm btn BtnGroup-item">    <svg aria-hidden="true" height="16" viewBox="0 0 16 16" version="1.1" width="16" data-view-component="true" class="octicon octicon-star-fill starred-button-icon d-inline-block mr-2">
    <path d="M8 .25a.75.75 0 0 1 .673.418l1.882 3.815 4.21.612a.75.75 0 0 1 .416 1.279l-3.046 2.97.719 4.192a.751.751 0 0 1-1.088.791L8 12.347l-3.766 1.98a.75.75 0 0 1-1.088-.79l.72-4.194L.818 6.374a.75.75 0 0 1 .416-1.28l4.21-.611L7.327.668A.75.75 0 0 1 8 .25Z"></path>
</svg><span data-view-component="true" class="d-inline">
            Starred
</span>            <span id="repo-stars-counter-unstar" aria-label="1 user starred this repository" data-singular-suffix="user starred this repository" data-plural-suffix="users starred this repository" data-turbo-replace="true" title="1" data-view-component="true" class="Counter js-social-count">1</span>
</button></form>        <details id="details-user-list-564766043-starred" data-view-component="true" class="details-reset details-overlay BtnGroup-parent js-user-list-menu d-inline-block position-relative">
        <summary aria-label="Add this repository to a list" data-view-component="true" class="btn-sm btn BtnGroup-item px-2 float-none">    <svg aria-hidden="true" height="16" viewBox="0 0 16 16" version="1.1" width="16" data-view-component="true" class="octicon octicon-triangle-down">
    <path d="m4.427 7.427 3.396 3.396a.25.25 0 0 0 .354 0l3.396-3.396A.25.25 0 0 0 11.396 7H4.604a.25.25 0 0 0-.177.427Z"></path>
</svg>
</summary>
  <details-menu
    class="SelectMenu right-0"
      src="/cchuang2009/2022-1/lists"
      
      role="menu"
      
>
    <div class="SelectMenu-modal">
        <button class="SelectMenu-closeButton position-absolute right-0 m-2" type="button" aria-label="Close menu" data-toggle-for="details-7d3fef">
          <svg aria-hidden="true" height="16" viewBox="0 0 16 16" version="1.1" width="16" data-view-component="true" class="octicon octicon-x">
    <path d="M3.72 3.72a.75.75 0 0 1 1.06 0L8 6.94l3.22-3.22a.749.749 0 0 1 1.275.326.749.749 0 0 1-.215.734L9.06 8l3.22 3.22a.749.749 0 0 1-.326 1.275.749.749 0 0 1-.734-.215L8 9.06l-3.22 3.22a.751.751 0 0 1-1.042-.018.751.751 0 0 1-.018-1.042L6.94 8 3.72 4.78a.75.75 0 0 1 0-1.06Z"></path>
</svg>
        </button>
      <div
        id="filter-menu-7d3fef"
        class="d-flex flex-column flex-1 overflow-hidden"
>
        <div
          class="SelectMenu-list"
          >

            <include-fragment class="SelectMenu-loading" aria-label="Loading">
              <svg role="menuitem" style="box-sizing: content-box; color: var(--color-icon-primary);" width="32" height="32" viewBox="0 0 16 16" fill="none" data-view-component="true" class="anim-rotate">
  <circle cx="8" cy="8" r="7" stroke="currentColor" stroke-opacity="0.25" stroke-width="2" vector-effect="non-scaling-stroke" />
  <path d="M15 8a7.002 7.002 0 00-7-7" stroke="currentColor" stroke-width="2" stroke-linecap="round" vector-effect="non-scaling-stroke" />
</svg>
            </include-fragment>
        </div>
        
      </div>
    </div>
  </details-menu>
</details>
</div>
    <div data-view-component="true" class="unstarred BtnGroup flex-1">
      <!-- '"` --><!-- </textarea></xmp> --></option></form><form class="js-social-form BtnGroup-parent flex-auto" data-turbo="false" action="/cchuang2009/2022-1/star" accept-charset="UTF-8" method="post"><input type="hidden" name="authenticity_token" value="PKf6P3EzAyj9hFEDN8fTs4wv26EPlMnKc9QavVhL3Ew6BuOFfSzWjwDPJTekDA7qAxk6dIxQF6mRKmXiuHPv0g" autocomplete="off" />
        <input type="hidden" name="context" value="repository">
          <button data-hydro-click="{&quot;event_type&quot;:&quot;repository.click&quot;,&quot;payload&quot;:{&quot;target&quot;:&quot;STAR_BUTTON&quot;,&quot;repository_id&quot;:564766043,&quot;originating_url&quot;:&quot;https://github.com/cchuang2009/2022-1/blame/main/Python_IM/2023-2/Week_8_bnb_Query.ipynb&quot;,&quot;user_id&quot;:125939337}}" data-hydro-click-hmac="0251d3ab7a78b02d0c9f408a7e7324c73433775d6c70ed02af935f5db6f321ef" data-ga-click="Repository, click star button, action:blob#blame; text:Star" aria-label="Star this repository (1)" type="submit" data-view-component="true" class="js-toggler-target rounded-left-2 btn-sm btn BtnGroup-item">    <svg aria-hidden="true" height="16" viewBox="0 0 16 16" version="1.1" width="16" data-view-component="true" class="octicon octicon-star d-inline-block mr-2">
    <path d="M8 .25a.75.75 0 0 1 .673.418l1.882 3.815 4.21.612a.75.75 0 0 1 .416 1.279l-3.046 2.97.719 4.192a.751.751 0 0 1-1.088.791L8 12.347l-3.766 1.98a.75.75 0 0 1-1.088-.79l.72-4.194L.818 6.374a.75.75 0 0 1 .416-1.28l4.21-.611L7.327.668A.75.75 0 0 1 8 .25Zm0 2.445L6.615 5.5a.75.75 0 0 1-.564.41l-3.097.45 2.24 2.184a.75.75 0 0 1 .216.664l-.528 3.084 2.769-1.456a.75.75 0 0 1 .698 0l2.77 1.456-.53-3.084a.75.75 0 0 1 .216-.664l2.24-2.183-3.096-.45a.75.75 0 0 1-.564-.41L8 2.694Z"></path>
</svg><span data-view-component="true" class="d-inline">
            Star
</span>            <span id="repo-stars-counter-star" aria-label="1 user starred this repository" data-singular-suffix="user starred this repository" data-plural-suffix="users starred this repository" data-turbo-replace="true" title="1" data-view-component="true" class="Counter js-social-count">1</span>
</button></form>        <details id="details-user-list-564766043-unstarred" data-view-component="true" class="details-reset details-overlay BtnGroup-parent js-user-list-menu d-inline-block position-relative">
        <summary aria-label="Add this repository to a list" data-view-component="true" class="btn-sm btn BtnGroup-item px-2 float-none">    <svg aria-hidden="true" height="16" viewBox="0 0 16 16" version="1.1" width="16" data-view-component="true" class="octicon octicon-triangle-down">
    <path d="m4.427 7.427 3.396 3.396a.25.25 0 0 0 .354 0l3.396-3.396A.25.25 0 0 0 11.396 7H4.604a.25.25 0 0 0-.177.427Z"></path>
</svg>
</summary>
  <details-menu
    class="SelectMenu right-0"
      src="/cchuang2009/2022-1/lists"
      
      role="menu"
      
>
    <div class="SelectMenu-modal">
        <button class="SelectMenu-closeButton position-absolute right-0 m-2" type="button" aria-label="Close menu" data-toggle-for="details-d30922">
          <svg aria-hidden="true" height="16" viewBox="0 0 16 16" version="1.1" width="16" data-view-component="true" class="octicon octicon-x">
    <path d="M3.72 3.72a.75.75 0 0 1 1.06 0L8 6.94l3.22-3.22a.749.749 0 0 1 1.275.326.749.749 0 0 1-.215.734L9.06 8l3.22 3.22a.749.749 0 0 1-.326 1.275.749.749 0 0 1-.734-.215L8 9.06l-3.22 3.22a.751.751 0 0 1-1.042-.018.751.751 0 0 1-.018-1.042L6.94 8 3.72 4.78a.75.75 0 0 1 0-1.06Z"></path>
</svg>
        </button>
      <div
        id="filter-menu-d30922"
        class="d-flex flex-column flex-1 overflow-hidden"
>
        <div
          class="SelectMenu-list"
          >

            <include-fragment class="SelectMenu-loading" aria-label="Loading">
              <svg role="menuitem" style="box-sizing: content-box; color: var(--color-icon-primary);" width="32" height="32" viewBox="0 0 16 16" fill="none" data-view-component="true" class="anim-rotate">
  <circle cx="8" cy="8" r="7" stroke="currentColor" stroke-opacity="0.25" stroke-width="2" vector-effect="non-scaling-stroke" />
  <path d="M15 8a7.002 7.002 0 00-7-7" stroke="currentColor" stroke-width="2" stroke-linecap="round" vector-effect="non-scaling-stroke" />
</svg>
            </include-fragment>
        </div>
        
      </div>
    </div>
  </details-menu>
</details>
</div></div>
  </li>

    

</ul>

      </div>

        <div id="responsive-meta-container" data-turbo-replace>
</div>


          <nav data-pjax="#js-repo-pjax-container" aria-label="Repository" data-view-component="true" class="js-repo-nav js-sidenav-container-pjax js-responsive-underlinenav overflow-hidden UnderlineNav px-3 px-md-4 px-lg-5">

  <ul data-view-component="true" class="UnderlineNav-body list-style-none">
      <li data-view-component="true" class="d-inline-flex">
  <a id="code-tab" href="/cchuang2009/2022-1" data-tab-item="i0code-tab" data-selected-links="repo_source repo_downloads repo_commits repo_releases repo_tags repo_branches repo_packages repo_deployments /cchuang2009/2022-1" data-pjax="#repo-content-pjax-container" data-turbo-frame="repo-content-turbo-frame" data-hotkey="g c" data-analytics-event="{&quot;category&quot;:&quot;Underline navbar&quot;,&quot;action&quot;:&quot;Click tab&quot;,&quot;label&quot;:&quot;Code&quot;,&quot;target&quot;:&quot;UNDERLINE_NAV.TAB&quot;}" aria-current="page" data-view-component="true" class="UnderlineNav-item no-wrap js-responsive-underlinenav-item js-selected-navigation-item selected">
    
                <svg aria-hidden="true" height="16" viewBox="0 0 16 16" version="1.1" width="16" data-view-component="true" class="octicon octicon-code UnderlineNav-octicon d-none d-sm-inline">
    <path d="m11.28 3.22 4.25 4.25a.75.75 0 0 1 0 1.06l-4.25 4.25a.749.749 0 0 1-1.275-.326.749.749 0 0 1 .215-.734L13.94 8l-3.72-3.72a.749.749 0 0 1 .326-1.275.749.749 0 0 1 .734.215Zm-6.56 0a.751.751 0 0 1 1.042.018.751.751 0 0 1 .018 1.042L2.06 8l3.72 3.72a.749.749 0 0 1-.326 1.275.749.749 0 0 1-.734-.215L.47 8.53a.75.75 0 0 1 0-1.06Z"></path>
</svg>
        <span data-content="Code">Code</span>
          <span id="code-repo-tab-count" data-pjax-replace="" data-turbo-replace="" title="Not available" data-view-component="true" class="Counter"></span>


    
</a></li>
      <li data-view-component="true" class="d-inline-flex">
  <a id="issues-tab" href="/cchuang2009/2022-1/issues" data-tab-item="i1issues-tab" data-selected-links="repo_issues repo_labels repo_milestones /cchuang2009/2022-1/issues" data-pjax="#repo-content-pjax-container" data-turbo-frame="repo-content-turbo-frame" data-hotkey="g i" data-analytics-event="{&quot;category&quot;:&quot;Underline navbar&quot;,&quot;action&quot;:&quot;Click tab&quot;,&quot;label&quot;:&quot;Issues&quot;,&quot;target&quot;:&quot;UNDERLINE_NAV.TAB&quot;}" data-view-component="true" class="UnderlineNav-item no-wrap js-responsive-underlinenav-item js-selected-navigation-item">
    
                <svg aria-hidden="true" height="16" viewBox="0 0 16 16" version="1.1" width="16" data-view-component="true" class="octicon octicon-issue-opened UnderlineNav-octicon d-none d-sm-inline">
    <path d="M8 9.5a1.5 1.5 0 1 0 0-3 1.5 1.5 0 0 0 0 3Z"></path><path d="M8 0a8 8 0 1 1 0 16A8 8 0 0 1 8 0ZM1.5 8a6.5 6.5 0 1 0 13 0 6.5 6.5 0 0 0-13 0Z"></path>
</svg>
        <span data-content="Issues">Issues</span>
          <span id="issues-repo-tab-count" data-pjax-replace="" data-turbo-replace="" title="0" hidden="hidden" data-view-component="true" class="Counter">0</span>


    
</a></li>
      <li data-view-component="true" class="d-inline-flex">
  <a id="pull-requests-tab" href="/cchuang2009/2022-1/pulls" data-tab-item="i2pull-requests-tab" data-selected-links="repo_pulls checks /cchuang2009/2022-1/pulls" data-pjax="#repo-content-pjax-container" data-turbo-frame="repo-content-turbo-frame" data-hotkey="g p" data-analytics-event="{&quot;category&quot;:&quot;Underline navbar&quot;,&quot;action&quot;:&quot;Click tab&quot;,&quot;label&quot;:&quot;Pull requests&quot;,&quot;target&quot;:&quot;UNDERLINE_NAV.TAB&quot;}" data-view-component="true" class="UnderlineNav-item no-wrap js-responsive-underlinenav-item js-selected-navigation-item">
    
                <svg aria-hidden="true" height="16" viewBox="0 0 16 16" version="1.1" width="16" data-view-component="true" class="octicon octicon-git-pull-request UnderlineNav-octicon d-none d-sm-inline">
    <path d="M1.5 3.25a2.25 2.25 0 1 1 3 2.122v5.256a2.251 2.251 0 1 1-1.5 0V5.372A2.25 2.25 0 0 1 1.5 3.25Zm5.677-.177L9.573.677A.25.25 0 0 1 10 .854V2.5h1A2.5 2.5 0 0 1 13.5 5v5.628a2.251 2.251 0 1 1-1.5 0V5a1 1 0 0 0-1-1h-1v1.646a.25.25 0 0 1-.427.177L7.177 3.427a.25.25 0 0 1 0-.354ZM3.75 2.5a.75.75 0 1 0 0 1.5.75.75 0 0 0 0-1.5Zm0 9.5a.75.75 0 1 0 0 1.5.75.75 0 0 0 0-1.5Zm8.25.75a.75.75 0 1 0 1.5 0 .75.75 0 0 0-1.5 0Z"></path>
</svg>
        <span data-content="Pull requests">Pull requests</span>
          <span id="pull-requests-repo-tab-count" data-pjax-replace="" data-turbo-replace="" title="0" hidden="hidden" data-view-component="true" class="Counter">0</span>


    
</a></li>
      <li data-view-component="true" class="d-inline-flex">
  <a id="actions-tab" href="/cchuang2009/2022-1/actions" data-tab-item="i3actions-tab" data-selected-links="repo_actions /cchuang2009/2022-1/actions" data-pjax="#repo-content-pjax-container" data-turbo-frame="repo-content-turbo-frame" data-hotkey="g a" data-analytics-event="{&quot;category&quot;:&quot;Underline navbar&quot;,&quot;action&quot;:&quot;Click tab&quot;,&quot;label&quot;:&quot;Actions&quot;,&quot;target&quot;:&quot;UNDERLINE_NAV.TAB&quot;}" data-view-component="true" class="UnderlineNav-item no-wrap js-responsive-underlinenav-item js-selected-navigation-item">
    
                <svg aria-hidden="true" height="16" viewBox="0 0 16 16" version="1.1" width="16" data-view-component="true" class="octicon octicon-play UnderlineNav-octicon d-none d-sm-inline">
    <path d="M8 0a8 8 0 1 1 0 16A8 8 0 0 1 8 0ZM1.5 8a6.5 6.5 0 1 0 13 0 6.5 6.5 0 0 0-13 0Zm4.879-2.773 4.264 2.559a.25.25 0 0 1 0 .428l-4.264 2.559A.25.25 0 0 1 6 10.559V5.442a.25.25 0 0 1 .379-.215Z"></path>
</svg>
        <span data-content="Actions">Actions</span>
          <span id="actions-repo-tab-count" data-pjax-replace="" data-turbo-replace="" title="Not available" data-view-component="true" class="Counter"></span>


    
</a></li>
      <li data-view-component="true" class="d-inline-flex">
  <a id="projects-tab" href="/cchuang2009/2022-1/projects" data-tab-item="i4projects-tab" data-selected-links="repo_projects new_repo_project repo_project /cchuang2009/2022-1/projects" data-pjax="#repo-content-pjax-container" data-turbo-frame="repo-content-turbo-frame" data-hotkey="g b" data-analytics-event="{&quot;category&quot;:&quot;Underline navbar&quot;,&quot;action&quot;:&quot;Click tab&quot;,&quot;label&quot;:&quot;Projects&quot;,&quot;target&quot;:&quot;UNDERLINE_NAV.TAB&quot;}" data-view-component="true" class="UnderlineNav-item no-wrap js-responsive-underlinenav-item js-selected-navigation-item">
    
                <svg aria-hidden="true" height="16" viewBox="0 0 16 16" version="1.1" width="16" data-view-component="true" class="octicon octicon-table UnderlineNav-octicon d-none d-sm-inline">
    <path d="M0 1.75C0 .784.784 0 1.75 0h12.5C15.216 0 16 .784 16 1.75v12.5A1.75 1.75 0 0 1 14.25 16H1.75A1.75 1.75 0 0 1 0 14.25ZM6.5 6.5v8h7.75a.25.25 0 0 0 .25-.25V6.5Zm8-1.5V1.75a.25.25 0 0 0-.25-.25H6.5V5Zm-13 1.5v7.75c0 .138.112.25.25.25H5v-8ZM5 5V1.5H1.75a.25.25 0 0 0-.25.25V5Z"></path>
</svg>
        <span data-content="Projects">Projects</span>
          <span id="projects-repo-tab-count" data-pjax-replace="" data-turbo-replace="" title="0" hidden="hidden" data-view-component="true" class="Counter">0</span>


    
</a></li>
      <li data-view-component="true" class="d-inline-flex">
  <a id="security-tab" href="/cchuang2009/2022-1/security" data-tab-item="i5security-tab" data-selected-links="security overview alerts policy token_scanning code_scanning /cchuang2009/2022-1/security" data-pjax="#repo-content-pjax-container" data-turbo-frame="repo-content-turbo-frame" data-hotkey="g s" data-analytics-event="{&quot;category&quot;:&quot;Underline navbar&quot;,&quot;action&quot;:&quot;Click tab&quot;,&quot;label&quot;:&quot;Security&quot;,&quot;target&quot;:&quot;UNDERLINE_NAV.TAB&quot;}" data-view-component="true" class="UnderlineNav-item no-wrap js-responsive-underlinenav-item js-selected-navigation-item">
    
                <svg aria-hidden="true" height="16" viewBox="0 0 16 16" version="1.1" width="16" data-view-component="true" class="octicon octicon-shield UnderlineNav-octicon d-none d-sm-inline">
    <path d="M7.467.133a1.748 1.748 0 0 1 1.066 0l5.25 1.68A1.75 1.75 0 0 1 15 3.48V7c0 1.566-.32 3.182-1.303 4.682-.983 1.498-2.585 2.813-5.032 3.855a1.697 1.697 0 0 1-1.33 0c-2.447-1.042-4.049-2.357-5.032-3.855C1.32 10.182 1 8.566 1 7V3.48a1.75 1.75 0 0 1 1.217-1.667Zm.61 1.429a.25.25 0 0 0-.153 0l-5.25 1.68a.25.25 0 0 0-.174.238V7c0 1.358.275 2.666 1.057 3.86.784 1.194 2.121 2.34 4.366 3.297a.196.196 0 0 0 .154 0c2.245-.956 3.582-2.104 4.366-3.298C13.225 9.666 13.5 8.36 13.5 7V3.48a.251.251 0 0 0-.174-.237l-5.25-1.68ZM8.75 4.75v3a.75.75 0 0 1-1.5 0v-3a.75.75 0 0 1 1.5 0ZM9 10.5a1 1 0 1 1-2 0 1 1 0 0 1 2 0Z"></path>
</svg>
        <span data-content="Security">Security</span>
          <include-fragment src="/cchuang2009/2022-1/security/overall-count" accept="text/fragment+html"></include-fragment>

    
</a></li>
      <li data-view-component="true" class="d-inline-flex">
  <a id="insights-tab" href="/cchuang2009/2022-1/pulse" data-tab-item="i6insights-tab" data-selected-links="repo_graphs repo_contributors dependency_graph dependabot_updates pulse people community /cchuang2009/2022-1/pulse" data-pjax="#repo-content-pjax-container" data-turbo-frame="repo-content-turbo-frame" data-analytics-event="{&quot;category&quot;:&quot;Underline navbar&quot;,&quot;action&quot;:&quot;Click tab&quot;,&quot;label&quot;:&quot;Insights&quot;,&quot;target&quot;:&quot;UNDERLINE_NAV.TAB&quot;}" data-view-component="true" class="UnderlineNav-item no-wrap js-responsive-underlinenav-item js-selected-navigation-item">
    
                <svg aria-hidden="true" height="16" viewBox="0 0 16 16" version="1.1" width="16" data-view-component="true" class="octicon octicon-graph UnderlineNav-octicon d-none d-sm-inline">
    <path d="M1.5 1.75V13.5h13.75a.75.75 0 0 1 0 1.5H.75a.75.75 0 0 1-.75-.75V1.75a.75.75 0 0 1 1.5 0Zm14.28 2.53-5.25 5.25a.75.75 0 0 1-1.06 0L7 7.06 4.28 9.78a.751.751 0 0 1-1.042-.018.751.751 0 0 1-.018-1.042l3.25-3.25a.75.75 0 0 1 1.06 0L10 7.94l4.72-4.72a.751.751 0 0 1 1.042.018.751.751 0 0 1 .018 1.042Z"></path>
</svg>
        <span data-content="Insights">Insights</span>
          <span id="insights-repo-tab-count" data-pjax-replace="" data-turbo-replace="" title="Not available" data-view-component="true" class="Counter"></span>


    
</a></li>
</ul>
    <div style="visibility:hidden;" data-view-component="true" class="UnderlineNav-actions js-responsive-underlinenav-overflow position-absolute pr-3 pr-md-4 pr-lg-5 right-0">      <details data-view-component="true" class="details-overlay details-reset position-relative">
  <summary role="button" data-view-component="true">          <div class="UnderlineNav-item mr-0 border-0">
            <svg aria-hidden="true" height="16" viewBox="0 0 16 16" version="1.1" width="16" data-view-component="true" class="octicon octicon-kebab-horizontal">
    <path d="M8 9a1.5 1.5 0 1 0 0-3 1.5 1.5 0 0 0 0 3ZM1.5 9a1.5 1.5 0 1 0 0-3 1.5 1.5 0 0 0 0 3Zm13 0a1.5 1.5 0 1 0 0-3 1.5 1.5 0 0 0 0 3Z"></path>
</svg>
            <span class="sr-only">More</span>
          </div>
</summary>
  <details-menu role="menu" data-view-component="true" class="dropdown-menu dropdown-menu-sw">          <ul>
              <li data-menu-item="i0code-tab" hidden>
                <a role="menuitem" class="js-selected-navigation-item selected dropdown-item" aria-current="page" data-selected-links="repo_source repo_downloads repo_commits repo_releases repo_tags repo_branches repo_packages repo_deployments /cchuang2009/2022-1" href="/cchuang2009/2022-1">
                  Code
</a>              </li>
              <li data-menu-item="i1issues-tab" hidden>
                <a role="menuitem" class="js-selected-navigation-item dropdown-item" data-selected-links="repo_issues repo_labels repo_milestones /cchuang2009/2022-1/issues" href="/cchuang2009/2022-1/issues">
                  Issues
</a>              </li>
              <li data-menu-item="i2pull-requests-tab" hidden>
                <a role="menuitem" class="js-selected-navigation-item dropdown-item" data-selected-links="repo_pulls checks /cchuang2009/2022-1/pulls" href="/cchuang2009/2022-1/pulls">
                  Pull requests
</a>              </li>
              <li data-menu-item="i3actions-tab" hidden>
                <a role="menuitem" class="js-selected-navigation-item dropdown-item" data-selected-links="repo_actions /cchuang2009/2022-1/actions" href="/cchuang2009/2022-1/actions">
                  Actions
</a>              </li>
              <li data-menu-item="i4projects-tab" hidden>
                <a role="menuitem" class="js-selected-navigation-item dropdown-item" data-selected-links="repo_projects new_repo_project repo_project /cchuang2009/2022-1/projects" href="/cchuang2009/2022-1/projects">
                  Projects
</a>              </li>
              <li data-menu-item="i5security-tab" hidden>
                <a role="menuitem" class="js-selected-navigation-item dropdown-item" data-selected-links="security overview alerts policy token_scanning code_scanning /cchuang2009/2022-1/security" href="/cchuang2009/2022-1/security">
                  Security
</a>              </li>
              <li data-menu-item="i6insights-tab" hidden>
                <a role="menuitem" class="js-selected-navigation-item dropdown-item" data-selected-links="repo_graphs repo_contributors dependency_graph dependabot_updates pulse people community /cchuang2009/2022-1/pulse" href="/cchuang2009/2022-1/pulse">
                  Insights
</a>              </li>
          </ul>
</details-menu>
</details></div>
</nav>

  </div>

  



  <turbo-frame id="repo-content-turbo-frame" target="_top" data-turbo-action="advance" class="">
      <div id="repo-content-pjax-container" class="repository-content " >
    


    
      
<div class="clearfix container-xl px-3 px-md-4 px-lg-5 mt-4">

  
<div class="wants-full-width-container"></div>

<a class="d-none js-permalink-shortcut" data-hotkey="y" href="/cchuang2009/2022-1/blame/d24ea1a80d19e8260af322e93a08ae7cbdf0282a/Python_IM/2023-2/Week_8_bnb_Query.ipynb">Permalink</a>

<div class="breadcrumb css-truncate blame-breadcrumb">
  <span id="blob-path" class="css-truncate-target"><span class="js-repo-root text-bold"><span class="js-path-segment d-inline-block wb-break-all"><a href="/cchuang2009/2022-1"><span>2022-1</span></a></span></span><span class="separator">/</span><span class="js-path-segment d-inline-block wb-break-all"><a href="/cchuang2009/2022-1/tree/main/Python_IM"><span>Python_IM</span></a></span><span class="separator">/</span><span class="js-path-segment d-inline-block wb-break-all"><a href="/cchuang2009/2022-1/tree/main/Python_IM/2023-2"><span>2023-2</span></a></span><span class="separator">/</span><strong class="final-path">Week_8_bnb_Query.ipynb</strong></span>
  <clipboard-copy aria-label="Copy file path to clipboard" value="Python_IM/2023-2/Week_8_bnb_Query.ipynb" data-view-component="true" class="btn btn-sm">
    <svg aria-hidden="true" height="16" viewBox="0 0 16 16" version="1.1" width="16" data-view-component="true" class="octicon octicon-copy">
    <path d="M0 6.75C0 5.784.784 5 1.75 5h1.5a.75.75 0 0 1 0 1.5h-1.5a.25.25 0 0 0-.25.25v7.5c0 .138.112.25.25.25h7.5a.25.25 0 0 0 .25-.25v-1.5a.75.75 0 0 1 1.5 0v1.5A1.75 1.75 0 0 1 9.25 16h-7.5A1.75 1.75 0 0 1 0 14.25Z"></path><path d="M5 1.75C5 .784 5.784 0 6.75 0h7.5C15.216 0 16 .784 16 1.75v7.5A1.75 1.75 0 0 1 14.25 11h-7.5A1.75 1.75 0 0 1 5 9.25Zm1.75-.25a.25.25 0 0 0-.25.25v7.5c0 .138.112.25.25.25h7.5a.25.25 0 0 0 .25-.25v-7.5a.25.25 0 0 0-.25-.25Z"></path>
</svg>
    <svg style="display: none;" aria-hidden="true" height="16" viewBox="0 0 16 16" version="1.1" width="16" data-view-component="true" class="octicon octicon-check color-fg-success">
    <path d="M13.78 4.22a.75.75 0 0 1 0 1.06l-7.25 7.25a.75.75 0 0 1-1.06 0L2.22 9.28a.751.751 0 0 1 .018-1.042.751.751 0 0 1 1.042-.018L6 10.94l6.72-6.72a.75.75 0 0 1 1.06 0Z"></path>
</svg>
</clipboard-copy>
</div>

<div class="line-age-legend float-right mt-n4 f6">
  <span>Newer</span>
  <ol class="d-inline-block mx-1 list-style-none">
      <li class="heat d-inline-block" data-heat="1"></li>
      <li class="heat d-inline-block" data-heat="2"></li>
      <li class="heat d-inline-block" data-heat="3"></li>
      <li class="heat d-inline-block" data-heat="4"></li>
      <li class="heat d-inline-block" data-heat="5"></li>
      <li class="heat d-inline-block" data-heat="6"></li>
      <li class="heat d-inline-block" data-heat="7"></li>
      <li class="heat d-inline-block" data-heat="8"></li>
      <li class="heat d-inline-block" data-heat="9"></li>
      <li class="heat d-inline-block" data-heat="10"></li>
  </ol>
  <span>Older</span>
</div>


  <div class="file">
    <div class="file-header py-2 pl-3 pr-2">
        <div data-view-component="true" class="js-notice Popover position-absolute ml-3 mt-5 d-none d-sm-none d-md-block d-lg-block left-0">
  <div data-view-component="true" class="Popover-message Box Popover-message--top-left Popover-message--large p-4 mt-2 mx-auto text-left color-shadow-large">
    <h4 data-view-component="true" class="mb-2">            Ignore revisions
</h4>
                You can now hide commits e.g. from automated formatters. <a href="https://docs.github.com/repositories/working-with-files/using-files/viewing-a-file#ignore-commits-in-the-blame-view">Learn more.</a>

            <!-- '"` --><!-- </textarea></xmp> --></option></form><form class="mt-3 js-notice-dismiss" data-turbo="false" action="/settings/dismiss-notice/blame_ignore_revs" accept-charset="UTF-8" method="post"><input type="hidden" name="authenticity_token" value="m2dkOwOTzV_VpE2ckMg3vWBR9TRpsxWARE4Gv9B4jN1nHPyH08y1ZWYRTSQTULioCzP2LRlL8YyL-FD5HnXJ7g" />
                <button type="submit" data-view-component="true" class="btn-primary btn">    Got it!
</button></form>
</div></div>
      <div class="file-actions pt-0">
        <div data-view-component="true" class="BtnGroup">
      <a href="/cchuang2009/2022-1/raw/main/Python_IM/2023-2/Week_8_bnb_Query.ipynb" id="raw-url" data-view-component="true" class="btn-sm btn BtnGroup-item">    Raw
</a>
      <a href="/cchuang2009/2022-1/blob/main/Python_IM/2023-2/Week_8_bnb_Query.ipynb" data-view-component="true" class="js-update-url-with-hash btn-sm btn BtnGroup-item">    Normal view
</a>
      <a href="/cchuang2009/2022-1/commits/main/Python_IM/2023-2/Week_8_bnb_Query.ipynb" rel="nofollow" data-view-component="true" class="btn-sm btn BtnGroup-item">    History
</a>
</div>      </div>


  

      <div class="file-info" style="line-height: 28px">
        <span style="margin-left: 2px">
          <svg aria-hidden="true" height="16" viewBox="0 0 16 16" version="1.1" width="16" data-view-component="true" class="octicon octicon-file">
    <path d="M2 1.75C2 .784 2.784 0 3.75 0h6.586c.464 0 .909.184 1.237.513l2.914 2.914c.329.328.513.773.513 1.237v9.586A1.75 1.75 0 0 1 13.25 16h-9.5A1.75 1.75 0 0 1 2 14.25Zm1.75-.25a.25.25 0 0 0-.25.25v12.5c0 .138.112.25.25.25h9.5a.25.25 0 0 0 .25-.25V6h-2.75A1.75 1.75 0 0 1 9 4.25V1.5Zm6.75.062V4.25c0 .138.112.25.25.25h2.688l-.011-.013-2.914-2.914-.013-.011Z"></path>
</svg>
        </span>
        <span class="file-mode" title="File Mode">100644</span>
        <span class="file-info-divider"></span>
          821 lines (821 sloc)
          <span class="file-info-divider"></span>
        47.5 KB
      </div>
    </div>

    <div class="blob-wrapper">
      <div class="blame-container  highlight data js-file-line-container tab-size" data-tab-size="8" data-paste-markdown-skip>

          <div class="blame-hunk d-flex color-border-muted border-bottom">

            <div class="blame-commit flex-self-stretch mr-1" data-heat="3">
              <div class="blame-commit-info pl-3 pr-2">

                <div class="no-wrap d-flex flex-items-start">
                  
<div class="AvatarStack flex-self-start  " >
  <div class="AvatarStack-body" aria-label="cchuang2009" >
      <a class="avatar avatar-user" style="width:20px;height:20px;" data-test-selector="commits-avatar-stack-avatar-link" data-hovercard-type="user" data-hovercard-url="/users/cchuang2009/hovercard" data-octo-click="hovercard-link-click" data-octo-dimensions="link_type:self" href="/cchuang2009">
        <img data-test-selector="commits-avatar-stack-avatar-image" src="https://avatars.githubusercontent.com/u/5169903?s=40&amp;v=4" width="20" height="20" alt="@cchuang2009" class=" avatar-user" />
</a>  </div>
</div>

                  <div class="blame-commit-content d-flex no-wrap flex-items-center">
                    <div class="blame-commit-message overflow-hidden pt-1 f6">
                      <a class="message f6 color-fg-default markdown-title" data-hovercard-type="commit" data-hovercard-url="/cchuang2009/2022-1/commit/1c50d92e2a1c72ff6110302f2512ac263a29f491/hovercard" data-pjax="true" href="/cchuang2009/2022-1/commit/1c50d92e2a1c72ff6110302f2512ac263a29f491">Lecture for Week 8, BNB</a>
                    </div>
                  </div>
                  <div class="blame-commit-date ml-3" data-heat="3"><relative-time tense="past" datetime="2023-03-25T09:48:29+08:00" data-view-component="true">March 25, 2023 09:48</relative-time></div>
                </div>
              </div>
            </div>

            <div class="blob-reblame pl-1 pr-1">
              
            </div>

            <div class="width-full">
                <div class="d-flex flex-justify-start flex-items-start">
                  <div class="blob-num blame-blob-num color-bg-subtle js-line-number" id="L1">1</div>
                  <div class="blob-code blob-code-inner js-file-line" id="LC1">{</div>
                </div>
                <div class="d-flex flex-justify-start flex-items-start">
                  <div class="blob-num blame-blob-num color-bg-subtle js-line-number" id="L2">2</div>
                  <div class="blob-code blob-code-inner js-file-line" id="LC2"> <span class="pl-ent">&quot;cells&quot;</span>: [</div>
                </div>
                <div class="d-flex flex-justify-start flex-items-start">
                  <div class="blob-num blame-blob-num color-bg-subtle js-line-number" id="L3">3</div>
                  <div class="blob-code blob-code-inner js-file-line" id="LC3">  {</div>
                </div>
                <div class="d-flex flex-justify-start flex-items-start">
                  <div class="blob-num blame-blob-num color-bg-subtle js-line-number" id="L4">4</div>
                  <div class="blob-code blob-code-inner js-file-line" id="LC4">   <span class="pl-ent">&quot;cell_type&quot;</span>: <span class="pl-s"><span class="pl-pds">&quot;</span>markdown<span class="pl-pds">&quot;</span></span>,</div>
                </div>
                <div class="d-flex flex-justify-start flex-items-start">
                  <div class="blob-num blame-blob-num color-bg-subtle js-line-number" id="L5">5</div>
                  <div class="blob-code blob-code-inner js-file-line" id="LC5">   <span class="pl-ent">&quot;id&quot;</span>: <span class="pl-s"><span class="pl-pds">&quot;</span>89984e07<span class="pl-pds">&quot;</span></span>,</div>
                </div>
                <div class="d-flex flex-justify-start flex-items-start">
                  <div class="blob-num blame-blob-num color-bg-subtle js-line-number" id="L6">6</div>
                  <div class="blob-code blob-code-inner js-file-line" id="LC6">   <span class="pl-ent">&quot;metadata&quot;</span>: {},</div>
                </div>
                <div class="d-flex flex-justify-start flex-items-start">
                  <div class="blob-num blame-blob-num color-bg-subtle js-line-number" id="L7">7</div>
                  <div class="blob-code blob-code-inner js-file-line" id="LC7">   <span class="pl-ent">&quot;source&quot;</span>: [</div>
                </div>
                <div class="d-flex flex-justify-start flex-items-start">
                  <div class="blob-num blame-blob-num color-bg-subtle js-line-number" id="L8">8</div>
                  <div class="blob-code blob-code-inner js-file-line" id="LC8">    <span class="pl-s"><span class="pl-pds">&quot;</span>Goals<span class="pl-cce">\n</span><span class="pl-pds">&quot;</span></span>,</div>
                </div>
                <div class="d-flex flex-justify-start flex-items-start">
                  <div class="blob-num blame-blob-num color-bg-subtle js-line-number" id="L9">9</div>
                  <div class="blob-code blob-code-inner js-file-line" id="LC9">    <span class="pl-s"><span class="pl-pds">&quot;</span>---<span class="pl-cce">\n</span><span class="pl-pds">&quot;</span></span>,</div>
                </div>
                <div class="d-flex flex-justify-start flex-items-start">
                  <div class="blob-num blame-blob-num color-bg-subtle js-line-number" id="L10">10</div>
                  <div class="blob-code blob-code-inner js-file-line" id="LC10">    <span class="pl-s"><span class="pl-pds">&quot;</span>- [Airbnb Python Interview Questions](https://nathanrosidi.medium.com/airbnb-python-interview-questions-data-aggregation-and-labeling-43911353aede), how to use Data Aggregation and Labeling in the pandas,  練習資料分類和編碼<span class="pl-cce">\n</span><span class="pl-pds">&quot;</span></span>,</div>
                </div>
                <div class="d-flex flex-justify-start flex-items-start">
                  <div class="blob-num blame-blob-num color-bg-subtle js-line-number" id="L11">11</div>
                  <div class="blob-code blob-code-inner js-file-line" id="LC11">    <span class="pl-s"><span class="pl-pds">&quot;</span>- [stratascratch](https://platform.stratascratch.com/coding/9632-host-popularity-rental-prices), retrieve the data by SQL, 如何使用 SQL 取資料. First sign up a new account, and request a Query, 首先登記帳號，使用下列 SQL 進行查詢: <span class="pl-cce">\n</span><span class="pl-pds">&quot;</span></span>,</div>
                </div>
                <div class="d-flex flex-justify-start flex-items-start">
                  <div class="blob-num blame-blob-num color-bg-subtle js-line-number" id="L12">12</div>
                  <div class="blob-code blob-code-inner js-file-line" id="LC12">    <span class="pl-s"><span class="pl-pds">&quot;</span><span class="pl-cce">\n</span><span class="pl-pds">&quot;</span></span>,</div>
                </div>
                <div class="d-flex flex-justify-start flex-items-start">
                  <div class="blob-num blame-blob-num color-bg-subtle js-line-number" id="L13">13</div>
                  <div class="blob-code blob-code-inner js-file-line" id="LC13">    <span class="pl-s"><span class="pl-pds">&quot;</span>```select * from airbnb_host_searches;```<span class="pl-cce">\n</span><span class="pl-pds">&quot;</span></span>,</div>
                </div>
                <div class="d-flex flex-justify-start flex-items-start">
                  <div class="blob-num blame-blob-num color-bg-subtle js-line-number" id="L14">14</div>
                  <div class="blob-code blob-code-inner js-file-line" id="LC14">    <span class="pl-s"><span class="pl-pds">&quot;</span><span class="pl-cce">\n</span><span class="pl-pds">&quot;</span></span>,</div>
                </div>
                <div class="d-flex flex-justify-start flex-items-start">
                  <div class="blob-num blame-blob-num color-bg-subtle js-line-number" id="L15">15</div>
                  <div class="blob-code blob-code-inner js-file-line" id="LC15">    <span class="pl-s"><span class="pl-pds">&quot;</span>However, general Python web scrappy scheme can&#39;t retrieve the data easily, 但是沒有辦法簡單地使用 Python 截取資料. Thus, save the query result in local box, and use pandas to scrappy as `csv` data as follows. You can give it a try by yourself, 所以採用將結果存在電腦上，再用 Pandas 讀取，你可以自己嘗試. <span class="pl-pds">&quot;</span></span></div>
                </div>
                <div class="d-flex flex-justify-start flex-items-start">
                  <div class="blob-num blame-blob-num color-bg-subtle js-line-number" id="L16">16</div>
                  <div class="blob-code blob-code-inner js-file-line" id="LC16">   ]</div>
                </div>
                <div class="d-flex flex-justify-start flex-items-start">
                  <div class="blob-num blame-blob-num color-bg-subtle js-line-number" id="L17">17</div>
                  <div class="blob-code blob-code-inner js-file-line" id="LC17">  },</div>
                </div>
                <div class="d-flex flex-justify-start flex-items-start">
                  <div class="blob-num blame-blob-num color-bg-subtle js-line-number" id="L18">18</div>
                  <div class="blob-code blob-code-inner js-file-line" id="LC18">  {</div>
                </div>
                <div class="d-flex flex-justify-start flex-items-start">
                  <div class="blob-num blame-blob-num color-bg-subtle js-line-number" id="L19">19</div>
                  <div class="blob-code blob-code-inner js-file-line" id="LC19">   <span class="pl-ent">&quot;cell_type&quot;</span>: <span class="pl-s"><span class="pl-pds">&quot;</span>code<span class="pl-pds">&quot;</span></span>,</div>
                </div>
                <div class="d-flex flex-justify-start flex-items-start">
                  <div class="blob-num blame-blob-num color-bg-subtle js-line-number" id="L20">20</div>
                  <div class="blob-code blob-code-inner js-file-line" id="LC20">   <span class="pl-ent">&quot;execution_count&quot;</span>: <span class="pl-c1">1</span>,</div>
                </div>
                <div class="d-flex flex-justify-start flex-items-start">
                  <div class="blob-num blame-blob-num color-bg-subtle js-line-number" id="L21">21</div>
                  <div class="blob-code blob-code-inner js-file-line" id="LC21">   <span class="pl-ent">&quot;id&quot;</span>: <span class="pl-s"><span class="pl-pds">&quot;</span>9feb3595<span class="pl-pds">&quot;</span></span>,</div>
                </div>
                <div class="d-flex flex-justify-start flex-items-start">
                  <div class="blob-num blame-blob-num color-bg-subtle js-line-number" id="L22">22</div>
                  <div class="blob-code blob-code-inner js-file-line" id="LC22">   <span class="pl-ent">&quot;metadata&quot;</span>: {},</div>
                </div>
                <div class="d-flex flex-justify-start flex-items-start">
                  <div class="blob-num blame-blob-num color-bg-subtle js-line-number" id="L23">23</div>
                  <div class="blob-code blob-code-inner js-file-line" id="LC23">   <span class="pl-ent">&quot;outputs&quot;</span>: [],</div>
                </div>
                <div class="d-flex flex-justify-start flex-items-start">
                  <div class="blob-num blame-blob-num color-bg-subtle js-line-number" id="L24">24</div>
                  <div class="blob-code blob-code-inner js-file-line" id="LC24">   <span class="pl-ent">&quot;source&quot;</span>: [</div>
                </div>
                <div class="d-flex flex-justify-start flex-items-start">
                  <div class="blob-num blame-blob-num color-bg-subtle js-line-number" id="L25">25</div>
                  <div class="blob-code blob-code-inner js-file-line" id="LC25">    <span class="pl-s"><span class="pl-pds">&quot;</span># 1. required packages<span class="pl-cce">\n</span><span class="pl-pds">&quot;</span></span>,</div>
                </div>
                <div class="d-flex flex-justify-start flex-items-start">
                  <div class="blob-num blame-blob-num color-bg-subtle js-line-number" id="L26">26</div>
                  <div class="blob-code blob-code-inner js-file-line" id="LC26">    <span class="pl-s"><span class="pl-pds">&quot;</span><span class="pl-cce">\n</span><span class="pl-pds">&quot;</span></span>,</div>
                </div>
                <div class="d-flex flex-justify-start flex-items-start">
                  <div class="blob-num blame-blob-num color-bg-subtle js-line-number" id="L27">27</div>
                  <div class="blob-code blob-code-inner js-file-line" id="LC27">    <span class="pl-s"><span class="pl-pds">&quot;</span>import pandas as pd<span class="pl-cce">\n</span><span class="pl-pds">&quot;</span></span>,</div>
                </div>
                <div class="d-flex flex-justify-start flex-items-start">
                  <div class="blob-num blame-blob-num color-bg-subtle js-line-number" id="L28">28</div>
                  <div class="blob-code blob-code-inner js-file-line" id="LC28">    <span class="pl-s"><span class="pl-pds">&quot;</span>import numpy as np<span class="pl-pds">&quot;</span></span></div>
                </div>
                <div class="d-flex flex-justify-start flex-items-start">
                  <div class="blob-num blame-blob-num color-bg-subtle js-line-number" id="L29">29</div>
                  <div class="blob-code blob-code-inner js-file-line" id="LC29">   ]</div>
                </div>
                <div class="d-flex flex-justify-start flex-items-start">
                  <div class="blob-num blame-blob-num color-bg-subtle js-line-number" id="L30">30</div>
                  <div class="blob-code blob-code-inner js-file-line" id="LC30">  },</div>
                </div>
                <div class="d-flex flex-justify-start flex-items-start">
                  <div class="blob-num blame-blob-num color-bg-subtle js-line-number" id="L31">31</div>
                  <div class="blob-code blob-code-inner js-file-line" id="LC31">  {</div>
                </div>
                <div class="d-flex flex-justify-start flex-items-start">
                  <div class="blob-num blame-blob-num color-bg-subtle js-line-number" id="L32">32</div>
                  <div class="blob-code blob-code-inner js-file-line" id="LC32">   <span class="pl-ent">&quot;cell_type&quot;</span>: <span class="pl-s"><span class="pl-pds">&quot;</span>code<span class="pl-pds">&quot;</span></span>,</div>
                </div>
                <div class="d-flex flex-justify-start flex-items-start">
                  <div class="blob-num blame-blob-num color-bg-subtle js-line-number" id="L33">33</div>
                  <div class="blob-code blob-code-inner js-file-line" id="LC33">   <span class="pl-ent">&quot;execution_count&quot;</span>: <span class="pl-c1">2</span>,</div>
                </div>
                <div class="d-flex flex-justify-start flex-items-start">
                  <div class="blob-num blame-blob-num color-bg-subtle js-line-number" id="L34">34</div>
                  <div class="blob-code blob-code-inner js-file-line" id="LC34">   <span class="pl-ent">&quot;id&quot;</span>: <span class="pl-s"><span class="pl-pds">&quot;</span>529b61ac<span class="pl-pds">&quot;</span></span>,</div>
                </div>
                <div class="d-flex flex-justify-start flex-items-start">
                  <div class="blob-num blame-blob-num color-bg-subtle js-line-number" id="L35">35</div>
                  <div class="blob-code blob-code-inner js-file-line" id="LC35">   <span class="pl-ent">&quot;metadata&quot;</span>: {},</div>
                </div>
                <div class="d-flex flex-justify-start flex-items-start">
                  <div class="blob-num blame-blob-num color-bg-subtle js-line-number" id="L36">36</div>
                  <div class="blob-code blob-code-inner js-file-line" id="LC36">   <span class="pl-ent">&quot;outputs&quot;</span>: [],</div>
                </div>
                <div class="d-flex flex-justify-start flex-items-start">
                  <div class="blob-num blame-blob-num color-bg-subtle js-line-number" id="L37">37</div>
                  <div class="blob-code blob-code-inner js-file-line" id="LC37">   <span class="pl-ent">&quot;source&quot;</span>: [</div>
                </div>
                <div class="d-flex flex-justify-start flex-items-start">
                  <div class="blob-num blame-blob-num color-bg-subtle js-line-number" id="L38">38</div>
                  <div class="blob-code blob-code-inner js-file-line" id="LC38">    <span class="pl-s"><span class="pl-pds">&quot;</span>#2: Format to two decimals<span class="pl-cce">\n</span><span class="pl-pds">&quot;</span></span>,</div>
                </div>
                <div class="d-flex flex-justify-start flex-items-start">
                  <div class="blob-num blame-blob-num color-bg-subtle js-line-number" id="L39">39</div>
                  <div class="blob-code blob-code-inner js-file-line" id="LC39">    <span class="pl-s"><span class="pl-pds">&quot;</span><span class="pl-cce">\n</span><span class="pl-pds">&quot;</span></span>,</div>
                </div>
                <div class="d-flex flex-justify-start flex-items-start">
                  <div class="blob-num blame-blob-num color-bg-subtle js-line-number" id="L40">40</div>
                  <div class="blob-code blob-code-inner js-file-line" id="LC40">    <span class="pl-s"><span class="pl-pds">&quot;</span>pd.options.display.float_format = <span class="pl-cce">\&quot;</span>{:,.2f}<span class="pl-cce">\&quot;</span>.format<span class="pl-pds">&quot;</span></span></div>
                </div>
                <div class="d-flex flex-justify-start flex-items-start">
                  <div class="blob-num blame-blob-num color-bg-subtle js-line-number" id="L41">41</div>
                  <div class="blob-code blob-code-inner js-file-line" id="LC41">   ]</div>
                </div>
                <div class="d-flex flex-justify-start flex-items-start">
                  <div class="blob-num blame-blob-num color-bg-subtle js-line-number" id="L42">42</div>
                  <div class="blob-code blob-code-inner js-file-line" id="LC42">  },</div>
                </div>
                <div class="d-flex flex-justify-start flex-items-start">
                  <div class="blob-num blame-blob-num color-bg-subtle js-line-number" id="L43">43</div>
                  <div class="blob-code blob-code-inner js-file-line" id="LC43">  {</div>
                </div>
                <div class="d-flex flex-justify-start flex-items-start">
                  <div class="blob-num blame-blob-num color-bg-subtle js-line-number" id="L44">44</div>
                  <div class="blob-code blob-code-inner js-file-line" id="LC44">   <span class="pl-ent">&quot;cell_type&quot;</span>: <span class="pl-s"><span class="pl-pds">&quot;</span>code<span class="pl-pds">&quot;</span></span>,</div>
                </div>
                <div class="d-flex flex-justify-start flex-items-start">
                  <div class="blob-num blame-blob-num color-bg-subtle js-line-number" id="L45">45</div>
                  <div class="blob-code blob-code-inner js-file-line" id="LC45">   <span class="pl-ent">&quot;execution_count&quot;</span>: <span class="pl-c1">3</span>,</div>
                </div>
                <div class="d-flex flex-justify-start flex-items-start">
                  <div class="blob-num blame-blob-num color-bg-subtle js-line-number" id="L46">46</div>
                  <div class="blob-code blob-code-inner js-file-line" id="LC46">   <span class="pl-ent">&quot;id&quot;</span>: <span class="pl-s"><span class="pl-pds">&quot;</span>4bdf2892<span class="pl-pds">&quot;</span></span>,</div>
                </div>
                <div class="d-flex flex-justify-start flex-items-start">
                  <div class="blob-num blame-blob-num color-bg-subtle js-line-number" id="L47">47</div>
                  <div class="blob-code blob-code-inner js-file-line" id="LC47">   <span class="pl-ent">&quot;metadata&quot;</span>: {},</div>
                </div>
                <div class="d-flex flex-justify-start flex-items-start">
                  <div class="blob-num blame-blob-num color-bg-subtle js-line-number" id="L48">48</div>
                  <div class="blob-code blob-code-inner js-file-line" id="LC48">   <span class="pl-ent">&quot;outputs&quot;</span>: [],</div>
                </div>
                <div class="d-flex flex-justify-start flex-items-start">
                  <div class="blob-num blame-blob-num color-bg-subtle js-line-number" id="L49">49</div>
                  <div class="blob-code blob-code-inner js-file-line" id="LC49">   <span class="pl-ent">&quot;source&quot;</span>: [</div>
                </div>
                <div class="d-flex flex-justify-start flex-items-start">
                  <div class="blob-num blame-blob-num color-bg-subtle js-line-number" id="L50">50</div>
                  <div class="blob-code blob-code-inner js-file-line" id="LC50">    <span class="pl-s"><span class="pl-pds">&quot;</span># Load the saved page and Retrieve the table data if you follows previous guide to get the data <span class="pl-cce">\n</span><span class="pl-pds">&quot;</span></span>,</div>
                </div>
                <div class="d-flex flex-justify-start flex-items-start">
                  <div class="blob-num blame-blob-num color-bg-subtle js-line-number" id="L51">51</div>
                  <div class="blob-code blob-code-inner js-file-line" id="LC51">    <span class="pl-s"><span class="pl-pds">&quot;</span># from stratascratch successifully; otherwise, skip the step and use the sav ginven<span class="pl-cce">\n</span><span class="pl-pds">&quot;</span></span>,</div>
                </div>
                <div class="d-flex flex-justify-start flex-items-start">
                  <div class="blob-num blame-blob-num color-bg-subtle js-line-number" id="L52">52</div>
                  <div class="blob-code blob-code-inner js-file-line" id="LC52">    <span class="pl-s"><span class="pl-pds">&quot;</span># 如果你成功地使用全素的方法取得網頁並儲存資料，則讀取儲存的網頁 並載入資料, 或者或者跳過這個步驟，使用賦予的 csv 資料<span class="pl-cce">\n</span><span class="pl-pds">&quot;</span></span>,</div>
                </div>
                <div class="d-flex flex-justify-start flex-items-start">
                  <div class="blob-num blame-blob-num color-bg-subtle js-line-number" id="L53">53</div>
                  <div class="blob-code blob-code-inner js-file-line" id="LC53">    <span class="pl-s"><span class="pl-pds">&quot;</span>data= pd.read_html(<span class="pl-cce">\&quot;</span>file:///Users/chu-chinghuang/Desktop/StrataScratch.html<span class="pl-cce">\&quot;</span>)<span class="pl-cce">\n</span><span class="pl-pds">&quot;</span></span>,</div>
                </div>
                <div class="d-flex flex-justify-start flex-items-start">
                  <div class="blob-num blame-blob-num color-bg-subtle js-line-number" id="L54">54</div>
                  <div class="blob-code blob-code-inner js-file-line" id="LC54">    <span class="pl-s"><span class="pl-pds">&quot;</span>df = data[0]<span class="pl-pds">&quot;</span></span></div>
                </div>
                <div class="d-flex flex-justify-start flex-items-start">
                  <div class="blob-num blame-blob-num color-bg-subtle js-line-number" id="L55">55</div>
                  <div class="blob-code blob-code-inner js-file-line" id="LC55">   ]</div>
                </div>
                <div class="d-flex flex-justify-start flex-items-start">
                  <div class="blob-num blame-blob-num color-bg-subtle js-line-number" id="L56">56</div>
                  <div class="blob-code blob-code-inner js-file-line" id="LC56">  },</div>
                </div>
                <div class="d-flex flex-justify-start flex-items-start">
                  <div class="blob-num blame-blob-num color-bg-subtle js-line-number" id="L57">57</div>
                  <div class="blob-code blob-code-inner js-file-line" id="LC57">  {</div>
                </div>
                <div class="d-flex flex-justify-start flex-items-start">
                  <div class="blob-num blame-blob-num color-bg-subtle js-line-number" id="L58">58</div>
                  <div class="blob-code blob-code-inner js-file-line" id="LC58">   <span class="pl-ent">&quot;cell_type&quot;</span>: <span class="pl-s"><span class="pl-pds">&quot;</span>code<span class="pl-pds">&quot;</span></span>,</div>
                </div>
                <div class="d-flex flex-justify-start flex-items-start">
                  <div class="blob-num blame-blob-num color-bg-subtle js-line-number" id="L59">59</div>
                  <div class="blob-code blob-code-inner js-file-line" id="LC59">   <span class="pl-ent">&quot;execution_count&quot;</span>: <span class="pl-c1">31</span>,</div>
                </div>
                <div class="d-flex flex-justify-start flex-items-start">
                  <div class="blob-num blame-blob-num color-bg-subtle js-line-number" id="L60">60</div>
                  <div class="blob-code blob-code-inner js-file-line" id="LC60">   <span class="pl-ent">&quot;id&quot;</span>: <span class="pl-s"><span class="pl-pds">&quot;</span>e9c048b4<span class="pl-pds">&quot;</span></span>,</div>
                </div>
                <div class="d-flex flex-justify-start flex-items-start">
                  <div class="blob-num blame-blob-num color-bg-subtle js-line-number" id="L61">61</div>
                  <div class="blob-code blob-code-inner js-file-line" id="LC61">   <span class="pl-ent">&quot;metadata&quot;</span>: {},</div>
                </div>
                <div class="d-flex flex-justify-start flex-items-start">
                  <div class="blob-num blame-blob-num color-bg-subtle js-line-number" id="L62">62</div>
                  <div class="blob-code blob-code-inner js-file-line" id="LC62">   <span class="pl-ent">&quot;outputs&quot;</span>: [],</div>
                </div>
                <div class="d-flex flex-justify-start flex-items-start">
                  <div class="blob-num blame-blob-num color-bg-subtle js-line-number" id="L63">63</div>
                  <div class="blob-code blob-code-inner js-file-line" id="LC63">   <span class="pl-ent">&quot;source&quot;</span>: [</div>
                </div>
                <div class="d-flex flex-justify-start flex-items-start">
                  <div class="blob-num blame-blob-num color-bg-subtle js-line-number" id="L64">64</div>
                  <div class="blob-code blob-code-inner js-file-line" id="LC64">    <span class="pl-s"><span class="pl-pds">&quot;</span>#df.to_csv(<span class="pl-cce">\&quot;</span>BNB.csv<span class="pl-cce">\&quot;</span>,index=False)<span class="pl-pds">&quot;</span></span></div>
                </div>
                <div class="d-flex flex-justify-start flex-items-start">
                  <div class="blob-num blame-blob-num color-bg-subtle js-line-number" id="L65">65</div>
                  <div class="blob-code blob-code-inner js-file-line" id="LC65">   ]</div>
                </div>
                <div class="d-flex flex-justify-start flex-items-start">
                  <div class="blob-num blame-blob-num color-bg-subtle js-line-number" id="L66">66</div>
                  <div class="blob-code blob-code-inner js-file-line" id="LC66">  },</div>
                </div>
                <div class="d-flex flex-justify-start flex-items-start">
                  <div class="blob-num blame-blob-num color-bg-subtle js-line-number" id="L67">67</div>
                  <div class="blob-code blob-code-inner js-file-line" id="LC67">  {</div>
                </div>
                <div class="d-flex flex-justify-start flex-items-start">
                  <div class="blob-num blame-blob-num color-bg-subtle js-line-number" id="L68">68</div>
                  <div class="blob-code blob-code-inner js-file-line" id="LC68">   <span class="pl-ent">&quot;cell_type&quot;</span>: <span class="pl-s"><span class="pl-pds">&quot;</span>code<span class="pl-pds">&quot;</span></span>,</div>
                </div>
                <div class="d-flex flex-justify-start flex-items-start">
                  <div class="blob-num blame-blob-num color-bg-subtle js-line-number" id="L69">69</div>
                  <div class="blob-code blob-code-inner js-file-line" id="LC69">   <span class="pl-ent">&quot;execution_count&quot;</span>: <span class="pl-c1">32</span>,</div>
                </div>
                <div class="d-flex flex-justify-start flex-items-start">
                  <div class="blob-num blame-blob-num color-bg-subtle js-line-number" id="L70">70</div>
                  <div class="blob-code blob-code-inner js-file-line" id="LC70">   <span class="pl-ent">&quot;id&quot;</span>: <span class="pl-s"><span class="pl-pds">&quot;</span>3b21270e<span class="pl-pds">&quot;</span></span>,</div>
                </div>
                <div class="d-flex flex-justify-start flex-items-start">
                  <div class="blob-num blame-blob-num color-bg-subtle js-line-number" id="L71">71</div>
                  <div class="blob-code blob-code-inner js-file-line" id="LC71">   <span class="pl-ent">&quot;metadata&quot;</span>: {</div>
                </div>
                <div class="d-flex flex-justify-start flex-items-start">
                  <div class="blob-num blame-blob-num color-bg-subtle js-line-number" id="L72">72</div>
                  <div class="blob-code blob-code-inner js-file-line" id="LC72">    <span class="pl-ent">&quot;scrolled&quot;</span>: <span class="pl-c1">true</span></div>
                </div>
                <div class="d-flex flex-justify-start flex-items-start">
                  <div class="blob-num blame-blob-num color-bg-subtle js-line-number" id="L73">73</div>
                  <div class="blob-code blob-code-inner js-file-line" id="LC73">   },</div>
                </div>
                <div class="d-flex flex-justify-start flex-items-start">
                  <div class="blob-num blame-blob-num color-bg-subtle js-line-number" id="L74">74</div>
                  <div class="blob-code blob-code-inner js-file-line" id="LC74">   <span class="pl-ent">&quot;outputs&quot;</span>: [],</div>
                </div>
                <div class="d-flex flex-justify-start flex-items-start">
                  <div class="blob-num blame-blob-num color-bg-subtle js-line-number" id="L75">75</div>
                  <div class="blob-code blob-code-inner js-file-line" id="LC75">   <span class="pl-ent">&quot;source&quot;</span>: [</div>
                </div>
                <div class="d-flex flex-justify-start flex-items-start">
                  <div class="blob-num blame-blob-num color-bg-subtle js-line-number" id="L76">76</div>
                  <div class="blob-code blob-code-inner js-file-line" id="LC76">    <span class="pl-s"><span class="pl-pds">&quot;</span># Load CSV data, 讀取資料<span class="pl-cce">\n</span><span class="pl-pds">&quot;</span></span>,</div>
                </div>
                <div class="d-flex flex-justify-start flex-items-start">
                  <div class="blob-num blame-blob-num color-bg-subtle js-line-number" id="L77">77</div>
                  <div class="blob-code blob-code-inner js-file-line" id="LC77">    <span class="pl-s"><span class="pl-pds">&quot;</span>df = pd.read_csv(<span class="pl-cce">\&quot;</span>https://raw.githubusercontent.com/cchuang2009/2022-1/main/Python_IM/2023-2/BNB.csv<span class="pl-cce">\&quot;</span>)<span class="pl-pds">&quot;</span></span></div>
                </div>
                <div class="d-flex flex-justify-start flex-items-start">
                  <div class="blob-num blame-blob-num color-bg-subtle js-line-number" id="L78">78</div>
                  <div class="blob-code blob-code-inner js-file-line" id="LC78">   ]</div>
                </div>
                <div class="d-flex flex-justify-start flex-items-start">
                  <div class="blob-num blame-blob-num color-bg-subtle js-line-number" id="L79">79</div>
                  <div class="blob-code blob-code-inner js-file-line" id="LC79">  },</div>
                </div>
                <div class="d-flex flex-justify-start flex-items-start">
                  <div class="blob-num blame-blob-num color-bg-subtle js-line-number" id="L80">80</div>
                  <div class="blob-code blob-code-inner js-file-line" id="LC80">  {</div>
                </div>
                <div class="d-flex flex-justify-start flex-items-start">
                  <div class="blob-num blame-blob-num color-bg-subtle js-line-number" id="L81">81</div>
                  <div class="blob-code blob-code-inner js-file-line" id="LC81">   <span class="pl-ent">&quot;cell_type&quot;</span>: <span class="pl-s"><span class="pl-pds">&quot;</span>code<span class="pl-pds">&quot;</span></span>,</div>
                </div>
                <div class="d-flex flex-justify-start flex-items-start">
                  <div class="blob-num blame-blob-num color-bg-subtle js-line-number" id="L82">82</div>
                  <div class="blob-code blob-code-inner js-file-line" id="LC82">   <span class="pl-ent">&quot;execution_count&quot;</span>: <span class="pl-c1">5</span>,</div>
                </div>
                <div class="d-flex flex-justify-start flex-items-start">
                  <div class="blob-num blame-blob-num color-bg-subtle js-line-number" id="L83">83</div>
                  <div class="blob-code blob-code-inner js-file-line" id="LC83">   <span class="pl-ent">&quot;id&quot;</span>: <span class="pl-s"><span class="pl-pds">&quot;</span>cfd01b3a<span class="pl-pds">&quot;</span></span>,</div>
                </div>
                <div class="d-flex flex-justify-start flex-items-start">
                  <div class="blob-num blame-blob-num color-bg-subtle js-line-number" id="L84">84</div>
                  <div class="blob-code blob-code-inner js-file-line" id="LC84">   <span class="pl-ent">&quot;metadata&quot;</span>: {},</div>
                </div>
                <div class="d-flex flex-justify-start flex-items-start">
                  <div class="blob-num blame-blob-num color-bg-subtle js-line-number" id="L85">85</div>
                  <div class="blob-code blob-code-inner js-file-line" id="LC85">   <span class="pl-ent">&quot;outputs&quot;</span>: [</div>
                </div>
                <div class="d-flex flex-justify-start flex-items-start">
                  <div class="blob-num blame-blob-num color-bg-subtle js-line-number" id="L86">86</div>
                  <div class="blob-code blob-code-inner js-file-line" id="LC86">    {</div>
                </div>
                <div class="d-flex flex-justify-start flex-items-start">
                  <div class="blob-num blame-blob-num color-bg-subtle js-line-number" id="L87">87</div>
                  <div class="blob-code blob-code-inner js-file-line" id="LC87">     <span class="pl-ent">&quot;data&quot;</span>: {</div>
                </div>
                <div class="d-flex flex-justify-start flex-items-start">
                  <div class="blob-num blame-blob-num color-bg-subtle js-line-number" id="L88">88</div>
                  <div class="blob-code blob-code-inner js-file-line" id="LC88">      <span class="pl-ent">&quot;text/html&quot;</span>: [</div>
                </div>
                <div class="d-flex flex-justify-start flex-items-start">
                  <div class="blob-num blame-blob-num color-bg-subtle js-line-number" id="L89">89</div>
                  <div class="blob-code blob-code-inner js-file-line" id="LC89">       <span class="pl-s"><span class="pl-pds">&quot;</span>&lt;div&gt;&lt;div id=dd6672be-0470-416e-a590-4e1bebbd1eac style=<span class="pl-cce">\&quot;</span>display:none; background-color:#9D6CFF; color:white; width:200px; height:30px; padding-left:5px; border-radius:4px; flex-direction:row; justify-content:space-around; align-items:center;<span class="pl-cce">\&quot;</span> onmouseover=<span class="pl-cce">\&quot;</span>this.style.backgroundColor=&#39;#BA9BF8&#39;<span class="pl-cce">\&quot;</span> onmouseout=<span class="pl-cce">\&quot;</span>this.style.backgroundColor=&#39;#9D6CFF&#39;<span class="pl-cce">\&quot;</span> onclick=<span class="pl-cce">\&quot;</span>window.commands?.execute(&#39;create-mitosheet-from-dataframe-output&#39;);<span class="pl-cce">\&quot;</span>&gt;See Full Dataframe in Mito&lt;/div&gt; &lt;script&gt; if (window.commands?.hasCommand(&#39;create-mitosheet-from-dataframe-output&#39;)) document.getElementById(&#39;dd6672be-0470-416e-a590-4e1bebbd1eac&#39;).style.display = &#39;flex&#39; &lt;/script&gt; &lt;table border=<span class="pl-cce">\&quot;</span>1<span class="pl-cce">\&quot;</span> class=<span class="pl-cce">\&quot;</span>dataframe<span class="pl-cce">\&quot;</span>&gt;<span class="pl-cce">\n</span><span class="pl-pds">&quot;</span></span>,</div>
                </div>
                <div class="d-flex flex-justify-start flex-items-start">
                  <div class="blob-num blame-blob-num color-bg-subtle js-line-number" id="L90">90</div>
                  <div class="blob-code blob-code-inner js-file-line" id="LC90">       <span class="pl-s"><span class="pl-pds">&quot;</span>  &lt;thead&gt;<span class="pl-cce">\n</span><span class="pl-pds">&quot;</span></span>,</div>
                </div>
                <div class="d-flex flex-justify-start flex-items-start">
                  <div class="blob-num blame-blob-num color-bg-subtle js-line-number" id="L91">91</div>
                  <div class="blob-code blob-code-inner js-file-line" id="LC91">       <span class="pl-s"><span class="pl-pds">&quot;</span>    &lt;tr style=<span class="pl-cce">\&quot;</span>text-align: right;<span class="pl-cce">\&quot;</span>&gt;<span class="pl-cce">\n</span><span class="pl-pds">&quot;</span></span>,</div>
                </div>
                <div class="d-flex flex-justify-start flex-items-start">
                  <div class="blob-num blame-blob-num color-bg-subtle js-line-number" id="L92">92</div>
                  <div class="blob-code blob-code-inner js-file-line" id="LC92">       <span class="pl-s"><span class="pl-pds">&quot;</span>      &lt;th&gt;&lt;/th&gt;<span class="pl-cce">\n</span><span class="pl-pds">&quot;</span></span>,</div>
                </div>
                <div class="d-flex flex-justify-start flex-items-start">
                  <div class="blob-num blame-blob-num color-bg-subtle js-line-number" id="L93">93</div>
                  <div class="blob-code blob-code-inner js-file-line" id="LC93">       <span class="pl-s"><span class="pl-pds">&quot;</span>      &lt;th&gt;id&lt;/th&gt;<span class="pl-cce">\n</span><span class="pl-pds">&quot;</span></span>,</div>
                </div>
                <div class="d-flex flex-justify-start flex-items-start">
                  <div class="blob-num blame-blob-num color-bg-subtle js-line-number" id="L94">94</div>
                  <div class="blob-code blob-code-inner js-file-line" id="LC94">       <span class="pl-s"><span class="pl-pds">&quot;</span>      &lt;th&gt;price&lt;/th&gt;<span class="pl-cce">\n</span><span class="pl-pds">&quot;</span></span>,</div>
                </div>
                <div class="d-flex flex-justify-start flex-items-start">
                  <div class="blob-num blame-blob-num color-bg-subtle js-line-number" id="L95">95</div>
                  <div class="blob-code blob-code-inner js-file-line" id="LC95">       <span class="pl-s"><span class="pl-pds">&quot;</span>      &lt;th&gt;property_type&lt;/th&gt;<span class="pl-cce">\n</span><span class="pl-pds">&quot;</span></span>,</div>
                </div>
                <div class="d-flex flex-justify-start flex-items-start">
                  <div class="blob-num blame-blob-num color-bg-subtle js-line-number" id="L96">96</div>
                  <div class="blob-code blob-code-inner js-file-line" id="LC96">       <span class="pl-s"><span class="pl-pds">&quot;</span>      &lt;th&gt;room_type&lt;/th&gt;<span class="pl-cce">\n</span><span class="pl-pds">&quot;</span></span>,</div>
                </div>
                <div class="d-flex flex-justify-start flex-items-start">
                  <div class="blob-num blame-blob-num color-bg-subtle js-line-number" id="L97">97</div>
                  <div class="blob-code blob-code-inner js-file-line" id="LC97">       <span class="pl-s"><span class="pl-pds">&quot;</span>      &lt;th&gt;amenities&lt;/th&gt;<span class="pl-cce">\n</span><span class="pl-pds">&quot;</span></span>,</div>
                </div>
                <div class="d-flex flex-justify-start flex-items-start">
                  <div class="blob-num blame-blob-num color-bg-subtle js-line-number" id="L98">98</div>
                  <div class="blob-code blob-code-inner js-file-line" id="LC98">       <span class="pl-s"><span class="pl-pds">&quot;</span>      &lt;th&gt;accommodates&lt;/th&gt;<span class="pl-cce">\n</span><span class="pl-pds">&quot;</span></span>,</div>
                </div>
                <div class="d-flex flex-justify-start flex-items-start">
                  <div class="blob-num blame-blob-num color-bg-subtle js-line-number" id="L99">99</div>
                  <div class="blob-code blob-code-inner js-file-line" id="LC99">       <span class="pl-s"><span class="pl-pds">&quot;</span>      &lt;th&gt;bathrooms&lt;/th&gt;<span class="pl-cce">\n</span><span class="pl-pds">&quot;</span></span>,</div>
                </div>
                <div class="d-flex flex-justify-start flex-items-start">
                  <div class="blob-num blame-blob-num color-bg-subtle js-line-number" id="L100">100</div>
                  <div class="blob-code blob-code-inner js-file-line" id="LC100">       <span class="pl-s"><span class="pl-pds">&quot;</span>      &lt;th&gt;bed_type&lt;/th&gt;<span class="pl-cce">\n</span><span class="pl-pds">&quot;</span></span>,</div>
                </div>
                <div class="d-flex flex-justify-start flex-items-start">
                  <div class="blob-num blame-blob-num color-bg-subtle js-line-number" id="L101">101</div>
                  <div class="blob-code blob-code-inner js-file-line" id="LC101">       <span class="pl-s"><span class="pl-pds">&quot;</span>      &lt;th&gt;cancellation_policy&lt;/th&gt;<span class="pl-cce">\n</span><span class="pl-pds">&quot;</span></span>,</div>
                </div>
                <div class="d-flex flex-justify-start flex-items-start">
                  <div class="blob-num blame-blob-num color-bg-subtle js-line-number" id="L102">102</div>
                  <div class="blob-code blob-code-inner js-file-line" id="LC102">       <span class="pl-s"><span class="pl-pds">&quot;</span>      &lt;th&gt;cleaning_fee&lt;/th&gt;<span class="pl-cce">\n</span><span class="pl-pds">&quot;</span></span>,</div>
                </div>
                <div class="d-flex flex-justify-start flex-items-start">
                  <div class="blob-num blame-blob-num color-bg-subtle js-line-number" id="L103">103</div>
                  <div class="blob-code blob-code-inner js-file-line" id="LC103">       <span class="pl-s"><span class="pl-pds">&quot;</span>      &lt;th&gt;city&lt;/th&gt;<span class="pl-cce">\n</span><span class="pl-pds">&quot;</span></span>,</div>
                </div>
                <div class="d-flex flex-justify-start flex-items-start">
                  <div class="blob-num blame-blob-num color-bg-subtle js-line-number" id="L104">104</div>
                  <div class="blob-code blob-code-inner js-file-line" id="LC104">       <span class="pl-s"><span class="pl-pds">&quot;</span>      &lt;th&gt;host_identity_verified&lt;/th&gt;<span class="pl-cce">\n</span><span class="pl-pds">&quot;</span></span>,</div>
                </div>
                <div class="d-flex flex-justify-start flex-items-start">
                  <div class="blob-num blame-blob-num color-bg-subtle js-line-number" id="L105">105</div>
                  <div class="blob-code blob-code-inner js-file-line" id="LC105">       <span class="pl-s"><span class="pl-pds">&quot;</span>      &lt;th&gt;host_response_rate&lt;/th&gt;<span class="pl-cce">\n</span><span class="pl-pds">&quot;</span></span>,</div>
                </div>
                <div class="d-flex flex-justify-start flex-items-start">
                  <div class="blob-num blame-blob-num color-bg-subtle js-line-number" id="L106">106</div>
                  <div class="blob-code blob-code-inner js-file-line" id="LC106">       <span class="pl-s"><span class="pl-pds">&quot;</span>      &lt;th&gt;host_since&lt;/th&gt;<span class="pl-cce">\n</span><span class="pl-pds">&quot;</span></span>,</div>
                </div>
                <div class="d-flex flex-justify-start flex-items-start">
                  <div class="blob-num blame-blob-num color-bg-subtle js-line-number" id="L107">107</div>
                  <div class="blob-code blob-code-inner js-file-line" id="LC107">       <span class="pl-s"><span class="pl-pds">&quot;</span>      &lt;th&gt;neighbourhood&lt;/th&gt;<span class="pl-cce">\n</span><span class="pl-pds">&quot;</span></span>,</div>
                </div>
                <div class="d-flex flex-justify-start flex-items-start">
                  <div class="blob-num blame-blob-num color-bg-subtle js-line-number" id="L108">108</div>
                  <div class="blob-code blob-code-inner js-file-line" id="LC108">       <span class="pl-s"><span class="pl-pds">&quot;</span>      &lt;th&gt;number_of_reviews&lt;/th&gt;<span class="pl-cce">\n</span><span class="pl-pds">&quot;</span></span>,</div>
                </div>
                <div class="d-flex flex-justify-start flex-items-start">
                  <div class="blob-num blame-blob-num color-bg-subtle js-line-number" id="L109">109</div>
                  <div class="blob-code blob-code-inner js-file-line" id="LC109">       <span class="pl-s"><span class="pl-pds">&quot;</span>      &lt;th&gt;review_scores_rating&lt;/th&gt;<span class="pl-cce">\n</span><span class="pl-pds">&quot;</span></span>,</div>
                </div>
                <div class="d-flex flex-justify-start flex-items-start">
                  <div class="blob-num blame-blob-num color-bg-subtle js-line-number" id="L110">110</div>
                  <div class="blob-code blob-code-inner js-file-line" id="LC110">       <span class="pl-s"><span class="pl-pds">&quot;</span>      &lt;th&gt;zipcode&lt;/th&gt;<span class="pl-cce">\n</span><span class="pl-pds">&quot;</span></span>,</div>
                </div>
                <div class="d-flex flex-justify-start flex-items-start">
                  <div class="blob-num blame-blob-num color-bg-subtle js-line-number" id="L111">111</div>
                  <div class="blob-code blob-code-inner js-file-line" id="LC111">       <span class="pl-s"><span class="pl-pds">&quot;</span>      &lt;th&gt;bedrooms&lt;/th&gt;<span class="pl-cce">\n</span><span class="pl-pds">&quot;</span></span>,</div>
                </div>
                <div class="d-flex flex-justify-start flex-items-start">
                  <div class="blob-num blame-blob-num color-bg-subtle js-line-number" id="L112">112</div>
                  <div class="blob-code blob-code-inner js-file-line" id="LC112">       <span class="pl-s"><span class="pl-pds">&quot;</span>      &lt;th&gt;beds&lt;/th&gt;<span class="pl-cce">\n</span><span class="pl-pds">&quot;</span></span>,</div>
                </div>
                <div class="d-flex flex-justify-start flex-items-start">
                  <div class="blob-num blame-blob-num color-bg-subtle js-line-number" id="L113">113</div>
                  <div class="blob-code blob-code-inner js-file-line" id="LC113">       <span class="pl-s"><span class="pl-pds">&quot;</span>    &lt;/tr&gt;<span class="pl-cce">\n</span><span class="pl-pds">&quot;</span></span>,</div>
                </div>
                <div class="d-flex flex-justify-start flex-items-start">
                  <div class="blob-num blame-blob-num color-bg-subtle js-line-number" id="L114">114</div>
                  <div class="blob-code blob-code-inner js-file-line" id="LC114">       <span class="pl-s"><span class="pl-pds">&quot;</span>  &lt;/thead&gt;<span class="pl-cce">\n</span><span class="pl-pds">&quot;</span></span>,</div>
                </div>
                <div class="d-flex flex-justify-start flex-items-start">
                  <div class="blob-num blame-blob-num color-bg-subtle js-line-number" id="L115">115</div>
                  <div class="blob-code blob-code-inner js-file-line" id="LC115">       <span class="pl-s"><span class="pl-pds">&quot;</span>  &lt;tbody&gt;<span class="pl-cce">\n</span><span class="pl-pds">&quot;</span></span>,</div>
                </div>
                <div class="d-flex flex-justify-start flex-items-start">
                  <div class="blob-num blame-blob-num color-bg-subtle js-line-number" id="L116">116</div>
                  <div class="blob-code blob-code-inner js-file-line" id="LC116">       <span class="pl-s"><span class="pl-pds">&quot;</span>    &lt;tr&gt;<span class="pl-cce">\n</span><span class="pl-pds">&quot;</span></span>,</div>
                </div>
                <div class="d-flex flex-justify-start flex-items-start">
                  <div class="blob-num blame-blob-num color-bg-subtle js-line-number" id="L117">117</div>
                  <div class="blob-code blob-code-inner js-file-line" id="LC117">       <span class="pl-s"><span class="pl-pds">&quot;</span>      &lt;th&gt;0&lt;/th&gt;<span class="pl-cce">\n</span><span class="pl-pds">&quot;</span></span>,</div>
                </div>
                <div class="d-flex flex-justify-start flex-items-start">
                  <div class="blob-num blame-blob-num color-bg-subtle js-line-number" id="L118">118</div>
                  <div class="blob-code blob-code-inner js-file-line" id="LC118">       <span class="pl-s"><span class="pl-pds">&quot;</span>      &lt;td&gt;8284881&lt;/td&gt;<span class="pl-cce">\n</span><span class="pl-pds">&quot;</span></span>,</div>
                </div>
                <div class="d-flex flex-justify-start flex-items-start">
                  <div class="blob-num blame-blob-num color-bg-subtle js-line-number" id="L119">119</div>
                  <div class="blob-code blob-code-inner js-file-line" id="LC119">       <span class="pl-s"><span class="pl-pds">&quot;</span>      &lt;td&gt;621.46&lt;/td&gt;<span class="pl-cce">\n</span><span class="pl-pds">&quot;</span></span>,</div>
                </div>
                <div class="d-flex flex-justify-start flex-items-start">
                  <div class="blob-num blame-blob-num color-bg-subtle js-line-number" id="L120">120</div>
                  <div class="blob-code blob-code-inner js-file-line" id="LC120">       <span class="pl-s"><span class="pl-pds">&quot;</span>      &lt;td&gt;House&lt;/td&gt;<span class="pl-cce">\n</span><span class="pl-pds">&quot;</span></span>,</div>
                </div>
                <div class="d-flex flex-justify-start flex-items-start">
                  <div class="blob-num blame-blob-num color-bg-subtle js-line-number" id="L121">121</div>
                  <div class="blob-code blob-code-inner js-file-line" id="LC121">       <span class="pl-s"><span class="pl-pds">&quot;</span>      &lt;td&gt;Entire home/apt&lt;/td&gt;<span class="pl-cce">\n</span><span class="pl-pds">&quot;</span></span>,</div>
                </div>
                <div class="d-flex flex-justify-start flex-items-start">
                  <div class="blob-num blame-blob-num color-bg-subtle js-line-number" id="L122">122</div>
                  <div class="blob-code blob-code-inner js-file-line" id="LC122">       <span class="pl-s"><span class="pl-pds">&quot;</span>      &lt;td&gt;{TV,<span class="pl-cce">\&quot;</span>Cable TV<span class="pl-cce">\&quot;</span>,Internet,<span class="pl-cce">\&quot;</span>Wireless Internet<span class="pl-cce">\&quot;</span>,<span class="pl-cce">\&quot;</span>Air conditioning<span class="pl-cce">\&quot;</span>,Pool,Kitchen,<span class="pl-cce">\&quot;</span>Free parking on premises<span class="pl-cce">\&quot;</span>,Gym,<span class="pl-cce">\&quot;</span>Hot tub<span class="pl-cce">\&quot;</span>,<span class="pl-cce">\&quot;</span>Indoor fireplace<span class="pl-cce">\&quot;</span>,Heating,<span class="pl-cce">\&quot;</span>Family/kid friendly<span class="pl-cce">\&quot;</span>,Washer,Dryer,<span class="pl-cce">\&quot;</span>Smoke detector<span class="pl-cce">\&quot;</span>,<span class="pl-cce">\&quot;</span>Carbon monoxide detector<span class="pl-cce">\&quot;</span>,<span class="pl-cce">\&quot;</span>First aid kit<span class="pl-cce">\&quot;</span>,<span class="pl-cce">\&quot;</span>Safety card<span class="pl-cce">\&quot;</span>,<span class="pl-cce">\&quot;</span>Fire extinguisher<span class="pl-cce">\&quot;</span>,Essentials,Shampoo,<span class="pl-cce">\&quot;</span>24-hour check-in<span class="pl-cce">\&quot;</span>,Hangers,<span class="pl-cce">\&quot;</span>Hair dryer<span class="pl-cce">\&quot;</span>,Iron,<span class="pl-cce">\&quot;</span>Laptop friendly workspace<span class="pl-cce">\&quot;</span>}&lt;/td&gt;<span class="pl-cce">\n</span><span class="pl-pds">&quot;</span></span>,</div>
                </div>
                <div class="d-flex flex-justify-start flex-items-start">
                  <div class="blob-num blame-blob-num color-bg-subtle js-line-number" id="L123">123</div>
                  <div class="blob-code blob-code-inner js-file-line" id="LC123">       <span class="pl-s"><span class="pl-pds">&quot;</span>      &lt;td&gt;8&lt;/td&gt;<span class="pl-cce">\n</span><span class="pl-pds">&quot;</span></span>,</div>
                </div>
                <div class="d-flex flex-justify-start flex-items-start">
                  <div class="blob-num blame-blob-num color-bg-subtle js-line-number" id="L124">124</div>
                  <div class="blob-code blob-code-inner js-file-line" id="LC124">       <span class="pl-s"><span class="pl-pds">&quot;</span>      &lt;td&gt;3&lt;/td&gt;<span class="pl-cce">\n</span><span class="pl-pds">&quot;</span></span>,</div>
                </div>
                <div class="d-flex flex-justify-start flex-items-start">
                  <div class="blob-num blame-blob-num color-bg-subtle js-line-number" id="L125">125</div>
                  <div class="blob-code blob-code-inner js-file-line" id="LC125">       <span class="pl-s"><span class="pl-pds">&quot;</span>      &lt;td&gt;Real Bed&lt;/td&gt;<span class="pl-cce">\n</span><span class="pl-pds">&quot;</span></span>,</div>
                </div>
                <div class="d-flex flex-justify-start flex-items-start">
                  <div class="blob-num blame-blob-num color-bg-subtle js-line-number" id="L126">126</div>
                  <div class="blob-code blob-code-inner js-file-line" id="LC126">       <span class="pl-s"><span class="pl-pds">&quot;</span>      &lt;td&gt;strict&lt;/td&gt;<span class="pl-cce">\n</span><span class="pl-pds">&quot;</span></span>,</div>
                </div>
                <div class="d-flex flex-justify-start flex-items-start">
                  <div class="blob-num blame-blob-num color-bg-subtle js-line-number" id="L127">127</div>
                  <div class="blob-code blob-code-inner js-file-line" id="LC127">       <span class="pl-s"><span class="pl-pds">&quot;</span>      &lt;td&gt;1&lt;/td&gt;<span class="pl-cce">\n</span><span class="pl-pds">&quot;</span></span>,</div>
                </div>
                <div class="d-flex flex-justify-start flex-items-start">
                  <div class="blob-num blame-blob-num color-bg-subtle js-line-number" id="L128">128</div>
                  <div class="blob-code blob-code-inner js-file-line" id="LC128">       <span class="pl-s"><span class="pl-pds">&quot;</span>      &lt;td&gt;LA&lt;/td&gt;<span class="pl-cce">\n</span><span class="pl-pds">&quot;</span></span>,</div>
                </div>
                <div class="d-flex flex-justify-start flex-items-start">
                  <div class="blob-num blame-blob-num color-bg-subtle js-line-number" id="L129">129</div>
                  <div class="blob-code blob-code-inner js-file-line" id="LC129">       <span class="pl-s"><span class="pl-pds">&quot;</span>      &lt;td&gt;f&lt;/td&gt;<span class="pl-cce">\n</span><span class="pl-pds">&quot;</span></span>,</div>
                </div>
                <div class="d-flex flex-justify-start flex-items-start">
                  <div class="blob-num blame-blob-num color-bg-subtle js-line-number" id="L130">130</div>
                  <div class="blob-code blob-code-inner js-file-line" id="LC130">       <span class="pl-s"><span class="pl-pds">&quot;</span>      &lt;td&gt;100%&lt;/td&gt;<span class="pl-cce">\n</span><span class="pl-pds">&quot;</span></span>,</div>
                </div>
                <div class="d-flex flex-justify-start flex-items-start">
                  <div class="blob-num blame-blob-num color-bg-subtle js-line-number" id="L131">131</div>
                  <div class="blob-code blob-code-inner js-file-line" id="LC131">       <span class="pl-s"><span class="pl-pds">&quot;</span>      &lt;td&gt;2016-11-01&lt;/td&gt;<span class="pl-cce">\n</span><span class="pl-pds">&quot;</span></span>,</div>
                </div>
                <div class="d-flex flex-justify-start flex-items-start">
                  <div class="blob-num blame-blob-num color-bg-subtle js-line-number" id="L132">132</div>
                  <div class="blob-code blob-code-inner js-file-line" id="LC132">       <span class="pl-s"><span class="pl-pds">&quot;</span>      &lt;td&gt;Pacific Palisades&lt;/td&gt;<span class="pl-cce">\n</span><span class="pl-pds">&quot;</span></span>,</div>
                </div>
                <div class="d-flex flex-justify-start flex-items-start">
                  <div class="blob-num blame-blob-num color-bg-subtle js-line-number" id="L133">133</div>
                  <div class="blob-code blob-code-inner js-file-line" id="LC133">       <span class="pl-s"><span class="pl-pds">&quot;</span>      &lt;td&gt;1&lt;/td&gt;<span class="pl-cce">\n</span><span class="pl-pds">&quot;</span></span>,</div>
                </div>
                <div class="d-flex flex-justify-start flex-items-start">
                  <div class="blob-num blame-blob-num color-bg-subtle js-line-number" id="L134">134</div>
                  <div class="blob-code blob-code-inner js-file-line" id="LC134">       <span class="pl-s"><span class="pl-pds">&quot;</span>      &lt;td&gt;NaN&lt;/td&gt;<span class="pl-cce">\n</span><span class="pl-pds">&quot;</span></span>,</div>
                </div>
                <div class="d-flex flex-justify-start flex-items-start">
                  <div class="blob-num blame-blob-num color-bg-subtle js-line-number" id="L135">135</div>
                  <div class="blob-code blob-code-inner js-file-line" id="LC135">       <span class="pl-s"><span class="pl-pds">&quot;</span>      &lt;td&gt;90272&lt;/td&gt;<span class="pl-cce">\n</span><span class="pl-pds">&quot;</span></span>,</div>
                </div>
                <div class="d-flex flex-justify-start flex-items-start">
                  <div class="blob-num blame-blob-num color-bg-subtle js-line-number" id="L136">136</div>
                  <div class="blob-code blob-code-inner js-file-line" id="LC136">       <span class="pl-s"><span class="pl-pds">&quot;</span>      &lt;td&gt;4&lt;/td&gt;<span class="pl-cce">\n</span><span class="pl-pds">&quot;</span></span>,</div>
                </div>
                <div class="d-flex flex-justify-start flex-items-start">
                  <div class="blob-num blame-blob-num color-bg-subtle js-line-number" id="L137">137</div>
                  <div class="blob-code blob-code-inner js-file-line" id="LC137">       <span class="pl-s"><span class="pl-pds">&quot;</span>      &lt;td&gt;6&lt;/td&gt;<span class="pl-cce">\n</span><span class="pl-pds">&quot;</span></span>,</div>
                </div>
                <div class="d-flex flex-justify-start flex-items-start">
                  <div class="blob-num blame-blob-num color-bg-subtle js-line-number" id="L138">138</div>
                  <div class="blob-code blob-code-inner js-file-line" id="LC138">       <span class="pl-s"><span class="pl-pds">&quot;</span>    &lt;/tr&gt;<span class="pl-cce">\n</span><span class="pl-pds">&quot;</span></span>,</div>
                </div>
                <div class="d-flex flex-justify-start flex-items-start">
                  <div class="blob-num blame-blob-num color-bg-subtle js-line-number" id="L139">139</div>
                  <div class="blob-code blob-code-inner js-file-line" id="LC139">       <span class="pl-s"><span class="pl-pds">&quot;</span>    &lt;tr&gt;<span class="pl-cce">\n</span><span class="pl-pds">&quot;</span></span>,</div>
                </div>
                <div class="d-flex flex-justify-start flex-items-start">
                  <div class="blob-num blame-blob-num color-bg-subtle js-line-number" id="L140">140</div>
                  <div class="blob-code blob-code-inner js-file-line" id="LC140">       <span class="pl-s"><span class="pl-pds">&quot;</span>      &lt;th&gt;1&lt;/th&gt;<span class="pl-cce">\n</span><span class="pl-pds">&quot;</span></span>,</div>
                </div>
                <div class="d-flex flex-justify-start flex-items-start">
                  <div class="blob-num blame-blob-num color-bg-subtle js-line-number" id="L141">141</div>
                  <div class="blob-code blob-code-inner js-file-line" id="LC141">       <span class="pl-s"><span class="pl-pds">&quot;</span>      &lt;td&gt;8284882&lt;/td&gt;<span class="pl-cce">\n</span><span class="pl-pds">&quot;</span></span>,</div>
                </div>
                <div class="d-flex flex-justify-start flex-items-start">
                  <div class="blob-num blame-blob-num color-bg-subtle js-line-number" id="L142">142</div>
                  <div class="blob-code blob-code-inner js-file-line" id="LC142">       <span class="pl-s"><span class="pl-pds">&quot;</span>      &lt;td&gt;621.46&lt;/td&gt;<span class="pl-cce">\n</span><span class="pl-pds">&quot;</span></span>,</div>
                </div>
                <div class="d-flex flex-justify-start flex-items-start">
                  <div class="blob-num blame-blob-num color-bg-subtle js-line-number" id="L143">143</div>
                  <div class="blob-code blob-code-inner js-file-line" id="LC143">       <span class="pl-s"><span class="pl-pds">&quot;</span>      &lt;td&gt;House&lt;/td&gt;<span class="pl-cce">\n</span><span class="pl-pds">&quot;</span></span>,</div>
                </div>
                <div class="d-flex flex-justify-start flex-items-start">
                  <div class="blob-num blame-blob-num color-bg-subtle js-line-number" id="L144">144</div>
                  <div class="blob-code blob-code-inner js-file-line" id="LC144">       <span class="pl-s"><span class="pl-pds">&quot;</span>      &lt;td&gt;Entire home/apt&lt;/td&gt;<span class="pl-cce">\n</span><span class="pl-pds">&quot;</span></span>,</div>
                </div>
                <div class="d-flex flex-justify-start flex-items-start">
                  <div class="blob-num blame-blob-num color-bg-subtle js-line-number" id="L145">145</div>
                  <div class="blob-code blob-code-inner js-file-line" id="LC145">       <span class="pl-s"><span class="pl-pds">&quot;</span>      &lt;td&gt;{TV,<span class="pl-cce">\&quot;</span>Cable TV<span class="pl-cce">\&quot;</span>,Internet,<span class="pl-cce">\&quot;</span>Wireless Internet<span class="pl-cce">\&quot;</span>,<span class="pl-cce">\&quot;</span>Air conditioning<span class="pl-cce">\&quot;</span>,Pool,Kitchen,<span class="pl-cce">\&quot;</span>Free parking on premises<span class="pl-cce">\&quot;</span>,Gym,<span class="pl-cce">\&quot;</span>Hot tub<span class="pl-cce">\&quot;</span>,<span class="pl-cce">\&quot;</span>Indoor fireplace<span class="pl-cce">\&quot;</span>,Heating,<span class="pl-cce">\&quot;</span>Family/kid friendly<span class="pl-cce">\&quot;</span>,Washer,Dryer,<span class="pl-cce">\&quot;</span>Smoke detector<span class="pl-cce">\&quot;</span>,<span class="pl-cce">\&quot;</span>Carbon monoxide detector<span class="pl-cce">\&quot;</span>,<span class="pl-cce">\&quot;</span>First aid kit<span class="pl-cce">\&quot;</span>,<span class="pl-cce">\&quot;</span>Safety card<span class="pl-cce">\&quot;</span>,<span class="pl-cce">\&quot;</span>Fire extinguisher<span class="pl-cce">\&quot;</span>,Essentials,Shampoo,<span class="pl-cce">\&quot;</span>24-hour check-in<span class="pl-cce">\&quot;</span>,Hangers,<span class="pl-cce">\&quot;</span>Hair dryer<span class="pl-cce">\&quot;</span>,Iron,<span class="pl-cce">\&quot;</span>Laptop friendly workspace<span class="pl-cce">\&quot;</span>}&lt;/td&gt;<span class="pl-cce">\n</span><span class="pl-pds">&quot;</span></span>,</div>
                </div>
                <div class="d-flex flex-justify-start flex-items-start">
                  <div class="blob-num blame-blob-num color-bg-subtle js-line-number" id="L146">146</div>
                  <div class="blob-code blob-code-inner js-file-line" id="LC146">       <span class="pl-s"><span class="pl-pds">&quot;</span>      &lt;td&gt;8&lt;/td&gt;<span class="pl-cce">\n</span><span class="pl-pds">&quot;</span></span>,</div>
                </div>
                <div class="d-flex flex-justify-start flex-items-start">
                  <div class="blob-num blame-blob-num color-bg-subtle js-line-number" id="L147">147</div>
                  <div class="blob-code blob-code-inner js-file-line" id="LC147">       <span class="pl-s"><span class="pl-pds">&quot;</span>      &lt;td&gt;3&lt;/td&gt;<span class="pl-cce">\n</span><span class="pl-pds">&quot;</span></span>,</div>
                </div>
                <div class="d-flex flex-justify-start flex-items-start">
                  <div class="blob-num blame-blob-num color-bg-subtle js-line-number" id="L148">148</div>
                  <div class="blob-code blob-code-inner js-file-line" id="LC148">       <span class="pl-s"><span class="pl-pds">&quot;</span>      &lt;td&gt;Real Bed&lt;/td&gt;<span class="pl-cce">\n</span><span class="pl-pds">&quot;</span></span>,</div>
                </div>
                <div class="d-flex flex-justify-start flex-items-start">
                  <div class="blob-num blame-blob-num color-bg-subtle js-line-number" id="L149">149</div>
                  <div class="blob-code blob-code-inner js-file-line" id="LC149">       <span class="pl-s"><span class="pl-pds">&quot;</span>      &lt;td&gt;strict&lt;/td&gt;<span class="pl-cce">\n</span><span class="pl-pds">&quot;</span></span>,</div>
                </div>
                <div class="d-flex flex-justify-start flex-items-start">
                  <div class="blob-num blame-blob-num color-bg-subtle js-line-number" id="L150">150</div>
                  <div class="blob-code blob-code-inner js-file-line" id="LC150">       <span class="pl-s"><span class="pl-pds">&quot;</span>      &lt;td&gt;1&lt;/td&gt;<span class="pl-cce">\n</span><span class="pl-pds">&quot;</span></span>,</div>
                </div>
                <div class="d-flex flex-justify-start flex-items-start">
                  <div class="blob-num blame-blob-num color-bg-subtle js-line-number" id="L151">151</div>
                  <div class="blob-code blob-code-inner js-file-line" id="LC151">       <span class="pl-s"><span class="pl-pds">&quot;</span>      &lt;td&gt;LA&lt;/td&gt;<span class="pl-cce">\n</span><span class="pl-pds">&quot;</span></span>,</div>
                </div>
                <div class="d-flex flex-justify-start flex-items-start">
                  <div class="blob-num blame-blob-num color-bg-subtle js-line-number" id="L152">152</div>
                  <div class="blob-code blob-code-inner js-file-line" id="LC152">       <span class="pl-s"><span class="pl-pds">&quot;</span>      &lt;td&gt;f&lt;/td&gt;<span class="pl-cce">\n</span><span class="pl-pds">&quot;</span></span>,</div>
                </div>
                <div class="d-flex flex-justify-start flex-items-start">
                  <div class="blob-num blame-blob-num color-bg-subtle js-line-number" id="L153">153</div>
                  <div class="blob-code blob-code-inner js-file-line" id="LC153">       <span class="pl-s"><span class="pl-pds">&quot;</span>      &lt;td&gt;100%&lt;/td&gt;<span class="pl-cce">\n</span><span class="pl-pds">&quot;</span></span>,</div>
                </div>
                <div class="d-flex flex-justify-start flex-items-start">
                  <div class="blob-num blame-blob-num color-bg-subtle js-line-number" id="L154">154</div>
                  <div class="blob-code blob-code-inner js-file-line" id="LC154">       <span class="pl-s"><span class="pl-pds">&quot;</span>      &lt;td&gt;2016-11-01&lt;/td&gt;<span class="pl-cce">\n</span><span class="pl-pds">&quot;</span></span>,</div>
                </div>
                <div class="d-flex flex-justify-start flex-items-start">
                  <div class="blob-num blame-blob-num color-bg-subtle js-line-number" id="L155">155</div>
                  <div class="blob-code blob-code-inner js-file-line" id="LC155">       <span class="pl-s"><span class="pl-pds">&quot;</span>      &lt;td&gt;Pacific Palisades&lt;/td&gt;<span class="pl-cce">\n</span><span class="pl-pds">&quot;</span></span>,</div>
                </div>
                <div class="d-flex flex-justify-start flex-items-start">
                  <div class="blob-num blame-blob-num color-bg-subtle js-line-number" id="L156">156</div>
                  <div class="blob-code blob-code-inner js-file-line" id="LC156">       <span class="pl-s"><span class="pl-pds">&quot;</span>      &lt;td&gt;1&lt;/td&gt;<span class="pl-cce">\n</span><span class="pl-pds">&quot;</span></span>,</div>
                </div>
                <div class="d-flex flex-justify-start flex-items-start">
                  <div class="blob-num blame-blob-num color-bg-subtle js-line-number" id="L157">157</div>
                  <div class="blob-code blob-code-inner js-file-line" id="LC157">       <span class="pl-s"><span class="pl-pds">&quot;</span>      &lt;td&gt;NaN&lt;/td&gt;<span class="pl-cce">\n</span><span class="pl-pds">&quot;</span></span>,</div>
                </div>
                <div class="d-flex flex-justify-start flex-items-start">
                  <div class="blob-num blame-blob-num color-bg-subtle js-line-number" id="L158">158</div>
                  <div class="blob-code blob-code-inner js-file-line" id="LC158">       <span class="pl-s"><span class="pl-pds">&quot;</span>      &lt;td&gt;90272&lt;/td&gt;<span class="pl-cce">\n</span><span class="pl-pds">&quot;</span></span>,</div>
                </div>
                <div class="d-flex flex-justify-start flex-items-start">
                  <div class="blob-num blame-blob-num color-bg-subtle js-line-number" id="L159">159</div>
                  <div class="blob-code blob-code-inner js-file-line" id="LC159">       <span class="pl-s"><span class="pl-pds">&quot;</span>      &lt;td&gt;4&lt;/td&gt;<span class="pl-cce">\n</span><span class="pl-pds">&quot;</span></span>,</div>
                </div>
                <div class="d-flex flex-justify-start flex-items-start">
                  <div class="blob-num blame-blob-num color-bg-subtle js-line-number" id="L160">160</div>
                  <div class="blob-code blob-code-inner js-file-line" id="LC160">       <span class="pl-s"><span class="pl-pds">&quot;</span>      &lt;td&gt;6&lt;/td&gt;<span class="pl-cce">\n</span><span class="pl-pds">&quot;</span></span>,</div>
                </div>
                <div class="d-flex flex-justify-start flex-items-start">
                  <div class="blob-num blame-blob-num color-bg-subtle js-line-number" id="L161">161</div>
                  <div class="blob-code blob-code-inner js-file-line" id="LC161">       <span class="pl-s"><span class="pl-pds">&quot;</span>    &lt;/tr&gt;<span class="pl-cce">\n</span><span class="pl-pds">&quot;</span></span>,</div>
                </div>
                <div class="d-flex flex-justify-start flex-items-start">
                  <div class="blob-num blame-blob-num color-bg-subtle js-line-number" id="L162">162</div>
                  <div class="blob-code blob-code-inner js-file-line" id="LC162">       <span class="pl-s"><span class="pl-pds">&quot;</span>    &lt;tr&gt;<span class="pl-cce">\n</span><span class="pl-pds">&quot;</span></span>,</div>
                </div>
                <div class="d-flex flex-justify-start flex-items-start">
                  <div class="blob-num blame-blob-num color-bg-subtle js-line-number" id="L163">163</div>
                  <div class="blob-code blob-code-inner js-file-line" id="LC163">       <span class="pl-s"><span class="pl-pds">&quot;</span>      &lt;th&gt;2&lt;/th&gt;<span class="pl-cce">\n</span><span class="pl-pds">&quot;</span></span>,</div>
                </div>
                <div class="d-flex flex-justify-start flex-items-start">
                  <div class="blob-num blame-blob-num color-bg-subtle js-line-number" id="L164">164</div>
                  <div class="blob-code blob-code-inner js-file-line" id="LC164">       <span class="pl-s"><span class="pl-pds">&quot;</span>      &lt;td&gt;9479348&lt;/td&gt;<span class="pl-cce">\n</span><span class="pl-pds">&quot;</span></span>,</div>
                </div>
                <div class="d-flex flex-justify-start flex-items-start">
                  <div class="blob-num blame-blob-num color-bg-subtle js-line-number" id="L165">165</div>
                  <div class="blob-code blob-code-inner js-file-line" id="LC165">       <span class="pl-s"><span class="pl-pds">&quot;</span>      &lt;td&gt;598.90&lt;/td&gt;<span class="pl-cce">\n</span><span class="pl-pds">&quot;</span></span>,</div>
                </div>
                <div class="d-flex flex-justify-start flex-items-start">
                  <div class="blob-num blame-blob-num color-bg-subtle js-line-number" id="L166">166</div>
                  <div class="blob-code blob-code-inner js-file-line" id="LC166">       <span class="pl-s"><span class="pl-pds">&quot;</span>      &lt;td&gt;Apartment&lt;/td&gt;<span class="pl-cce">\n</span><span class="pl-pds">&quot;</span></span>,</div>
                </div>
                <div class="d-flex flex-justify-start flex-items-start">
                  <div class="blob-num blame-blob-num color-bg-subtle js-line-number" id="L167">167</div>
                  <div class="blob-code blob-code-inner js-file-line" id="LC167">       <span class="pl-s"><span class="pl-pds">&quot;</span>      &lt;td&gt;Entire home/apt&lt;/td&gt;<span class="pl-cce">\n</span><span class="pl-pds">&quot;</span></span>,</div>
                </div>
                <div class="d-flex flex-justify-start flex-items-start">
                  <div class="blob-num blame-blob-num color-bg-subtle js-line-number" id="L168">168</div>
                  <div class="blob-code blob-code-inner js-file-line" id="LC168">       <span class="pl-s"><span class="pl-pds">&quot;</span>      &lt;td&gt;{<span class="pl-cce">\&quot;</span>Wireless Internet<span class="pl-cce">\&quot;</span>,<span class="pl-cce">\&quot;</span>Air conditioning<span class="pl-cce">\&quot;</span>,Kitchen,Heating,<span class="pl-cce">\&quot;</span>Smoke detector<span class="pl-cce">\&quot;</span>,<span class="pl-cce">\&quot;</span>Carbon monoxide detector<span class="pl-cce">\&quot;</span>,Essentials,Shampoo,Hangers,Iron,<span class="pl-cce">\&quot;</span>translation missing: en.hosting_amenity_49<span class="pl-cce">\&quot;</span>,<span class="pl-cce">\&quot;</span>translation missing: en.hosting_amenity_50<span class="pl-cce">\&quot;</span>}&lt;/td&gt;<span class="pl-cce">\n</span><span class="pl-pds">&quot;</span></span>,</div>
                </div>
                <div class="d-flex flex-justify-start flex-items-start">
                  <div class="blob-num blame-blob-num color-bg-subtle js-line-number" id="L169">169</div>
                  <div class="blob-code blob-code-inner js-file-line" id="LC169">       <span class="pl-s"><span class="pl-pds">&quot;</span>      &lt;td&gt;7&lt;/td&gt;<span class="pl-cce">\n</span><span class="pl-pds">&quot;</span></span>,</div>
                </div>
                <div class="d-flex flex-justify-start flex-items-start">
                  <div class="blob-num blame-blob-num color-bg-subtle js-line-number" id="L170">170</div>
                  <div class="blob-code blob-code-inner js-file-line" id="LC170">       <span class="pl-s"><span class="pl-pds">&quot;</span>      &lt;td&gt;2&lt;/td&gt;<span class="pl-cce">\n</span><span class="pl-pds">&quot;</span></span>,</div>
                </div>
                <div class="d-flex flex-justify-start flex-items-start">
                  <div class="blob-num blame-blob-num color-bg-subtle js-line-number" id="L171">171</div>
                  <div class="blob-code blob-code-inner js-file-line" id="LC171">       <span class="pl-s"><span class="pl-pds">&quot;</span>      &lt;td&gt;Real Bed&lt;/td&gt;<span class="pl-cce">\n</span><span class="pl-pds">&quot;</span></span>,</div>
                </div>
                <div class="d-flex flex-justify-start flex-items-start">
                  <div class="blob-num blame-blob-num color-bg-subtle js-line-number" id="L172">172</div>
                  <div class="blob-code blob-code-inner js-file-line" id="LC172">       <span class="pl-s"><span class="pl-pds">&quot;</span>      &lt;td&gt;strict&lt;/td&gt;<span class="pl-cce">\n</span><span class="pl-pds">&quot;</span></span>,</div>
                </div>
                <div class="d-flex flex-justify-start flex-items-start">
                  <div class="blob-num blame-blob-num color-bg-subtle js-line-number" id="L173">173</div>
                  <div class="blob-code blob-code-inner js-file-line" id="LC173">       <span class="pl-s"><span class="pl-pds">&quot;</span>      &lt;td&gt;0&lt;/td&gt;<span class="pl-cce">\n</span><span class="pl-pds">&quot;</span></span>,</div>
                </div>
                <div class="d-flex flex-justify-start flex-items-start">
                  <div class="blob-num blame-blob-num color-bg-subtle js-line-number" id="L174">174</div>
                  <div class="blob-code blob-code-inner js-file-line" id="LC174">       <span class="pl-s"><span class="pl-pds">&quot;</span>      &lt;td&gt;NYC&lt;/td&gt;<span class="pl-cce">\n</span><span class="pl-pds">&quot;</span></span>,</div>
                </div>
                <div class="d-flex flex-justify-start flex-items-start">
                  <div class="blob-num blame-blob-num color-bg-subtle js-line-number" id="L175">175</div>
                  <div class="blob-code blob-code-inner js-file-line" id="LC175">       <span class="pl-s"><span class="pl-pds">&quot;</span>      &lt;td&gt;f&lt;/td&gt;<span class="pl-cce">\n</span><span class="pl-pds">&quot;</span></span>,</div>
                </div>
                <div class="d-flex flex-justify-start flex-items-start">
                  <div class="blob-num blame-blob-num color-bg-subtle js-line-number" id="L176">176</div>
                  <div class="blob-code blob-code-inner js-file-line" id="LC176">       <span class="pl-s"><span class="pl-pds">&quot;</span>      &lt;td&gt;100%&lt;/td&gt;<span class="pl-cce">\n</span><span class="pl-pds">&quot;</span></span>,</div>
                </div>
                <div class="d-flex flex-justify-start flex-items-start">
                  <div class="blob-num blame-blob-num color-bg-subtle js-line-number" id="L177">177</div>
                  <div class="blob-code blob-code-inner js-file-line" id="LC177">       <span class="pl-s"><span class="pl-pds">&quot;</span>      &lt;td&gt;2017-07-03&lt;/td&gt;<span class="pl-cce">\n</span><span class="pl-pds">&quot;</span></span>,</div>
                </div>
                <div class="d-flex flex-justify-start flex-items-start">
                  <div class="blob-num blame-blob-num color-bg-subtle js-line-number" id="L178">178</div>
                  <div class="blob-code blob-code-inner js-file-line" id="LC178">       <span class="pl-s"><span class="pl-pds">&quot;</span>      &lt;td&gt;Hell&#39;s Kitchen&lt;/td&gt;<span class="pl-cce">\n</span><span class="pl-pds">&quot;</span></span>,</div>
                </div>
                <div class="d-flex flex-justify-start flex-items-start">
                  <div class="blob-num blame-blob-num color-bg-subtle js-line-number" id="L179">179</div>
                  <div class="blob-code blob-code-inner js-file-line" id="LC179">       <span class="pl-s"><span class="pl-pds">&quot;</span>      &lt;td&gt;1&lt;/td&gt;<span class="pl-cce">\n</span><span class="pl-pds">&quot;</span></span>,</div>
                </div>
                <div class="d-flex flex-justify-start flex-items-start">
                  <div class="blob-num blame-blob-num color-bg-subtle js-line-number" id="L180">180</div>
                  <div class="blob-code blob-code-inner js-file-line" id="LC180">       <span class="pl-s"><span class="pl-pds">&quot;</span>      &lt;td&gt;60.00&lt;/td&gt;<span class="pl-cce">\n</span><span class="pl-pds">&quot;</span></span>,</div>
                </div>
                <div class="d-flex flex-justify-start flex-items-start">
                  <div class="blob-num blame-blob-num color-bg-subtle js-line-number" id="L181">181</div>
                  <div class="blob-code blob-code-inner js-file-line" id="LC181">       <span class="pl-s"><span class="pl-pds">&quot;</span>      &lt;td&gt;10036&lt;/td&gt;<span class="pl-cce">\n</span><span class="pl-pds">&quot;</span></span>,</div>
                </div>
                <div class="d-flex flex-justify-start flex-items-start">
                  <div class="blob-num blame-blob-num color-bg-subtle js-line-number" id="L182">182</div>
                  <div class="blob-code blob-code-inner js-file-line" id="LC182">       <span class="pl-s"><span class="pl-pds">&quot;</span>      &lt;td&gt;3&lt;/td&gt;<span class="pl-cce">\n</span><span class="pl-pds">&quot;</span></span>,</div>
                </div>
                <div class="d-flex flex-justify-start flex-items-start">
                  <div class="blob-num blame-blob-num color-bg-subtle js-line-number" id="L183">183</div>
                  <div class="blob-code blob-code-inner js-file-line" id="LC183">       <span class="pl-s"><span class="pl-pds">&quot;</span>      &lt;td&gt;4&lt;/td&gt;<span class="pl-cce">\n</span><span class="pl-pds">&quot;</span></span>,</div>
                </div>
                <div class="d-flex flex-justify-start flex-items-start">
                  <div class="blob-num blame-blob-num color-bg-subtle js-line-number" id="L184">184</div>
                  <div class="blob-code blob-code-inner js-file-line" id="LC184">       <span class="pl-s"><span class="pl-pds">&quot;</span>    &lt;/tr&gt;<span class="pl-cce">\n</span><span class="pl-pds">&quot;</span></span>,</div>
                </div>
                <div class="d-flex flex-justify-start flex-items-start">
                  <div class="blob-num blame-blob-num color-bg-subtle js-line-number" id="L185">185</div>
                  <div class="blob-code blob-code-inner js-file-line" id="LC185">       <span class="pl-s"><span class="pl-pds">&quot;</span>    &lt;tr&gt;<span class="pl-cce">\n</span><span class="pl-pds">&quot;</span></span>,</div>
                </div>
                <div class="d-flex flex-justify-start flex-items-start">
                  <div class="blob-num blame-blob-num color-bg-subtle js-line-number" id="L186">186</div>
                  <div class="blob-code blob-code-inner js-file-line" id="LC186">       <span class="pl-s"><span class="pl-pds">&quot;</span>      &lt;th&gt;3&lt;/th&gt;<span class="pl-cce">\n</span><span class="pl-pds">&quot;</span></span>,</div>
                </div>
                <div class="d-flex flex-justify-start flex-items-start">
                  <div class="blob-num blame-blob-num color-bg-subtle js-line-number" id="L187">187</div>
                  <div class="blob-code blob-code-inner js-file-line" id="LC187">       <span class="pl-s"><span class="pl-pds">&quot;</span>      &lt;td&gt;8596057&lt;/td&gt;<span class="pl-cce">\n</span><span class="pl-pds">&quot;</span></span>,</div>
                </div>
                <div class="d-flex flex-justify-start flex-items-start">
                  <div class="blob-num blame-blob-num color-bg-subtle js-line-number" id="L188">188</div>
                  <div class="blob-code blob-code-inner js-file-line" id="LC188">       <span class="pl-s"><span class="pl-pds">&quot;</span>      &lt;td&gt;420.47&lt;/td&gt;<span class="pl-cce">\n</span><span class="pl-pds">&quot;</span></span>,</div>
                </div>
                <div class="d-flex flex-justify-start flex-items-start">
                  <div class="blob-num blame-blob-num color-bg-subtle js-line-number" id="L189">189</div>
                  <div class="blob-code blob-code-inner js-file-line" id="LC189">       <span class="pl-s"><span class="pl-pds">&quot;</span>      &lt;td&gt;House&lt;/td&gt;<span class="pl-cce">\n</span><span class="pl-pds">&quot;</span></span>,</div>
                </div>
                <div class="d-flex flex-justify-start flex-items-start">
                  <div class="blob-num blame-blob-num color-bg-subtle js-line-number" id="L190">190</div>
                  <div class="blob-code blob-code-inner js-file-line" id="LC190">       <span class="pl-s"><span class="pl-pds">&quot;</span>      &lt;td&gt;Private room&lt;/td&gt;<span class="pl-cce">\n</span><span class="pl-pds">&quot;</span></span>,</div>
                </div>
                <div class="d-flex flex-justify-start flex-items-start">
                  <div class="blob-num blame-blob-num color-bg-subtle js-line-number" id="L191">191</div>
                  <div class="blob-code blob-code-inner js-file-line" id="LC191">       <span class="pl-s"><span class="pl-pds">&quot;</span>      &lt;td&gt;{<span class="pl-cce">\&quot;</span>Wireless Internet<span class="pl-cce">\&quot;</span>,<span class="pl-cce">\&quot;</span>Air conditioning<span class="pl-cce">\&quot;</span>,Pool,Kitchen,<span class="pl-cce">\&quot;</span>Free parking on premises<span class="pl-cce">\&quot;</span>,Breakfast,<span class="pl-cce">\&quot;</span>Family/kid friendly<span class="pl-cce">\&quot;</span>,Washer,Dryer,Essentials,Shampoo,Hangers,<span class="pl-cce">\&quot;</span>Hair dryer<span class="pl-cce">\&quot;</span>,<span class="pl-cce">\&quot;</span>Self Check-In<span class="pl-cce">\&quot;</span>,<span class="pl-cce">\&quot;</span>Doorman Entry<span class="pl-cce">\&quot;</span>}&lt;/td&gt;<span class="pl-cce">\n</span><span class="pl-pds">&quot;</span></span>,</div>
                </div>
                <div class="d-flex flex-justify-start flex-items-start">
                  <div class="blob-num blame-blob-num color-bg-subtle js-line-number" id="L192">192</div>
                  <div class="blob-code blob-code-inner js-file-line" id="LC192">       <span class="pl-s"><span class="pl-pds">&quot;</span>      &lt;td&gt;1&lt;/td&gt;<span class="pl-cce">\n</span><span class="pl-pds">&quot;</span></span>,</div>
                </div>
                <div class="d-flex flex-justify-start flex-items-start">
                  <div class="blob-num blame-blob-num color-bg-subtle js-line-number" id="L193">193</div>
                  <div class="blob-code blob-code-inner js-file-line" id="LC193">       <span class="pl-s"><span class="pl-pds">&quot;</span>      &lt;td&gt;2&lt;/td&gt;<span class="pl-cce">\n</span><span class="pl-pds">&quot;</span></span>,</div>
                </div>
                <div class="d-flex flex-justify-start flex-items-start">
                  <div class="blob-num blame-blob-num color-bg-subtle js-line-number" id="L194">194</div>
                  <div class="blob-code blob-code-inner js-file-line" id="LC194">       <span class="pl-s"><span class="pl-pds">&quot;</span>      &lt;td&gt;Real Bed&lt;/td&gt;<span class="pl-cce">\n</span><span class="pl-pds">&quot;</span></span>,</div>
                </div>
                <div class="d-flex flex-justify-start flex-items-start">
                  <div class="blob-num blame-blob-num color-bg-subtle js-line-number" id="L195">195</div>
                  <div class="blob-code blob-code-inner js-file-line" id="LC195">       <span class="pl-s"><span class="pl-pds">&quot;</span>      &lt;td&gt;flexible&lt;/td&gt;<span class="pl-cce">\n</span><span class="pl-pds">&quot;</span></span>,</div>
                </div>
                <div class="d-flex flex-justify-start flex-items-start">
                  <div class="blob-num blame-blob-num color-bg-subtle js-line-number" id="L196">196</div>
                  <div class="blob-code blob-code-inner js-file-line" id="LC196">       <span class="pl-s"><span class="pl-pds">&quot;</span>      &lt;td&gt;0&lt;/td&gt;<span class="pl-cce">\n</span><span class="pl-pds">&quot;</span></span>,</div>
                </div>
                <div class="d-flex flex-justify-start flex-items-start">
                  <div class="blob-num blame-blob-num color-bg-subtle js-line-number" id="L197">197</div>
                  <div class="blob-code blob-code-inner js-file-line" id="LC197">       <span class="pl-s"><span class="pl-pds">&quot;</span>      &lt;td&gt;LA&lt;/td&gt;<span class="pl-cce">\n</span><span class="pl-pds">&quot;</span></span>,</div>
                </div>
                <div class="d-flex flex-justify-start flex-items-start">
                  <div class="blob-num blame-blob-num color-bg-subtle js-line-number" id="L198">198</div>
                  <div class="blob-code blob-code-inner js-file-line" id="LC198">       <span class="pl-s"><span class="pl-pds">&quot;</span>      &lt;td&gt;f&lt;/td&gt;<span class="pl-cce">\n</span><span class="pl-pds">&quot;</span></span>,</div>
                </div>
                <div class="d-flex flex-justify-start flex-items-start">
                  <div class="blob-num blame-blob-num color-bg-subtle js-line-number" id="L199">199</div>
                  <div class="blob-code blob-code-inner js-file-line" id="LC199">       <span class="pl-s"><span class="pl-pds">&quot;</span>      &lt;td&gt;100%&lt;/td&gt;<span class="pl-cce">\n</span><span class="pl-pds">&quot;</span></span>,</div>
                </div>
                <div class="d-flex flex-justify-start flex-items-start">
                  <div class="blob-num blame-blob-num color-bg-subtle js-line-number" id="L200">200</div>
                  <div class="blob-code blob-code-inner js-file-line" id="LC200">       <span class="pl-s"><span class="pl-pds">&quot;</span>      &lt;td&gt;2016-04-20&lt;/td&gt;<span class="pl-cce">\n</span><span class="pl-pds">&quot;</span></span>,</div>
                </div>
                <div class="d-flex flex-justify-start flex-items-start">
                  <div class="blob-num blame-blob-num color-bg-subtle js-line-number" id="L201">201</div>
                  <div class="blob-code blob-code-inner js-file-line" id="LC201">       <span class="pl-s"><span class="pl-pds">&quot;</span>      &lt;td&gt;NaN&lt;/td&gt;<span class="pl-cce">\n</span><span class="pl-pds">&quot;</span></span>,</div>
                </div>
                <div class="d-flex flex-justify-start flex-items-start">
                  <div class="blob-num blame-blob-num color-bg-subtle js-line-number" id="L202">202</div>
                  <div class="blob-code blob-code-inner js-file-line" id="LC202">       <span class="pl-s"><span class="pl-pds">&quot;</span>      &lt;td&gt;0&lt;/td&gt;<span class="pl-cce">\n</span><span class="pl-pds">&quot;</span></span>,</div>
                </div>
                <div class="d-flex flex-justify-start flex-items-start">
                  <div class="blob-num blame-blob-num color-bg-subtle js-line-number" id="L203">203</div>
                  <div class="blob-code blob-code-inner js-file-line" id="LC203">       <span class="pl-s"><span class="pl-pds">&quot;</span>      &lt;td&gt;NaN&lt;/td&gt;<span class="pl-cce">\n</span><span class="pl-pds">&quot;</span></span>,</div>
                </div>
                <div class="d-flex flex-justify-start flex-items-start">
                  <div class="blob-num blame-blob-num color-bg-subtle js-line-number" id="L204">204</div>
                  <div class="blob-code blob-code-inner js-file-line" id="LC204">       <span class="pl-s"><span class="pl-pds">&quot;</span>      &lt;td&gt;91748&lt;/td&gt;<span class="pl-cce">\n</span><span class="pl-pds">&quot;</span></span>,</div>
                </div>
                <div class="d-flex flex-justify-start flex-items-start">
                  <div class="blob-num blame-blob-num color-bg-subtle js-line-number" id="L205">205</div>
                  <div class="blob-code blob-code-inner js-file-line" id="LC205">       <span class="pl-s"><span class="pl-pds">&quot;</span>      &lt;td&gt;1&lt;/td&gt;<span class="pl-cce">\n</span><span class="pl-pds">&quot;</span></span>,</div>
                </div>
                <div class="d-flex flex-justify-start flex-items-start">
                  <div class="blob-num blame-blob-num color-bg-subtle js-line-number" id="L206">206</div>
                  <div class="blob-code blob-code-inner js-file-line" id="LC206">       <span class="pl-s"><span class="pl-pds">&quot;</span>      &lt;td&gt;1&lt;/td&gt;<span class="pl-cce">\n</span><span class="pl-pds">&quot;</span></span>,</div>
                </div>
                <div class="d-flex flex-justify-start flex-items-start">
                  <div class="blob-num blame-blob-num color-bg-subtle js-line-number" id="L207">207</div>
                  <div class="blob-code blob-code-inner js-file-line" id="LC207">       <span class="pl-s"><span class="pl-pds">&quot;</span>    &lt;/tr&gt;<span class="pl-cce">\n</span><span class="pl-pds">&quot;</span></span>,</div>
                </div>
                <div class="d-flex flex-justify-start flex-items-start">
                  <div class="blob-num blame-blob-num color-bg-subtle js-line-number" id="L208">208</div>
                  <div class="blob-code blob-code-inner js-file-line" id="LC208">       <span class="pl-s"><span class="pl-pds">&quot;</span>    &lt;tr&gt;<span class="pl-cce">\n</span><span class="pl-pds">&quot;</span></span>,</div>
                </div>
                <div class="d-flex flex-justify-start flex-items-start">
                  <div class="blob-num blame-blob-num color-bg-subtle js-line-number" id="L209">209</div>
                  <div class="blob-code blob-code-inner js-file-line" id="LC209">       <span class="pl-s"><span class="pl-pds">&quot;</span>      &lt;th&gt;4&lt;/th&gt;<span class="pl-cce">\n</span><span class="pl-pds">&quot;</span></span>,</div>
                </div>
                <div class="d-flex flex-justify-start flex-items-start">
                  <div class="blob-num blame-blob-num color-bg-subtle js-line-number" id="L210">210</div>
                  <div class="blob-code blob-code-inner js-file-line" id="LC210">       <span class="pl-s"><span class="pl-pds">&quot;</span>      &lt;td&gt;11525500&lt;/td&gt;<span class="pl-cce">\n</span><span class="pl-pds">&quot;</span></span>,</div>
                </div>
                <div class="d-flex flex-justify-start flex-items-start">
                  <div class="blob-num blame-blob-num color-bg-subtle js-line-number" id="L211">211</div>
                  <div class="blob-code blob-code-inner js-file-line" id="LC211">       <span class="pl-s"><span class="pl-pds">&quot;</span>      &lt;td&gt;478.75&lt;/td&gt;<span class="pl-cce">\n</span><span class="pl-pds">&quot;</span></span>,</div>
                </div>
                <div class="d-flex flex-justify-start flex-items-start">
                  <div class="blob-num blame-blob-num color-bg-subtle js-line-number" id="L212">212</div>
                  <div class="blob-code blob-code-inner js-file-line" id="LC212">       <span class="pl-s"><span class="pl-pds">&quot;</span>      &lt;td&gt;Apartment&lt;/td&gt;<span class="pl-cce">\n</span><span class="pl-pds">&quot;</span></span>,</div>
                </div>
                <div class="d-flex flex-justify-start flex-items-start">
                  <div class="blob-num blame-blob-num color-bg-subtle js-line-number" id="L213">213</div>
                  <div class="blob-code blob-code-inner js-file-line" id="LC213">       <span class="pl-s"><span class="pl-pds">&quot;</span>      &lt;td&gt;Entire home/apt&lt;/td&gt;<span class="pl-cce">\n</span><span class="pl-pds">&quot;</span></span>,</div>
                </div>
                <div class="d-flex flex-justify-start flex-items-start">
                  <div class="blob-num blame-blob-num color-bg-subtle js-line-number" id="L214">214</div>
                  <div class="blob-code blob-code-inner js-file-line" id="LC214">       <span class="pl-s"><span class="pl-pds">&quot;</span>      &lt;td&gt;{<span class="pl-cce">\&quot;</span>Wireless Internet<span class="pl-cce">\&quot;</span>,<span class="pl-cce">\&quot;</span>Air conditioning<span class="pl-cce">\&quot;</span>,Heating,Washer,Dryer,Essentials,<span class="pl-cce">\&quot;</span>Laptop friendly workspace<span class="pl-cce">\&quot;</span>,Microwave,Refrigerator,Dishwasher,<span class="pl-cce">\&quot;</span>Dishes and silverware<span class="pl-cce">\&quot;</span>,<span class="pl-cce">\&quot;</span>Cooking basics<span class="pl-cce">\&quot;</span>,Oven,Stove,<span class="pl-cce">\&quot;</span>Host greets you<span class="pl-cce">\&quot;</span>}&lt;/td&gt;<span class="pl-cce">\n</span><span class="pl-pds">&quot;</span></span>,</div>
                </div>
                <div class="d-flex flex-justify-start flex-items-start">
                  <div class="blob-num blame-blob-num color-bg-subtle js-line-number" id="L215">215</div>
                  <div class="blob-code blob-code-inner js-file-line" id="LC215">       <span class="pl-s"><span class="pl-pds">&quot;</span>      &lt;td&gt;2&lt;/td&gt;<span class="pl-cce">\n</span><span class="pl-pds">&quot;</span></span>,</div>
                </div>
                <div class="d-flex flex-justify-start flex-items-start">
                  <div class="blob-num blame-blob-num color-bg-subtle js-line-number" id="L216">216</div>
                  <div class="blob-code blob-code-inner js-file-line" id="LC216">       <span class="pl-s"><span class="pl-pds">&quot;</span>      &lt;td&gt;1&lt;/td&gt;<span class="pl-cce">\n</span><span class="pl-pds">&quot;</span></span>,</div>
                </div>
                <div class="d-flex flex-justify-start flex-items-start">
                  <div class="blob-num blame-blob-num color-bg-subtle js-line-number" id="L217">217</div>
                  <div class="blob-code blob-code-inner js-file-line" id="LC217">       <span class="pl-s"><span class="pl-pds">&quot;</span>      &lt;td&gt;Real Bed&lt;/td&gt;<span class="pl-cce">\n</span><span class="pl-pds">&quot;</span></span>,</div>
                </div>
                <div class="d-flex flex-justify-start flex-items-start">
                  <div class="blob-num blame-blob-num color-bg-subtle js-line-number" id="L218">218</div>
                  <div class="blob-code blob-code-inner js-file-line" id="LC218">       <span class="pl-s"><span class="pl-pds">&quot;</span>      &lt;td&gt;flexible&lt;/td&gt;<span class="pl-cce">\n</span><span class="pl-pds">&quot;</span></span>,</div>
                </div>
                <div class="d-flex flex-justify-start flex-items-start">
                  <div class="blob-num blame-blob-num color-bg-subtle js-line-number" id="L219">219</div>
                  <div class="blob-code blob-code-inner js-file-line" id="LC219">       <span class="pl-s"><span class="pl-pds">&quot;</span>      &lt;td&gt;1&lt;/td&gt;<span class="pl-cce">\n</span><span class="pl-pds">&quot;</span></span>,</div>
                </div>
                <div class="d-flex flex-justify-start flex-items-start">
                  <div class="blob-num blame-blob-num color-bg-subtle js-line-number" id="L220">220</div>
                  <div class="blob-code blob-code-inner js-file-line" id="LC220">       <span class="pl-s"><span class="pl-pds">&quot;</span>      &lt;td&gt;NYC&lt;/td&gt;<span class="pl-cce">\n</span><span class="pl-pds">&quot;</span></span>,</div>
                </div>
                <div class="d-flex flex-justify-start flex-items-start">
                  <div class="blob-num blame-blob-num color-bg-subtle js-line-number" id="L221">221</div>
                  <div class="blob-code blob-code-inner js-file-line" id="LC221">       <span class="pl-s"><span class="pl-pds">&quot;</span>      &lt;td&gt;f&lt;/td&gt;<span class="pl-cce">\n</span><span class="pl-pds">&quot;</span></span>,</div>
                </div>
                <div class="d-flex flex-justify-start flex-items-start">
                  <div class="blob-num blame-blob-num color-bg-subtle js-line-number" id="L222">222</div>
                  <div class="blob-code blob-code-inner js-file-line" id="LC222">       <span class="pl-s"><span class="pl-pds">&quot;</span>      &lt;td&gt;100%&lt;/td&gt;<span class="pl-cce">\n</span><span class="pl-pds">&quot;</span></span>,</div>
                </div>
                <div class="d-flex flex-justify-start flex-items-start">
                  <div class="blob-num blame-blob-num color-bg-subtle js-line-number" id="L223">223</div>
                  <div class="blob-code blob-code-inner js-file-line" id="LC223">       <span class="pl-s"><span class="pl-pds">&quot;</span>      &lt;td&gt;2017-10-07&lt;/td&gt;<span class="pl-cce">\n</span><span class="pl-pds">&quot;</span></span>,</div>
                </div>
                <div class="d-flex flex-justify-start flex-items-start">
                  <div class="blob-num blame-blob-num color-bg-subtle js-line-number" id="L224">224</div>
                  <div class="blob-code blob-code-inner js-file-line" id="LC224">       <span class="pl-s"><span class="pl-pds">&quot;</span>      &lt;td&gt;Williamsburg&lt;/td&gt;<span class="pl-cce">\n</span><span class="pl-pds">&quot;</span></span>,</div>
                </div>
                <div class="d-flex flex-justify-start flex-items-start">
                  <div class="blob-num blame-blob-num color-bg-subtle js-line-number" id="L225">225</div>
                  <div class="blob-code blob-code-inner js-file-line" id="LC225">       <span class="pl-s"><span class="pl-pds">&quot;</span>      &lt;td&gt;2&lt;/td&gt;<span class="pl-cce">\n</span><span class="pl-pds">&quot;</span></span>,</div>
                </div>
                <div class="d-flex flex-justify-start flex-items-start">
                  <div class="blob-num blame-blob-num color-bg-subtle js-line-number" id="L226">226</div>
                  <div class="blob-code blob-code-inner js-file-line" id="LC226">       <span class="pl-s"><span class="pl-pds">&quot;</span>      &lt;td&gt;100.00&lt;/td&gt;<span class="pl-cce">\n</span><span class="pl-pds">&quot;</span></span>,</div>
                </div>
                <div class="d-flex flex-justify-start flex-items-start">
                  <div class="blob-num blame-blob-num color-bg-subtle js-line-number" id="L227">227</div>
                  <div class="blob-code blob-code-inner js-file-line" id="LC227">       <span class="pl-s"><span class="pl-pds">&quot;</span>      &lt;td&gt;11206&lt;/td&gt;<span class="pl-cce">\n</span><span class="pl-pds">&quot;</span></span>,</div>
                </div>
                <div class="d-flex flex-justify-start flex-items-start">
                  <div class="blob-num blame-blob-num color-bg-subtle js-line-number" id="L228">228</div>
                  <div class="blob-code blob-code-inner js-file-line" id="LC228">       <span class="pl-s"><span class="pl-pds">&quot;</span>      &lt;td&gt;1&lt;/td&gt;<span class="pl-cce">\n</span><span class="pl-pds">&quot;</span></span>,</div>
                </div>
                <div class="d-flex flex-justify-start flex-items-start">
                  <div class="blob-num blame-blob-num color-bg-subtle js-line-number" id="L229">229</div>
                  <div class="blob-code blob-code-inner js-file-line" id="LC229">       <span class="pl-s"><span class="pl-pds">&quot;</span>      &lt;td&gt;1&lt;/td&gt;<span class="pl-cce">\n</span><span class="pl-pds">&quot;</span></span>,</div>
                </div>
                <div class="d-flex flex-justify-start flex-items-start">
                  <div class="blob-num blame-blob-num color-bg-subtle js-line-number" id="L230">230</div>
                  <div class="blob-code blob-code-inner js-file-line" id="LC230">       <span class="pl-s"><span class="pl-pds">&quot;</span>    &lt;/tr&gt;<span class="pl-cce">\n</span><span class="pl-pds">&quot;</span></span>,</div>
                </div>
                <div class="d-flex flex-justify-start flex-items-start">
                  <div class="blob-num blame-blob-num color-bg-subtle js-line-number" id="L231">231</div>
                  <div class="blob-code blob-code-inner js-file-line" id="LC231">       <span class="pl-s"><span class="pl-pds">&quot;</span>  &lt;/tbody&gt;<span class="pl-cce">\n</span><span class="pl-pds">&quot;</span></span>,</div>
                </div>
                <div class="d-flex flex-justify-start flex-items-start">
                  <div class="blob-num blame-blob-num color-bg-subtle js-line-number" id="L232">232</div>
                  <div class="blob-code blob-code-inner js-file-line" id="LC232">       <span class="pl-s"><span class="pl-pds">&quot;</span>&lt;/table&gt;&lt;/div&gt;<span class="pl-pds">&quot;</span></span></div>
                </div>
                <div class="d-flex flex-justify-start flex-items-start">
                  <div class="blob-num blame-blob-num color-bg-subtle js-line-number" id="L233">233</div>
                  <div class="blob-code blob-code-inner js-file-line" id="LC233">      ],</div>
                </div>
                <div class="d-flex flex-justify-start flex-items-start">
                  <div class="blob-num blame-blob-num color-bg-subtle js-line-number" id="L234">234</div>
                  <div class="blob-code blob-code-inner js-file-line" id="LC234">      <span class="pl-ent">&quot;text/plain&quot;</span>: [</div>
                </div>
                <div class="d-flex flex-justify-start flex-items-start">
                  <div class="blob-num blame-blob-num color-bg-subtle js-line-number" id="L235">235</div>
                  <div class="blob-code blob-code-inner js-file-line" id="LC235">       <span class="pl-s"><span class="pl-pds">&quot;</span>         id  price property_type        room_type  <span class="pl-cce">\\\n</span><span class="pl-pds">&quot;</span></span>,</div>
                </div>
                <div class="d-flex flex-justify-start flex-items-start">
                  <div class="blob-num blame-blob-num color-bg-subtle js-line-number" id="L236">236</div>
                  <div class="blob-code blob-code-inner js-file-line" id="LC236">       <span class="pl-s"><span class="pl-pds">&quot;</span>0   8284881 621.46         House  Entire home/apt   <span class="pl-cce">\n</span><span class="pl-pds">&quot;</span></span>,</div>
                </div>
                <div class="d-flex flex-justify-start flex-items-start">
                  <div class="blob-num blame-blob-num color-bg-subtle js-line-number" id="L237">237</div>
                  <div class="blob-code blob-code-inner js-file-line" id="LC237">       <span class="pl-s"><span class="pl-pds">&quot;</span>1   8284882 621.46         House  Entire home/apt   <span class="pl-cce">\n</span><span class="pl-pds">&quot;</span></span>,</div>
                </div>
                <div class="d-flex flex-justify-start flex-items-start">
                  <div class="blob-num blame-blob-num color-bg-subtle js-line-number" id="L238">238</div>
                  <div class="blob-code blob-code-inner js-file-line" id="LC238">       <span class="pl-s"><span class="pl-pds">&quot;</span>2   9479348 598.90     Apartment  Entire home/apt   <span class="pl-cce">\n</span><span class="pl-pds">&quot;</span></span>,</div>
                </div>
                <div class="d-flex flex-justify-start flex-items-start">
                  <div class="blob-num blame-blob-num color-bg-subtle js-line-number" id="L239">239</div>
                  <div class="blob-code blob-code-inner js-file-line" id="LC239">       <span class="pl-s"><span class="pl-pds">&quot;</span>3   8596057 420.47         House     Private room   <span class="pl-cce">\n</span><span class="pl-pds">&quot;</span></span>,</div>
                </div>
                <div class="d-flex flex-justify-start flex-items-start">
                  <div class="blob-num blame-blob-num color-bg-subtle js-line-number" id="L240">240</div>
                  <div class="blob-code blob-code-inner js-file-line" id="LC240">       <span class="pl-s"><span class="pl-pds">&quot;</span>4  11525500 478.75     Apartment  Entire home/apt   <span class="pl-cce">\n</span><span class="pl-pds">&quot;</span></span>,</div>
                </div>
                <div class="d-flex flex-justify-start flex-items-start">
                  <div class="blob-num blame-blob-num color-bg-subtle js-line-number" id="L241">241</div>
                  <div class="blob-code blob-code-inner js-file-line" id="LC241">       <span class="pl-s"><span class="pl-pds">&quot;</span><span class="pl-cce">\n</span><span class="pl-pds">&quot;</span></span>,</div>
                </div>
                <div class="d-flex flex-justify-start flex-items-start">
                  <div class="blob-num blame-blob-num color-bg-subtle js-line-number" id="L242">242</div>
                  <div class="blob-code blob-code-inner js-file-line" id="LC242">       <span class="pl-s"><span class="pl-pds">&quot;</span>                                           amenities  accommodates  bathrooms  <span class="pl-cce">\\\n</span><span class="pl-pds">&quot;</span></span>,</div>
                </div>
                <div class="d-flex flex-justify-start flex-items-start">
                  <div class="blob-num blame-blob-num color-bg-subtle js-line-number" id="L243">243</div>
                  <div class="blob-code blob-code-inner js-file-line" id="LC243">       <span class="pl-s"><span class="pl-pds">&quot;</span>0  {TV,<span class="pl-cce">\&quot;</span>Cable TV<span class="pl-cce">\&quot;</span>,Internet,<span class="pl-cce">\&quot;</span>Wireless Internet<span class="pl-cce">\&quot;</span>,<span class="pl-cce">\&quot;</span>A...             8          3   <span class="pl-cce">\n</span><span class="pl-pds">&quot;</span></span>,</div>
                </div>
                <div class="d-flex flex-justify-start flex-items-start">
                  <div class="blob-num blame-blob-num color-bg-subtle js-line-number" id="L244">244</div>
                  <div class="blob-code blob-code-inner js-file-line" id="LC244">       <span class="pl-s"><span class="pl-pds">&quot;</span>1  {TV,<span class="pl-cce">\&quot;</span>Cable TV<span class="pl-cce">\&quot;</span>,Internet,<span class="pl-cce">\&quot;</span>Wireless Internet<span class="pl-cce">\&quot;</span>,<span class="pl-cce">\&quot;</span>A...             8          3   <span class="pl-cce">\n</span><span class="pl-pds">&quot;</span></span>,</div>
                </div>
                <div class="d-flex flex-justify-start flex-items-start">
                  <div class="blob-num blame-blob-num color-bg-subtle js-line-number" id="L245">245</div>
                  <div class="blob-code blob-code-inner js-file-line" id="LC245">       <span class="pl-s"><span class="pl-pds">&quot;</span>2  {<span class="pl-cce">\&quot;</span>Wireless Internet<span class="pl-cce">\&quot;</span>,<span class="pl-cce">\&quot;</span>Air conditioning<span class="pl-cce">\&quot;</span>,Kitche...             7          2   <span class="pl-cce">\n</span><span class="pl-pds">&quot;</span></span>,</div>
                </div>
                <div class="d-flex flex-justify-start flex-items-start">
                  <div class="blob-num blame-blob-num color-bg-subtle js-line-number" id="L246">246</div>
                  <div class="blob-code blob-code-inner js-file-line" id="LC246">       <span class="pl-s"><span class="pl-pds">&quot;</span>3  {<span class="pl-cce">\&quot;</span>Wireless Internet<span class="pl-cce">\&quot;</span>,<span class="pl-cce">\&quot;</span>Air conditioning<span class="pl-cce">\&quot;</span>,Pool,K...             1          2   <span class="pl-cce">\n</span><span class="pl-pds">&quot;</span></span>,</div>
                </div>
                <div class="d-flex flex-justify-start flex-items-start">
                  <div class="blob-num blame-blob-num color-bg-subtle js-line-number" id="L247">247</div>
                  <div class="blob-code blob-code-inner js-file-line" id="LC247">       <span class="pl-s"><span class="pl-pds">&quot;</span>4  {<span class="pl-cce">\&quot;</span>Wireless Internet<span class="pl-cce">\&quot;</span>,<span class="pl-cce">\&quot;</span>Air conditioning<span class="pl-cce">\&quot;</span>,Heatin...             2          1   <span class="pl-cce">\n</span><span class="pl-pds">&quot;</span></span>,</div>
                </div>
                <div class="d-flex flex-justify-start flex-items-start">
                  <div class="blob-num blame-blob-num color-bg-subtle js-line-number" id="L248">248</div>
                  <div class="blob-code blob-code-inner js-file-line" id="LC248">       <span class="pl-s"><span class="pl-pds">&quot;</span><span class="pl-cce">\n</span><span class="pl-pds">&quot;</span></span>,</div>
                </div>
                <div class="d-flex flex-justify-start flex-items-start">
                  <div class="blob-num blame-blob-num color-bg-subtle js-line-number" id="L249">249</div>
                  <div class="blob-code blob-code-inner js-file-line" id="LC249">       <span class="pl-s"><span class="pl-pds">&quot;</span>   bed_type cancellation_policy  cleaning_fee city host_identity_verified  <span class="pl-cce">\\\n</span><span class="pl-pds">&quot;</span></span>,</div>
                </div>
                <div class="d-flex flex-justify-start flex-items-start">
                  <div class="blob-num blame-blob-num color-bg-subtle js-line-number" id="L250">250</div>
                  <div class="blob-code blob-code-inner js-file-line" id="LC250">       <span class="pl-s"><span class="pl-pds">&quot;</span>0  Real Bed              strict             1   LA                      f   <span class="pl-cce">\n</span><span class="pl-pds">&quot;</span></span>,</div>
                </div>
                <div class="d-flex flex-justify-start flex-items-start">
                  <div class="blob-num blame-blob-num color-bg-subtle js-line-number" id="L251">251</div>
                  <div class="blob-code blob-code-inner js-file-line" id="LC251">       <span class="pl-s"><span class="pl-pds">&quot;</span>1  Real Bed              strict             1   LA                      f   <span class="pl-cce">\n</span><span class="pl-pds">&quot;</span></span>,</div>
                </div>
                <div class="d-flex flex-justify-start flex-items-start">
                  <div class="blob-num blame-blob-num color-bg-subtle js-line-number" id="L252">252</div>
                  <div class="blob-code blob-code-inner js-file-line" id="LC252">       <span class="pl-s"><span class="pl-pds">&quot;</span>2  Real Bed              strict             0  NYC                      f   <span class="pl-cce">\n</span><span class="pl-pds">&quot;</span></span>,</div>
                </div>
                <div class="d-flex flex-justify-start flex-items-start">
                  <div class="blob-num blame-blob-num color-bg-subtle js-line-number" id="L253">253</div>
                  <div class="blob-code blob-code-inner js-file-line" id="LC253">       <span class="pl-s"><span class="pl-pds">&quot;</span>3  Real Bed            flexible             0   LA                      f   <span class="pl-cce">\n</span><span class="pl-pds">&quot;</span></span>,</div>
                </div>
                <div class="d-flex flex-justify-start flex-items-start">
                  <div class="blob-num blame-blob-num color-bg-subtle js-line-number" id="L254">254</div>
                  <div class="blob-code blob-code-inner js-file-line" id="LC254">       <span class="pl-s"><span class="pl-pds">&quot;</span>4  Real Bed            flexible             1  NYC                      f   <span class="pl-cce">\n</span><span class="pl-pds">&quot;</span></span>,</div>
                </div>
                <div class="d-flex flex-justify-start flex-items-start">
                  <div class="blob-num blame-blob-num color-bg-subtle js-line-number" id="L255">255</div>
                  <div class="blob-code blob-code-inner js-file-line" id="LC255">       <span class="pl-s"><span class="pl-pds">&quot;</span><span class="pl-cce">\n</span><span class="pl-pds">&quot;</span></span>,</div>
                </div>
                <div class="d-flex flex-justify-start flex-items-start">
                  <div class="blob-num blame-blob-num color-bg-subtle js-line-number" id="L256">256</div>
                  <div class="blob-code blob-code-inner js-file-line" id="LC256">       <span class="pl-s"><span class="pl-pds">&quot;</span>  host_response_rate  host_since      neighbourhood  number_of_reviews  <span class="pl-cce">\\\n</span><span class="pl-pds">&quot;</span></span>,</div>
                </div>
                <div class="d-flex flex-justify-start flex-items-start">
                  <div class="blob-num blame-blob-num color-bg-subtle js-line-number" id="L257">257</div>
                  <div class="blob-code blob-code-inner js-file-line" id="LC257">       <span class="pl-s"><span class="pl-pds">&quot;</span>0               100%  2016-11-01  Pacific Palisades                  1   <span class="pl-cce">\n</span><span class="pl-pds">&quot;</span></span>,</div>
                </div>
                <div class="d-flex flex-justify-start flex-items-start">
                  <div class="blob-num blame-blob-num color-bg-subtle js-line-number" id="L258">258</div>
                  <div class="blob-code blob-code-inner js-file-line" id="LC258">       <span class="pl-s"><span class="pl-pds">&quot;</span>1               100%  2016-11-01  Pacific Palisades                  1   <span class="pl-cce">\n</span><span class="pl-pds">&quot;</span></span>,</div>
                </div>
                <div class="d-flex flex-justify-start flex-items-start">
                  <div class="blob-num blame-blob-num color-bg-subtle js-line-number" id="L259">259</div>
                  <div class="blob-code blob-code-inner js-file-line" id="LC259">       <span class="pl-s"><span class="pl-pds">&quot;</span>2               100%  2017-07-03     Hell&#39;s Kitchen                  1   <span class="pl-cce">\n</span><span class="pl-pds">&quot;</span></span>,</div>
                </div>
                <div class="d-flex flex-justify-start flex-items-start">
                  <div class="blob-num blame-blob-num color-bg-subtle js-line-number" id="L260">260</div>
                  <div class="blob-code blob-code-inner js-file-line" id="LC260">       <span class="pl-s"><span class="pl-pds">&quot;</span>3               100%  2016-04-20                NaN                  0   <span class="pl-cce">\n</span><span class="pl-pds">&quot;</span></span>,</div>
                </div>
                <div class="d-flex flex-justify-start flex-items-start">
                  <div class="blob-num blame-blob-num color-bg-subtle js-line-number" id="L261">261</div>
                  <div class="blob-code blob-code-inner js-file-line" id="LC261">       <span class="pl-s"><span class="pl-pds">&quot;</span>4               100%  2017-10-07       Williamsburg                  2   <span class="pl-cce">\n</span><span class="pl-pds">&quot;</span></span>,</div>
                </div>
                <div class="d-flex flex-justify-start flex-items-start">
                  <div class="blob-num blame-blob-num color-bg-subtle js-line-number" id="L262">262</div>
                  <div class="blob-code blob-code-inner js-file-line" id="LC262">       <span class="pl-s"><span class="pl-pds">&quot;</span><span class="pl-cce">\n</span><span class="pl-pds">&quot;</span></span>,</div>
                </div>
                <div class="d-flex flex-justify-start flex-items-start">
                  <div class="blob-num blame-blob-num color-bg-subtle js-line-number" id="L263">263</div>
                  <div class="blob-code blob-code-inner js-file-line" id="LC263">       <span class="pl-s"><span class="pl-pds">&quot;</span>   review_scores_rating  zipcode  bedrooms  beds  <span class="pl-cce">\n</span><span class="pl-pds">&quot;</span></span>,</div>
                </div>
                <div class="d-flex flex-justify-start flex-items-start">
                  <div class="blob-num blame-blob-num color-bg-subtle js-line-number" id="L264">264</div>
                  <div class="blob-code blob-code-inner js-file-line" id="LC264">       <span class="pl-s"><span class="pl-pds">&quot;</span>0                   NaN    90272         4     6  <span class="pl-cce">\n</span><span class="pl-pds">&quot;</span></span>,</div>
                </div>
                <div class="d-flex flex-justify-start flex-items-start">
                  <div class="blob-num blame-blob-num color-bg-subtle js-line-number" id="L265">265</div>
                  <div class="blob-code blob-code-inner js-file-line" id="LC265">       <span class="pl-s"><span class="pl-pds">&quot;</span>1                   NaN    90272         4     6  <span class="pl-cce">\n</span><span class="pl-pds">&quot;</span></span>,</div>
                </div>
                <div class="d-flex flex-justify-start flex-items-start">
                  <div class="blob-num blame-blob-num color-bg-subtle js-line-number" id="L266">266</div>
                  <div class="blob-code blob-code-inner js-file-line" id="LC266">       <span class="pl-s"><span class="pl-pds">&quot;</span>2                 60.00    10036         3     4  <span class="pl-cce">\n</span><span class="pl-pds">&quot;</span></span>,</div>
                </div>
                <div class="d-flex flex-justify-start flex-items-start">
                  <div class="blob-num blame-blob-num color-bg-subtle js-line-number" id="L267">267</div>
                  <div class="blob-code blob-code-inner js-file-line" id="LC267">       <span class="pl-s"><span class="pl-pds">&quot;</span>3                   NaN    91748         1     1  <span class="pl-cce">\n</span><span class="pl-pds">&quot;</span></span>,</div>
                </div>
                <div class="d-flex flex-justify-start flex-items-start">
                  <div class="blob-num blame-blob-num color-bg-subtle js-line-number" id="L268">268</div>
                  <div class="blob-code blob-code-inner js-file-line" id="LC268">       <span class="pl-s"><span class="pl-pds">&quot;</span>4                100.00    11206         1     1  <span class="pl-pds">&quot;</span></span></div>
                </div>
                <div class="d-flex flex-justify-start flex-items-start">
                  <div class="blob-num blame-blob-num color-bg-subtle js-line-number" id="L269">269</div>
                  <div class="blob-code blob-code-inner js-file-line" id="LC269">      ]</div>
                </div>
                <div class="d-flex flex-justify-start flex-items-start">
                  <div class="blob-num blame-blob-num color-bg-subtle js-line-number" id="L270">270</div>
                  <div class="blob-code blob-code-inner js-file-line" id="LC270">     },</div>
                </div>
                <div class="d-flex flex-justify-start flex-items-start">
                  <div class="blob-num blame-blob-num color-bg-subtle js-line-number" id="L271">271</div>
                  <div class="blob-code blob-code-inner js-file-line" id="LC271">     <span class="pl-ent">&quot;execution_count&quot;</span>: <span class="pl-c1">5</span>,</div>
                </div>
                <div class="d-flex flex-justify-start flex-items-start">
                  <div class="blob-num blame-blob-num color-bg-subtle js-line-number" id="L272">272</div>
                  <div class="blob-code blob-code-inner js-file-line" id="LC272">     <span class="pl-ent">&quot;metadata&quot;</span>: {},</div>
                </div>
                <div class="d-flex flex-justify-start flex-items-start">
                  <div class="blob-num blame-blob-num color-bg-subtle js-line-number" id="L273">273</div>
                  <div class="blob-code blob-code-inner js-file-line" id="LC273">     <span class="pl-ent">&quot;output_type&quot;</span>: <span class="pl-s"><span class="pl-pds">&quot;</span>execute_result<span class="pl-pds">&quot;</span></span></div>
                </div>
                <div class="d-flex flex-justify-start flex-items-start">
                  <div class="blob-num blame-blob-num color-bg-subtle js-line-number" id="L274">274</div>
                  <div class="blob-code blob-code-inner js-file-line" id="LC274">    }</div>
                </div>
                <div class="d-flex flex-justify-start flex-items-start">
                  <div class="blob-num blame-blob-num color-bg-subtle js-line-number" id="L275">275</div>
                  <div class="blob-code blob-code-inner js-file-line" id="LC275">   ],</div>
                </div>
                <div class="d-flex flex-justify-start flex-items-start">
                  <div class="blob-num blame-blob-num color-bg-subtle js-line-number" id="L276">276</div>
                  <div class="blob-code blob-code-inner js-file-line" id="LC276">   <span class="pl-ent">&quot;source&quot;</span>: [</div>
                </div>
                <div class="d-flex flex-justify-start flex-items-start">
                  <div class="blob-num blame-blob-num color-bg-subtle js-line-number" id="L277">277</div>
                  <div class="blob-code blob-code-inner js-file-line" id="LC277">    <span class="pl-s"><span class="pl-pds">&quot;</span>df.head()<span class="pl-pds">&quot;</span></span></div>
                </div>
                <div class="d-flex flex-justify-start flex-items-start">
                  <div class="blob-num blame-blob-num color-bg-subtle js-line-number" id="L278">278</div>
                  <div class="blob-code blob-code-inner js-file-line" id="LC278">   ]</div>
                </div>
                <div class="d-flex flex-justify-start flex-items-start">
                  <div class="blob-num blame-blob-num color-bg-subtle js-line-number" id="L279">279</div>
                  <div class="blob-code blob-code-inner js-file-line" id="LC279">  },</div>
                </div>
                <div class="d-flex flex-justify-start flex-items-start">
                  <div class="blob-num blame-blob-num color-bg-subtle js-line-number" id="L280">280</div>
                  <div class="blob-code blob-code-inner js-file-line" id="LC280">  {</div>
                </div>
                <div class="d-flex flex-justify-start flex-items-start">
                  <div class="blob-num blame-blob-num color-bg-subtle js-line-number" id="L281">281</div>
                  <div class="blob-code blob-code-inner js-file-line" id="LC281">   <span class="pl-ent">&quot;cell_type&quot;</span>: <span class="pl-s"><span class="pl-pds">&quot;</span>code<span class="pl-pds">&quot;</span></span>,</div>
                </div>
                <div class="d-flex flex-justify-start flex-items-start">
                  <div class="blob-num blame-blob-num color-bg-subtle js-line-number" id="L282">282</div>
                  <div class="blob-code blob-code-inner js-file-line" id="LC282">   <span class="pl-ent">&quot;execution_count&quot;</span>: <span class="pl-c1">15</span>,</div>
                </div>
                <div class="d-flex flex-justify-start flex-items-start">
                  <div class="blob-num blame-blob-num color-bg-subtle js-line-number" id="L283">283</div>
                  <div class="blob-code blob-code-inner js-file-line" id="LC283">   <span class="pl-ent">&quot;id&quot;</span>: <span class="pl-s"><span class="pl-pds">&quot;</span>37cbdb5c<span class="pl-pds">&quot;</span></span>,</div>
                </div>
                <div class="d-flex flex-justify-start flex-items-start">
                  <div class="blob-num blame-blob-num color-bg-subtle js-line-number" id="L284">284</div>
                  <div class="blob-code blob-code-inner js-file-line" id="LC284">   <span class="pl-ent">&quot;metadata&quot;</span>: {},</div>
                </div>
                <div class="d-flex flex-justify-start flex-items-start">
                  <div class="blob-num blame-blob-num color-bg-subtle js-line-number" id="L285">285</div>
                  <div class="blob-code blob-code-inner js-file-line" id="LC285">   <span class="pl-ent">&quot;outputs&quot;</span>: [</div>
                </div>
                <div class="d-flex flex-justify-start flex-items-start">
                  <div class="blob-num blame-blob-num color-bg-subtle js-line-number" id="L286">286</div>
                  <div class="blob-code blob-code-inner js-file-line" id="LC286">    {</div>
                </div>
                <div class="d-flex flex-justify-start flex-items-start">
                  <div class="blob-num blame-blob-num color-bg-subtle js-line-number" id="L287">287</div>
                  <div class="blob-code blob-code-inner js-file-line" id="LC287">     <span class="pl-ent">&quot;data&quot;</span>: {</div>
                </div>
                <div class="d-flex flex-justify-start flex-items-start">
                  <div class="blob-num blame-blob-num color-bg-subtle js-line-number" id="L288">288</div>
                  <div class="blob-code blob-code-inner js-file-line" id="LC288">      <span class="pl-ent">&quot;text/plain&quot;</span>: [</div>
                </div>
                <div class="d-flex flex-justify-start flex-items-start">
                  <div class="blob-num blame-blob-num color-bg-subtle js-line-number" id="L289">289</div>
                  <div class="blob-code blob-code-inner js-file-line" id="LC289">       <span class="pl-s"><span class="pl-pds">&quot;</span>price                 91<span class="pl-cce">\n</span><span class="pl-pds">&quot;</span></span>,</div>
                </div>
                <div class="d-flex flex-justify-start flex-items-start">
                  <div class="blob-num blame-blob-num color-bg-subtle js-line-number" id="L290">290</div>
                  <div class="blob-code blob-code-inner js-file-line" id="LC290">       <span class="pl-s"><span class="pl-pds">&quot;</span>room_type              3<span class="pl-cce">\n</span><span class="pl-pds">&quot;</span></span>,</div>
                </div>
                <div class="d-flex flex-justify-start flex-items-start">
                  <div class="blob-num blame-blob-num color-bg-subtle js-line-number" id="L291">291</div>
                  <div class="blob-code blob-code-inner js-file-line" id="LC291">       <span class="pl-s"><span class="pl-pds">&quot;</span>host_since           127<span class="pl-cce">\n</span><span class="pl-pds">&quot;</span></span>,</div>
                </div>
                <div class="d-flex flex-justify-start flex-items-start">
                  <div class="blob-num blame-blob-num color-bg-subtle js-line-number" id="L292">292</div>
                  <div class="blob-code blob-code-inner js-file-line" id="LC292">       <span class="pl-s"><span class="pl-pds">&quot;</span>zipcode               91<span class="pl-cce">\n</span><span class="pl-pds">&quot;</span></span>,</div>
                </div>
                <div class="d-flex flex-justify-start flex-items-start">
                  <div class="blob-num blame-blob-num color-bg-subtle js-line-number" id="L293">293</div>
                  <div class="blob-code blob-code-inner js-file-line" id="LC293">       <span class="pl-s"><span class="pl-pds">&quot;</span>number_of_reviews     50<span class="pl-cce">\n</span><span class="pl-pds">&quot;</span></span>,</div>
                </div>
                <div class="d-flex flex-justify-start flex-items-start">
                  <div class="blob-num blame-blob-num color-bg-subtle js-line-number" id="L294">294</div>
                  <div class="blob-code blob-code-inner js-file-line" id="LC294">       <span class="pl-s"><span class="pl-pds">&quot;</span>dtype: int64<span class="pl-pds">&quot;</span></span></div>
                </div>
                <div class="d-flex flex-justify-start flex-items-start">
                  <div class="blob-num blame-blob-num color-bg-subtle js-line-number" id="L295">295</div>
                  <div class="blob-code blob-code-inner js-file-line" id="LC295">      ]</div>
                </div>
                <div class="d-flex flex-justify-start flex-items-start">
                  <div class="blob-num blame-blob-num color-bg-subtle js-line-number" id="L296">296</div>
                  <div class="blob-code blob-code-inner js-file-line" id="LC296">     },</div>
                </div>
                <div class="d-flex flex-justify-start flex-items-start">
                  <div class="blob-num blame-blob-num color-bg-subtle js-line-number" id="L297">297</div>
                  <div class="blob-code blob-code-inner js-file-line" id="LC297">     <span class="pl-ent">&quot;execution_count&quot;</span>: <span class="pl-c1">15</span>,</div>
                </div>
                <div class="d-flex flex-justify-start flex-items-start">
                  <div class="blob-num blame-blob-num color-bg-subtle js-line-number" id="L298">298</div>
                  <div class="blob-code blob-code-inner js-file-line" id="LC298">     <span class="pl-ent">&quot;metadata&quot;</span>: {},</div>
                </div>
                <div class="d-flex flex-justify-start flex-items-start">
                  <div class="blob-num blame-blob-num color-bg-subtle js-line-number" id="L299">299</div>
                  <div class="blob-code blob-code-inner js-file-line" id="LC299">     <span class="pl-ent">&quot;output_type&quot;</span>: <span class="pl-s"><span class="pl-pds">&quot;</span>execute_result<span class="pl-pds">&quot;</span></span></div>
                </div>
                <div class="d-flex flex-justify-start flex-items-start">
                  <div class="blob-num blame-blob-num color-bg-subtle js-line-number" id="L300">300</div>
                  <div class="blob-code blob-code-inner js-file-line" id="LC300">    }</div>
                </div>
                <div class="d-flex flex-justify-start flex-items-start">
                  <div class="blob-num blame-blob-num color-bg-subtle js-line-number" id="L301">301</div>
                  <div class="blob-code blob-code-inner js-file-line" id="LC301">   ],</div>
                </div>
                <div class="d-flex flex-justify-start flex-items-start">
                  <div class="blob-num blame-blob-num color-bg-subtle js-line-number" id="L302">302</div>
                  <div class="blob-code blob-code-inner js-file-line" id="LC302">   <span class="pl-ent">&quot;source&quot;</span>: [</div>
                </div>
                <div class="d-flex flex-justify-start flex-items-start">
                  <div class="blob-num blame-blob-num color-bg-subtle js-line-number" id="L303">303</div>
                  <div class="blob-code blob-code-inner js-file-line" id="LC303">    <span class="pl-s"><span class="pl-pds">&quot;</span>df[[&#39;price&#39;,&#39;room_type&#39;,&#39;host_since&#39;,&#39;zipcode&#39;,&#39;number_of_reviews&#39;]].nunique()<span class="pl-pds">&quot;</span></span></div>
                </div>
                <div class="d-flex flex-justify-start flex-items-start">
                  <div class="blob-num blame-blob-num color-bg-subtle js-line-number" id="L304">304</div>
                  <div class="blob-code blob-code-inner js-file-line" id="LC304">   ]</div>
                </div>
                <div class="d-flex flex-justify-start flex-items-start">
                  <div class="blob-num blame-blob-num color-bg-subtle js-line-number" id="L305">305</div>
                  <div class="blob-code blob-code-inner js-file-line" id="LC305">  },</div>
                </div>
                <div class="d-flex flex-justify-start flex-items-start">
                  <div class="blob-num blame-blob-num color-bg-subtle js-line-number" id="L306">306</div>
                  <div class="blob-code blob-code-inner js-file-line" id="LC306">  {</div>
                </div>
                <div class="d-flex flex-justify-start flex-items-start">
                  <div class="blob-num blame-blob-num color-bg-subtle js-line-number" id="L307">307</div>
                  <div class="blob-code blob-code-inner js-file-line" id="LC307">   <span class="pl-ent">&quot;cell_type&quot;</span>: <span class="pl-s"><span class="pl-pds">&quot;</span>code<span class="pl-pds">&quot;</span></span>,</div>
                </div>
                <div class="d-flex flex-justify-start flex-items-start">
                  <div class="blob-num blame-blob-num color-bg-subtle js-line-number" id="L308">308</div>
                  <div class="blob-code blob-code-inner js-file-line" id="LC308">   <span class="pl-ent">&quot;execution_count&quot;</span>: <span class="pl-c1">null</span>,</div>
                </div>
                <div class="d-flex flex-justify-start flex-items-start">
                  <div class="blob-num blame-blob-num color-bg-subtle js-line-number" id="L309">309</div>
                  <div class="blob-code blob-code-inner js-file-line" id="LC309">   <span class="pl-ent">&quot;id&quot;</span>: <span class="pl-s"><span class="pl-pds">&quot;</span>3d9b0b1e<span class="pl-pds">&quot;</span></span>,</div>
                </div>
                <div class="d-flex flex-justify-start flex-items-start">
                  <div class="blob-num blame-blob-num color-bg-subtle js-line-number" id="L310">310</div>
                  <div class="blob-code blob-code-inner js-file-line" id="LC310">   <span class="pl-ent">&quot;metadata&quot;</span>: {},</div>
                </div>
                <div class="d-flex flex-justify-start flex-items-start">
                  <div class="blob-num blame-blob-num color-bg-subtle js-line-number" id="L311">311</div>
                  <div class="blob-code blob-code-inner js-file-line" id="LC311">   <span class="pl-ent">&quot;outputs&quot;</span>: [],</div>
                </div>
                <div class="d-flex flex-justify-start flex-items-start">
                  <div class="blob-num blame-blob-num color-bg-subtle js-line-number" id="L312">312</div>
                  <div class="blob-code blob-code-inner js-file-line" id="LC312">   <span class="pl-ent">&quot;source&quot;</span>: [</div>
                </div>
                <div class="d-flex flex-justify-start flex-items-start">
                  <div class="blob-num blame-blob-num color-bg-subtle js-line-number" id="L313">313</div>
                  <div class="blob-code blob-code-inner js-file-line" id="LC313">    <span class="pl-s"><span class="pl-pds">&quot;</span>df[[&#39;price&#39;,&#39;room_type&#39;,&#39;host_since&#39;,&#39;zipcode&#39;,&#39;number_of_reviews&#39;]].<span class="pl-pds">&quot;</span></span></div>
                </div>
                <div class="d-flex flex-justify-start flex-items-start">
                  <div class="blob-num blame-blob-num color-bg-subtle js-line-number" id="L314">314</div>
                  <div class="blob-code blob-code-inner js-file-line" id="LC314">   ]</div>
                </div>
                <div class="d-flex flex-justify-start flex-items-start">
                  <div class="blob-num blame-blob-num color-bg-subtle js-line-number" id="L315">315</div>
                  <div class="blob-code blob-code-inner js-file-line" id="LC315">  },</div>
                </div>
                <div class="d-flex flex-justify-start flex-items-start">
                  <div class="blob-num blame-blob-num color-bg-subtle js-line-number" id="L316">316</div>
                  <div class="blob-code blob-code-inner js-file-line" id="LC316">  {</div>
                </div>
                <div class="d-flex flex-justify-start flex-items-start">
                  <div class="blob-num blame-blob-num color-bg-subtle js-line-number" id="L317">317</div>
                  <div class="blob-code blob-code-inner js-file-line" id="LC317">   <span class="pl-ent">&quot;cell_type&quot;</span>: <span class="pl-s"><span class="pl-pds">&quot;</span>code<span class="pl-pds">&quot;</span></span>,</div>
                </div>
                <div class="d-flex flex-justify-start flex-items-start">
                  <div class="blob-num blame-blob-num color-bg-subtle js-line-number" id="L318">318</div>
                  <div class="blob-code blob-code-inner js-file-line" id="LC318">   <span class="pl-ent">&quot;execution_count&quot;</span>: <span class="pl-c1">6</span>,</div>
                </div>
                <div class="d-flex flex-justify-start flex-items-start">
                  <div class="blob-num blame-blob-num color-bg-subtle js-line-number" id="L319">319</div>
                  <div class="blob-code blob-code-inner js-file-line" id="LC319">   <span class="pl-ent">&quot;id&quot;</span>: <span class="pl-s"><span class="pl-pds">&quot;</span>f3747cd7<span class="pl-pds">&quot;</span></span>,</div>
                </div>
                <div class="d-flex flex-justify-start flex-items-start">
                  <div class="blob-num blame-blob-num color-bg-subtle js-line-number" id="L320">320</div>
                  <div class="blob-code blob-code-inner js-file-line" id="LC320">   <span class="pl-ent">&quot;metadata&quot;</span>: {},</div>
                </div>
                <div class="d-flex flex-justify-start flex-items-start">
                  <div class="blob-num blame-blob-num color-bg-subtle js-line-number" id="L321">321</div>
                  <div class="blob-code blob-code-inner js-file-line" id="LC321">   <span class="pl-ent">&quot;outputs&quot;</span>: [</div>
                </div>
                <div class="d-flex flex-justify-start flex-items-start">
                  <div class="blob-num blame-blob-num color-bg-subtle js-line-number" id="L322">322</div>
                  <div class="blob-code blob-code-inner js-file-line" id="LC322">    {</div>
                </div>
                <div class="d-flex flex-justify-start flex-items-start">
                  <div class="blob-num blame-blob-num color-bg-subtle js-line-number" id="L323">323</div>
                  <div class="blob-code blob-code-inner js-file-line" id="LC323">     <span class="pl-ent">&quot;data&quot;</span>: {</div>
                </div>
                <div class="d-flex flex-justify-start flex-items-start">
                  <div class="blob-num blame-blob-num color-bg-subtle js-line-number" id="L324">324</div>
                  <div class="blob-code blob-code-inner js-file-line" id="LC324">      <span class="pl-ent">&quot;text/html&quot;</span>: [</div>
                </div>
                <div class="d-flex flex-justify-start flex-items-start">
                  <div class="blob-num blame-blob-num color-bg-subtle js-line-number" id="L325">325</div>
                  <div class="blob-code blob-code-inner js-file-line" id="LC325">       <span class="pl-s"><span class="pl-pds">&quot;</span>&lt;div&gt;&lt;div id=11139188-69a1-4663-b280-6c7d115d86bf style=<span class="pl-cce">\&quot;</span>display:none; background-color:#9D6CFF; color:white; width:200px; height:30px; padding-left:5px; border-radius:4px; flex-direction:row; justify-content:space-around; align-items:center;<span class="pl-cce">\&quot;</span> onmouseover=<span class="pl-cce">\&quot;</span>this.style.backgroundColor=&#39;#BA9BF8&#39;<span class="pl-cce">\&quot;</span> onmouseout=<span class="pl-cce">\&quot;</span>this.style.backgroundColor=&#39;#9D6CFF&#39;<span class="pl-cce">\&quot;</span> onclick=<span class="pl-cce">\&quot;</span>window.commands?.execute(&#39;create-mitosheet-from-dataframe-output&#39;);<span class="pl-cce">\&quot;</span>&gt;See Full Dataframe in Mito&lt;/div&gt; &lt;script&gt; if (window.commands?.hasCommand(&#39;create-mitosheet-from-dataframe-output&#39;)) document.getElementById(&#39;11139188-69a1-4663-b280-6c7d115d86bf&#39;).style.display = &#39;flex&#39; &lt;/script&gt; &lt;table border=<span class="pl-cce">\&quot;</span>1<span class="pl-cce">\&quot;</span> class=<span class="pl-cce">\&quot;</span>dataframe<span class="pl-cce">\&quot;</span>&gt;<span class="pl-cce">\n</span><span class="pl-pds">&quot;</span></span>,</div>
                </div>
                <div class="d-flex flex-justify-start flex-items-start">
                  <div class="blob-num blame-blob-num color-bg-subtle js-line-number" id="L326">326</div>
                  <div class="blob-code blob-code-inner js-file-line" id="LC326">       <span class="pl-s"><span class="pl-pds">&quot;</span>  &lt;thead&gt;<span class="pl-cce">\n</span><span class="pl-pds">&quot;</span></span>,</div>
                </div>
                <div class="d-flex flex-justify-start flex-items-start">
                  <div class="blob-num blame-blob-num color-bg-subtle js-line-number" id="L327">327</div>
                  <div class="blob-code blob-code-inner js-file-line" id="LC327">       <span class="pl-s"><span class="pl-pds">&quot;</span>    &lt;tr style=<span class="pl-cce">\&quot;</span>text-align: right;<span class="pl-cce">\&quot;</span>&gt;<span class="pl-cce">\n</span><span class="pl-pds">&quot;</span></span>,</div>
                </div>
                <div class="d-flex flex-justify-start flex-items-start">
                  <div class="blob-num blame-blob-num color-bg-subtle js-line-number" id="L328">328</div>
                  <div class="blob-code blob-code-inner js-file-line" id="LC328">       <span class="pl-s"><span class="pl-pds">&quot;</span>      &lt;th&gt;&lt;/th&gt;<span class="pl-cce">\n</span><span class="pl-pds">&quot;</span></span>,</div>
                </div>
                <div class="d-flex flex-justify-start flex-items-start">
                  <div class="blob-num blame-blob-num color-bg-subtle js-line-number" id="L329">329</div>
                  <div class="blob-code blob-code-inner js-file-line" id="LC329">       <span class="pl-s"><span class="pl-pds">&quot;</span>      &lt;th&gt;price&lt;/th&gt;<span class="pl-cce">\n</span><span class="pl-pds">&quot;</span></span>,</div>
                </div>
                <div class="d-flex flex-justify-start flex-items-start">
                  <div class="blob-num blame-blob-num color-bg-subtle js-line-number" id="L330">330</div>
                  <div class="blob-code blob-code-inner js-file-line" id="LC330">       <span class="pl-s"><span class="pl-pds">&quot;</span>      &lt;th&gt;room_type&lt;/th&gt;<span class="pl-cce">\n</span><span class="pl-pds">&quot;</span></span>,</div>
                </div>
                <div class="d-flex flex-justify-start flex-items-start">
                  <div class="blob-num blame-blob-num color-bg-subtle js-line-number" id="L331">331</div>
                  <div class="blob-code blob-code-inner js-file-line" id="LC331">       <span class="pl-s"><span class="pl-pds">&quot;</span>      &lt;th&gt;host_since&lt;/th&gt;<span class="pl-cce">\n</span><span class="pl-pds">&quot;</span></span>,</div>
                </div>
                <div class="d-flex flex-justify-start flex-items-start">
                  <div class="blob-num blame-blob-num color-bg-subtle js-line-number" id="L332">332</div>
                  <div class="blob-code blob-code-inner js-file-line" id="LC332">       <span class="pl-s"><span class="pl-pds">&quot;</span>      &lt;th&gt;zipcode&lt;/th&gt;<span class="pl-cce">\n</span><span class="pl-pds">&quot;</span></span>,</div>
                </div>
                <div class="d-flex flex-justify-start flex-items-start">
                  <div class="blob-num blame-blob-num color-bg-subtle js-line-number" id="L333">333</div>
                  <div class="blob-code blob-code-inner js-file-line" id="LC333">       <span class="pl-s"><span class="pl-pds">&quot;</span>      &lt;th&gt;number_of_reviews&lt;/th&gt;<span class="pl-cce">\n</span><span class="pl-pds">&quot;</span></span>,</div>
                </div>
                <div class="d-flex flex-justify-start flex-items-start">
                  <div class="blob-num blame-blob-num color-bg-subtle js-line-number" id="L334">334</div>
                  <div class="blob-code blob-code-inner js-file-line" id="LC334">       <span class="pl-s"><span class="pl-pds">&quot;</span>    &lt;/tr&gt;<span class="pl-cce">\n</span><span class="pl-pds">&quot;</span></span>,</div>
                </div>
                <div class="d-flex flex-justify-start flex-items-start">
                  <div class="blob-num blame-blob-num color-bg-subtle js-line-number" id="L335">335</div>
                  <div class="blob-code blob-code-inner js-file-line" id="LC335">       <span class="pl-s"><span class="pl-pds">&quot;</span>  &lt;/thead&gt;<span class="pl-cce">\n</span><span class="pl-pds">&quot;</span></span>,</div>
                </div>
                <div class="d-flex flex-justify-start flex-items-start">
                  <div class="blob-num blame-blob-num color-bg-subtle js-line-number" id="L336">336</div>
                  <div class="blob-code blob-code-inner js-file-line" id="LC336">       <span class="pl-s"><span class="pl-pds">&quot;</span>  &lt;tbody&gt;<span class="pl-cce">\n</span><span class="pl-pds">&quot;</span></span>,</div>
                </div>
                <div class="d-flex flex-justify-start flex-items-start">
                  <div class="blob-num blame-blob-num color-bg-subtle js-line-number" id="L337">337</div>
                  <div class="blob-code blob-code-inner js-file-line" id="LC337">       <span class="pl-s"><span class="pl-pds">&quot;</span>    &lt;tr&gt;<span class="pl-cce">\n</span><span class="pl-pds">&quot;</span></span>,</div>
                </div>
                <div class="d-flex flex-justify-start flex-items-start">
                  <div class="blob-num blame-blob-num color-bg-subtle js-line-number" id="L338">338</div>
                  <div class="blob-code blob-code-inner js-file-line" id="LC338">       <span class="pl-s"><span class="pl-pds">&quot;</span>      &lt;th&gt;0&lt;/th&gt;<span class="pl-cce">\n</span><span class="pl-pds">&quot;</span></span>,</div>
                </div>
                <div class="d-flex flex-justify-start flex-items-start">
                  <div class="blob-num blame-blob-num color-bg-subtle js-line-number" id="L339">339</div>
                  <div class="blob-code blob-code-inner js-file-line" id="LC339">       <span class="pl-s"><span class="pl-pds">&quot;</span>      &lt;td&gt;621.46&lt;/td&gt;<span class="pl-cce">\n</span><span class="pl-pds">&quot;</span></span>,</div>
                </div>
                <div class="d-flex flex-justify-start flex-items-start">
                  <div class="blob-num blame-blob-num color-bg-subtle js-line-number" id="L340">340</div>
                  <div class="blob-code blob-code-inner js-file-line" id="LC340">       <span class="pl-s"><span class="pl-pds">&quot;</span>      &lt;td&gt;Entire home/apt&lt;/td&gt;<span class="pl-cce">\n</span><span class="pl-pds">&quot;</span></span>,</div>
                </div>
                <div class="d-flex flex-justify-start flex-items-start">
                  <div class="blob-num blame-blob-num color-bg-subtle js-line-number" id="L341">341</div>
                  <div class="blob-code blob-code-inner js-file-line" id="LC341">       <span class="pl-s"><span class="pl-pds">&quot;</span>      &lt;td&gt;2016-11-01&lt;/td&gt;<span class="pl-cce">\n</span><span class="pl-pds">&quot;</span></span>,</div>
                </div>
                <div class="d-flex flex-justify-start flex-items-start">
                  <div class="blob-num blame-blob-num color-bg-subtle js-line-number" id="L342">342</div>
                  <div class="blob-code blob-code-inner js-file-line" id="LC342">       <span class="pl-s"><span class="pl-pds">&quot;</span>      &lt;td&gt;90272&lt;/td&gt;<span class="pl-cce">\n</span><span class="pl-pds">&quot;</span></span>,</div>
                </div>
                <div class="d-flex flex-justify-start flex-items-start">
                  <div class="blob-num blame-blob-num color-bg-subtle js-line-number" id="L343">343</div>
                  <div class="blob-code blob-code-inner js-file-line" id="LC343">       <span class="pl-s"><span class="pl-pds">&quot;</span>      &lt;td&gt;1&lt;/td&gt;<span class="pl-cce">\n</span><span class="pl-pds">&quot;</span></span>,</div>
                </div>
                <div class="d-flex flex-justify-start flex-items-start">
                  <div class="blob-num blame-blob-num color-bg-subtle js-line-number" id="L344">344</div>
                  <div class="blob-code blob-code-inner js-file-line" id="LC344">       <span class="pl-s"><span class="pl-pds">&quot;</span>    &lt;/tr&gt;<span class="pl-cce">\n</span><span class="pl-pds">&quot;</span></span>,</div>
                </div>
                <div class="d-flex flex-justify-start flex-items-start">
                  <div class="blob-num blame-blob-num color-bg-subtle js-line-number" id="L345">345</div>
                  <div class="blob-code blob-code-inner js-file-line" id="LC345">       <span class="pl-s"><span class="pl-pds">&quot;</span>    &lt;tr&gt;<span class="pl-cce">\n</span><span class="pl-pds">&quot;</span></span>,</div>
                </div>
                <div class="d-flex flex-justify-start flex-items-start">
                  <div class="blob-num blame-blob-num color-bg-subtle js-line-number" id="L346">346</div>
                  <div class="blob-code blob-code-inner js-file-line" id="LC346">       <span class="pl-s"><span class="pl-pds">&quot;</span>      &lt;th&gt;1&lt;/th&gt;<span class="pl-cce">\n</span><span class="pl-pds">&quot;</span></span>,</div>
                </div>
                <div class="d-flex flex-justify-start flex-items-start">
                  <div class="blob-num blame-blob-num color-bg-subtle js-line-number" id="L347">347</div>
                  <div class="blob-code blob-code-inner js-file-line" id="LC347">       <span class="pl-s"><span class="pl-pds">&quot;</span>      &lt;td&gt;621.46&lt;/td&gt;<span class="pl-cce">\n</span><span class="pl-pds">&quot;</span></span>,</div>
                </div>
                <div class="d-flex flex-justify-start flex-items-start">
                  <div class="blob-num blame-blob-num color-bg-subtle js-line-number" id="L348">348</div>
                  <div class="blob-code blob-code-inner js-file-line" id="LC348">       <span class="pl-s"><span class="pl-pds">&quot;</span>      &lt;td&gt;Entire home/apt&lt;/td&gt;<span class="pl-cce">\n</span><span class="pl-pds">&quot;</span></span>,</div>
                </div>
                <div class="d-flex flex-justify-start flex-items-start">
                  <div class="blob-num blame-blob-num color-bg-subtle js-line-number" id="L349">349</div>
                  <div class="blob-code blob-code-inner js-file-line" id="LC349">       <span class="pl-s"><span class="pl-pds">&quot;</span>      &lt;td&gt;2016-11-01&lt;/td&gt;<span class="pl-cce">\n</span><span class="pl-pds">&quot;</span></span>,</div>
                </div>
                <div class="d-flex flex-justify-start flex-items-start">
                  <div class="blob-num blame-blob-num color-bg-subtle js-line-number" id="L350">350</div>
                  <div class="blob-code blob-code-inner js-file-line" id="LC350">       <span class="pl-s"><span class="pl-pds">&quot;</span>      &lt;td&gt;90272&lt;/td&gt;<span class="pl-cce">\n</span><span class="pl-pds">&quot;</span></span>,</div>
                </div>
                <div class="d-flex flex-justify-start flex-items-start">
                  <div class="blob-num blame-blob-num color-bg-subtle js-line-number" id="L351">351</div>
                  <div class="blob-code blob-code-inner js-file-line" id="LC351">       <span class="pl-s"><span class="pl-pds">&quot;</span>      &lt;td&gt;1&lt;/td&gt;<span class="pl-cce">\n</span><span class="pl-pds">&quot;</span></span>,</div>
                </div>
                <div class="d-flex flex-justify-start flex-items-start">
                  <div class="blob-num blame-blob-num color-bg-subtle js-line-number" id="L352">352</div>
                  <div class="blob-code blob-code-inner js-file-line" id="LC352">       <span class="pl-s"><span class="pl-pds">&quot;</span>    &lt;/tr&gt;<span class="pl-cce">\n</span><span class="pl-pds">&quot;</span></span>,</div>
                </div>
                <div class="d-flex flex-justify-start flex-items-start">
                  <div class="blob-num blame-blob-num color-bg-subtle js-line-number" id="L353">353</div>
                  <div class="blob-code blob-code-inner js-file-line" id="LC353">       <span class="pl-s"><span class="pl-pds">&quot;</span>    &lt;tr&gt;<span class="pl-cce">\n</span><span class="pl-pds">&quot;</span></span>,</div>
                </div>
                <div class="d-flex flex-justify-start flex-items-start">
                  <div class="blob-num blame-blob-num color-bg-subtle js-line-number" id="L354">354</div>
                  <div class="blob-code blob-code-inner js-file-line" id="LC354">       <span class="pl-s"><span class="pl-pds">&quot;</span>      &lt;th&gt;2&lt;/th&gt;<span class="pl-cce">\n</span><span class="pl-pds">&quot;</span></span>,</div>
                </div>
                <div class="d-flex flex-justify-start flex-items-start">
                  <div class="blob-num blame-blob-num color-bg-subtle js-line-number" id="L355">355</div>
                  <div class="blob-code blob-code-inner js-file-line" id="LC355">       <span class="pl-s"><span class="pl-pds">&quot;</span>      &lt;td&gt;598.90&lt;/td&gt;<span class="pl-cce">\n</span><span class="pl-pds">&quot;</span></span>,</div>
                </div>
                <div class="d-flex flex-justify-start flex-items-start">
                  <div class="blob-num blame-blob-num color-bg-subtle js-line-number" id="L356">356</div>
                  <div class="blob-code blob-code-inner js-file-line" id="LC356">       <span class="pl-s"><span class="pl-pds">&quot;</span>      &lt;td&gt;Entire home/apt&lt;/td&gt;<span class="pl-cce">\n</span><span class="pl-pds">&quot;</span></span>,</div>
                </div>
                <div class="d-flex flex-justify-start flex-items-start">
                  <div class="blob-num blame-blob-num color-bg-subtle js-line-number" id="L357">357</div>
                  <div class="blob-code blob-code-inner js-file-line" id="LC357">       <span class="pl-s"><span class="pl-pds">&quot;</span>      &lt;td&gt;2017-07-03&lt;/td&gt;<span class="pl-cce">\n</span><span class="pl-pds">&quot;</span></span>,</div>
                </div>
                <div class="d-flex flex-justify-start flex-items-start">
                  <div class="blob-num blame-blob-num color-bg-subtle js-line-number" id="L358">358</div>
                  <div class="blob-code blob-code-inner js-file-line" id="LC358">       <span class="pl-s"><span class="pl-pds">&quot;</span>      &lt;td&gt;10036&lt;/td&gt;<span class="pl-cce">\n</span><span class="pl-pds">&quot;</span></span>,</div>
                </div>
                <div class="d-flex flex-justify-start flex-items-start">
                  <div class="blob-num blame-blob-num color-bg-subtle js-line-number" id="L359">359</div>
                  <div class="blob-code blob-code-inner js-file-line" id="LC359">       <span class="pl-s"><span class="pl-pds">&quot;</span>      &lt;td&gt;1&lt;/td&gt;<span class="pl-cce">\n</span><span class="pl-pds">&quot;</span></span>,</div>
                </div>
                <div class="d-flex flex-justify-start flex-items-start">
                  <div class="blob-num blame-blob-num color-bg-subtle js-line-number" id="L360">360</div>
                  <div class="blob-code blob-code-inner js-file-line" id="LC360">       <span class="pl-s"><span class="pl-pds">&quot;</span>    &lt;/tr&gt;<span class="pl-cce">\n</span><span class="pl-pds">&quot;</span></span>,</div>
                </div>
                <div class="d-flex flex-justify-start flex-items-start">
                  <div class="blob-num blame-blob-num color-bg-subtle js-line-number" id="L361">361</div>
                  <div class="blob-code blob-code-inner js-file-line" id="LC361">       <span class="pl-s"><span class="pl-pds">&quot;</span>    &lt;tr&gt;<span class="pl-cce">\n</span><span class="pl-pds">&quot;</span></span>,</div>
                </div>
                <div class="d-flex flex-justify-start flex-items-start">
                  <div class="blob-num blame-blob-num color-bg-subtle js-line-number" id="L362">362</div>
                  <div class="blob-code blob-code-inner js-file-line" id="LC362">       <span class="pl-s"><span class="pl-pds">&quot;</span>      &lt;th&gt;3&lt;/th&gt;<span class="pl-cce">\n</span><span class="pl-pds">&quot;</span></span>,</div>
                </div>
                <div class="d-flex flex-justify-start flex-items-start">
                  <div class="blob-num blame-blob-num color-bg-subtle js-line-number" id="L363">363</div>
                  <div class="blob-code blob-code-inner js-file-line" id="LC363">       <span class="pl-s"><span class="pl-pds">&quot;</span>      &lt;td&gt;420.47&lt;/td&gt;<span class="pl-cce">\n</span><span class="pl-pds">&quot;</span></span>,</div>
                </div>
                <div class="d-flex flex-justify-start flex-items-start">
                  <div class="blob-num blame-blob-num color-bg-subtle js-line-number" id="L364">364</div>
                  <div class="blob-code blob-code-inner js-file-line" id="LC364">       <span class="pl-s"><span class="pl-pds">&quot;</span>      &lt;td&gt;Private room&lt;/td&gt;<span class="pl-cce">\n</span><span class="pl-pds">&quot;</span></span>,</div>
                </div>
                <div class="d-flex flex-justify-start flex-items-start">
                  <div class="blob-num blame-blob-num color-bg-subtle js-line-number" id="L365">365</div>
                  <div class="blob-code blob-code-inner js-file-line" id="LC365">       <span class="pl-s"><span class="pl-pds">&quot;</span>      &lt;td&gt;2016-04-20&lt;/td&gt;<span class="pl-cce">\n</span><span class="pl-pds">&quot;</span></span>,</div>
                </div>
                <div class="d-flex flex-justify-start flex-items-start">
                  <div class="blob-num blame-blob-num color-bg-subtle js-line-number" id="L366">366</div>
                  <div class="blob-code blob-code-inner js-file-line" id="LC366">       <span class="pl-s"><span class="pl-pds">&quot;</span>      &lt;td&gt;91748&lt;/td&gt;<span class="pl-cce">\n</span><span class="pl-pds">&quot;</span></span>,</div>
                </div>
                <div class="d-flex flex-justify-start flex-items-start">
                  <div class="blob-num blame-blob-num color-bg-subtle js-line-number" id="L367">367</div>
                  <div class="blob-code blob-code-inner js-file-line" id="LC367">       <span class="pl-s"><span class="pl-pds">&quot;</span>      &lt;td&gt;0&lt;/td&gt;<span class="pl-cce">\n</span><span class="pl-pds">&quot;</span></span>,</div>
                </div>
                <div class="d-flex flex-justify-start flex-items-start">
                  <div class="blob-num blame-blob-num color-bg-subtle js-line-number" id="L368">368</div>
                  <div class="blob-code blob-code-inner js-file-line" id="LC368">       <span class="pl-s"><span class="pl-pds">&quot;</span>    &lt;/tr&gt;<span class="pl-cce">\n</span><span class="pl-pds">&quot;</span></span>,</div>
                </div>
                <div class="d-flex flex-justify-start flex-items-start">
                  <div class="blob-num blame-blob-num color-bg-subtle js-line-number" id="L369">369</div>
                  <div class="blob-code blob-code-inner js-file-line" id="LC369">       <span class="pl-s"><span class="pl-pds">&quot;</span>    &lt;tr&gt;<span class="pl-cce">\n</span><span class="pl-pds">&quot;</span></span>,</div>
                </div>
                <div class="d-flex flex-justify-start flex-items-start">
                  <div class="blob-num blame-blob-num color-bg-subtle js-line-number" id="L370">370</div>
                  <div class="blob-code blob-code-inner js-file-line" id="LC370">       <span class="pl-s"><span class="pl-pds">&quot;</span>      &lt;th&gt;4&lt;/th&gt;<span class="pl-cce">\n</span><span class="pl-pds">&quot;</span></span>,</div>
                </div>
                <div class="d-flex flex-justify-start flex-items-start">
                  <div class="blob-num blame-blob-num color-bg-subtle js-line-number" id="L371">371</div>
                  <div class="blob-code blob-code-inner js-file-line" id="LC371">       <span class="pl-s"><span class="pl-pds">&quot;</span>      &lt;td&gt;478.75&lt;/td&gt;<span class="pl-cce">\n</span><span class="pl-pds">&quot;</span></span>,</div>
                </div>
                <div class="d-flex flex-justify-start flex-items-start">
                  <div class="blob-num blame-blob-num color-bg-subtle js-line-number" id="L372">372</div>
                  <div class="blob-code blob-code-inner js-file-line" id="LC372">       <span class="pl-s"><span class="pl-pds">&quot;</span>      &lt;td&gt;Entire home/apt&lt;/td&gt;<span class="pl-cce">\n</span><span class="pl-pds">&quot;</span></span>,</div>
                </div>
                <div class="d-flex flex-justify-start flex-items-start">
                  <div class="blob-num blame-blob-num color-bg-subtle js-line-number" id="L373">373</div>
                  <div class="blob-code blob-code-inner js-file-line" id="LC373">       <span class="pl-s"><span class="pl-pds">&quot;</span>      &lt;td&gt;2017-10-07&lt;/td&gt;<span class="pl-cce">\n</span><span class="pl-pds">&quot;</span></span>,</div>
                </div>
                <div class="d-flex flex-justify-start flex-items-start">
                  <div class="blob-num blame-blob-num color-bg-subtle js-line-number" id="L374">374</div>
                  <div class="blob-code blob-code-inner js-file-line" id="LC374">       <span class="pl-s"><span class="pl-pds">&quot;</span>      &lt;td&gt;11206&lt;/td&gt;<span class="pl-cce">\n</span><span class="pl-pds">&quot;</span></span>,</div>
                </div>
                <div class="d-flex flex-justify-start flex-items-start">
                  <div class="blob-num blame-blob-num color-bg-subtle js-line-number" id="L375">375</div>
                  <div class="blob-code blob-code-inner js-file-line" id="LC375">       <span class="pl-s"><span class="pl-pds">&quot;</span>      &lt;td&gt;2&lt;/td&gt;<span class="pl-cce">\n</span><span class="pl-pds">&quot;</span></span>,</div>
                </div>
                <div class="d-flex flex-justify-start flex-items-start">
                  <div class="blob-num blame-blob-num color-bg-subtle js-line-number" id="L376">376</div>
                  <div class="blob-code blob-code-inner js-file-line" id="LC376">       <span class="pl-s"><span class="pl-pds">&quot;</span>    &lt;/tr&gt;<span class="pl-cce">\n</span><span class="pl-pds">&quot;</span></span>,</div>
                </div>
                <div class="d-flex flex-justify-start flex-items-start">
                  <div class="blob-num blame-blob-num color-bg-subtle js-line-number" id="L377">377</div>
                  <div class="blob-code blob-code-inner js-file-line" id="LC377">       <span class="pl-s"><span class="pl-pds">&quot;</span>    &lt;tr&gt;<span class="pl-cce">\n</span><span class="pl-pds">&quot;</span></span>,</div>
                </div>
                <div class="d-flex flex-justify-start flex-items-start">
                  <div class="blob-num blame-blob-num color-bg-subtle js-line-number" id="L378">378</div>
                  <div class="blob-code blob-code-inner js-file-line" id="LC378">       <span class="pl-s"><span class="pl-pds">&quot;</span>      &lt;th&gt;...&lt;/th&gt;<span class="pl-cce">\n</span><span class="pl-pds">&quot;</span></span>,</div>
                </div>
                <div class="d-flex flex-justify-start flex-items-start">
                  <div class="blob-num blame-blob-num color-bg-subtle js-line-number" id="L379">379</div>
                  <div class="blob-code blob-code-inner js-file-line" id="LC379">       <span class="pl-s"><span class="pl-pds">&quot;</span>      &lt;td&gt;...&lt;/td&gt;<span class="pl-cce">\n</span><span class="pl-pds">&quot;</span></span>,</div>
                </div>
                <div class="d-flex flex-justify-start flex-items-start">
                  <div class="blob-num blame-blob-num color-bg-subtle js-line-number" id="L380">380</div>
                  <div class="blob-code blob-code-inner js-file-line" id="LC380">       <span class="pl-s"><span class="pl-pds">&quot;</span>      &lt;td&gt;...&lt;/td&gt;<span class="pl-cce">\n</span><span class="pl-pds">&quot;</span></span>,</div>
                </div>
                <div class="d-flex flex-justify-start flex-items-start">
                  <div class="blob-num blame-blob-num color-bg-subtle js-line-number" id="L381">381</div>
                  <div class="blob-code blob-code-inner js-file-line" id="LC381">       <span class="pl-s"><span class="pl-pds">&quot;</span>      &lt;td&gt;...&lt;/td&gt;<span class="pl-cce">\n</span><span class="pl-pds">&quot;</span></span>,</div>
                </div>
                <div class="d-flex flex-justify-start flex-items-start">
                  <div class="blob-num blame-blob-num color-bg-subtle js-line-number" id="L382">382</div>
                  <div class="blob-code blob-code-inner js-file-line" id="LC382">       <span class="pl-s"><span class="pl-pds">&quot;</span>      &lt;td&gt;...&lt;/td&gt;<span class="pl-cce">\n</span><span class="pl-pds">&quot;</span></span>,</div>
                </div>
                <div class="d-flex flex-justify-start flex-items-start">
                  <div class="blob-num blame-blob-num color-bg-subtle js-line-number" id="L383">383</div>
                  <div class="blob-code blob-code-inner js-file-line" id="LC383">       <span class="pl-s"><span class="pl-pds">&quot;</span>      &lt;td&gt;...&lt;/td&gt;<span class="pl-cce">\n</span><span class="pl-pds">&quot;</span></span>,</div>
                </div>
                <div class="d-flex flex-justify-start flex-items-start">
                  <div class="blob-num blame-blob-num color-bg-subtle js-line-number" id="L384">384</div>
                  <div class="blob-code blob-code-inner js-file-line" id="LC384">       <span class="pl-s"><span class="pl-pds">&quot;</span>    &lt;/tr&gt;<span class="pl-cce">\n</span><span class="pl-pds">&quot;</span></span>,</div>
                </div>
                <div class="d-flex flex-justify-start flex-items-start">
                  <div class="blob-num blame-blob-num color-bg-subtle js-line-number" id="L385">385</div>
                  <div class="blob-code blob-code-inner js-file-line" id="LC385">       <span class="pl-s"><span class="pl-pds">&quot;</span>    &lt;tr&gt;<span class="pl-cce">\n</span><span class="pl-pds">&quot;</span></span>,</div>
                </div>
                <div class="d-flex flex-justify-start flex-items-start">
                  <div class="blob-num blame-blob-num color-bg-subtle js-line-number" id="L386">386</div>
                  <div class="blob-code blob-code-inner js-file-line" id="LC386">       <span class="pl-s"><span class="pl-pds">&quot;</span>      &lt;th&gt;162&lt;/th&gt;<span class="pl-cce">\n</span><span class="pl-pds">&quot;</span></span>,</div>
                </div>
                <div class="d-flex flex-justify-start flex-items-start">
                  <div class="blob-num blame-blob-num color-bg-subtle js-line-number" id="L387">387</div>
                  <div class="blob-code blob-code-inner js-file-line" id="LC387">       <span class="pl-s"><span class="pl-pds">&quot;</span>      &lt;td&gt;436.94&lt;/td&gt;<span class="pl-cce">\n</span><span class="pl-pds">&quot;</span></span>,</div>
                </div>
                <div class="d-flex flex-justify-start flex-items-start">
                  <div class="blob-num blame-blob-num color-bg-subtle js-line-number" id="L388">388</div>
                  <div class="blob-code blob-code-inner js-file-line" id="LC388">       <span class="pl-s"><span class="pl-pds">&quot;</span>      &lt;td&gt;Private room&lt;/td&gt;<span class="pl-cce">\n</span><span class="pl-pds">&quot;</span></span>,</div>
                </div>
                <div class="d-flex flex-justify-start flex-items-start">
                  <div class="blob-num blame-blob-num color-bg-subtle js-line-number" id="L389">389</div>
                  <div class="blob-code blob-code-inner js-file-line" id="LC389">       <span class="pl-s"><span class="pl-pds">&quot;</span>      &lt;td&gt;2014-06-30&lt;/td&gt;<span class="pl-cce">\n</span><span class="pl-pds">&quot;</span></span>,</div>
                </div>
                <div class="d-flex flex-justify-start flex-items-start">
                  <div class="blob-num blame-blob-num color-bg-subtle js-line-number" id="L390">390</div>
                  <div class="blob-code blob-code-inner js-file-line" id="LC390">       <span class="pl-s"><span class="pl-pds">&quot;</span>      &lt;td&gt;10027&lt;/td&gt;<span class="pl-cce">\n</span><span class="pl-pds">&quot;</span></span>,</div>
                </div>
                <div class="d-flex flex-justify-start flex-items-start">
                  <div class="blob-num blame-blob-num color-bg-subtle js-line-number" id="L391">391</div>
                  <div class="blob-code blob-code-inner js-file-line" id="LC391">       <span class="pl-s"><span class="pl-pds">&quot;</span>      &lt;td&gt;2&lt;/td&gt;<span class="pl-cce">\n</span><span class="pl-pds">&quot;</span></span>,</div>
                </div>
                <div class="d-flex flex-justify-start flex-items-start">
                  <div class="blob-num blame-blob-num color-bg-subtle js-line-number" id="L392">392</div>
                  <div class="blob-code blob-code-inner js-file-line" id="LC392">       <span class="pl-s"><span class="pl-pds">&quot;</span>    &lt;/tr&gt;<span class="pl-cce">\n</span><span class="pl-pds">&quot;</span></span>,</div>
                </div>
                <div class="d-flex flex-justify-start flex-items-start">
                  <div class="blob-num blame-blob-num color-bg-subtle js-line-number" id="L393">393</div>
                  <div class="blob-code blob-code-inner js-file-line" id="LC393">       <span class="pl-s"><span class="pl-pds">&quot;</span>    &lt;tr&gt;<span class="pl-cce">\n</span><span class="pl-pds">&quot;</span></span>,</div>
                </div>
                <div class="d-flex flex-justify-start flex-items-start">
                  <div class="blob-num blame-blob-num color-bg-subtle js-line-number" id="L394">394</div>
                  <div class="blob-code blob-code-inner js-file-line" id="LC394">       <span class="pl-s"><span class="pl-pds">&quot;</span>      &lt;th&gt;163&lt;/th&gt;<span class="pl-cce">\n</span><span class="pl-pds">&quot;</span></span>,</div>
                </div>
                <div class="d-flex flex-justify-start flex-items-start">
                  <div class="blob-num blame-blob-num color-bg-subtle js-line-number" id="L395">395</div>
                  <div class="blob-code blob-code-inner js-file-line" id="LC395">       <span class="pl-s"><span class="pl-pds">&quot;</span>      &lt;td&gt;561.68&lt;/td&gt;<span class="pl-cce">\n</span><span class="pl-pds">&quot;</span></span>,</div>
                </div>
                <div class="d-flex flex-justify-start flex-items-start">
                  <div class="blob-num blame-blob-num color-bg-subtle js-line-number" id="L396">396</div>
                  <div class="blob-code blob-code-inner js-file-line" id="LC396">       <span class="pl-s"><span class="pl-pds">&quot;</span>      &lt;td&gt;Entire home/apt&lt;/td&gt;<span class="pl-cce">\n</span><span class="pl-pds">&quot;</span></span>,</div>
                </div>
                <div class="d-flex flex-justify-start flex-items-start">
                  <div class="blob-num blame-blob-num color-bg-subtle js-line-number" id="L397">397</div>
                  <div class="blob-code blob-code-inner js-file-line" id="LC397">       <span class="pl-s"><span class="pl-pds">&quot;</span>      &lt;td&gt;2014-06-30&lt;/td&gt;<span class="pl-cce">\n</span><span class="pl-pds">&quot;</span></span>,</div>
                </div>
                <div class="d-flex flex-justify-start flex-items-start">
                  <div class="blob-num blame-blob-num color-bg-subtle js-line-number" id="L398">398</div>
                  <div class="blob-code blob-code-inner js-file-line" id="LC398">       <span class="pl-s"><span class="pl-pds">&quot;</span>      &lt;td&gt;10026&lt;/td&gt;<span class="pl-cce">\n</span><span class="pl-pds">&quot;</span></span>,</div>
                </div>
                <div class="d-flex flex-justify-start flex-items-start">
                  <div class="blob-num blame-blob-num color-bg-subtle js-line-number" id="L399">399</div>
                  <div class="blob-code blob-code-inner js-file-line" id="LC399">       <span class="pl-s"><span class="pl-pds">&quot;</span>      &lt;td&gt;28&lt;/td&gt;<span class="pl-cce">\n</span><span class="pl-pds">&quot;</span></span>,</div>
                </div>
                <div class="d-flex flex-justify-start flex-items-start">
                  <div class="blob-num blame-blob-num color-bg-subtle js-line-number" id="L400">400</div>
                  <div class="blob-code blob-code-inner js-file-line" id="LC400">       <span class="pl-s"><span class="pl-pds">&quot;</span>    &lt;/tr&gt;<span class="pl-cce">\n</span><span class="pl-pds">&quot;</span></span>,</div>
                </div>
                <div class="d-flex flex-justify-start flex-items-start">
                  <div class="blob-num blame-blob-num color-bg-subtle js-line-number" id="L401">401</div>
                  <div class="blob-code blob-code-inner js-file-line" id="LC401">       <span class="pl-s"><span class="pl-pds">&quot;</span>    &lt;tr&gt;<span class="pl-cce">\n</span><span class="pl-pds">&quot;</span></span>,</div>
                </div>
                <div class="d-flex flex-justify-start flex-items-start">
                  <div class="blob-num blame-blob-num color-bg-subtle js-line-number" id="L402">402</div>
                  <div class="blob-code blob-code-inner js-file-line" id="LC402">       <span class="pl-s"><span class="pl-pds">&quot;</span>      &lt;th&gt;164&lt;/th&gt;<span class="pl-cce">\n</span><span class="pl-pds">&quot;</span></span>,</div>
                </div>
                <div class="d-flex flex-justify-start flex-items-start">
                  <div class="blob-num blame-blob-num color-bg-subtle js-line-number" id="L403">403</div>
                  <div class="blob-code blob-code-inner js-file-line" id="LC403">       <span class="pl-s"><span class="pl-pds">&quot;</span>      &lt;td&gt;504.34&lt;/td&gt;<span class="pl-cce">\n</span><span class="pl-pds">&quot;</span></span>,</div>
                </div>
                <div class="d-flex flex-justify-start flex-items-start">
                  <div class="blob-num blame-blob-num color-bg-subtle js-line-number" id="L404">404</div>
                  <div class="blob-code blob-code-inner js-file-line" id="LC404">       <span class="pl-s"><span class="pl-pds">&quot;</span>      &lt;td&gt;Private room&lt;/td&gt;<span class="pl-cce">\n</span><span class="pl-pds">&quot;</span></span>,</div>
                </div>
                <div class="d-flex flex-justify-start flex-items-start">
                  <div class="blob-num blame-blob-num color-bg-subtle js-line-number" id="L405">405</div>
                  <div class="blob-code blob-code-inner js-file-line" id="LC405">       <span class="pl-s"><span class="pl-pds">&quot;</span>      &lt;td&gt;2013-12-11&lt;/td&gt;<span class="pl-cce">\n</span><span class="pl-pds">&quot;</span></span>,</div>
                </div>
                <div class="d-flex flex-justify-start flex-items-start">
                  <div class="blob-num blame-blob-num color-bg-subtle js-line-number" id="L406">406</div>
                  <div class="blob-code blob-code-inner js-file-line" id="LC406">       <span class="pl-s"><span class="pl-pds">&quot;</span>      &lt;td&gt;10037&lt;/td&gt;<span class="pl-cce">\n</span><span class="pl-pds">&quot;</span></span>,</div>
                </div>
                <div class="d-flex flex-justify-start flex-items-start">
                  <div class="blob-num blame-blob-num color-bg-subtle js-line-number" id="L407">407</div>
                  <div class="blob-code blob-code-inner js-file-line" id="LC407">       <span class="pl-s"><span class="pl-pds">&quot;</span>      &lt;td&gt;14&lt;/td&gt;<span class="pl-cce">\n</span><span class="pl-pds">&quot;</span></span>,</div>
                </div>
                <div class="d-flex flex-justify-start flex-items-start">
                  <div class="blob-num blame-blob-num color-bg-subtle js-line-number" id="L408">408</div>
                  <div class="blob-code blob-code-inner js-file-line" id="LC408">       <span class="pl-s"><span class="pl-pds">&quot;</span>    &lt;/tr&gt;<span class="pl-cce">\n</span><span class="pl-pds">&quot;</span></span>,</div>
                </div>
                <div class="d-flex flex-justify-start flex-items-start">
                  <div class="blob-num blame-blob-num color-bg-subtle js-line-number" id="L409">409</div>
                  <div class="blob-code blob-code-inner js-file-line" id="LC409">       <span class="pl-s"><span class="pl-pds">&quot;</span>    &lt;tr&gt;<span class="pl-cce">\n</span><span class="pl-pds">&quot;</span></span>,</div>
                </div>
                <div class="d-flex flex-justify-start flex-items-start">
                  <div class="blob-num blame-blob-num color-bg-subtle js-line-number" id="L410">410</div>
                  <div class="blob-code blob-code-inner js-file-line" id="LC410">       <span class="pl-s"><span class="pl-pds">&quot;</span>      &lt;th&gt;165&lt;/th&gt;<span class="pl-cce">\n</span><span class="pl-pds">&quot;</span></span>,</div>
                </div>
                <div class="d-flex flex-justify-start flex-items-start">
                  <div class="blob-num blame-blob-num color-bg-subtle js-line-number" id="L411">411</div>
                  <div class="blob-code blob-code-inner js-file-line" id="LC411">       <span class="pl-s"><span class="pl-pds">&quot;</span>      &lt;td&gt;409.43&lt;/td&gt;<span class="pl-cce">\n</span><span class="pl-pds">&quot;</span></span>,</div>
                </div>
                <div class="d-flex flex-justify-start flex-items-start">
                  <div class="blob-num blame-blob-num color-bg-subtle js-line-number" id="L412">412</div>
                  <div class="blob-code blob-code-inner js-file-line" id="LC412">       <span class="pl-s"><span class="pl-pds">&quot;</span>      &lt;td&gt;Private room&lt;/td&gt;<span class="pl-cce">\n</span><span class="pl-pds">&quot;</span></span>,</div>
                </div>
                <div class="d-flex flex-justify-start flex-items-start">
                  <div class="blob-num blame-blob-num color-bg-subtle js-line-number" id="L413">413</div>
                  <div class="blob-code blob-code-inner js-file-line" id="LC413">       <span class="pl-s"><span class="pl-pds">&quot;</span>      &lt;td&gt;2014-06-30&lt;/td&gt;<span class="pl-cce">\n</span><span class="pl-pds">&quot;</span></span>,</div>
                </div>
                <div class="d-flex flex-justify-start flex-items-start">
                  <div class="blob-num blame-blob-num color-bg-subtle js-line-number" id="L414">414</div>
                  <div class="blob-code blob-code-inner js-file-line" id="LC414">       <span class="pl-s"><span class="pl-pds">&quot;</span>      &lt;td&gt;10026&lt;/td&gt;<span class="pl-cce">\n</span><span class="pl-pds">&quot;</span></span>,</div>
                </div>
                <div class="d-flex flex-justify-start flex-items-start">
                  <div class="blob-num blame-blob-num color-bg-subtle js-line-number" id="L415">415</div>
                  <div class="blob-code blob-code-inner js-file-line" id="LC415">       <span class="pl-s"><span class="pl-pds">&quot;</span>      &lt;td&gt;0&lt;/td&gt;<span class="pl-cce">\n</span><span class="pl-pds">&quot;</span></span>,</div>
                </div>
                <div class="d-flex flex-justify-start flex-items-start">
                  <div class="blob-num blame-blob-num color-bg-subtle js-line-number" id="L416">416</div>
                  <div class="blob-code blob-code-inner js-file-line" id="LC416">       <span class="pl-s"><span class="pl-pds">&quot;</span>    &lt;/tr&gt;<span class="pl-cce">\n</span><span class="pl-pds">&quot;</span></span>,</div>
                </div>
                <div class="d-flex flex-justify-start flex-items-start">
                  <div class="blob-num blame-blob-num color-bg-subtle js-line-number" id="L417">417</div>
                  <div class="blob-code blob-code-inner js-file-line" id="LC417">       <span class="pl-s"><span class="pl-pds">&quot;</span>    &lt;tr&gt;<span class="pl-cce">\n</span><span class="pl-pds">&quot;</span></span>,</div>
                </div>
                <div class="d-flex flex-justify-start flex-items-start">
                  <div class="blob-num blame-blob-num color-bg-subtle js-line-number" id="L418">418</div>
                  <div class="blob-code blob-code-inner js-file-line" id="LC418">       <span class="pl-s"><span class="pl-pds">&quot;</span>      &lt;th&gt;166&lt;/th&gt;<span class="pl-cce">\n</span><span class="pl-pds">&quot;</span></span>,</div>
                </div>
                <div class="d-flex flex-justify-start flex-items-start">
                  <div class="blob-num blame-blob-num color-bg-subtle js-line-number" id="L419">419</div>
                  <div class="blob-code blob-code-inner js-file-line" id="LC419">       <span class="pl-s"><span class="pl-pds">&quot;</span>      &lt;td&gt;478.75&lt;/td&gt;<span class="pl-cce">\n</span><span class="pl-pds">&quot;</span></span>,</div>
                </div>
                <div class="d-flex flex-justify-start flex-items-start">
                  <div class="blob-num blame-blob-num color-bg-subtle js-line-number" id="L420">420</div>
                  <div class="blob-code blob-code-inner js-file-line" id="LC420">       <span class="pl-s"><span class="pl-pds">&quot;</span>      &lt;td&gt;Private room&lt;/td&gt;<span class="pl-cce">\n</span><span class="pl-pds">&quot;</span></span>,</div>
                </div>
                <div class="d-flex flex-justify-start flex-items-start">
                  <div class="blob-num blame-blob-num color-bg-subtle js-line-number" id="L421">421</div>
                  <div class="blob-code blob-code-inner js-file-line" id="LC421">       <span class="pl-s"><span class="pl-pds">&quot;</span>      &lt;td&gt;2013-12-21&lt;/td&gt;<span class="pl-cce">\n</span><span class="pl-pds">&quot;</span></span>,</div>
                </div>
                <div class="d-flex flex-justify-start flex-items-start">
                  <div class="blob-num blame-blob-num color-bg-subtle js-line-number" id="L422">422</div>
                  <div class="blob-code blob-code-inner js-file-line" id="LC422">       <span class="pl-s"><span class="pl-pds">&quot;</span>      &lt;td&gt;10027&lt;/td&gt;<span class="pl-cce">\n</span><span class="pl-pds">&quot;</span></span>,</div>
                </div>
                <div class="d-flex flex-justify-start flex-items-start">
                  <div class="blob-num blame-blob-num color-bg-subtle js-line-number" id="L423">423</div>
                  <div class="blob-code blob-code-inner js-file-line" id="LC423">       <span class="pl-s"><span class="pl-pds">&quot;</span>      &lt;td&gt;14&lt;/td&gt;<span class="pl-cce">\n</span><span class="pl-pds">&quot;</span></span>,</div>
                </div>
                <div class="d-flex flex-justify-start flex-items-start">
                  <div class="blob-num blame-blob-num color-bg-subtle js-line-number" id="L424">424</div>
                  <div class="blob-code blob-code-inner js-file-line" id="LC424">       <span class="pl-s"><span class="pl-pds">&quot;</span>    &lt;/tr&gt;<span class="pl-cce">\n</span><span class="pl-pds">&quot;</span></span>,</div>
                </div>
                <div class="d-flex flex-justify-start flex-items-start">
                  <div class="blob-num blame-blob-num color-bg-subtle js-line-number" id="L425">425</div>
                  <div class="blob-code blob-code-inner js-file-line" id="LC425">       <span class="pl-s"><span class="pl-pds">&quot;</span>  &lt;/tbody&gt;<span class="pl-cce">\n</span><span class="pl-pds">&quot;</span></span>,</div>
                </div>
                <div class="d-flex flex-justify-start flex-items-start">
                  <div class="blob-num blame-blob-num color-bg-subtle js-line-number" id="L426">426</div>
                  <div class="blob-code blob-code-inner js-file-line" id="LC426">       <span class="pl-s"><span class="pl-pds">&quot;</span>&lt;/table&gt;&lt;/div&gt;<span class="pl-pds">&quot;</span></span></div>
                </div>
                <div class="d-flex flex-justify-start flex-items-start">
                  <div class="blob-num blame-blob-num color-bg-subtle js-line-number" id="L427">427</div>
                  <div class="blob-code blob-code-inner js-file-line" id="LC427">      ],</div>
                </div>
                <div class="d-flex flex-justify-start flex-items-start">
                  <div class="blob-num blame-blob-num color-bg-subtle js-line-number" id="L428">428</div>
                  <div class="blob-code blob-code-inner js-file-line" id="LC428">      <span class="pl-ent">&quot;text/plain&quot;</span>: [</div>
                </div>
                <div class="d-flex flex-justify-start flex-items-start">
                  <div class="blob-num blame-blob-num color-bg-subtle js-line-number" id="L429">429</div>
                  <div class="blob-code blob-code-inner js-file-line" id="LC429">       <span class="pl-s"><span class="pl-pds">&quot;</span>     price        room_type  host_since  zipcode  number_of_reviews<span class="pl-cce">\n</span><span class="pl-pds">&quot;</span></span>,</div>
                </div>
                <div class="d-flex flex-justify-start flex-items-start">
                  <div class="blob-num blame-blob-num color-bg-subtle js-line-number" id="L430">430</div>
                  <div class="blob-code blob-code-inner js-file-line" id="LC430">       <span class="pl-s"><span class="pl-pds">&quot;</span>0   621.46  Entire home/apt  2016-11-01    90272                  1<span class="pl-cce">\n</span><span class="pl-pds">&quot;</span></span>,</div>
                </div>
                <div class="d-flex flex-justify-start flex-items-start">
                  <div class="blob-num blame-blob-num color-bg-subtle js-line-number" id="L431">431</div>
                  <div class="blob-code blob-code-inner js-file-line" id="LC431">       <span class="pl-s"><span class="pl-pds">&quot;</span>1   621.46  Entire home/apt  2016-11-01    90272                  1<span class="pl-cce">\n</span><span class="pl-pds">&quot;</span></span>,</div>
                </div>
                <div class="d-flex flex-justify-start flex-items-start">
                  <div class="blob-num blame-blob-num color-bg-subtle js-line-number" id="L432">432</div>
                  <div class="blob-code blob-code-inner js-file-line" id="LC432">       <span class="pl-s"><span class="pl-pds">&quot;</span>2   598.90  Entire home/apt  2017-07-03    10036                  1<span class="pl-cce">\n</span><span class="pl-pds">&quot;</span></span>,</div>
                </div>
                <div class="d-flex flex-justify-start flex-items-start">
                  <div class="blob-num blame-blob-num color-bg-subtle js-line-number" id="L433">433</div>
                  <div class="blob-code blob-code-inner js-file-line" id="LC433">       <span class="pl-s"><span class="pl-pds">&quot;</span>3   420.47     Private room  2016-04-20    91748                  0<span class="pl-cce">\n</span><span class="pl-pds">&quot;</span></span>,</div>
                </div>
                <div class="d-flex flex-justify-start flex-items-start">
                  <div class="blob-num blame-blob-num color-bg-subtle js-line-number" id="L434">434</div>
                  <div class="blob-code blob-code-inner js-file-line" id="LC434">       <span class="pl-s"><span class="pl-pds">&quot;</span>4   478.75  Entire home/apt  2017-10-07    11206                  2<span class="pl-cce">\n</span><span class="pl-pds">&quot;</span></span>,</div>
                </div>
                <div class="d-flex flex-justify-start flex-items-start">
                  <div class="blob-num blame-blob-num color-bg-subtle js-line-number" id="L435">435</div>
                  <div class="blob-code blob-code-inner js-file-line" id="LC435">       <span class="pl-s"><span class="pl-pds">&quot;</span>..     ...              ...         ...      ...                ...<span class="pl-cce">\n</span><span class="pl-pds">&quot;</span></span>,</div>
                </div>
                <div class="d-flex flex-justify-start flex-items-start">
                  <div class="blob-num blame-blob-num color-bg-subtle js-line-number" id="L436">436</div>
                  <div class="blob-code blob-code-inner js-file-line" id="LC436">       <span class="pl-s"><span class="pl-pds">&quot;</span>162 436.94     Private room  2014-06-30    10027                  2<span class="pl-cce">\n</span><span class="pl-pds">&quot;</span></span>,</div>
                </div>
                <div class="d-flex flex-justify-start flex-items-start">
                  <div class="blob-num blame-blob-num color-bg-subtle js-line-number" id="L437">437</div>
                  <div class="blob-code blob-code-inner js-file-line" id="LC437">       <span class="pl-s"><span class="pl-pds">&quot;</span>163 561.68  Entire home/apt  2014-06-30    10026                 28<span class="pl-cce">\n</span><span class="pl-pds">&quot;</span></span>,</div>
                </div>
                <div class="d-flex flex-justify-start flex-items-start">
                  <div class="blob-num blame-blob-num color-bg-subtle js-line-number" id="L438">438</div>
                  <div class="blob-code blob-code-inner js-file-line" id="LC438">       <span class="pl-s"><span class="pl-pds">&quot;</span>164 504.34     Private room  2013-12-11    10037                 14<span class="pl-cce">\n</span><span class="pl-pds">&quot;</span></span>,</div>
                </div>
                <div class="d-flex flex-justify-start flex-items-start">
                  <div class="blob-num blame-blob-num color-bg-subtle js-line-number" id="L439">439</div>
                  <div class="blob-code blob-code-inner js-file-line" id="LC439">       <span class="pl-s"><span class="pl-pds">&quot;</span>165 409.43     Private room  2014-06-30    10026                  0<span class="pl-cce">\n</span><span class="pl-pds">&quot;</span></span>,</div>
                </div>
                <div class="d-flex flex-justify-start flex-items-start">
                  <div class="blob-num blame-blob-num color-bg-subtle js-line-number" id="L440">440</div>
                  <div class="blob-code blob-code-inner js-file-line" id="LC440">       <span class="pl-s"><span class="pl-pds">&quot;</span>166 478.75     Private room  2013-12-21    10027                 14<span class="pl-cce">\n</span><span class="pl-pds">&quot;</span></span>,</div>
                </div>
                <div class="d-flex flex-justify-start flex-items-start">
                  <div class="blob-num blame-blob-num color-bg-subtle js-line-number" id="L441">441</div>
                  <div class="blob-code blob-code-inner js-file-line" id="LC441">       <span class="pl-s"><span class="pl-pds">&quot;</span><span class="pl-cce">\n</span><span class="pl-pds">&quot;</span></span>,</div>
                </div>
                <div class="d-flex flex-justify-start flex-items-start">
                  <div class="blob-num blame-blob-num color-bg-subtle js-line-number" id="L442">442</div>
                  <div class="blob-code blob-code-inner js-file-line" id="LC442">       <span class="pl-s"><span class="pl-pds">&quot;</span>[167 rows x 5 columns]<span class="pl-pds">&quot;</span></span></div>
                </div>
                <div class="d-flex flex-justify-start flex-items-start">
                  <div class="blob-num blame-blob-num color-bg-subtle js-line-number" id="L443">443</div>
                  <div class="blob-code blob-code-inner js-file-line" id="LC443">      ]</div>
                </div>
                <div class="d-flex flex-justify-start flex-items-start">
                  <div class="blob-num blame-blob-num color-bg-subtle js-line-number" id="L444">444</div>
                  <div class="blob-code blob-code-inner js-file-line" id="LC444">     },</div>
                </div>
                <div class="d-flex flex-justify-start flex-items-start">
                  <div class="blob-num blame-blob-num color-bg-subtle js-line-number" id="L445">445</div>
                  <div class="blob-code blob-code-inner js-file-line" id="LC445">     <span class="pl-ent">&quot;execution_count&quot;</span>: <span class="pl-c1">6</span>,</div>
                </div>
                <div class="d-flex flex-justify-start flex-items-start">
                  <div class="blob-num blame-blob-num color-bg-subtle js-line-number" id="L446">446</div>
                  <div class="blob-code blob-code-inner js-file-line" id="LC446">     <span class="pl-ent">&quot;metadata&quot;</span>: {},</div>
                </div>
                <div class="d-flex flex-justify-start flex-items-start">
                  <div class="blob-num blame-blob-num color-bg-subtle js-line-number" id="L447">447</div>
                  <div class="blob-code blob-code-inner js-file-line" id="LC447">     <span class="pl-ent">&quot;output_type&quot;</span>: <span class="pl-s"><span class="pl-pds">&quot;</span>execute_result<span class="pl-pds">&quot;</span></span></div>
                </div>
                <div class="d-flex flex-justify-start flex-items-start">
                  <div class="blob-num blame-blob-num color-bg-subtle js-line-number" id="L448">448</div>
                  <div class="blob-code blob-code-inner js-file-line" id="LC448">    }</div>
                </div>
                <div class="d-flex flex-justify-start flex-items-start">
                  <div class="blob-num blame-blob-num color-bg-subtle js-line-number" id="L449">449</div>
                  <div class="blob-code blob-code-inner js-file-line" id="LC449">   ],</div>
                </div>
                <div class="d-flex flex-justify-start flex-items-start">
                  <div class="blob-num blame-blob-num color-bg-subtle js-line-number" id="L450">450</div>
                  <div class="blob-code blob-code-inner js-file-line" id="LC450">   <span class="pl-ent">&quot;source&quot;</span>: [</div>
                </div>
                <div class="d-flex flex-justify-start flex-items-start">
                  <div class="blob-num blame-blob-num color-bg-subtle js-line-number" id="L451">451</div>
                  <div class="blob-code blob-code-inner js-file-line" id="LC451">    <span class="pl-s"><span class="pl-pds">&quot;</span>df[[&#39;price&#39;,&#39;room_type&#39;,&#39;host_since&#39;,&#39;zipcode&#39;,&#39;number_of_reviews&#39;]]<span class="pl-pds">&quot;</span></span></div>
                </div>
                <div class="d-flex flex-justify-start flex-items-start">
                  <div class="blob-num blame-blob-num color-bg-subtle js-line-number" id="L452">452</div>
                  <div class="blob-code blob-code-inner js-file-line" id="LC452">   ]</div>
                </div>
                <div class="d-flex flex-justify-start flex-items-start">
                  <div class="blob-num blame-blob-num color-bg-subtle js-line-number" id="L453">453</div>
                  <div class="blob-code blob-code-inner js-file-line" id="LC453">  },</div>
                </div>
                <div class="d-flex flex-justify-start flex-items-start">
                  <div class="blob-num blame-blob-num color-bg-subtle js-line-number" id="L454">454</div>
                  <div class="blob-code blob-code-inner js-file-line" id="LC454">  {</div>
                </div>
                <div class="d-flex flex-justify-start flex-items-start">
                  <div class="blob-num blame-blob-num color-bg-subtle js-line-number" id="L455">455</div>
                  <div class="blob-code blob-code-inner js-file-line" id="LC455">   <span class="pl-ent">&quot;cell_type&quot;</span>: <span class="pl-s"><span class="pl-pds">&quot;</span>code<span class="pl-pds">&quot;</span></span>,</div>
                </div>
                <div class="d-flex flex-justify-start flex-items-start">
                  <div class="blob-num blame-blob-num color-bg-subtle js-line-number" id="L456">456</div>
                  <div class="blob-code blob-code-inner js-file-line" id="LC456">   <span class="pl-ent">&quot;execution_count&quot;</span>: <span class="pl-c1">16</span>,</div>
                </div>
                <div class="d-flex flex-justify-start flex-items-start">
                  <div class="blob-num blame-blob-num color-bg-subtle js-line-number" id="L457">457</div>
                  <div class="blob-code blob-code-inner js-file-line" id="LC457">   <span class="pl-ent">&quot;id&quot;</span>: <span class="pl-s"><span class="pl-pds">&quot;</span>679ddb60<span class="pl-pds">&quot;</span></span>,</div>
                </div>
                <div class="d-flex flex-justify-start flex-items-start">
                  <div class="blob-num blame-blob-num color-bg-subtle js-line-number" id="L458">458</div>
                  <div class="blob-code blob-code-inner js-file-line" id="LC458">   <span class="pl-ent">&quot;metadata&quot;</span>: {},</div>
                </div>
                <div class="d-flex flex-justify-start flex-items-start">
                  <div class="blob-num blame-blob-num color-bg-subtle js-line-number" id="L459">459</div>
                  <div class="blob-code blob-code-inner js-file-line" id="LC459">   <span class="pl-ent">&quot;outputs&quot;</span>: [</div>
                </div>
                <div class="d-flex flex-justify-start flex-items-start">
                  <div class="blob-num blame-blob-num color-bg-subtle js-line-number" id="L460">460</div>
                  <div class="blob-code blob-code-inner js-file-line" id="LC460">    {</div>
                </div>
                <div class="d-flex flex-justify-start flex-items-start">
                  <div class="blob-num blame-blob-num color-bg-subtle js-line-number" id="L461">461</div>
                  <div class="blob-code blob-code-inner js-file-line" id="LC461">     <span class="pl-ent">&quot;name&quot;</span>: <span class="pl-s"><span class="pl-pds">&quot;</span>stdout<span class="pl-pds">&quot;</span></span>,</div>
                </div>
                <div class="d-flex flex-justify-start flex-items-start">
                  <div class="blob-num blame-blob-num color-bg-subtle js-line-number" id="L462">462</div>
                  <div class="blob-code blob-code-inner js-file-line" id="LC462">     <span class="pl-ent">&quot;output_type&quot;</span>: <span class="pl-s"><span class="pl-pds">&quot;</span>stream<span class="pl-pds">&quot;</span></span>,</div>
                </div>
                <div class="d-flex flex-justify-start flex-items-start">
                  <div class="blob-num blame-blob-num color-bg-subtle js-line-number" id="L463">463</div>
                  <div class="blob-code blob-code-inner js-file-line" id="LC463">     <span class="pl-ent">&quot;text&quot;</span>: [</div>
                </div>
                <div class="d-flex flex-justify-start flex-items-start">
                  <div class="blob-num blame-blob-num color-bg-subtle js-line-number" id="L464">464</div>
                  <div class="blob-code blob-code-inner js-file-line" id="LC464">      <span class="pl-s"><span class="pl-pds">&quot;</span>&lt;class &#39;pandas.core.frame.DataFrame&#39;&gt;<span class="pl-cce">\n</span><span class="pl-pds">&quot;</span></span>,</div>
                </div>
                <div class="d-flex flex-justify-start flex-items-start">
                  <div class="blob-num blame-blob-num color-bg-subtle js-line-number" id="L465">465</div>
                  <div class="blob-code blob-code-inner js-file-line" id="LC465">      <span class="pl-s"><span class="pl-pds">&quot;</span>Int64Index: 160 entries, 0 to 166<span class="pl-cce">\n</span><span class="pl-pds">&quot;</span></span>,</div>
                </div>
                <div class="d-flex flex-justify-start flex-items-start">
                  <div class="blob-num blame-blob-num color-bg-subtle js-line-number" id="L466">466</div>
                  <div class="blob-code blob-code-inner js-file-line" id="LC466">      <span class="pl-s"><span class="pl-pds">&quot;</span>Data columns (total 3 columns):<span class="pl-cce">\n</span><span class="pl-pds">&quot;</span></span>,</div>
                </div>
                <div class="d-flex flex-justify-start flex-items-start">
                  <div class="blob-num blame-blob-num color-bg-subtle js-line-number" id="L467">467</div>
                  <div class="blob-code blob-code-inner js-file-line" id="LC467">      <span class="pl-s"><span class="pl-pds">&quot;</span> #   Column             Non-Null Count  Dtype  <span class="pl-cce">\n</span><span class="pl-pds">&quot;</span></span>,</div>
                </div>
                <div class="d-flex flex-justify-start flex-items-start">
                  <div class="blob-num blame-blob-num color-bg-subtle js-line-number" id="L468">468</div>
                  <div class="blob-code blob-code-inner js-file-line" id="LC468">      <span class="pl-s"><span class="pl-pds">&quot;</span>---  ------             --------------  -----  <span class="pl-cce">\n</span><span class="pl-pds">&quot;</span></span>,</div>
                </div>
                <div class="d-flex flex-justify-start flex-items-start">
                  <div class="blob-num blame-blob-num color-bg-subtle js-line-number" id="L469">469</div>
                  <div class="blob-code blob-code-inner js-file-line" id="LC469">      <span class="pl-s"><span class="pl-pds">&quot;</span> 0   host_id            160 non-null    object <span class="pl-cce">\n</span><span class="pl-pds">&quot;</span></span>,</div>
                </div>
                <div class="d-flex flex-justify-start flex-items-start">
                  <div class="blob-num blame-blob-num color-bg-subtle js-line-number" id="L470">470</div>
                  <div class="blob-code blob-code-inner js-file-line" id="LC470">      <span class="pl-s"><span class="pl-pds">&quot;</span> 1   number_of_reviews  160 non-null    int64  <span class="pl-cce">\n</span><span class="pl-pds">&quot;</span></span>,</div>
                </div>
                <div class="d-flex flex-justify-start flex-items-start">
                  <div class="blob-num blame-blob-num color-bg-subtle js-line-number" id="L471">471</div>
                  <div class="blob-code blob-code-inner js-file-line" id="LC471">      <span class="pl-s"><span class="pl-pds">&quot;</span> 2   price              160 non-null    float64<span class="pl-cce">\n</span><span class="pl-pds">&quot;</span></span>,</div>
                </div>
                <div class="d-flex flex-justify-start flex-items-start">
                  <div class="blob-num blame-blob-num color-bg-subtle js-line-number" id="L472">472</div>
                  <div class="blob-code blob-code-inner js-file-line" id="LC472">      <span class="pl-s"><span class="pl-pds">&quot;</span>dtypes: float64(1), int64(1), object(1)<span class="pl-cce">\n</span><span class="pl-pds">&quot;</span></span>,</div>
                </div>
                <div class="d-flex flex-justify-start flex-items-start">
                  <div class="blob-num blame-blob-num color-bg-subtle js-line-number" id="L473">473</div>
                  <div class="blob-code blob-code-inner js-file-line" id="LC473">      <span class="pl-s"><span class="pl-pds">&quot;</span>memory usage: 5.0+ KB<span class="pl-cce">\n</span><span class="pl-pds">&quot;</span></span>,</div>
                </div>
                <div class="d-flex flex-justify-start flex-items-start">
                  <div class="blob-num blame-blob-num color-bg-subtle js-line-number" id="L474">474</div>
                  <div class="blob-code blob-code-inner js-file-line" id="LC474">      <span class="pl-s"><span class="pl-pds">&quot;</span>&lt;class &#39;pandas.core.frame.DataFrame&#39;&gt;<span class="pl-cce">\n</span><span class="pl-pds">&quot;</span></span>,</div>
                </div>
                <div class="d-flex flex-justify-start flex-items-start">
                  <div class="blob-num blame-blob-num color-bg-subtle js-line-number" id="L475">475</div>
                  <div class="blob-code blob-code-inner js-file-line" id="LC475">      <span class="pl-s"><span class="pl-pds">&quot;</span>Int64Index: 151 entries, 0 to 166<span class="pl-cce">\n</span><span class="pl-pds">&quot;</span></span>,</div>
                </div>
                <div class="d-flex flex-justify-start flex-items-start">
                  <div class="blob-num blame-blob-num color-bg-subtle js-line-number" id="L476">476</div>
                  <div class="blob-code blob-code-inner js-file-line" id="LC476">      <span class="pl-s"><span class="pl-pds">&quot;</span>Data columns (total 2 columns):<span class="pl-cce">\n</span><span class="pl-pds">&quot;</span></span>,</div>
                </div>
                <div class="d-flex flex-justify-start flex-items-start">
                  <div class="blob-num blame-blob-num color-bg-subtle js-line-number" id="L477">477</div>
                  <div class="blob-code blob-code-inner js-file-line" id="LC477">      <span class="pl-s"><span class="pl-pds">&quot;</span> #   Column             Non-Null Count  Dtype  <span class="pl-cce">\n</span><span class="pl-pds">&quot;</span></span>,</div>
                </div>
                <div class="d-flex flex-justify-start flex-items-start">
                  <div class="blob-num blame-blob-num color-bg-subtle js-line-number" id="L478">478</div>
                  <div class="blob-code blob-code-inner js-file-line" id="LC478">      <span class="pl-s"><span class="pl-pds">&quot;</span>---  ------             --------------  -----  <span class="pl-cce">\n</span><span class="pl-pds">&quot;</span></span>,</div>
                </div>
                <div class="d-flex flex-justify-start flex-items-start">
                  <div class="blob-num blame-blob-num color-bg-subtle js-line-number" id="L479">479</div>
                  <div class="blob-code blob-code-inner js-file-line" id="LC479">      <span class="pl-s"><span class="pl-pds">&quot;</span> 0   number_of_reviews  151 non-null    int64  <span class="pl-cce">\n</span><span class="pl-pds">&quot;</span></span>,</div>
                </div>
                <div class="d-flex flex-justify-start flex-items-start">
                  <div class="blob-num blame-blob-num color-bg-subtle js-line-number" id="L480">480</div>
                  <div class="blob-code blob-code-inner js-file-line" id="LC480">      <span class="pl-s"><span class="pl-pds">&quot;</span> 1   price              151 non-null    float64<span class="pl-cce">\n</span><span class="pl-pds">&quot;</span></span>,</div>
                </div>
                <div class="d-flex flex-justify-start flex-items-start">
                  <div class="blob-num blame-blob-num color-bg-subtle js-line-number" id="L481">481</div>
                  <div class="blob-code blob-code-inner js-file-line" id="LC481">      <span class="pl-s"><span class="pl-pds">&quot;</span>dtypes: float64(1), int64(1)<span class="pl-cce">\n</span><span class="pl-pds">&quot;</span></span>,</div>
                </div>
                <div class="d-flex flex-justify-start flex-items-start">
                  <div class="blob-num blame-blob-num color-bg-subtle js-line-number" id="L482">482</div>
                  <div class="blob-code blob-code-inner js-file-line" id="LC482">      <span class="pl-s"><span class="pl-pds">&quot;</span>memory usage: 3.5 KB<span class="pl-cce">\n</span><span class="pl-pds">&quot;</span></span></div>
                </div>
                <div class="d-flex flex-justify-start flex-items-start">
                  <div class="blob-num blame-blob-num color-bg-subtle js-line-number" id="L483">483</div>
                  <div class="blob-code blob-code-inner js-file-line" id="LC483">     ]</div>
                </div>
                <div class="d-flex flex-justify-start flex-items-start">
                  <div class="blob-num blame-blob-num color-bg-subtle js-line-number" id="L484">484</div>
                  <div class="blob-code blob-code-inner js-file-line" id="LC484">    }</div>
                </div>
                <div class="d-flex flex-justify-start flex-items-start">
                  <div class="blob-num blame-blob-num color-bg-subtle js-line-number" id="L485">485</div>
                  <div class="blob-code blob-code-inner js-file-line" id="LC485">   ],</div>
                </div>
                <div class="d-flex flex-justify-start flex-items-start">
                  <div class="blob-num blame-blob-num color-bg-subtle js-line-number" id="L486">486</div>
                  <div class="blob-code blob-code-inner js-file-line" id="LC486">   <span class="pl-ent">&quot;source&quot;</span>: [</div>
                </div>
                <div class="d-flex flex-justify-start flex-items-start">
                  <div class="blob-num blame-blob-num color-bg-subtle js-line-number" id="L487">487</div>
                  <div class="blob-code blob-code-inner js-file-line" id="LC487">    <span class="pl-s"><span class="pl-pds">&quot;</span># Drop the duplicates by adding a new column “host_id”<span class="pl-cce">\n</span><span class="pl-pds">&quot;</span></span>,</div>
                </div>
                <div class="d-flex flex-justify-start flex-items-start">
                  <div class="blob-num blame-blob-num color-bg-subtle js-line-number" id="L488">488</div>
                  <div class="blob-code blob-code-inner js-file-line" id="LC488">    <span class="pl-s"><span class="pl-pds">&quot;</span>df[&#39;host_id&#39;] = df[&#39;price&#39;].map(str)+df[&#39;room_type&#39;].map(str)+ df[&#39;host_since&#39;].map(str)+df[&#39;zipcode&#39;].map(str)+df[&#39;number_of_reviews&#39;].map(str)<span class="pl-cce">\n</span><span class="pl-pds">&quot;</span></span>,</div>
                </div>
                <div class="d-flex flex-justify-start flex-items-start">
                  <div class="blob-num blame-blob-num color-bg-subtle js-line-number" id="L489">489</div>
                  <div class="blob-code blob-code-inner js-file-line" id="LC489">    <span class="pl-s"><span class="pl-pds">&quot;</span><span class="pl-cce">\n</span><span class="pl-pds">&quot;</span></span>,</div>
                </div>
                <div class="d-flex flex-justify-start flex-items-start">
                  <div class="blob-num blame-blob-num color-bg-subtle js-line-number" id="L490">490</div>
                  <div class="blob-code blob-code-inner js-file-line" id="LC490">    <span class="pl-s"><span class="pl-pds">&quot;</span>df1 = df[[&#39;host_id&#39;,&#39;number_of_reviews&#39;,&#39;price&#39;]].drop_duplicates()<span class="pl-cce">\n</span><span class="pl-pds">&quot;</span></span>,</div>
                </div>
                <div class="d-flex flex-justify-start flex-items-start">
                  <div class="blob-num blame-blob-num color-bg-subtle js-line-number" id="L491">491</div>
                  <div class="blob-code blob-code-inner js-file-line" id="LC491">    <span class="pl-s"><span class="pl-pds">&quot;</span>df1.info()<span class="pl-cce">\n</span><span class="pl-pds">&quot;</span></span>,</div>
                </div>
                <div class="d-flex flex-justify-start flex-items-start">
                  <div class="blob-num blame-blob-num color-bg-subtle js-line-number" id="L492">492</div>
                  <div class="blob-code blob-code-inner js-file-line" id="LC492">    <span class="pl-s"><span class="pl-pds">&quot;</span><span class="pl-cce">\n</span><span class="pl-pds">&quot;</span></span>,</div>
                </div>
                <div class="d-flex flex-justify-start flex-items-start">
                  <div class="blob-num blame-blob-num color-bg-subtle js-line-number" id="L493">493</div>
                  <div class="blob-code blob-code-inner js-file-line" id="LC493">    <span class="pl-s"><span class="pl-pds">&quot;</span><span class="pl-cce">\n</span><span class="pl-pds">&quot;</span></span>,</div>
                </div>
                <div class="d-flex flex-justify-start flex-items-start">
                  <div class="blob-num blame-blob-num color-bg-subtle js-line-number" id="L494">494</div>
                  <div class="blob-code blob-code-inner js-file-line" id="LC494">    <span class="pl-s"><span class="pl-pds">&quot;</span>#Drop the duplicates without creating a new column.<span class="pl-cce">\n</span><span class="pl-pds">&quot;</span></span>,</div>
                </div>
                <div class="d-flex flex-justify-start flex-items-start">
                  <div class="blob-num blame-blob-num color-bg-subtle js-line-number" id="L495">495</div>
                  <div class="blob-code blob-code-inner js-file-line" id="LC495">    <span class="pl-s"><span class="pl-pds">&quot;</span>df2 = df[[&#39;number_of_reviews&#39;, &#39;price&#39;]].drop_duplicates()<span class="pl-cce">\n</span><span class="pl-pds">&quot;</span></span>,</div>
                </div>
                <div class="d-flex flex-justify-start flex-items-start">
                  <div class="blob-num blame-blob-num color-bg-subtle js-line-number" id="L496">496</div>
                  <div class="blob-code blob-code-inner js-file-line" id="LC496">    <span class="pl-s"><span class="pl-pds">&quot;</span><span class="pl-cce">\n</span><span class="pl-pds">&quot;</span></span>,</div>
                </div>
                <div class="d-flex flex-justify-start flex-items-start">
                  <div class="blob-num blame-blob-num color-bg-subtle js-line-number" id="L497">497</div>
                  <div class="blob-code blob-code-inner js-file-line" id="LC497">    <span class="pl-s"><span class="pl-pds">&quot;</span>df2.info()<span class="pl-pds">&quot;</span></span></div>
                </div>
                <div class="d-flex flex-justify-start flex-items-start">
                  <div class="blob-num blame-blob-num color-bg-subtle js-line-number" id="L498">498</div>
                  <div class="blob-code blob-code-inner js-file-line" id="LC498">   ]</div>
                </div>
                <div class="d-flex flex-justify-start flex-items-start">
                  <div class="blob-num blame-blob-num color-bg-subtle js-line-number" id="L499">499</div>
                  <div class="blob-code blob-code-inner js-file-line" id="LC499">  },</div>
                </div>
                <div class="d-flex flex-justify-start flex-items-start">
                  <div class="blob-num blame-blob-num color-bg-subtle js-line-number" id="L500">500</div>
                  <div class="blob-code blob-code-inner js-file-line" id="LC500">  {</div>
                </div>
                <div class="d-flex flex-justify-start flex-items-start">
                  <div class="blob-num blame-blob-num color-bg-subtle js-line-number" id="L501">501</div>
                  <div class="blob-code blob-code-inner js-file-line" id="LC501">   <span class="pl-ent">&quot;cell_type&quot;</span>: <span class="pl-s"><span class="pl-pds">&quot;</span>code<span class="pl-pds">&quot;</span></span>,</div>
                </div>
                <div class="d-flex flex-justify-start flex-items-start">
                  <div class="blob-num blame-blob-num color-bg-subtle js-line-number" id="L502">502</div>
                  <div class="blob-code blob-code-inner js-file-line" id="LC502">   <span class="pl-ent">&quot;execution_count&quot;</span>: <span class="pl-c1">17</span>,</div>
                </div>
                <div class="d-flex flex-justify-start flex-items-start">
                  <div class="blob-num blame-blob-num color-bg-subtle js-line-number" id="L503">503</div>
                  <div class="blob-code blob-code-inner js-file-line" id="LC503">   <span class="pl-ent">&quot;id&quot;</span>: <span class="pl-s"><span class="pl-pds">&quot;</span>23aff183<span class="pl-pds">&quot;</span></span>,</div>
                </div>
                <div class="d-flex flex-justify-start flex-items-start">
                  <div class="blob-num blame-blob-num color-bg-subtle js-line-number" id="L504">504</div>
                  <div class="blob-code blob-code-inner js-file-line" id="LC504">   <span class="pl-ent">&quot;metadata&quot;</span>: {},</div>
                </div>
                <div class="d-flex flex-justify-start flex-items-start">
                  <div class="blob-num blame-blob-num color-bg-subtle js-line-number" id="L505">505</div>
                  <div class="blob-code blob-code-inner js-file-line" id="LC505">   <span class="pl-ent">&quot;outputs&quot;</span>: [],</div>
                </div>
                <div class="d-flex flex-justify-start flex-items-start">
                  <div class="blob-num blame-blob-num color-bg-subtle js-line-number" id="L506">506</div>
                  <div class="blob-code blob-code-inner js-file-line" id="LC506">   <span class="pl-ent">&quot;source&quot;</span>: [</div>
                </div>
                <div class="d-flex flex-justify-start flex-items-start">
                  <div class="blob-num blame-blob-num color-bg-subtle js-line-number" id="L507">507</div>
                  <div class="blob-code blob-code-inner js-file-line" id="LC507">    <span class="pl-s"><span class="pl-pds">&quot;</span>df[&#39;host_id&#39;]= df[&#39;price&#39;].map(str)+df[&#39;room_type&#39;].map(str)+df[&#39;host_since&#39;].map(str)+df[&#39;zipcode&#39;].map(str)+ df[&#39;number_of_reviews&#39;].map(str)<span class="pl-cce">\n</span><span class="pl-pds">&quot;</span></span>,</div>
                </div>
                <div class="d-flex flex-justify-start flex-items-start">
                  <div class="blob-num blame-blob-num color-bg-subtle js-line-number" id="L508">508</div>
                  <div class="blob-code blob-code-inner js-file-line" id="LC508">    <span class="pl-s"><span class="pl-pds">&quot;</span>df1 = df[[&#39;host_id&#39;,&#39;number_of_reviews&#39;,&#39;price&#39;]].drop_duplicates()<span class="pl-pds">&quot;</span></span></div>
                </div>
                <div class="d-flex flex-justify-start flex-items-start">
                  <div class="blob-num blame-blob-num color-bg-subtle js-line-number" id="L509">509</div>
                  <div class="blob-code blob-code-inner js-file-line" id="LC509">   ]</div>
                </div>
                <div class="d-flex flex-justify-start flex-items-start">
                  <div class="blob-num blame-blob-num color-bg-subtle js-line-number" id="L510">510</div>
                  <div class="blob-code blob-code-inner js-file-line" id="LC510">  },</div>
                </div>
                <div class="d-flex flex-justify-start flex-items-start">
                  <div class="blob-num blame-blob-num color-bg-subtle js-line-number" id="L511">511</div>
                  <div class="blob-code blob-code-inner js-file-line" id="LC511">  {</div>
                </div>
                <div class="d-flex flex-justify-start flex-items-start">
                  <div class="blob-num blame-blob-num color-bg-subtle js-line-number" id="L512">512</div>
                  <div class="blob-code blob-code-inner js-file-line" id="LC512">   <span class="pl-ent">&quot;cell_type&quot;</span>: <span class="pl-s"><span class="pl-pds">&quot;</span>code<span class="pl-pds">&quot;</span></span>,</div>
                </div>
                <div class="d-flex flex-justify-start flex-items-start">
                  <div class="blob-num blame-blob-num color-bg-subtle js-line-number" id="L513">513</div>
                  <div class="blob-code blob-code-inner js-file-line" id="LC513">   <span class="pl-ent">&quot;execution_count&quot;</span>: <span class="pl-c1">17</span>,</div>
                </div>
                <div class="d-flex flex-justify-start flex-items-start">
                  <div class="blob-num blame-blob-num color-bg-subtle js-line-number" id="L514">514</div>
                  <div class="blob-code blob-code-inner js-file-line" id="LC514">   <span class="pl-ent">&quot;id&quot;</span>: <span class="pl-s"><span class="pl-pds">&quot;</span>63328402<span class="pl-pds">&quot;</span></span>,</div>
                </div>
                <div class="d-flex flex-justify-start flex-items-start">
                  <div class="blob-num blame-blob-num color-bg-subtle js-line-number" id="L515">515</div>
                  <div class="blob-code blob-code-inner js-file-line" id="LC515">   <span class="pl-ent">&quot;metadata&quot;</span>: {},</div>
                </div>
                <div class="d-flex flex-justify-start flex-items-start">
                  <div class="blob-num blame-blob-num color-bg-subtle js-line-number" id="L516">516</div>
                  <div class="blob-code blob-code-inner js-file-line" id="LC516">   <span class="pl-ent">&quot;outputs&quot;</span>: [</div>
                </div>
                <div class="d-flex flex-justify-start flex-items-start">
                  <div class="blob-num blame-blob-num color-bg-subtle js-line-number" id="L517">517</div>
                  <div class="blob-code blob-code-inner js-file-line" id="LC517">    {</div>
                </div>
                <div class="d-flex flex-justify-start flex-items-start">
                  <div class="blob-num blame-blob-num color-bg-subtle js-line-number" id="L518">518</div>
                  <div class="blob-code blob-code-inner js-file-line" id="LC518">     <span class="pl-ent">&quot;data&quot;</span>: {</div>
                </div>
                <div class="d-flex flex-justify-start flex-items-start">
                  <div class="blob-num blame-blob-num color-bg-subtle js-line-number" id="L519">519</div>
                  <div class="blob-code blob-code-inner js-file-line" id="LC519">      <span class="pl-ent">&quot;text/html&quot;</span>: [</div>
                </div>
                <div class="d-flex flex-justify-start flex-items-start">
                  <div class="blob-num blame-blob-num color-bg-subtle js-line-number" id="L520">520</div>
                  <div class="blob-code blob-code-inner js-file-line" id="LC520">       <span class="pl-s"><span class="pl-pds">&quot;</span>&lt;div&gt;&lt;div id=aa8671b6-29a5-4674-aaa5-f178bdfa2f19 style=<span class="pl-cce">\&quot;</span>display:none; background-color:#9D6CFF; color:white; width:200px; height:30px; padding-left:5px; border-radius:4px; flex-direction:row; justify-content:space-around; align-items:center;<span class="pl-cce">\&quot;</span> onmouseover=<span class="pl-cce">\&quot;</span>this.style.backgroundColor=&#39;#BA9BF8&#39;<span class="pl-cce">\&quot;</span> onmouseout=<span class="pl-cce">\&quot;</span>this.style.backgroundColor=&#39;#9D6CFF&#39;<span class="pl-cce">\&quot;</span> onclick=<span class="pl-cce">\&quot;</span>window.commands?.execute(&#39;create-mitosheet-from-dataframe-output&#39;);<span class="pl-cce">\&quot;</span>&gt;See Full Dataframe in Mito&lt;/div&gt; &lt;script&gt; if (window.commands?.hasCommand(&#39;create-mitosheet-from-dataframe-output&#39;)) document.getElementById(&#39;aa8671b6-29a5-4674-aaa5-f178bdfa2f19&#39;).style.display = &#39;flex&#39; &lt;/script&gt; &lt;table border=<span class="pl-cce">\&quot;</span>1<span class="pl-cce">\&quot;</span> class=<span class="pl-cce">\&quot;</span>dataframe<span class="pl-cce">\&quot;</span>&gt;<span class="pl-cce">\n</span><span class="pl-pds">&quot;</span></span>,</div>
                </div>
                <div class="d-flex flex-justify-start flex-items-start">
                  <div class="blob-num blame-blob-num color-bg-subtle js-line-number" id="L521">521</div>
                  <div class="blob-code blob-code-inner js-file-line" id="LC521">       <span class="pl-s"><span class="pl-pds">&quot;</span>  &lt;thead&gt;<span class="pl-cce">\n</span><span class="pl-pds">&quot;</span></span>,</div>
                </div>
                <div class="d-flex flex-justify-start flex-items-start">
                  <div class="blob-num blame-blob-num color-bg-subtle js-line-number" id="L522">522</div>
                  <div class="blob-code blob-code-inner js-file-line" id="LC522">       <span class="pl-s"><span class="pl-pds">&quot;</span>    &lt;tr style=<span class="pl-cce">\&quot;</span>text-align: right;<span class="pl-cce">\&quot;</span>&gt;<span class="pl-cce">\n</span><span class="pl-pds">&quot;</span></span>,</div>
                </div>
                <div class="d-flex flex-justify-start flex-items-start">
                  <div class="blob-num blame-blob-num color-bg-subtle js-line-number" id="L523">523</div>
                  <div class="blob-code blob-code-inner js-file-line" id="LC523">       <span class="pl-s"><span class="pl-pds">&quot;</span>      &lt;th&gt;&lt;/th&gt;<span class="pl-cce">\n</span><span class="pl-pds">&quot;</span></span>,</div>
                </div>
                <div class="d-flex flex-justify-start flex-items-start">
                  <div class="blob-num blame-blob-num color-bg-subtle js-line-number" id="L524">524</div>
                  <div class="blob-code blob-code-inner js-file-line" id="LC524">       <span class="pl-s"><span class="pl-pds">&quot;</span>      &lt;th&gt;host_id&lt;/th&gt;<span class="pl-cce">\n</span><span class="pl-pds">&quot;</span></span>,</div>
                </div>
                <div class="d-flex flex-justify-start flex-items-start">
                  <div class="blob-num blame-blob-num color-bg-subtle js-line-number" id="L525">525</div>
                  <div class="blob-code blob-code-inner js-file-line" id="LC525">       <span class="pl-s"><span class="pl-pds">&quot;</span>      &lt;th&gt;number_of_reviews&lt;/th&gt;<span class="pl-cce">\n</span><span class="pl-pds">&quot;</span></span>,</div>
                </div>
                <div class="d-flex flex-justify-start flex-items-start">
                  <div class="blob-num blame-blob-num color-bg-subtle js-line-number" id="L526">526</div>
                  <div class="blob-code blob-code-inner js-file-line" id="LC526">       <span class="pl-s"><span class="pl-pds">&quot;</span>      &lt;th&gt;price&lt;/th&gt;<span class="pl-cce">\n</span><span class="pl-pds">&quot;</span></span>,</div>
                </div>
                <div class="d-flex flex-justify-start flex-items-start">
                  <div class="blob-num blame-blob-num color-bg-subtle js-line-number" id="L527">527</div>
                  <div class="blob-code blob-code-inner js-file-line" id="LC527">       <span class="pl-s"><span class="pl-pds">&quot;</span>    &lt;/tr&gt;<span class="pl-cce">\n</span><span class="pl-pds">&quot;</span></span>,</div>
                </div>
                <div class="d-flex flex-justify-start flex-items-start">
                  <div class="blob-num blame-blob-num color-bg-subtle js-line-number" id="L528">528</div>
                  <div class="blob-code blob-code-inner js-file-line" id="LC528">       <span class="pl-s"><span class="pl-pds">&quot;</span>  &lt;/thead&gt;<span class="pl-cce">\n</span><span class="pl-pds">&quot;</span></span>,</div>
                </div>
                <div class="d-flex flex-justify-start flex-items-start">
                  <div class="blob-num blame-blob-num color-bg-subtle js-line-number" id="L529">529</div>
                  <div class="blob-code blob-code-inner js-file-line" id="LC529">       <span class="pl-s"><span class="pl-pds">&quot;</span>  &lt;tbody&gt;<span class="pl-cce">\n</span><span class="pl-pds">&quot;</span></span>,</div>
                </div>
                <div class="d-flex flex-justify-start flex-items-start">
                  <div class="blob-num blame-blob-num color-bg-subtle js-line-number" id="L530">530</div>
                  <div class="blob-code blob-code-inner js-file-line" id="LC530">       <span class="pl-s"><span class="pl-pds">&quot;</span>    &lt;tr&gt;<span class="pl-cce">\n</span><span class="pl-pds">&quot;</span></span>,</div>
                </div>
                <div class="d-flex flex-justify-start flex-items-start">
                  <div class="blob-num blame-blob-num color-bg-subtle js-line-number" id="L531">531</div>
                  <div class="blob-code blob-code-inner js-file-line" id="LC531">       <span class="pl-s"><span class="pl-pds">&quot;</span>      &lt;th&gt;0&lt;/th&gt;<span class="pl-cce">\n</span><span class="pl-pds">&quot;</span></span>,</div>
                </div>
                <div class="d-flex flex-justify-start flex-items-start">
                  <div class="blob-num blame-blob-num color-bg-subtle js-line-number" id="L532">532</div>
                  <div class="blob-code blob-code-inner js-file-line" id="LC532">       <span class="pl-s"><span class="pl-pds">&quot;</span>      &lt;td&gt;621.46Entire home/apt2016-11-01902721&lt;/td&gt;<span class="pl-cce">\n</span><span class="pl-pds">&quot;</span></span>,</div>
                </div>
                <div class="d-flex flex-justify-start flex-items-start">
                  <div class="blob-num blame-blob-num color-bg-subtle js-line-number" id="L533">533</div>
                  <div class="blob-code blob-code-inner js-file-line" id="LC533">       <span class="pl-s"><span class="pl-pds">&quot;</span>      &lt;td&gt;1&lt;/td&gt;<span class="pl-cce">\n</span><span class="pl-pds">&quot;</span></span>,</div>
                </div>
                <div class="d-flex flex-justify-start flex-items-start">
                  <div class="blob-num blame-blob-num color-bg-subtle js-line-number" id="L534">534</div>
                  <div class="blob-code blob-code-inner js-file-line" id="LC534">       <span class="pl-s"><span class="pl-pds">&quot;</span>      &lt;td&gt;621.46&lt;/td&gt;<span class="pl-cce">\n</span><span class="pl-pds">&quot;</span></span>,</div>
                </div>
                <div class="d-flex flex-justify-start flex-items-start">
                  <div class="blob-num blame-blob-num color-bg-subtle js-line-number" id="L535">535</div>
                  <div class="blob-code blob-code-inner js-file-line" id="LC535">       <span class="pl-s"><span class="pl-pds">&quot;</span>    &lt;/tr&gt;<span class="pl-cce">\n</span><span class="pl-pds">&quot;</span></span>,</div>
                </div>
                <div class="d-flex flex-justify-start flex-items-start">
                  <div class="blob-num blame-blob-num color-bg-subtle js-line-number" id="L536">536</div>
                  <div class="blob-code blob-code-inner js-file-line" id="LC536">       <span class="pl-s"><span class="pl-pds">&quot;</span>    &lt;tr&gt;<span class="pl-cce">\n</span><span class="pl-pds">&quot;</span></span>,</div>
                </div>
                <div class="d-flex flex-justify-start flex-items-start">
                  <div class="blob-num blame-blob-num color-bg-subtle js-line-number" id="L537">537</div>
                  <div class="blob-code blob-code-inner js-file-line" id="LC537">       <span class="pl-s"><span class="pl-pds">&quot;</span>      &lt;th&gt;2&lt;/th&gt;<span class="pl-cce">\n</span><span class="pl-pds">&quot;</span></span>,</div>
                </div>
                <div class="d-flex flex-justify-start flex-items-start">
                  <div class="blob-num blame-blob-num color-bg-subtle js-line-number" id="L538">538</div>
                  <div class="blob-code blob-code-inner js-file-line" id="LC538">       <span class="pl-s"><span class="pl-pds">&quot;</span>      &lt;td&gt;598.9Entire home/apt2017-07-03100361&lt;/td&gt;<span class="pl-cce">\n</span><span class="pl-pds">&quot;</span></span>,</div>
                </div>
                <div class="d-flex flex-justify-start flex-items-start">
                  <div class="blob-num blame-blob-num color-bg-subtle js-line-number" id="L539">539</div>
                  <div class="blob-code blob-code-inner js-file-line" id="LC539">       <span class="pl-s"><span class="pl-pds">&quot;</span>      &lt;td&gt;1&lt;/td&gt;<span class="pl-cce">\n</span><span class="pl-pds">&quot;</span></span>,</div>
                </div>
                <div class="d-flex flex-justify-start flex-items-start">
                  <div class="blob-num blame-blob-num color-bg-subtle js-line-number" id="L540">540</div>
                  <div class="blob-code blob-code-inner js-file-line" id="LC540">       <span class="pl-s"><span class="pl-pds">&quot;</span>      &lt;td&gt;598.90&lt;/td&gt;<span class="pl-cce">\n</span><span class="pl-pds">&quot;</span></span>,</div>
                </div>
                <div class="d-flex flex-justify-start flex-items-start">
                  <div class="blob-num blame-blob-num color-bg-subtle js-line-number" id="L541">541</div>
                  <div class="blob-code blob-code-inner js-file-line" id="LC541">       <span class="pl-s"><span class="pl-pds">&quot;</span>    &lt;/tr&gt;<span class="pl-cce">\n</span><span class="pl-pds">&quot;</span></span>,</div>
                </div>
                <div class="d-flex flex-justify-start flex-items-start">
                  <div class="blob-num blame-blob-num color-bg-subtle js-line-number" id="L542">542</div>
                  <div class="blob-code blob-code-inner js-file-line" id="LC542">       <span class="pl-s"><span class="pl-pds">&quot;</span>    &lt;tr&gt;<span class="pl-cce">\n</span><span class="pl-pds">&quot;</span></span>,</div>
                </div>
                <div class="d-flex flex-justify-start flex-items-start">
                  <div class="blob-num blame-blob-num color-bg-subtle js-line-number" id="L543">543</div>
                  <div class="blob-code blob-code-inner js-file-line" id="LC543">       <span class="pl-s"><span class="pl-pds">&quot;</span>      &lt;th&gt;3&lt;/th&gt;<span class="pl-cce">\n</span><span class="pl-pds">&quot;</span></span>,</div>
                </div>
                <div class="d-flex flex-justify-start flex-items-start">
                  <div class="blob-num blame-blob-num color-bg-subtle js-line-number" id="L544">544</div>
                  <div class="blob-code blob-code-inner js-file-line" id="LC544">       <span class="pl-s"><span class="pl-pds">&quot;</span>      &lt;td&gt;420.47Private room2016-04-20917480&lt;/td&gt;<span class="pl-cce">\n</span><span class="pl-pds">&quot;</span></span>,</div>
                </div>
                <div class="d-flex flex-justify-start flex-items-start">
                  <div class="blob-num blame-blob-num color-bg-subtle js-line-number" id="L545">545</div>
                  <div class="blob-code blob-code-inner js-file-line" id="LC545">       <span class="pl-s"><span class="pl-pds">&quot;</span>      &lt;td&gt;0&lt;/td&gt;<span class="pl-cce">\n</span><span class="pl-pds">&quot;</span></span>,</div>
                </div>
                <div class="d-flex flex-justify-start flex-items-start">
                  <div class="blob-num blame-blob-num color-bg-subtle js-line-number" id="L546">546</div>
                  <div class="blob-code blob-code-inner js-file-line" id="LC546">       <span class="pl-s"><span class="pl-pds">&quot;</span>      &lt;td&gt;420.47&lt;/td&gt;<span class="pl-cce">\n</span><span class="pl-pds">&quot;</span></span>,</div>
                </div>
                <div class="d-flex flex-justify-start flex-items-start">
                  <div class="blob-num blame-blob-num color-bg-subtle js-line-number" id="L547">547</div>
                  <div class="blob-code blob-code-inner js-file-line" id="LC547">       <span class="pl-s"><span class="pl-pds">&quot;</span>    &lt;/tr&gt;<span class="pl-cce">\n</span><span class="pl-pds">&quot;</span></span>,</div>
                </div>
                <div class="d-flex flex-justify-start flex-items-start">
                  <div class="blob-num blame-blob-num color-bg-subtle js-line-number" id="L548">548</div>
                  <div class="blob-code blob-code-inner js-file-line" id="LC548">       <span class="pl-s"><span class="pl-pds">&quot;</span>    &lt;tr&gt;<span class="pl-cce">\n</span><span class="pl-pds">&quot;</span></span>,</div>
                </div>
                <div class="d-flex flex-justify-start flex-items-start">
                  <div class="blob-num blame-blob-num color-bg-subtle js-line-number" id="L549">549</div>
                  <div class="blob-code blob-code-inner js-file-line" id="LC549">       <span class="pl-s"><span class="pl-pds">&quot;</span>      &lt;th&gt;4&lt;/th&gt;<span class="pl-cce">\n</span><span class="pl-pds">&quot;</span></span>,</div>
                </div>
                <div class="d-flex flex-justify-start flex-items-start">
                  <div class="blob-num blame-blob-num color-bg-subtle js-line-number" id="L550">550</div>
                  <div class="blob-code blob-code-inner js-file-line" id="LC550">       <span class="pl-s"><span class="pl-pds">&quot;</span>      &lt;td&gt;478.75Entire home/apt2017-10-07112062&lt;/td&gt;<span class="pl-cce">\n</span><span class="pl-pds">&quot;</span></span>,</div>
                </div>
                <div class="d-flex flex-justify-start flex-items-start">
                  <div class="blob-num blame-blob-num color-bg-subtle js-line-number" id="L551">551</div>
                  <div class="blob-code blob-code-inner js-file-line" id="LC551">       <span class="pl-s"><span class="pl-pds">&quot;</span>      &lt;td&gt;2&lt;/td&gt;<span class="pl-cce">\n</span><span class="pl-pds">&quot;</span></span>,</div>
                </div>
                <div class="d-flex flex-justify-start flex-items-start">
                  <div class="blob-num blame-blob-num color-bg-subtle js-line-number" id="L552">552</div>
                  <div class="blob-code blob-code-inner js-file-line" id="LC552">       <span class="pl-s"><span class="pl-pds">&quot;</span>      &lt;td&gt;478.75&lt;/td&gt;<span class="pl-cce">\n</span><span class="pl-pds">&quot;</span></span>,</div>
                </div>
                <div class="d-flex flex-justify-start flex-items-start">
                  <div class="blob-num blame-blob-num color-bg-subtle js-line-number" id="L553">553</div>
                  <div class="blob-code blob-code-inner js-file-line" id="LC553">       <span class="pl-s"><span class="pl-pds">&quot;</span>    &lt;/tr&gt;<span class="pl-cce">\n</span><span class="pl-pds">&quot;</span></span>,</div>
                </div>
                <div class="d-flex flex-justify-start flex-items-start">
                  <div class="blob-num blame-blob-num color-bg-subtle js-line-number" id="L554">554</div>
                  <div class="blob-code blob-code-inner js-file-line" id="LC554">       <span class="pl-s"><span class="pl-pds">&quot;</span>    &lt;tr&gt;<span class="pl-cce">\n</span><span class="pl-pds">&quot;</span></span>,</div>
                </div>
                <div class="d-flex flex-justify-start flex-items-start">
                  <div class="blob-num blame-blob-num color-bg-subtle js-line-number" id="L555">555</div>
                  <div class="blob-code blob-code-inner js-file-line" id="LC555">       <span class="pl-s"><span class="pl-pds">&quot;</span>      &lt;th&gt;5&lt;/th&gt;<span class="pl-cce">\n</span><span class="pl-pds">&quot;</span></span>,</div>
                </div>
                <div class="d-flex flex-justify-start flex-items-start">
                  <div class="blob-num blame-blob-num color-bg-subtle js-line-number" id="L556">556</div>
                  <div class="blob-code blob-code-inner js-file-line" id="LC556">       <span class="pl-s"><span class="pl-pds">&quot;</span>      &lt;td&gt;662.01Entire home/apt2016-01-20941230&lt;/td&gt;<span class="pl-cce">\n</span><span class="pl-pds">&quot;</span></span>,</div>
                </div>
                <div class="d-flex flex-justify-start flex-items-start">
                  <div class="blob-num blame-blob-num color-bg-subtle js-line-number" id="L557">557</div>
                  <div class="blob-code blob-code-inner js-file-line" id="LC557">       <span class="pl-s"><span class="pl-pds">&quot;</span>      &lt;td&gt;0&lt;/td&gt;<span class="pl-cce">\n</span><span class="pl-pds">&quot;</span></span>,</div>
                </div>
                <div class="d-flex flex-justify-start flex-items-start">
                  <div class="blob-num blame-blob-num color-bg-subtle js-line-number" id="L558">558</div>
                  <div class="blob-code blob-code-inner js-file-line" id="LC558">       <span class="pl-s"><span class="pl-pds">&quot;</span>      &lt;td&gt;662.01&lt;/td&gt;<span class="pl-cce">\n</span><span class="pl-pds">&quot;</span></span>,</div>
                </div>
                <div class="d-flex flex-justify-start flex-items-start">
                  <div class="blob-num blame-blob-num color-bg-subtle js-line-number" id="L559">559</div>
                  <div class="blob-code blob-code-inner js-file-line" id="LC559">       <span class="pl-s"><span class="pl-pds">&quot;</span>    &lt;/tr&gt;<span class="pl-cce">\n</span><span class="pl-pds">&quot;</span></span>,</div>
                </div>
                <div class="d-flex flex-justify-start flex-items-start">
                  <div class="blob-num blame-blob-num color-bg-subtle js-line-number" id="L560">560</div>
                  <div class="blob-code blob-code-inner js-file-line" id="LC560">       <span class="pl-s"><span class="pl-pds">&quot;</span>    &lt;tr&gt;<span class="pl-cce">\n</span><span class="pl-pds">&quot;</span></span>,</div>
                </div>
                <div class="d-flex flex-justify-start flex-items-start">
                  <div class="blob-num blame-blob-num color-bg-subtle js-line-number" id="L561">561</div>
                  <div class="blob-code blob-code-inner js-file-line" id="LC561">       <span class="pl-s"><span class="pl-pds">&quot;</span>      &lt;th&gt;...&lt;/th&gt;<span class="pl-cce">\n</span><span class="pl-pds">&quot;</span></span>,</div>
                </div>
                <div class="d-flex flex-justify-start flex-items-start">
                  <div class="blob-num blame-blob-num color-bg-subtle js-line-number" id="L562">562</div>
                  <div class="blob-code blob-code-inner js-file-line" id="LC562">       <span class="pl-s"><span class="pl-pds">&quot;</span>      &lt;td&gt;...&lt;/td&gt;<span class="pl-cce">\n</span><span class="pl-pds">&quot;</span></span>,</div>
                </div>
                <div class="d-flex flex-justify-start flex-items-start">
                  <div class="blob-num blame-blob-num color-bg-subtle js-line-number" id="L563">563</div>
                  <div class="blob-code blob-code-inner js-file-line" id="LC563">       <span class="pl-s"><span class="pl-pds">&quot;</span>      &lt;td&gt;...&lt;/td&gt;<span class="pl-cce">\n</span><span class="pl-pds">&quot;</span></span>,</div>
                </div>
                <div class="d-flex flex-justify-start flex-items-start">
                  <div class="blob-num blame-blob-num color-bg-subtle js-line-number" id="L564">564</div>
                  <div class="blob-code blob-code-inner js-file-line" id="LC564">       <span class="pl-s"><span class="pl-pds">&quot;</span>      &lt;td&gt;...&lt;/td&gt;<span class="pl-cce">\n</span><span class="pl-pds">&quot;</span></span>,</div>
                </div>
                <div class="d-flex flex-justify-start flex-items-start">
                  <div class="blob-num blame-blob-num color-bg-subtle js-line-number" id="L565">565</div>
                  <div class="blob-code blob-code-inner js-file-line" id="LC565">       <span class="pl-s"><span class="pl-pds">&quot;</span>    &lt;/tr&gt;<span class="pl-cce">\n</span><span class="pl-pds">&quot;</span></span>,</div>
                </div>
                <div class="d-flex flex-justify-start flex-items-start">
                  <div class="blob-num blame-blob-num color-bg-subtle js-line-number" id="L566">566</div>
                  <div class="blob-code blob-code-inner js-file-line" id="LC566">       <span class="pl-s"><span class="pl-pds">&quot;</span>    &lt;tr&gt;<span class="pl-cce">\n</span><span class="pl-pds">&quot;</span></span>,</div>
                </div>
                <div class="d-flex flex-justify-start flex-items-start">
                  <div class="blob-num blame-blob-num color-bg-subtle js-line-number" id="L567">567</div>
                  <div class="blob-code blob-code-inner js-file-line" id="LC567">       <span class="pl-s"><span class="pl-pds">&quot;</span>      &lt;th&gt;162&lt;/th&gt;<span class="pl-cce">\n</span><span class="pl-pds">&quot;</span></span>,</div>
                </div>
                <div class="d-flex flex-justify-start flex-items-start">
                  <div class="blob-num blame-blob-num color-bg-subtle js-line-number" id="L568">568</div>
                  <div class="blob-code blob-code-inner js-file-line" id="LC568">       <span class="pl-s"><span class="pl-pds">&quot;</span>      &lt;td&gt;436.94Private room2014-06-30100272&lt;/td&gt;<span class="pl-cce">\n</span><span class="pl-pds">&quot;</span></span>,</div>
                </div>
                <div class="d-flex flex-justify-start flex-items-start">
                  <div class="blob-num blame-blob-num color-bg-subtle js-line-number" id="L569">569</div>
                  <div class="blob-code blob-code-inner js-file-line" id="LC569">       <span class="pl-s"><span class="pl-pds">&quot;</span>      &lt;td&gt;2&lt;/td&gt;<span class="pl-cce">\n</span><span class="pl-pds">&quot;</span></span>,</div>
                </div>
                <div class="d-flex flex-justify-start flex-items-start">
                  <div class="blob-num blame-blob-num color-bg-subtle js-line-number" id="L570">570</div>
                  <div class="blob-code blob-code-inner js-file-line" id="LC570">       <span class="pl-s"><span class="pl-pds">&quot;</span>      &lt;td&gt;436.94&lt;/td&gt;<span class="pl-cce">\n</span><span class="pl-pds">&quot;</span></span>,</div>
                </div>
                <div class="d-flex flex-justify-start flex-items-start">
                  <div class="blob-num blame-blob-num color-bg-subtle js-line-number" id="L571">571</div>
                  <div class="blob-code blob-code-inner js-file-line" id="LC571">       <span class="pl-s"><span class="pl-pds">&quot;</span>    &lt;/tr&gt;<span class="pl-cce">\n</span><span class="pl-pds">&quot;</span></span>,</div>
                </div>
                <div class="d-flex flex-justify-start flex-items-start">
                  <div class="blob-num blame-blob-num color-bg-subtle js-line-number" id="L572">572</div>
                  <div class="blob-code blob-code-inner js-file-line" id="LC572">       <span class="pl-s"><span class="pl-pds">&quot;</span>    &lt;tr&gt;<span class="pl-cce">\n</span><span class="pl-pds">&quot;</span></span>,</div>
                </div>
                <div class="d-flex flex-justify-start flex-items-start">
                  <div class="blob-num blame-blob-num color-bg-subtle js-line-number" id="L573">573</div>
                  <div class="blob-code blob-code-inner js-file-line" id="LC573">       <span class="pl-s"><span class="pl-pds">&quot;</span>      &lt;th&gt;163&lt;/th&gt;<span class="pl-cce">\n</span><span class="pl-pds">&quot;</span></span>,</div>
                </div>
                <div class="d-flex flex-justify-start flex-items-start">
                  <div class="blob-num blame-blob-num color-bg-subtle js-line-number" id="L574">574</div>
                  <div class="blob-code blob-code-inner js-file-line" id="LC574">       <span class="pl-s"><span class="pl-pds">&quot;</span>      &lt;td&gt;561.68Entire home/apt2014-06-301002628&lt;/td&gt;<span class="pl-cce">\n</span><span class="pl-pds">&quot;</span></span>,</div>
                </div>
                <div class="d-flex flex-justify-start flex-items-start">
                  <div class="blob-num blame-blob-num color-bg-subtle js-line-number" id="L575">575</div>
                  <div class="blob-code blob-code-inner js-file-line" id="LC575">       <span class="pl-s"><span class="pl-pds">&quot;</span>      &lt;td&gt;28&lt;/td&gt;<span class="pl-cce">\n</span><span class="pl-pds">&quot;</span></span>,</div>
                </div>
                <div class="d-flex flex-justify-start flex-items-start">
                  <div class="blob-num blame-blob-num color-bg-subtle js-line-number" id="L576">576</div>
                  <div class="blob-code blob-code-inner js-file-line" id="LC576">       <span class="pl-s"><span class="pl-pds">&quot;</span>      &lt;td&gt;561.68&lt;/td&gt;<span class="pl-cce">\n</span><span class="pl-pds">&quot;</span></span>,</div>
                </div>
                <div class="d-flex flex-justify-start flex-items-start">
                  <div class="blob-num blame-blob-num color-bg-subtle js-line-number" id="L577">577</div>
                  <div class="blob-code blob-code-inner js-file-line" id="LC577">       <span class="pl-s"><span class="pl-pds">&quot;</span>    &lt;/tr&gt;<span class="pl-cce">\n</span><span class="pl-pds">&quot;</span></span>,</div>
                </div>
                <div class="d-flex flex-justify-start flex-items-start">
                  <div class="blob-num blame-blob-num color-bg-subtle js-line-number" id="L578">578</div>
                  <div class="blob-code blob-code-inner js-file-line" id="LC578">       <span class="pl-s"><span class="pl-pds">&quot;</span>    &lt;tr&gt;<span class="pl-cce">\n</span><span class="pl-pds">&quot;</span></span>,</div>
                </div>
                <div class="d-flex flex-justify-start flex-items-start">
                  <div class="blob-num blame-blob-num color-bg-subtle js-line-number" id="L579">579</div>
                  <div class="blob-code blob-code-inner js-file-line" id="LC579">       <span class="pl-s"><span class="pl-pds">&quot;</span>      &lt;th&gt;164&lt;/th&gt;<span class="pl-cce">\n</span><span class="pl-pds">&quot;</span></span>,</div>
                </div>
                <div class="d-flex flex-justify-start flex-items-start">
                  <div class="blob-num blame-blob-num color-bg-subtle js-line-number" id="L580">580</div>
                  <div class="blob-code blob-code-inner js-file-line" id="LC580">       <span class="pl-s"><span class="pl-pds">&quot;</span>      &lt;td&gt;504.34Private room2013-12-111003714&lt;/td&gt;<span class="pl-cce">\n</span><span class="pl-pds">&quot;</span></span>,</div>
                </div>
                <div class="d-flex flex-justify-start flex-items-start">
                  <div class="blob-num blame-blob-num color-bg-subtle js-line-number" id="L581">581</div>
                  <div class="blob-code blob-code-inner js-file-line" id="LC581">       <span class="pl-s"><span class="pl-pds">&quot;</span>      &lt;td&gt;14&lt;/td&gt;<span class="pl-cce">\n</span><span class="pl-pds">&quot;</span></span>,</div>
                </div>
                <div class="d-flex flex-justify-start flex-items-start">
                  <div class="blob-num blame-blob-num color-bg-subtle js-line-number" id="L582">582</div>
                  <div class="blob-code blob-code-inner js-file-line" id="LC582">       <span class="pl-s"><span class="pl-pds">&quot;</span>      &lt;td&gt;504.34&lt;/td&gt;<span class="pl-cce">\n</span><span class="pl-pds">&quot;</span></span>,</div>
                </div>
                <div class="d-flex flex-justify-start flex-items-start">
                  <div class="blob-num blame-blob-num color-bg-subtle js-line-number" id="L583">583</div>
                  <div class="blob-code blob-code-inner js-file-line" id="LC583">       <span class="pl-s"><span class="pl-pds">&quot;</span>    &lt;/tr&gt;<span class="pl-cce">\n</span><span class="pl-pds">&quot;</span></span>,</div>
                </div>
                <div class="d-flex flex-justify-start flex-items-start">
                  <div class="blob-num blame-blob-num color-bg-subtle js-line-number" id="L584">584</div>
                  <div class="blob-code blob-code-inner js-file-line" id="LC584">       <span class="pl-s"><span class="pl-pds">&quot;</span>    &lt;tr&gt;<span class="pl-cce">\n</span><span class="pl-pds">&quot;</span></span>,</div>
                </div>
                <div class="d-flex flex-justify-start flex-items-start">
                  <div class="blob-num blame-blob-num color-bg-subtle js-line-number" id="L585">585</div>
                  <div class="blob-code blob-code-inner js-file-line" id="LC585">       <span class="pl-s"><span class="pl-pds">&quot;</span>      &lt;th&gt;165&lt;/th&gt;<span class="pl-cce">\n</span><span class="pl-pds">&quot;</span></span>,</div>
                </div>
                <div class="d-flex flex-justify-start flex-items-start">
                  <div class="blob-num blame-blob-num color-bg-subtle js-line-number" id="L586">586</div>
                  <div class="blob-code blob-code-inner js-file-line" id="LC586">       <span class="pl-s"><span class="pl-pds">&quot;</span>      &lt;td&gt;409.43Private room2014-06-30100260&lt;/td&gt;<span class="pl-cce">\n</span><span class="pl-pds">&quot;</span></span>,</div>
                </div>
                <div class="d-flex flex-justify-start flex-items-start">
                  <div class="blob-num blame-blob-num color-bg-subtle js-line-number" id="L587">587</div>
                  <div class="blob-code blob-code-inner js-file-line" id="LC587">       <span class="pl-s"><span class="pl-pds">&quot;</span>      &lt;td&gt;0&lt;/td&gt;<span class="pl-cce">\n</span><span class="pl-pds">&quot;</span></span>,</div>
                </div>
                <div class="d-flex flex-justify-start flex-items-start">
                  <div class="blob-num blame-blob-num color-bg-subtle js-line-number" id="L588">588</div>
                  <div class="blob-code blob-code-inner js-file-line" id="LC588">       <span class="pl-s"><span class="pl-pds">&quot;</span>      &lt;td&gt;409.43&lt;/td&gt;<span class="pl-cce">\n</span><span class="pl-pds">&quot;</span></span>,</div>
                </div>
                <div class="d-flex flex-justify-start flex-items-start">
                  <div class="blob-num blame-blob-num color-bg-subtle js-line-number" id="L589">589</div>
                  <div class="blob-code blob-code-inner js-file-line" id="LC589">       <span class="pl-s"><span class="pl-pds">&quot;</span>    &lt;/tr&gt;<span class="pl-cce">\n</span><span class="pl-pds">&quot;</span></span>,</div>
                </div>
                <div class="d-flex flex-justify-start flex-items-start">
                  <div class="blob-num blame-blob-num color-bg-subtle js-line-number" id="L590">590</div>
                  <div class="blob-code blob-code-inner js-file-line" id="LC590">       <span class="pl-s"><span class="pl-pds">&quot;</span>    &lt;tr&gt;<span class="pl-cce">\n</span><span class="pl-pds">&quot;</span></span>,</div>
                </div>
                <div class="d-flex flex-justify-start flex-items-start">
                  <div class="blob-num blame-blob-num color-bg-subtle js-line-number" id="L591">591</div>
                  <div class="blob-code blob-code-inner js-file-line" id="LC591">       <span class="pl-s"><span class="pl-pds">&quot;</span>      &lt;th&gt;166&lt;/th&gt;<span class="pl-cce">\n</span><span class="pl-pds">&quot;</span></span>,</div>
                </div>
                <div class="d-flex flex-justify-start flex-items-start">
                  <div class="blob-num blame-blob-num color-bg-subtle js-line-number" id="L592">592</div>
                  <div class="blob-code blob-code-inner js-file-line" id="LC592">       <span class="pl-s"><span class="pl-pds">&quot;</span>      &lt;td&gt;478.75Private room2013-12-211002714&lt;/td&gt;<span class="pl-cce">\n</span><span class="pl-pds">&quot;</span></span>,</div>
                </div>
                <div class="d-flex flex-justify-start flex-items-start">
                  <div class="blob-num blame-blob-num color-bg-subtle js-line-number" id="L593">593</div>
                  <div class="blob-code blob-code-inner js-file-line" id="LC593">       <span class="pl-s"><span class="pl-pds">&quot;</span>      &lt;td&gt;14&lt;/td&gt;<span class="pl-cce">\n</span><span class="pl-pds">&quot;</span></span>,</div>
                </div>
                <div class="d-flex flex-justify-start flex-items-start">
                  <div class="blob-num blame-blob-num color-bg-subtle js-line-number" id="L594">594</div>
                  <div class="blob-code blob-code-inner js-file-line" id="LC594">       <span class="pl-s"><span class="pl-pds">&quot;</span>      &lt;td&gt;478.75&lt;/td&gt;<span class="pl-cce">\n</span><span class="pl-pds">&quot;</span></span>,</div>
                </div>
                <div class="d-flex flex-justify-start flex-items-start">
                  <div class="blob-num blame-blob-num color-bg-subtle js-line-number" id="L595">595</div>
                  <div class="blob-code blob-code-inner js-file-line" id="LC595">       <span class="pl-s"><span class="pl-pds">&quot;</span>    &lt;/tr&gt;<span class="pl-cce">\n</span><span class="pl-pds">&quot;</span></span>,</div>
                </div>
                <div class="d-flex flex-justify-start flex-items-start">
                  <div class="blob-num blame-blob-num color-bg-subtle js-line-number" id="L596">596</div>
                  <div class="blob-code blob-code-inner js-file-line" id="LC596">       <span class="pl-s"><span class="pl-pds">&quot;</span>  &lt;/tbody&gt;<span class="pl-cce">\n</span><span class="pl-pds">&quot;</span></span>,</div>
                </div>
                <div class="d-flex flex-justify-start flex-items-start">
                  <div class="blob-num blame-blob-num color-bg-subtle js-line-number" id="L597">597</div>
                  <div class="blob-code blob-code-inner js-file-line" id="LC597">       <span class="pl-s"><span class="pl-pds">&quot;</span>&lt;/table&gt;&lt;/div&gt;<span class="pl-pds">&quot;</span></span></div>
                </div>
                <div class="d-flex flex-justify-start flex-items-start">
                  <div class="blob-num blame-blob-num color-bg-subtle js-line-number" id="L598">598</div>
                  <div class="blob-code blob-code-inner js-file-line" id="LC598">      ],</div>
                </div>
                <div class="d-flex flex-justify-start flex-items-start">
                  <div class="blob-num blame-blob-num color-bg-subtle js-line-number" id="L599">599</div>
                  <div class="blob-code blob-code-inner js-file-line" id="LC599">      <span class="pl-ent">&quot;text/plain&quot;</span>: [</div>
                </div>
                <div class="d-flex flex-justify-start flex-items-start">
                  <div class="blob-num blame-blob-num color-bg-subtle js-line-number" id="L600">600</div>
                  <div class="blob-code blob-code-inner js-file-line" id="LC600">       <span class="pl-s"><span class="pl-pds">&quot;</span>                                    host_id  number_of_reviews  price<span class="pl-cce">\n</span><span class="pl-pds">&quot;</span></span>,</div>
                </div>
                <div class="d-flex flex-justify-start flex-items-start">
                  <div class="blob-num blame-blob-num color-bg-subtle js-line-number" id="L601">601</div>
                  <div class="blob-code blob-code-inner js-file-line" id="LC601">       <span class="pl-s"><span class="pl-pds">&quot;</span>0     621.46Entire home/apt2016-11-01902721                  1 621.46<span class="pl-cce">\n</span><span class="pl-pds">&quot;</span></span>,</div>
                </div>
                <div class="d-flex flex-justify-start flex-items-start">
                  <div class="blob-num blame-blob-num color-bg-subtle js-line-number" id="L602">602</div>
                  <div class="blob-code blob-code-inner js-file-line" id="LC602">       <span class="pl-s"><span class="pl-pds">&quot;</span>2      598.9Entire home/apt2017-07-03100361                  1 598.90<span class="pl-cce">\n</span><span class="pl-pds">&quot;</span></span>,</div>
                </div>
                <div class="d-flex flex-justify-start flex-items-start">
                  <div class="blob-num blame-blob-num color-bg-subtle js-line-number" id="L603">603</div>
                  <div class="blob-code blob-code-inner js-file-line" id="LC603">       <span class="pl-s"><span class="pl-pds">&quot;</span>3        420.47Private room2016-04-20917480                  0 420.47<span class="pl-cce">\n</span><span class="pl-pds">&quot;</span></span>,</div>
                </div>
                <div class="d-flex flex-justify-start flex-items-start">
                  <div class="blob-num blame-blob-num color-bg-subtle js-line-number" id="L604">604</div>
                  <div class="blob-code blob-code-inner js-file-line" id="LC604">       <span class="pl-s"><span class="pl-pds">&quot;</span>4     478.75Entire home/apt2017-10-07112062                  2 478.75<span class="pl-cce">\n</span><span class="pl-pds">&quot;</span></span>,</div>
                </div>
                <div class="d-flex flex-justify-start flex-items-start">
                  <div class="blob-num blame-blob-num color-bg-subtle js-line-number" id="L605">605</div>
                  <div class="blob-code blob-code-inner js-file-line" id="LC605">       <span class="pl-s"><span class="pl-pds">&quot;</span>5     662.01Entire home/apt2016-01-20941230                  0 662.01<span class="pl-cce">\n</span><span class="pl-pds">&quot;</span></span>,</div>
                </div>
                <div class="d-flex flex-justify-start flex-items-start">
                  <div class="blob-num blame-blob-num color-bg-subtle js-line-number" id="L606">606</div>
                  <div class="blob-code blob-code-inner js-file-line" id="LC606">       <span class="pl-s"><span class="pl-pds">&quot;</span>..                                      ...                ...    ...<span class="pl-cce">\n</span><span class="pl-pds">&quot;</span></span>,</div>
                </div>
                <div class="d-flex flex-justify-start flex-items-start">
                  <div class="blob-num blame-blob-num color-bg-subtle js-line-number" id="L607">607</div>
                  <div class="blob-code blob-code-inner js-file-line" id="LC607">       <span class="pl-s"><span class="pl-pds">&quot;</span>162      436.94Private room2014-06-30100272                  2 436.94<span class="pl-cce">\n</span><span class="pl-pds">&quot;</span></span>,</div>
                </div>
                <div class="d-flex flex-justify-start flex-items-start">
                  <div class="blob-num blame-blob-num color-bg-subtle js-line-number" id="L608">608</div>
                  <div class="blob-code blob-code-inner js-file-line" id="LC608">       <span class="pl-s"><span class="pl-pds">&quot;</span>163  561.68Entire home/apt2014-06-301002628                 28 561.68<span class="pl-cce">\n</span><span class="pl-pds">&quot;</span></span>,</div>
                </div>
                <div class="d-flex flex-justify-start flex-items-start">
                  <div class="blob-num blame-blob-num color-bg-subtle js-line-number" id="L609">609</div>
                  <div class="blob-code blob-code-inner js-file-line" id="LC609">       <span class="pl-s"><span class="pl-pds">&quot;</span>164     504.34Private room2013-12-111003714                 14 504.34<span class="pl-cce">\n</span><span class="pl-pds">&quot;</span></span>,</div>
                </div>
                <div class="d-flex flex-justify-start flex-items-start">
                  <div class="blob-num blame-blob-num color-bg-subtle js-line-number" id="L610">610</div>
                  <div class="blob-code blob-code-inner js-file-line" id="LC610">       <span class="pl-s"><span class="pl-pds">&quot;</span>165      409.43Private room2014-06-30100260                  0 409.43<span class="pl-cce">\n</span><span class="pl-pds">&quot;</span></span>,</div>
                </div>
                <div class="d-flex flex-justify-start flex-items-start">
                  <div class="blob-num blame-blob-num color-bg-subtle js-line-number" id="L611">611</div>
                  <div class="blob-code blob-code-inner js-file-line" id="LC611">       <span class="pl-s"><span class="pl-pds">&quot;</span>166     478.75Private room2013-12-211002714                 14 478.75<span class="pl-cce">\n</span><span class="pl-pds">&quot;</span></span>,</div>
                </div>
                <div class="d-flex flex-justify-start flex-items-start">
                  <div class="blob-num blame-blob-num color-bg-subtle js-line-number" id="L612">612</div>
                  <div class="blob-code blob-code-inner js-file-line" id="LC612">       <span class="pl-s"><span class="pl-pds">&quot;</span><span class="pl-cce">\n</span><span class="pl-pds">&quot;</span></span>,</div>
                </div>
                <div class="d-flex flex-justify-start flex-items-start">
                  <div class="blob-num blame-blob-num color-bg-subtle js-line-number" id="L613">613</div>
                  <div class="blob-code blob-code-inner js-file-line" id="LC613">       <span class="pl-s"><span class="pl-pds">&quot;</span>[160 rows x 3 columns]<span class="pl-pds">&quot;</span></span></div>
                </div>
                <div class="d-flex flex-justify-start flex-items-start">
                  <div class="blob-num blame-blob-num color-bg-subtle js-line-number" id="L614">614</div>
                  <div class="blob-code blob-code-inner js-file-line" id="LC614">      ]</div>
                </div>
                <div class="d-flex flex-justify-start flex-items-start">
                  <div class="blob-num blame-blob-num color-bg-subtle js-line-number" id="L615">615</div>
                  <div class="blob-code blob-code-inner js-file-line" id="LC615">     },</div>
                </div>
                <div class="d-flex flex-justify-start flex-items-start">
                  <div class="blob-num blame-blob-num color-bg-subtle js-line-number" id="L616">616</div>
                  <div class="blob-code blob-code-inner js-file-line" id="LC616">     <span class="pl-ent">&quot;execution_count&quot;</span>: <span class="pl-c1">17</span>,</div>
                </div>
                <div class="d-flex flex-justify-start flex-items-start">
                  <div class="blob-num blame-blob-num color-bg-subtle js-line-number" id="L617">617</div>
                  <div class="blob-code blob-code-inner js-file-line" id="LC617">     <span class="pl-ent">&quot;metadata&quot;</span>: {},</div>
                </div>
                <div class="d-flex flex-justify-start flex-items-start">
                  <div class="blob-num blame-blob-num color-bg-subtle js-line-number" id="L618">618</div>
                  <div class="blob-code blob-code-inner js-file-line" id="LC618">     <span class="pl-ent">&quot;output_type&quot;</span>: <span class="pl-s"><span class="pl-pds">&quot;</span>execute_result<span class="pl-pds">&quot;</span></span></div>
                </div>
                <div class="d-flex flex-justify-start flex-items-start">
                  <div class="blob-num blame-blob-num color-bg-subtle js-line-number" id="L619">619</div>
                  <div class="blob-code blob-code-inner js-file-line" id="LC619">    }</div>
                </div>
                <div class="d-flex flex-justify-start flex-items-start">
                  <div class="blob-num blame-blob-num color-bg-subtle js-line-number" id="L620">620</div>
                  <div class="blob-code blob-code-inner js-file-line" id="LC620">   ],</div>
                </div>
                <div class="d-flex flex-justify-start flex-items-start">
                  <div class="blob-num blame-blob-num color-bg-subtle js-line-number" id="L621">621</div>
                  <div class="blob-code blob-code-inner js-file-line" id="LC621">   <span class="pl-ent">&quot;source&quot;</span>: [</div>
                </div>
                <div class="d-flex flex-justify-start flex-items-start">
                  <div class="blob-num blame-blob-num color-bg-subtle js-line-number" id="L622">622</div>
                  <div class="blob-code blob-code-inner js-file-line" id="LC622">    <span class="pl-s"><span class="pl-pds">&quot;</span>df1<span class="pl-pds">&quot;</span></span></div>
                </div>
                <div class="d-flex flex-justify-start flex-items-start">
                  <div class="blob-num blame-blob-num color-bg-subtle js-line-number" id="L623">623</div>
                  <div class="blob-code blob-code-inner js-file-line" id="LC623">   ]</div>
                </div>
                <div class="d-flex flex-justify-start flex-items-start">
                  <div class="blob-num blame-blob-num color-bg-subtle js-line-number" id="L624">624</div>
                  <div class="blob-code blob-code-inner js-file-line" id="LC624">  },</div>
                </div>
                <div class="d-flex flex-justify-start flex-items-start">
                  <div class="blob-num blame-blob-num color-bg-subtle js-line-number" id="L625">625</div>
                  <div class="blob-code blob-code-inner js-file-line" id="LC625">  {</div>
                </div>
                <div class="d-flex flex-justify-start flex-items-start">
                  <div class="blob-num blame-blob-num color-bg-subtle js-line-number" id="L626">626</div>
                  <div class="blob-code blob-code-inner js-file-line" id="LC626">   <span class="pl-ent">&quot;cell_type&quot;</span>: <span class="pl-s"><span class="pl-pds">&quot;</span>code<span class="pl-pds">&quot;</span></span>,</div>
                </div>
                <div class="d-flex flex-justify-start flex-items-start">
                  <div class="blob-num blame-blob-num color-bg-subtle js-line-number" id="L627">627</div>
                  <div class="blob-code blob-code-inner js-file-line" id="LC627">   <span class="pl-ent">&quot;execution_count&quot;</span>: <span class="pl-c1">19</span>,</div>
                </div>
                <div class="d-flex flex-justify-start flex-items-start">
                  <div class="blob-num blame-blob-num color-bg-subtle js-line-number" id="L628">628</div>
                  <div class="blob-code blob-code-inner js-file-line" id="LC628">   <span class="pl-ent">&quot;id&quot;</span>: <span class="pl-s"><span class="pl-pds">&quot;</span>c91e01a8<span class="pl-pds">&quot;</span></span>,</div>
                </div>
                <div class="d-flex flex-justify-start flex-items-start">
                  <div class="blob-num blame-blob-num color-bg-subtle js-line-number" id="L629">629</div>
                  <div class="blob-code blob-code-inner js-file-line" id="LC629">   <span class="pl-ent">&quot;metadata&quot;</span>: {},</div>
                </div>
                <div class="d-flex flex-justify-start flex-items-start">
                  <div class="blob-num blame-blob-num color-bg-subtle js-line-number" id="L630">630</div>
                  <div class="blob-code blob-code-inner js-file-line" id="LC630">   <span class="pl-ent">&quot;outputs&quot;</span>: [],</div>
                </div>
                <div class="d-flex flex-justify-start flex-items-start">
                  <div class="blob-num blame-blob-num color-bg-subtle js-line-number" id="L631">631</div>
                  <div class="blob-code blob-code-inner js-file-line" id="LC631">   <span class="pl-ent">&quot;source&quot;</span>: [</div>
                </div>
                <div class="d-flex flex-justify-start flex-items-start">
                  <div class="blob-num blame-blob-num color-bg-subtle js-line-number" id="L632">632</div>
                  <div class="blob-code blob-code-inner js-file-line" id="LC632">    <span class="pl-s"><span class="pl-pds">&quot;</span># Visualization<span class="pl-cce">\n</span><span class="pl-pds">&quot;</span></span>,</div>
                </div>
                <div class="d-flex flex-justify-start flex-items-start">
                  <div class="blob-num blame-blob-num color-bg-subtle js-line-number" id="L633">633</div>
                  <div class="blob-code blob-code-inner js-file-line" id="LC633">    <span class="pl-s"><span class="pl-pds">&quot;</span><span class="pl-cce">\n</span><span class="pl-pds">&quot;</span></span>,</div>
                </div>
                <div class="d-flex flex-justify-start flex-items-start">
                  <div class="blob-num blame-blob-num color-bg-subtle js-line-number" id="L634">634</div>
                  <div class="blob-code blob-code-inner js-file-line" id="LC634">    <span class="pl-s"><span class="pl-pds">&quot;</span>import seaborn as sns<span class="pl-cce">\n</span><span class="pl-pds">&quot;</span></span>,</div>
                </div>
                <div class="d-flex flex-justify-start flex-items-start">
                  <div class="blob-num blame-blob-num color-bg-subtle js-line-number" id="L635">635</div>
                  <div class="blob-code blob-code-inner js-file-line" id="LC635">    <span class="pl-s"><span class="pl-pds">&quot;</span>sns.set_theme(style=<span class="pl-cce">\&quot;</span>ticks<span class="pl-cce">\&quot;</span>, palette=<span class="pl-cce">\&quot;</span>pastel<span class="pl-cce">\&quot;</span>)<span class="pl-cce">\n</span><span class="pl-pds">&quot;</span></span>,</div>
                </div>
                <div class="d-flex flex-justify-start flex-items-start">
                  <div class="blob-num blame-blob-num color-bg-subtle js-line-number" id="L636">636</div>
                  <div class="blob-code blob-code-inner js-file-line" id="LC636">    <span class="pl-s"><span class="pl-pds">&quot;</span><span class="pl-cce">\n</span><span class="pl-pds">&quot;</span></span>,</div>
                </div>
                <div class="d-flex flex-justify-start flex-items-start">
                  <div class="blob-num blame-blob-num color-bg-subtle js-line-number" id="L637">637</div>
                  <div class="blob-code blob-code-inner js-file-line" id="LC637">    <span class="pl-s"><span class="pl-pds">&quot;</span>%matplotlib inline<span class="pl-pds">&quot;</span></span></div>
                </div>
                <div class="d-flex flex-justify-start flex-items-start">
                  <div class="blob-num blame-blob-num color-bg-subtle js-line-number" id="L638">638</div>
                  <div class="blob-code blob-code-inner js-file-line" id="LC638">   ]</div>
                </div>
                <div class="d-flex flex-justify-start flex-items-start">
                  <div class="blob-num blame-blob-num color-bg-subtle js-line-number" id="L639">639</div>
                  <div class="blob-code blob-code-inner js-file-line" id="LC639">  },</div>
                </div>
                <div class="d-flex flex-justify-start flex-items-start">
                  <div class="blob-num blame-blob-num color-bg-subtle js-line-number" id="L640">640</div>
                  <div class="blob-code blob-code-inner js-file-line" id="LC640">  {</div>
                </div>
                <div class="d-flex flex-justify-start flex-items-start">
                  <div class="blob-num blame-blob-num color-bg-subtle js-line-number" id="L641">641</div>
                  <div class="blob-code blob-code-inner js-file-line" id="LC641">   <span class="pl-ent">&quot;cell_type&quot;</span>: <span class="pl-s"><span class="pl-pds">&quot;</span>code<span class="pl-pds">&quot;</span></span>,</div>
                </div>
                <div class="d-flex flex-justify-start flex-items-start">
                  <div class="blob-num blame-blob-num color-bg-subtle js-line-number" id="L642">642</div>
                  <div class="blob-code blob-code-inner js-file-line" id="LC642">   <span class="pl-ent">&quot;execution_count&quot;</span>: <span class="pl-c1">24</span>,</div>
                </div>
                <div class="d-flex flex-justify-start flex-items-start">
                  <div class="blob-num blame-blob-num color-bg-subtle js-line-number" id="L643">643</div>
                  <div class="blob-code blob-code-inner js-file-line" id="LC643">   <span class="pl-ent">&quot;id&quot;</span>: <span class="pl-s"><span class="pl-pds">&quot;</span>50a29525<span class="pl-pds">&quot;</span></span>,</div>
                </div>
                <div class="d-flex flex-justify-start flex-items-start">
                  <div class="blob-num blame-blob-num color-bg-subtle js-line-number" id="L644">644</div>
                  <div class="blob-code blob-code-inner js-file-line" id="LC644">   <span class="pl-ent">&quot;metadata&quot;</span>: {},</div>
                </div>
                <div class="d-flex flex-justify-start flex-items-start">
                  <div class="blob-num blame-blob-num color-bg-subtle js-line-number" id="L645">645</div>
                  <div class="blob-code blob-code-inner js-file-line" id="LC645">   <span class="pl-ent">&quot;outputs&quot;</span>: [</div>
                </div>
                <div class="d-flex flex-justify-start flex-items-start">
                  <div class="blob-num blame-blob-num color-bg-subtle js-line-number" id="L646">646</div>
                  <div class="blob-code blob-code-inner js-file-line" id="LC646">    {</div>
                </div>
                <div class="d-flex flex-justify-start flex-items-start">
                  <div class="blob-num blame-blob-num color-bg-subtle js-line-number" id="L647">647</div>
                  <div class="blob-code blob-code-inner js-file-line" id="LC647">     <span class="pl-ent">&quot;data&quot;</span>: {</div>
                </div>
                <div class="d-flex flex-justify-start flex-items-start">
                  <div class="blob-num blame-blob-num color-bg-subtle js-line-number" id="L648">648</div>
                  <div class="blob-code blob-code-inner js-file-line" id="LC648">      &quot;image/png&quot;: &quot;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\n&quot;,</div>
                </div>
                <div class="d-flex flex-justify-start flex-items-start">
                  <div class="blob-num blame-blob-num color-bg-subtle js-line-number" id="L649">649</div>
                  <div class="blob-code blob-code-inner js-file-line" id="LC649">      <span class="pl-ent">&quot;text/plain&quot;</span>: [</div>
                </div>
                <div class="d-flex flex-justify-start flex-items-start">
                  <div class="blob-num blame-blob-num color-bg-subtle js-line-number" id="L650">650</div>
                  <div class="blob-code blob-code-inner js-file-line" id="LC650">       <span class="pl-s"><span class="pl-pds">&quot;</span>&lt;Figure size 360x360 with 1 Axes&gt;<span class="pl-pds">&quot;</span></span></div>
                </div>
                <div class="d-flex flex-justify-start flex-items-start">
                  <div class="blob-num blame-blob-num color-bg-subtle js-line-number" id="L651">651</div>
                  <div class="blob-code blob-code-inner js-file-line" id="LC651">      ]</div>
                </div>
                <div class="d-flex flex-justify-start flex-items-start">
                  <div class="blob-num blame-blob-num color-bg-subtle js-line-number" id="L652">652</div>
                  <div class="blob-code blob-code-inner js-file-line" id="LC652">     },</div>
                </div>
                <div class="d-flex flex-justify-start flex-items-start">
                  <div class="blob-num blame-blob-num color-bg-subtle js-line-number" id="L653">653</div>
                  <div class="blob-code blob-code-inner js-file-line" id="LC653">     <span class="pl-ent">&quot;metadata&quot;</span>: {</div>
                </div>
                <div class="d-flex flex-justify-start flex-items-start">
                  <div class="blob-num blame-blob-num color-bg-subtle js-line-number" id="L654">654</div>
                  <div class="blob-code blob-code-inner js-file-line" id="LC654">      <span class="pl-ent">&quot;needs_background&quot;</span>: <span class="pl-s"><span class="pl-pds">&quot;</span>light<span class="pl-pds">&quot;</span></span></div>
                </div>
                <div class="d-flex flex-justify-start flex-items-start">
                  <div class="blob-num blame-blob-num color-bg-subtle js-line-number" id="L655">655</div>
                  <div class="blob-code blob-code-inner js-file-line" id="LC655">     },</div>
                </div>
                <div class="d-flex flex-justify-start flex-items-start">
                  <div class="blob-num blame-blob-num color-bg-subtle js-line-number" id="L656">656</div>
                  <div class="blob-code blob-code-inner js-file-line" id="LC656">     <span class="pl-ent">&quot;output_type&quot;</span>: <span class="pl-s"><span class="pl-pds">&quot;</span>display_data<span class="pl-pds">&quot;</span></span></div>
                </div>
                <div class="d-flex flex-justify-start flex-items-start">
                  <div class="blob-num blame-blob-num color-bg-subtle js-line-number" id="L657">657</div>
                  <div class="blob-code blob-code-inner js-file-line" id="LC657">    }</div>
                </div>
                <div class="d-flex flex-justify-start flex-items-start">
                  <div class="blob-num blame-blob-num color-bg-subtle js-line-number" id="L658">658</div>
                  <div class="blob-code blob-code-inner js-file-line" id="LC658">   ],</div>
                </div>
                <div class="d-flex flex-justify-start flex-items-start">
                  <div class="blob-num blame-blob-num color-bg-subtle js-line-number" id="L659">659</div>
                  <div class="blob-code blob-code-inner js-file-line" id="LC659">   <span class="pl-ent">&quot;source&quot;</span>: [</div>
                </div>
                <div class="d-flex flex-justify-start flex-items-start">
                  <div class="blob-num blame-blob-num color-bg-subtle js-line-number" id="L660">660</div>
                  <div class="blob-code blob-code-inner js-file-line" id="LC660">    <span class="pl-s"><span class="pl-pds">&quot;</span># distplot of all<span class="pl-cce">\n</span><span class="pl-pds">&quot;</span></span>,</div>
                </div>
                <div class="d-flex flex-justify-start flex-items-start">
                  <div class="blob-num blame-blob-num color-bg-subtle js-line-number" id="L661">661</div>
                  <div class="blob-code blob-code-inner js-file-line" id="LC661">    <span class="pl-s"><span class="pl-pds">&quot;</span>sns.displot(df1,x=&#39;number_of_reviews&#39;, bins=10);<span class="pl-cce">\n</span><span class="pl-pds">&quot;</span></span>,</div>
                </div>
                <div class="d-flex flex-justify-start flex-items-start">
                  <div class="blob-num blame-blob-num color-bg-subtle js-line-number" id="L662">662</div>
                  <div class="blob-code blob-code-inner js-file-line" id="LC662">    <span class="pl-s"><span class="pl-pds">&quot;</span># distplot of majority<span class="pl-cce">\n</span><span class="pl-pds">&quot;</span></span>,</div>
                </div>
                <div class="d-flex flex-justify-start flex-items-start">
                  <div class="blob-num blame-blob-num color-bg-subtle js-line-number" id="L663">663</div>
                  <div class="blob-code blob-code-inner js-file-line" id="LC663">    <span class="pl-s"><span class="pl-pds">&quot;</span>#sns.displot(df1[df1[&#39;number_of_reviews&#39;]&lt;50],x=&#39;number_of_reviews&#39;, bins=10);<span class="pl-pds">&quot;</span></span></div>
                </div>
                <div class="d-flex flex-justify-start flex-items-start">
                  <div class="blob-num blame-blob-num color-bg-subtle js-line-number" id="L664">664</div>
                  <div class="blob-code blob-code-inner js-file-line" id="LC664">   ]</div>
                </div>
                <div class="d-flex flex-justify-start flex-items-start">
                  <div class="blob-num blame-blob-num color-bg-subtle js-line-number" id="L665">665</div>
                  <div class="blob-code blob-code-inner js-file-line" id="LC665">  },</div>
                </div>
                <div class="d-flex flex-justify-start flex-items-start">
                  <div class="blob-num blame-blob-num color-bg-subtle js-line-number" id="L666">666</div>
                  <div class="blob-code blob-code-inner js-file-line" id="LC666">  {</div>
                </div>
                <div class="d-flex flex-justify-start flex-items-start">
                  <div class="blob-num blame-blob-num color-bg-subtle js-line-number" id="L667">667</div>
                  <div class="blob-code blob-code-inner js-file-line" id="LC667">   <span class="pl-ent">&quot;cell_type&quot;</span>: <span class="pl-s"><span class="pl-pds">&quot;</span>code<span class="pl-pds">&quot;</span></span>,</div>
                </div>
                <div class="d-flex flex-justify-start flex-items-start">
                  <div class="blob-num blame-blob-num color-bg-subtle js-line-number" id="L668">668</div>
                  <div class="blob-code blob-code-inner js-file-line" id="LC668">   <span class="pl-ent">&quot;execution_count&quot;</span>: <span class="pl-c1">25</span>,</div>
                </div>
                <div class="d-flex flex-justify-start flex-items-start">
                  <div class="blob-num blame-blob-num color-bg-subtle js-line-number" id="L669">669</div>
                  <div class="blob-code blob-code-inner js-file-line" id="LC669">   <span class="pl-ent">&quot;id&quot;</span>: <span class="pl-s"><span class="pl-pds">&quot;</span>857dd1ea<span class="pl-pds">&quot;</span></span>,</div>
                </div>
                <div class="d-flex flex-justify-start flex-items-start">
                  <div class="blob-num blame-blob-num color-bg-subtle js-line-number" id="L670">670</div>
                  <div class="blob-code blob-code-inner js-file-line" id="LC670">   <span class="pl-ent">&quot;metadata&quot;</span>: {},</div>
                </div>
                <div class="d-flex flex-justify-start flex-items-start">
                  <div class="blob-num blame-blob-num color-bg-subtle js-line-number" id="L671">671</div>
                  <div class="blob-code blob-code-inner js-file-line" id="LC671">   <span class="pl-ent">&quot;outputs&quot;</span>: [],</div>
                </div>
                <div class="d-flex flex-justify-start flex-items-start">
                  <div class="blob-num blame-blob-num color-bg-subtle js-line-number" id="L672">672</div>
                  <div class="blob-code blob-code-inner js-file-line" id="LC672">   <span class="pl-ent">&quot;source&quot;</span>: [</div>
                </div>
                <div class="d-flex flex-justify-start flex-items-start">
                  <div class="blob-num blame-blob-num color-bg-subtle js-line-number" id="L673">673</div>
                  <div class="blob-code blob-code-inner js-file-line" id="LC673">    <span class="pl-s"><span class="pl-pds">&quot;</span># Conditional statements with the lambda function<span class="pl-cce">\n</span><span class="pl-pds">&quot;</span></span>,</div>
                </div>
                <div class="d-flex flex-justify-start flex-items-start">
                  <div class="blob-num blame-blob-num color-bg-subtle js-line-number" id="L674">674</div>
                  <div class="blob-code blob-code-inner js-file-line" id="LC674">    <span class="pl-s"><span class="pl-pds">&quot;</span><span class="pl-cce">\n</span><span class="pl-pds">&quot;</span></span>,</div>
                </div>
                <div class="d-flex flex-justify-start flex-items-start">
                  <div class="blob-num blame-blob-num color-bg-subtle js-line-number" id="L675">675</div>
                  <div class="blob-code blob-code-inner js-file-line" id="LC675">    <span class="pl-s"><span class="pl-pds">&quot;</span>df1[&#39;host_popularity&#39;] = df1[&#39;number_of_reviews&#39;].apply(lambda x:&#39;New&#39; if x&lt;1 else &#39;Rising&#39; if x&lt;=5 else &#39;Trending Up&#39; if x&lt;=15 else &#39;Popular&#39; if x&lt;=40 else &#39;Hot&#39;)<span class="pl-cce">\n</span><span class="pl-pds">&quot;</span></span></div>
                </div>
                <div class="d-flex flex-justify-start flex-items-start">
                  <div class="blob-num blame-blob-num color-bg-subtle js-line-number" id="L676">676</div>
                  <div class="blob-code blob-code-inner js-file-line" id="LC676">   ]</div>
                </div>
                <div class="d-flex flex-justify-start flex-items-start">
                  <div class="blob-num blame-blob-num color-bg-subtle js-line-number" id="L677">677</div>
                  <div class="blob-code blob-code-inner js-file-line" id="LC677">  },</div>
                </div>
                <div class="d-flex flex-justify-start flex-items-start">
                  <div class="blob-num blame-blob-num color-bg-subtle js-line-number" id="L678">678</div>
                  <div class="blob-code blob-code-inner js-file-line" id="LC678">  {</div>
                </div>
                <div class="d-flex flex-justify-start flex-items-start">
                  <div class="blob-num blame-blob-num color-bg-subtle js-line-number" id="L679">679</div>
                  <div class="blob-code blob-code-inner js-file-line" id="LC679">   <span class="pl-ent">&quot;cell_type&quot;</span>: <span class="pl-s"><span class="pl-pds">&quot;</span>code<span class="pl-pds">&quot;</span></span>,</div>
                </div>
                <div class="d-flex flex-justify-start flex-items-start">
                  <div class="blob-num blame-blob-num color-bg-subtle js-line-number" id="L680">680</div>
                  <div class="blob-code blob-code-inner js-file-line" id="LC680">   <span class="pl-ent">&quot;execution_count&quot;</span>: <span class="pl-c1">26</span>,</div>
                </div>
                <div class="d-flex flex-justify-start flex-items-start">
                  <div class="blob-num blame-blob-num color-bg-subtle js-line-number" id="L681">681</div>
                  <div class="blob-code blob-code-inner js-file-line" id="LC681">   <span class="pl-ent">&quot;id&quot;</span>: <span class="pl-s"><span class="pl-pds">&quot;</span>9fb7604b<span class="pl-pds">&quot;</span></span>,</div>
                </div>
                <div class="d-flex flex-justify-start flex-items-start">
                  <div class="blob-num blame-blob-num color-bg-subtle js-line-number" id="L682">682</div>
                  <div class="blob-code blob-code-inner js-file-line" id="LC682">   <span class="pl-ent">&quot;metadata&quot;</span>: {},</div>
                </div>
                <div class="d-flex flex-justify-start flex-items-start">
                  <div class="blob-num blame-blob-num color-bg-subtle js-line-number" id="L683">683</div>
                  <div class="blob-code blob-code-inner js-file-line" id="LC683">   <span class="pl-ent">&quot;outputs&quot;</span>: [</div>
                </div>
                <div class="d-flex flex-justify-start flex-items-start">
                  <div class="blob-num blame-blob-num color-bg-subtle js-line-number" id="L684">684</div>
                  <div class="blob-code blob-code-inner js-file-line" id="LC684">    {</div>
                </div>
                <div class="d-flex flex-justify-start flex-items-start">
                  <div class="blob-num blame-blob-num color-bg-subtle js-line-number" id="L685">685</div>
                  <div class="blob-code blob-code-inner js-file-line" id="LC685">     <span class="pl-ent">&quot;data&quot;</span>: {</div>
                </div>
                <div class="d-flex flex-justify-start flex-items-start">
                  <div class="blob-num blame-blob-num color-bg-subtle js-line-number" id="L686">686</div>
                  <div class="blob-code blob-code-inner js-file-line" id="LC686">      &quot;image/png&quot;: &quot;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\n&quot;,</div>
                </div>
                <div class="d-flex flex-justify-start flex-items-start">
                  <div class="blob-num blame-blob-num color-bg-subtle js-line-number" id="L687">687</div>
                  <div class="blob-code blob-code-inner js-file-line" id="LC687">      <span class="pl-ent">&quot;text/plain&quot;</span>: [</div>
                </div>
                <div class="d-flex flex-justify-start flex-items-start">
                  <div class="blob-num blame-blob-num color-bg-subtle js-line-number" id="L688">688</div>
                  <div class="blob-code blob-code-inner js-file-line" id="LC688">       <span class="pl-s"><span class="pl-pds">&quot;</span>&lt;Figure size 432x288 with 1 Axes&gt;<span class="pl-pds">&quot;</span></span></div>
                </div>
                <div class="d-flex flex-justify-start flex-items-start">
                  <div class="blob-num blame-blob-num color-bg-subtle js-line-number" id="L689">689</div>
                  <div class="blob-code blob-code-inner js-file-line" id="LC689">      ]</div>
                </div>
                <div class="d-flex flex-justify-start flex-items-start">
                  <div class="blob-num blame-blob-num color-bg-subtle js-line-number" id="L690">690</div>
                  <div class="blob-code blob-code-inner js-file-line" id="LC690">     },</div>
                </div>
                <div class="d-flex flex-justify-start flex-items-start">
                  <div class="blob-num blame-blob-num color-bg-subtle js-line-number" id="L691">691</div>
                  <div class="blob-code blob-code-inner js-file-line" id="LC691">     <span class="pl-ent">&quot;metadata&quot;</span>: {</div>
                </div>
                <div class="d-flex flex-justify-start flex-items-start">
                  <div class="blob-num blame-blob-num color-bg-subtle js-line-number" id="L692">692</div>
                  <div class="blob-code blob-code-inner js-file-line" id="LC692">      <span class="pl-ent">&quot;needs_background&quot;</span>: <span class="pl-s"><span class="pl-pds">&quot;</span>light<span class="pl-pds">&quot;</span></span></div>
                </div>
                <div class="d-flex flex-justify-start flex-items-start">
                  <div class="blob-num blame-blob-num color-bg-subtle js-line-number" id="L693">693</div>
                  <div class="blob-code blob-code-inner js-file-line" id="LC693">     },</div>
                </div>
                <div class="d-flex flex-justify-start flex-items-start">
                  <div class="blob-num blame-blob-num color-bg-subtle js-line-number" id="L694">694</div>
                  <div class="blob-code blob-code-inner js-file-line" id="LC694">     <span class="pl-ent">&quot;output_type&quot;</span>: <span class="pl-s"><span class="pl-pds">&quot;</span>display_data<span class="pl-pds">&quot;</span></span></div>
                </div>
                <div class="d-flex flex-justify-start flex-items-start">
                  <div class="blob-num blame-blob-num color-bg-subtle js-line-number" id="L695">695</div>
                  <div class="blob-code blob-code-inner js-file-line" id="LC695">    }</div>
                </div>
                <div class="d-flex flex-justify-start flex-items-start">
                  <div class="blob-num blame-blob-num color-bg-subtle js-line-number" id="L696">696</div>
                  <div class="blob-code blob-code-inner js-file-line" id="LC696">   ],</div>
                </div>
                <div class="d-flex flex-justify-start flex-items-start">
                  <div class="blob-num blame-blob-num color-bg-subtle js-line-number" id="L697">697</div>
                  <div class="blob-code blob-code-inner js-file-line" id="LC697">   <span class="pl-ent">&quot;source&quot;</span>: [</div>
                </div>
                <div class="d-flex flex-justify-start flex-items-start">
                  <div class="blob-num blame-blob-num color-bg-subtle js-line-number" id="L698">698</div>
                  <div class="blob-code blob-code-inner js-file-line" id="LC698">    <span class="pl-s"><span class="pl-pds">&quot;</span># Draw a nested boxplot to show bills by day and time<span class="pl-cce">\n</span><span class="pl-pds">&quot;</span></span>,</div>
                </div>
                <div class="d-flex flex-justify-start flex-items-start">
                  <div class="blob-num blame-blob-num color-bg-subtle js-line-number" id="L699">699</div>
                  <div class="blob-code blob-code-inner js-file-line" id="LC699">    <span class="pl-s"><span class="pl-pds">&quot;</span>sns.boxplot(data=df1,x=<span class="pl-cce">\&quot;</span>host_popularity<span class="pl-cce">\&quot;</span>, y=<span class="pl-cce">\&quot;</span>price<span class="pl-cce">\&quot;</span>)<span class="pl-cce">\n</span><span class="pl-pds">&quot;</span></span>,</div>
                </div>
                <div class="d-flex flex-justify-start flex-items-start">
                  <div class="blob-num blame-blob-num color-bg-subtle js-line-number" id="L700">700</div>
                  <div class="blob-code blob-code-inner js-file-line" id="LC700">    <span class="pl-s"><span class="pl-pds">&quot;</span>sns.despine(offset=10, trim=True)<span class="pl-pds">&quot;</span></span></div>
                </div>
                <div class="d-flex flex-justify-start flex-items-start">
                  <div class="blob-num blame-blob-num color-bg-subtle js-line-number" id="L701">701</div>
                  <div class="blob-code blob-code-inner js-file-line" id="LC701">   ]</div>
                </div>
                <div class="d-flex flex-justify-start flex-items-start">
                  <div class="blob-num blame-blob-num color-bg-subtle js-line-number" id="L702">702</div>
                  <div class="blob-code blob-code-inner js-file-line" id="LC702">  },</div>
                </div>
                <div class="d-flex flex-justify-start flex-items-start">
                  <div class="blob-num blame-blob-num color-bg-subtle js-line-number" id="L703">703</div>
                  <div class="blob-code blob-code-inner js-file-line" id="LC703">  {</div>
                </div>
                <div class="d-flex flex-justify-start flex-items-start">
                  <div class="blob-num blame-blob-num color-bg-subtle js-line-number" id="L704">704</div>
                  <div class="blob-code blob-code-inner js-file-line" id="LC704">   <span class="pl-ent">&quot;cell_type&quot;</span>: <span class="pl-s"><span class="pl-pds">&quot;</span>code<span class="pl-pds">&quot;</span></span>,</div>
                </div>
                <div class="d-flex flex-justify-start flex-items-start">
                  <div class="blob-num blame-blob-num color-bg-subtle js-line-number" id="L705">705</div>
                  <div class="blob-code blob-code-inner js-file-line" id="LC705">   <span class="pl-ent">&quot;execution_count&quot;</span>: <span class="pl-c1">19</span>,</div>
                </div>
                <div class="d-flex flex-justify-start flex-items-start">
                  <div class="blob-num blame-blob-num color-bg-subtle js-line-number" id="L706">706</div>
                  <div class="blob-code blob-code-inner js-file-line" id="LC706">   <span class="pl-ent">&quot;id&quot;</span>: <span class="pl-s"><span class="pl-pds">&quot;</span>0aac8a5c<span class="pl-pds">&quot;</span></span>,</div>
                </div>
                <div class="d-flex flex-justify-start flex-items-start">
                  <div class="blob-num blame-blob-num color-bg-subtle js-line-number" id="L707">707</div>
                  <div class="blob-code blob-code-inner js-file-line" id="LC707">   <span class="pl-ent">&quot;metadata&quot;</span>: {},</div>
                </div>
                <div class="d-flex flex-justify-start flex-items-start">
                  <div class="blob-num blame-blob-num color-bg-subtle js-line-number" id="L708">708</div>
                  <div class="blob-code blob-code-inner js-file-line" id="LC708">   <span class="pl-ent">&quot;outputs&quot;</span>: [],</div>
                </div>
                <div class="d-flex flex-justify-start flex-items-start">
                  <div class="blob-num blame-blob-num color-bg-subtle js-line-number" id="L709">709</div>
                  <div class="blob-code blob-code-inner js-file-line" id="LC709">   <span class="pl-ent">&quot;source&quot;</span>: [</div>
                </div>
                <div class="d-flex flex-justify-start flex-items-start">
                  <div class="blob-num blame-blob-num color-bg-subtle js-line-number" id="L710">710</div>
                  <div class="blob-code blob-code-inner js-file-line" id="LC710">    <span class="pl-s"><span class="pl-pds">&quot;</span><span class="pl-cce">\n</span><span class="pl-pds">&quot;</span></span>,</div>
                </div>
                <div class="d-flex flex-justify-start flex-items-start">
                  <div class="blob-num blame-blob-num color-bg-subtle js-line-number" id="L711">711</div>
                  <div class="blob-code blob-code-inner js-file-line" id="LC711">    <span class="pl-s"><span class="pl-pds">&quot;</span>result= df1.groupby(&#39;host_popularity&#39;).agg(min_price=(&#39;price&#39;,min),avg_price=(&#39;price&#39;,np.mean),max_price = (&#39;price&#39;,max)).reset_index()<span class="pl-pds">&quot;</span></span></div>
                </div>
                <div class="d-flex flex-justify-start flex-items-start">
                  <div class="blob-num blame-blob-num color-bg-subtle js-line-number" id="L712">712</div>
                  <div class="blob-code blob-code-inner js-file-line" id="LC712">   ]</div>
                </div>
                <div class="d-flex flex-justify-start flex-items-start">
                  <div class="blob-num blame-blob-num color-bg-subtle js-line-number" id="L713">713</div>
                  <div class="blob-code blob-code-inner js-file-line" id="LC713">  },</div>
                </div>
                <div class="d-flex flex-justify-start flex-items-start">
                  <div class="blob-num blame-blob-num color-bg-subtle js-line-number" id="L714">714</div>
                  <div class="blob-code blob-code-inner js-file-line" id="LC714">  {</div>
                </div>
                <div class="d-flex flex-justify-start flex-items-start">
                  <div class="blob-num blame-blob-num color-bg-subtle js-line-number" id="L715">715</div>
                  <div class="blob-code blob-code-inner js-file-line" id="LC715">   <span class="pl-ent">&quot;cell_type&quot;</span>: <span class="pl-s"><span class="pl-pds">&quot;</span>code<span class="pl-pds">&quot;</span></span>,</div>
                </div>
                <div class="d-flex flex-justify-start flex-items-start">
                  <div class="blob-num blame-blob-num color-bg-subtle js-line-number" id="L716">716</div>
                  <div class="blob-code blob-code-inner js-file-line" id="LC716">   <span class="pl-ent">&quot;execution_count&quot;</span>: <span class="pl-c1">20</span>,</div>
                </div>
                <div class="d-flex flex-justify-start flex-items-start">
                  <div class="blob-num blame-blob-num color-bg-subtle js-line-number" id="L717">717</div>
                  <div class="blob-code blob-code-inner js-file-line" id="LC717">   <span class="pl-ent">&quot;id&quot;</span>: <span class="pl-s"><span class="pl-pds">&quot;</span>4a32874c<span class="pl-pds">&quot;</span></span>,</div>
                </div>
                <div class="d-flex flex-justify-start flex-items-start">
                  <div class="blob-num blame-blob-num color-bg-subtle js-line-number" id="L718">718</div>
                  <div class="blob-code blob-code-inner js-file-line" id="LC718">   <span class="pl-ent">&quot;metadata&quot;</span>: {},</div>
                </div>
                <div class="d-flex flex-justify-start flex-items-start">
                  <div class="blob-num blame-blob-num color-bg-subtle js-line-number" id="L719">719</div>
                  <div class="blob-code blob-code-inner js-file-line" id="LC719">   <span class="pl-ent">&quot;outputs&quot;</span>: [</div>
                </div>
                <div class="d-flex flex-justify-start flex-items-start">
                  <div class="blob-num blame-blob-num color-bg-subtle js-line-number" id="L720">720</div>
                  <div class="blob-code blob-code-inner js-file-line" id="LC720">    {</div>
                </div>
                <div class="d-flex flex-justify-start flex-items-start">
                  <div class="blob-num blame-blob-num color-bg-subtle js-line-number" id="L721">721</div>
                  <div class="blob-code blob-code-inner js-file-line" id="LC721">     <span class="pl-ent">&quot;data&quot;</span>: {</div>
                </div>
                <div class="d-flex flex-justify-start flex-items-start">
                  <div class="blob-num blame-blob-num color-bg-subtle js-line-number" id="L722">722</div>
                  <div class="blob-code blob-code-inner js-file-line" id="LC722">      <span class="pl-ent">&quot;text/html&quot;</span>: [</div>
                </div>
                <div class="d-flex flex-justify-start flex-items-start">
                  <div class="blob-num blame-blob-num color-bg-subtle js-line-number" id="L723">723</div>
                  <div class="blob-code blob-code-inner js-file-line" id="LC723">       <span class="pl-s"><span class="pl-pds">&quot;</span>&lt;div&gt;&lt;div id=786d5135-6b96-4444-b078-13c62f3c644f style=<span class="pl-cce">\&quot;</span>display:none; background-color:#9D6CFF; color:white; width:200px; height:30px; padding-left:5px; border-radius:4px; flex-direction:row; justify-content:space-around; align-items:center;<span class="pl-cce">\&quot;</span> onmouseover=<span class="pl-cce">\&quot;</span>this.style.backgroundColor=&#39;#BA9BF8&#39;<span class="pl-cce">\&quot;</span> onmouseout=<span class="pl-cce">\&quot;</span>this.style.backgroundColor=&#39;#9D6CFF&#39;<span class="pl-cce">\&quot;</span> onclick=<span class="pl-cce">\&quot;</span>window.commands?.execute(&#39;create-mitosheet-from-dataframe-output&#39;);<span class="pl-cce">\&quot;</span>&gt;See Full Dataframe in Mito&lt;/div&gt; &lt;script&gt; if (window.commands?.hasCommand(&#39;create-mitosheet-from-dataframe-output&#39;)) document.getElementById(&#39;786d5135-6b96-4444-b078-13c62f3c644f&#39;).style.display = &#39;flex&#39; &lt;/script&gt; &lt;table border=<span class="pl-cce">\&quot;</span>1<span class="pl-cce">\&quot;</span> class=<span class="pl-cce">\&quot;</span>dataframe<span class="pl-cce">\&quot;</span>&gt;<span class="pl-cce">\n</span><span class="pl-pds">&quot;</span></span>,</div>
                </div>
                <div class="d-flex flex-justify-start flex-items-start">
                  <div class="blob-num blame-blob-num color-bg-subtle js-line-number" id="L724">724</div>
                  <div class="blob-code blob-code-inner js-file-line" id="LC724">       <span class="pl-s"><span class="pl-pds">&quot;</span>  &lt;thead&gt;<span class="pl-cce">\n</span><span class="pl-pds">&quot;</span></span>,</div>
                </div>
                <div class="d-flex flex-justify-start flex-items-start">
                  <div class="blob-num blame-blob-num color-bg-subtle js-line-number" id="L725">725</div>
                  <div class="blob-code blob-code-inner js-file-line" id="LC725">       <span class="pl-s"><span class="pl-pds">&quot;</span>    &lt;tr style=<span class="pl-cce">\&quot;</span>text-align: right;<span class="pl-cce">\&quot;</span>&gt;<span class="pl-cce">\n</span><span class="pl-pds">&quot;</span></span>,</div>
                </div>
                <div class="d-flex flex-justify-start flex-items-start">
                  <div class="blob-num blame-blob-num color-bg-subtle js-line-number" id="L726">726</div>
                  <div class="blob-code blob-code-inner js-file-line" id="LC726">       <span class="pl-s"><span class="pl-pds">&quot;</span>      &lt;th&gt;&lt;/th&gt;<span class="pl-cce">\n</span><span class="pl-pds">&quot;</span></span>,</div>
                </div>
                <div class="d-flex flex-justify-start flex-items-start">
                  <div class="blob-num blame-blob-num color-bg-subtle js-line-number" id="L727">727</div>
                  <div class="blob-code blob-code-inner js-file-line" id="LC727">       <span class="pl-s"><span class="pl-pds">&quot;</span>      &lt;th&gt;host_popularity&lt;/th&gt;<span class="pl-cce">\n</span><span class="pl-pds">&quot;</span></span>,</div>
                </div>
                <div class="d-flex flex-justify-start flex-items-start">
                  <div class="blob-num blame-blob-num color-bg-subtle js-line-number" id="L728">728</div>
                  <div class="blob-code blob-code-inner js-file-line" id="LC728">       <span class="pl-s"><span class="pl-pds">&quot;</span>      &lt;th&gt;min_price&lt;/th&gt;<span class="pl-cce">\n</span><span class="pl-pds">&quot;</span></span>,</div>
                </div>
                <div class="d-flex flex-justify-start flex-items-start">
                  <div class="blob-num blame-blob-num color-bg-subtle js-line-number" id="L729">729</div>
                  <div class="blob-code blob-code-inner js-file-line" id="LC729">       <span class="pl-s"><span class="pl-pds">&quot;</span>      &lt;th&gt;avg_price&lt;/th&gt;<span class="pl-cce">\n</span><span class="pl-pds">&quot;</span></span>,</div>
                </div>
                <div class="d-flex flex-justify-start flex-items-start">
                  <div class="blob-num blame-blob-num color-bg-subtle js-line-number" id="L730">730</div>
                  <div class="blob-code blob-code-inner js-file-line" id="LC730">       <span class="pl-s"><span class="pl-pds">&quot;</span>      &lt;th&gt;max_price&lt;/th&gt;<span class="pl-cce">\n</span><span class="pl-pds">&quot;</span></span>,</div>
                </div>
                <div class="d-flex flex-justify-start flex-items-start">
                  <div class="blob-num blame-blob-num color-bg-subtle js-line-number" id="L731">731</div>
                  <div class="blob-code blob-code-inner js-file-line" id="LC731">       <span class="pl-s"><span class="pl-pds">&quot;</span>    &lt;/tr&gt;<span class="pl-cce">\n</span><span class="pl-pds">&quot;</span></span>,</div>
                </div>
                <div class="d-flex flex-justify-start flex-items-start">
                  <div class="blob-num blame-blob-num color-bg-subtle js-line-number" id="L732">732</div>
                  <div class="blob-code blob-code-inner js-file-line" id="LC732">       <span class="pl-s"><span class="pl-pds">&quot;</span>  &lt;/thead&gt;<span class="pl-cce">\n</span><span class="pl-pds">&quot;</span></span>,</div>
                </div>
                <div class="d-flex flex-justify-start flex-items-start">
                  <div class="blob-num blame-blob-num color-bg-subtle js-line-number" id="L733">733</div>
                  <div class="blob-code blob-code-inner js-file-line" id="LC733">       <span class="pl-s"><span class="pl-pds">&quot;</span>  &lt;tbody&gt;<span class="pl-cce">\n</span><span class="pl-pds">&quot;</span></span>,</div>
                </div>
                <div class="d-flex flex-justify-start flex-items-start">
                  <div class="blob-num blame-blob-num color-bg-subtle js-line-number" id="L734">734</div>
                  <div class="blob-code blob-code-inner js-file-line" id="LC734">       <span class="pl-s"><span class="pl-pds">&quot;</span>    &lt;tr&gt;<span class="pl-cce">\n</span><span class="pl-pds">&quot;</span></span>,</div>
                </div>
                <div class="d-flex flex-justify-start flex-items-start">
                  <div class="blob-num blame-blob-num color-bg-subtle js-line-number" id="L735">735</div>
                  <div class="blob-code blob-code-inner js-file-line" id="LC735">       <span class="pl-s"><span class="pl-pds">&quot;</span>      &lt;th&gt;0&lt;/th&gt;<span class="pl-cce">\n</span><span class="pl-pds">&quot;</span></span>,</div>
                </div>
                <div class="d-flex flex-justify-start flex-items-start">
                  <div class="blob-num blame-blob-num color-bg-subtle js-line-number" id="L736">736</div>
                  <div class="blob-code blob-code-inner js-file-line" id="LC736">       <span class="pl-s"><span class="pl-pds">&quot;</span>      &lt;td&gt;Hot&lt;/td&gt;<span class="pl-cce">\n</span><span class="pl-pds">&quot;</span></span>,</div>
                </div>
                <div class="d-flex flex-justify-start flex-items-start">
                  <div class="blob-num blame-blob-num color-bg-subtle js-line-number" id="L737">737</div>
                  <div class="blob-code blob-code-inner js-file-line" id="LC737">       <span class="pl-s"><span class="pl-pds">&quot;</span>      &lt;td&gt;340.12&lt;/td&gt;<span class="pl-cce">\n</span><span class="pl-pds">&quot;</span></span>,</div>
                </div>
                <div class="d-flex flex-justify-start flex-items-start">
                  <div class="blob-num blame-blob-num color-bg-subtle js-line-number" id="L738">738</div>
                  <div class="blob-code blob-code-inner js-file-line" id="LC738">       <span class="pl-s"><span class="pl-pds">&quot;</span>      &lt;td&gt;464.23&lt;/td&gt;<span class="pl-cce">\n</span><span class="pl-pds">&quot;</span></span>,</div>
                </div>
                <div class="d-flex flex-justify-start flex-items-start">
                  <div class="blob-num blame-blob-num color-bg-subtle js-line-number" id="L739">739</div>
                  <div class="blob-code blob-code-inner js-file-line" id="LC739">       <span class="pl-s"><span class="pl-pds">&quot;</span>      &lt;td&gt;633.51&lt;/td&gt;<span class="pl-cce">\n</span><span class="pl-pds">&quot;</span></span>,</div>
                </div>
                <div class="d-flex flex-justify-start flex-items-start">
                  <div class="blob-num blame-blob-num color-bg-subtle js-line-number" id="L740">740</div>
                  <div class="blob-code blob-code-inner js-file-line" id="LC740">       <span class="pl-s"><span class="pl-pds">&quot;</span>    &lt;/tr&gt;<span class="pl-cce">\n</span><span class="pl-pds">&quot;</span></span>,</div>
                </div>
                <div class="d-flex flex-justify-start flex-items-start">
                  <div class="blob-num blame-blob-num color-bg-subtle js-line-number" id="L741">741</div>
                  <div class="blob-code blob-code-inner js-file-line" id="LC741">       <span class="pl-s"><span class="pl-pds">&quot;</span>    &lt;tr&gt;<span class="pl-cce">\n</span><span class="pl-pds">&quot;</span></span>,</div>
                </div>
                <div class="d-flex flex-justify-start flex-items-start">
                  <div class="blob-num blame-blob-num color-bg-subtle js-line-number" id="L742">742</div>
                  <div class="blob-code blob-code-inner js-file-line" id="LC742">       <span class="pl-s"><span class="pl-pds">&quot;</span>      &lt;th&gt;1&lt;/th&gt;<span class="pl-cce">\n</span><span class="pl-pds">&quot;</span></span>,</div>
                </div>
                <div class="d-flex flex-justify-start flex-items-start">
                  <div class="blob-num blame-blob-num color-bg-subtle js-line-number" id="L743">743</div>
                  <div class="blob-code blob-code-inner js-file-line" id="LC743">       <span class="pl-s"><span class="pl-pds">&quot;</span>      &lt;td&gt;New&lt;/td&gt;<span class="pl-cce">\n</span><span class="pl-pds">&quot;</span></span>,</div>
                </div>
                <div class="d-flex flex-justify-start flex-items-start">
                  <div class="blob-num blame-blob-num color-bg-subtle js-line-number" id="L744">744</div>
                  <div class="blob-code blob-code-inner js-file-line" id="LC744">       <span class="pl-s"><span class="pl-pds">&quot;</span>      &lt;td&gt;313.55&lt;/td&gt;<span class="pl-cce">\n</span><span class="pl-pds">&quot;</span></span>,</div>
                </div>
                <div class="d-flex flex-justify-start flex-items-start">
                  <div class="blob-num blame-blob-num color-bg-subtle js-line-number" id="L745">745</div>
                  <div class="blob-code blob-code-inner js-file-line" id="LC745">       <span class="pl-s"><span class="pl-pds">&quot;</span>      &lt;td&gt;515.92&lt;/td&gt;<span class="pl-cce">\n</span><span class="pl-pds">&quot;</span></span>,</div>
                </div>
                <div class="d-flex flex-justify-start flex-items-start">
                  <div class="blob-num blame-blob-num color-bg-subtle js-line-number" id="L746">746</div>
                  <div class="blob-code blob-code-inner js-file-line" id="LC746">       <span class="pl-s"><span class="pl-pds">&quot;</span>      &lt;td&gt;741.76&lt;/td&gt;<span class="pl-cce">\n</span><span class="pl-pds">&quot;</span></span>,</div>
                </div>
                <div class="d-flex flex-justify-start flex-items-start">
                  <div class="blob-num blame-blob-num color-bg-subtle js-line-number" id="L747">747</div>
                  <div class="blob-code blob-code-inner js-file-line" id="LC747">       <span class="pl-s"><span class="pl-pds">&quot;</span>    &lt;/tr&gt;<span class="pl-cce">\n</span><span class="pl-pds">&quot;</span></span>,</div>
                </div>
                <div class="d-flex flex-justify-start flex-items-start">
                  <div class="blob-num blame-blob-num color-bg-subtle js-line-number" id="L748">748</div>
                  <div class="blob-code blob-code-inner js-file-line" id="LC748">       <span class="pl-s"><span class="pl-pds">&quot;</span>    &lt;tr&gt;<span class="pl-cce">\n</span><span class="pl-pds">&quot;</span></span>,</div>
                </div>
                <div class="d-flex flex-justify-start flex-items-start">
                  <div class="blob-num blame-blob-num color-bg-subtle js-line-number" id="L749">749</div>
                  <div class="blob-code blob-code-inner js-file-line" id="LC749">       <span class="pl-s"><span class="pl-pds">&quot;</span>      &lt;th&gt;2&lt;/th&gt;<span class="pl-cce">\n</span><span class="pl-pds">&quot;</span></span>,</div>
                </div>
                <div class="d-flex flex-justify-start flex-items-start">
                  <div class="blob-num blame-blob-num color-bg-subtle js-line-number" id="L750">750</div>
                  <div class="blob-code blob-code-inner js-file-line" id="LC750">       <span class="pl-s"><span class="pl-pds">&quot;</span>      &lt;td&gt;Popular&lt;/td&gt;<span class="pl-cce">\n</span><span class="pl-pds">&quot;</span></span>,</div>
                </div>
                <div class="d-flex flex-justify-start flex-items-start">
                  <div class="blob-num blame-blob-num color-bg-subtle js-line-number" id="L751">751</div>
                  <div class="blob-code blob-code-inner js-file-line" id="LC751">       <span class="pl-s"><span class="pl-pds">&quot;</span>      &lt;td&gt;270.81&lt;/td&gt;<span class="pl-cce">\n</span><span class="pl-pds">&quot;</span></span>,</div>
                </div>
                <div class="d-flex flex-justify-start flex-items-start">
                  <div class="blob-num blame-blob-num color-bg-subtle js-line-number" id="L752">752</div>
                  <div class="blob-code blob-code-inner js-file-line" id="LC752">       <span class="pl-s"><span class="pl-pds">&quot;</span>      &lt;td&gt;472.81&lt;/td&gt;<span class="pl-cce">\n</span><span class="pl-pds">&quot;</span></span>,</div>
                </div>
                <div class="d-flex flex-justify-start flex-items-start">
                  <div class="blob-num blame-blob-num color-bg-subtle js-line-number" id="L753">753</div>
                  <div class="blob-code blob-code-inner js-file-line" id="LC753">       <span class="pl-s"><span class="pl-pds">&quot;</span>      &lt;td&gt;667.83&lt;/td&gt;<span class="pl-cce">\n</span><span class="pl-pds">&quot;</span></span>,</div>
                </div>
                <div class="d-flex flex-justify-start flex-items-start">
                  <div class="blob-num blame-blob-num color-bg-subtle js-line-number" id="L754">754</div>
                  <div class="blob-code blob-code-inner js-file-line" id="LC754">       <span class="pl-s"><span class="pl-pds">&quot;</span>    &lt;/tr&gt;<span class="pl-cce">\n</span><span class="pl-pds">&quot;</span></span>,</div>
                </div>
                <div class="d-flex flex-justify-start flex-items-start">
                  <div class="blob-num blame-blob-num color-bg-subtle js-line-number" id="L755">755</div>
                  <div class="blob-code blob-code-inner js-file-line" id="LC755">       <span class="pl-s"><span class="pl-pds">&quot;</span>    &lt;tr&gt;<span class="pl-cce">\n</span><span class="pl-pds">&quot;</span></span>,</div>
                </div>
                <div class="d-flex flex-justify-start flex-items-start">
                  <div class="blob-num blame-blob-num color-bg-subtle js-line-number" id="L756">756</div>
                  <div class="blob-code blob-code-inner js-file-line" id="LC756">       <span class="pl-s"><span class="pl-pds">&quot;</span>      &lt;th&gt;3&lt;/th&gt;<span class="pl-cce">\n</span><span class="pl-pds">&quot;</span></span>,</div>
                </div>
                <div class="d-flex flex-justify-start flex-items-start">
                  <div class="blob-num blame-blob-num color-bg-subtle js-line-number" id="L757">757</div>
                  <div class="blob-code blob-code-inner js-file-line" id="LC757">       <span class="pl-s"><span class="pl-pds">&quot;</span>      &lt;td&gt;Rising&lt;/td&gt;<span class="pl-cce">\n</span><span class="pl-pds">&quot;</span></span>,</div>
                </div>
                <div class="d-flex flex-justify-start flex-items-start">
                  <div class="blob-num blame-blob-num color-bg-subtle js-line-number" id="L758">758</div>
                  <div class="blob-code blob-code-inner js-file-line" id="LC758">       <span class="pl-s"><span class="pl-pds">&quot;</span>      &lt;td&gt;355.53&lt;/td&gt;<span class="pl-cce">\n</span><span class="pl-pds">&quot;</span></span>,</div>
                </div>
                <div class="d-flex flex-justify-start flex-items-start">
                  <div class="blob-num blame-blob-num color-bg-subtle js-line-number" id="L759">759</div>
                  <div class="blob-code blob-code-inner js-file-line" id="LC759">       <span class="pl-s"><span class="pl-pds">&quot;</span>      &lt;td&gt;503.85&lt;/td&gt;<span class="pl-cce">\n</span><span class="pl-pds">&quot;</span></span>,</div>
                </div>
                <div class="d-flex flex-justify-start flex-items-start">
                  <div class="blob-num blame-blob-num color-bg-subtle js-line-number" id="L760">760</div>
                  <div class="blob-code blob-code-inner js-file-line" id="LC760">       <span class="pl-s"><span class="pl-pds">&quot;</span>      &lt;td&gt;717.01&lt;/td&gt;<span class="pl-cce">\n</span><span class="pl-pds">&quot;</span></span>,</div>
                </div>
                <div class="d-flex flex-justify-start flex-items-start">
                  <div class="blob-num blame-blob-num color-bg-subtle js-line-number" id="L761">761</div>
                  <div class="blob-code blob-code-inner js-file-line" id="LC761">       <span class="pl-s"><span class="pl-pds">&quot;</span>    &lt;/tr&gt;<span class="pl-cce">\n</span><span class="pl-pds">&quot;</span></span>,</div>
                </div>
                <div class="d-flex flex-justify-start flex-items-start">
                  <div class="blob-num blame-blob-num color-bg-subtle js-line-number" id="L762">762</div>
                  <div class="blob-code blob-code-inner js-file-line" id="LC762">       <span class="pl-s"><span class="pl-pds">&quot;</span>    &lt;tr&gt;<span class="pl-cce">\n</span><span class="pl-pds">&quot;</span></span>,</div>
                </div>
                <div class="d-flex flex-justify-start flex-items-start">
                  <div class="blob-num blame-blob-num color-bg-subtle js-line-number" id="L763">763</div>
                  <div class="blob-code blob-code-inner js-file-line" id="LC763">       <span class="pl-s"><span class="pl-pds">&quot;</span>      &lt;th&gt;4&lt;/th&gt;<span class="pl-cce">\n</span><span class="pl-pds">&quot;</span></span>,</div>
                </div>
                <div class="d-flex flex-justify-start flex-items-start">
                  <div class="blob-num blame-blob-num color-bg-subtle js-line-number" id="L764">764</div>
                  <div class="blob-code blob-code-inner js-file-line" id="LC764">       <span class="pl-s"><span class="pl-pds">&quot;</span>      &lt;td&gt;Trending Up&lt;/td&gt;<span class="pl-cce">\n</span><span class="pl-pds">&quot;</span></span>,</div>
                </div>
                <div class="d-flex flex-justify-start flex-items-start">
                  <div class="blob-num blame-blob-num color-bg-subtle js-line-number" id="L765">765</div>
                  <div class="blob-code blob-code-inner js-file-line" id="LC765">       <span class="pl-s"><span class="pl-pds">&quot;</span>      &lt;td&gt;361.09&lt;/td&gt;<span class="pl-cce">\n</span><span class="pl-pds">&quot;</span></span>,</div>
                </div>
                <div class="d-flex flex-justify-start flex-items-start">
                  <div class="blob-num blame-blob-num color-bg-subtle js-line-number" id="L766">766</div>
                  <div class="blob-code blob-code-inner js-file-line" id="LC766">       <span class="pl-s"><span class="pl-pds">&quot;</span>      &lt;td&gt;476.28&lt;/td&gt;<span class="pl-cce">\n</span><span class="pl-pds">&quot;</span></span>,</div>
                </div>
                <div class="d-flex flex-justify-start flex-items-start">
                  <div class="blob-num blame-blob-num color-bg-subtle js-line-number" id="L767">767</div>
                  <div class="blob-code blob-code-inner js-file-line" id="LC767">       <span class="pl-s"><span class="pl-pds">&quot;</span>      &lt;td&gt;685.65&lt;/td&gt;<span class="pl-cce">\n</span><span class="pl-pds">&quot;</span></span>,</div>
                </div>
                <div class="d-flex flex-justify-start flex-items-start">
                  <div class="blob-num blame-blob-num color-bg-subtle js-line-number" id="L768">768</div>
                  <div class="blob-code blob-code-inner js-file-line" id="LC768">       <span class="pl-s"><span class="pl-pds">&quot;</span>    &lt;/tr&gt;<span class="pl-cce">\n</span><span class="pl-pds">&quot;</span></span>,</div>
                </div>
                <div class="d-flex flex-justify-start flex-items-start">
                  <div class="blob-num blame-blob-num color-bg-subtle js-line-number" id="L769">769</div>
                  <div class="blob-code blob-code-inner js-file-line" id="LC769">       <span class="pl-s"><span class="pl-pds">&quot;</span>  &lt;/tbody&gt;<span class="pl-cce">\n</span><span class="pl-pds">&quot;</span></span>,</div>
                </div>
                <div class="d-flex flex-justify-start flex-items-start">
                  <div class="blob-num blame-blob-num color-bg-subtle js-line-number" id="L770">770</div>
                  <div class="blob-code blob-code-inner js-file-line" id="LC770">       <span class="pl-s"><span class="pl-pds">&quot;</span>&lt;/table&gt;&lt;/div&gt;<span class="pl-pds">&quot;</span></span></div>
                </div>
                <div class="d-flex flex-justify-start flex-items-start">
                  <div class="blob-num blame-blob-num color-bg-subtle js-line-number" id="L771">771</div>
                  <div class="blob-code blob-code-inner js-file-line" id="LC771">      ],</div>
                </div>
                <div class="d-flex flex-justify-start flex-items-start">
                  <div class="blob-num blame-blob-num color-bg-subtle js-line-number" id="L772">772</div>
                  <div class="blob-code blob-code-inner js-file-line" id="LC772">      <span class="pl-ent">&quot;text/plain&quot;</span>: [</div>
                </div>
                <div class="d-flex flex-justify-start flex-items-start">
                  <div class="blob-num blame-blob-num color-bg-subtle js-line-number" id="L773">773</div>
                  <div class="blob-code blob-code-inner js-file-line" id="LC773">       <span class="pl-s"><span class="pl-pds">&quot;</span>  host_popularity  min_price  avg_price  max_price<span class="pl-cce">\n</span><span class="pl-pds">&quot;</span></span>,</div>
                </div>
                <div class="d-flex flex-justify-start flex-items-start">
                  <div class="blob-num blame-blob-num color-bg-subtle js-line-number" id="L774">774</div>
                  <div class="blob-code blob-code-inner js-file-line" id="LC774">       <span class="pl-s"><span class="pl-pds">&quot;</span>0             Hot     340.12     464.23     633.51<span class="pl-cce">\n</span><span class="pl-pds">&quot;</span></span>,</div>
                </div>
                <div class="d-flex flex-justify-start flex-items-start">
                  <div class="blob-num blame-blob-num color-bg-subtle js-line-number" id="L775">775</div>
                  <div class="blob-code blob-code-inner js-file-line" id="LC775">       <span class="pl-s"><span class="pl-pds">&quot;</span>1             New     313.55     515.92     741.76<span class="pl-cce">\n</span><span class="pl-pds">&quot;</span></span>,</div>
                </div>
                <div class="d-flex flex-justify-start flex-items-start">
                  <div class="blob-num blame-blob-num color-bg-subtle js-line-number" id="L776">776</div>
                  <div class="blob-code blob-code-inner js-file-line" id="LC776">       <span class="pl-s"><span class="pl-pds">&quot;</span>2         Popular     270.81     472.81     667.83<span class="pl-cce">\n</span><span class="pl-pds">&quot;</span></span>,</div>
                </div>
                <div class="d-flex flex-justify-start flex-items-start">
                  <div class="blob-num blame-blob-num color-bg-subtle js-line-number" id="L777">777</div>
                  <div class="blob-code blob-code-inner js-file-line" id="LC777">       <span class="pl-s"><span class="pl-pds">&quot;</span>3          Rising     355.53     503.85     717.01<span class="pl-cce">\n</span><span class="pl-pds">&quot;</span></span>,</div>
                </div>
                <div class="d-flex flex-justify-start flex-items-start">
                  <div class="blob-num blame-blob-num color-bg-subtle js-line-number" id="L778">778</div>
                  <div class="blob-code blob-code-inner js-file-line" id="LC778">       <span class="pl-s"><span class="pl-pds">&quot;</span>4     Trending Up     361.09     476.28     685.65<span class="pl-pds">&quot;</span></span></div>
                </div>
                <div class="d-flex flex-justify-start flex-items-start">
                  <div class="blob-num blame-blob-num color-bg-subtle js-line-number" id="L779">779</div>
                  <div class="blob-code blob-code-inner js-file-line" id="LC779">      ]</div>
                </div>
                <div class="d-flex flex-justify-start flex-items-start">
                  <div class="blob-num blame-blob-num color-bg-subtle js-line-number" id="L780">780</div>
                  <div class="blob-code blob-code-inner js-file-line" id="LC780">     },</div>
                </div>
                <div class="d-flex flex-justify-start flex-items-start">
                  <div class="blob-num blame-blob-num color-bg-subtle js-line-number" id="L781">781</div>
                  <div class="blob-code blob-code-inner js-file-line" id="LC781">     <span class="pl-ent">&quot;execution_count&quot;</span>: <span class="pl-c1">20</span>,</div>
                </div>
                <div class="d-flex flex-justify-start flex-items-start">
                  <div class="blob-num blame-blob-num color-bg-subtle js-line-number" id="L782">782</div>
                  <div class="blob-code blob-code-inner js-file-line" id="LC782">     <span class="pl-ent">&quot;metadata&quot;</span>: {},</div>
                </div>
                <div class="d-flex flex-justify-start flex-items-start">
                  <div class="blob-num blame-blob-num color-bg-subtle js-line-number" id="L783">783</div>
                  <div class="blob-code blob-code-inner js-file-line" id="LC783">     <span class="pl-ent">&quot;output_type&quot;</span>: <span class="pl-s"><span class="pl-pds">&quot;</span>execute_result<span class="pl-pds">&quot;</span></span></div>
                </div>
                <div class="d-flex flex-justify-start flex-items-start">
                  <div class="blob-num blame-blob-num color-bg-subtle js-line-number" id="L784">784</div>
                  <div class="blob-code blob-code-inner js-file-line" id="LC784">    }</div>
                </div>
                <div class="d-flex flex-justify-start flex-items-start">
                  <div class="blob-num blame-blob-num color-bg-subtle js-line-number" id="L785">785</div>
                  <div class="blob-code blob-code-inner js-file-line" id="LC785">   ],</div>
                </div>
                <div class="d-flex flex-justify-start flex-items-start">
                  <div class="blob-num blame-blob-num color-bg-subtle js-line-number" id="L786">786</div>
                  <div class="blob-code blob-code-inner js-file-line" id="LC786">   <span class="pl-ent">&quot;source&quot;</span>: [</div>
                </div>
                <div class="d-flex flex-justify-start flex-items-start">
                  <div class="blob-num blame-blob-num color-bg-subtle js-line-number" id="L787">787</div>
                  <div class="blob-code blob-code-inner js-file-line" id="LC787">    <span class="pl-s"><span class="pl-pds">&quot;</span>result<span class="pl-pds">&quot;</span></span></div>
                </div>
                <div class="d-flex flex-justify-start flex-items-start">
                  <div class="blob-num blame-blob-num color-bg-subtle js-line-number" id="L788">788</div>
                  <div class="blob-code blob-code-inner js-file-line" id="LC788">   ]</div>
                </div>
                <div class="d-flex flex-justify-start flex-items-start">
                  <div class="blob-num blame-blob-num color-bg-subtle js-line-number" id="L789">789</div>
                  <div class="blob-code blob-code-inner js-file-line" id="LC789">  },</div>
                </div>
                <div class="d-flex flex-justify-start flex-items-start">
                  <div class="blob-num blame-blob-num color-bg-subtle js-line-number" id="L790">790</div>
                  <div class="blob-code blob-code-inner js-file-line" id="LC790">  {</div>
                </div>
                <div class="d-flex flex-justify-start flex-items-start">
                  <div class="blob-num blame-blob-num color-bg-subtle js-line-number" id="L791">791</div>
                  <div class="blob-code blob-code-inner js-file-line" id="LC791">   <span class="pl-ent">&quot;cell_type&quot;</span>: <span class="pl-s"><span class="pl-pds">&quot;</span>code<span class="pl-pds">&quot;</span></span>,</div>
                </div>
                <div class="d-flex flex-justify-start flex-items-start">
                  <div class="blob-num blame-blob-num color-bg-subtle js-line-number" id="L792">792</div>
                  <div class="blob-code blob-code-inner js-file-line" id="LC792">   <span class="pl-ent">&quot;execution_count&quot;</span>: <span class="pl-c1">null</span>,</div>
                </div>
                <div class="d-flex flex-justify-start flex-items-start">
                  <div class="blob-num blame-blob-num color-bg-subtle js-line-number" id="L793">793</div>
                  <div class="blob-code blob-code-inner js-file-line" id="LC793">   <span class="pl-ent">&quot;id&quot;</span>: <span class="pl-s"><span class="pl-pds">&quot;</span>96bfa31d<span class="pl-pds">&quot;</span></span>,</div>
                </div>
                <div class="d-flex flex-justify-start flex-items-start">
                  <div class="blob-num blame-blob-num color-bg-subtle js-line-number" id="L794">794</div>
                  <div class="blob-code blob-code-inner js-file-line" id="LC794">   <span class="pl-ent">&quot;metadata&quot;</span>: {},</div>
                </div>
                <div class="d-flex flex-justify-start flex-items-start">
                  <div class="blob-num blame-blob-num color-bg-subtle js-line-number" id="L795">795</div>
                  <div class="blob-code blob-code-inner js-file-line" id="LC795">   <span class="pl-ent">&quot;outputs&quot;</span>: [],</div>
                </div>
                <div class="d-flex flex-justify-start flex-items-start">
                  <div class="blob-num blame-blob-num color-bg-subtle js-line-number" id="L796">796</div>
                  <div class="blob-code blob-code-inner js-file-line" id="LC796">   <span class="pl-ent">&quot;source&quot;</span>: []</div>
                </div>
                <div class="d-flex flex-justify-start flex-items-start">
                  <div class="blob-num blame-blob-num color-bg-subtle js-line-number" id="L797">797</div>
                  <div class="blob-code blob-code-inner js-file-line" id="LC797">  }</div>
                </div>
                <div class="d-flex flex-justify-start flex-items-start">
                  <div class="blob-num blame-blob-num color-bg-subtle js-line-number" id="L798">798</div>
                  <div class="blob-code blob-code-inner js-file-line" id="LC798"> ],</div>
                </div>
                <div class="d-flex flex-justify-start flex-items-start">
                  <div class="blob-num blame-blob-num color-bg-subtle js-line-number" id="L799">799</div>
                  <div class="blob-code blob-code-inner js-file-line" id="LC799"> <span class="pl-ent">&quot;metadata&quot;</span>: {</div>
                </div>
                <div class="d-flex flex-justify-start flex-items-start">
                  <div class="blob-num blame-blob-num color-bg-subtle js-line-number" id="L800">800</div>
                  <div class="blob-code blob-code-inner js-file-line" id="LC800">  <span class="pl-ent">&quot;hide_input&quot;</span>: <span class="pl-c1">false</span>,</div>
                </div>
                <div class="d-flex flex-justify-start flex-items-start">
                  <div class="blob-num blame-blob-num color-bg-subtle js-line-number" id="L801">801</div>
                  <div class="blob-code blob-code-inner js-file-line" id="LC801">  <span class="pl-ent">&quot;kernelspec&quot;</span>: {</div>
                </div>
                <div class="d-flex flex-justify-start flex-items-start">
                  <div class="blob-num blame-blob-num color-bg-subtle js-line-number" id="L802">802</div>
                  <div class="blob-code blob-code-inner js-file-line" id="LC802">   <span class="pl-ent">&quot;display_name&quot;</span>: <span class="pl-s"><span class="pl-pds">&quot;</span>Python 3<span class="pl-pds">&quot;</span></span>,</div>
                </div>
                <div class="d-flex flex-justify-start flex-items-start">
                  <div class="blob-num blame-blob-num color-bg-subtle js-line-number" id="L803">803</div>
                  <div class="blob-code blob-code-inner js-file-line" id="LC803">   <span class="pl-ent">&quot;language&quot;</span>: <span class="pl-s"><span class="pl-pds">&quot;</span>python<span class="pl-pds">&quot;</span></span>,</div>
                </div>
                <div class="d-flex flex-justify-start flex-items-start">
                  <div class="blob-num blame-blob-num color-bg-subtle js-line-number" id="L804">804</div>
                  <div class="blob-code blob-code-inner js-file-line" id="LC804">   <span class="pl-ent">&quot;name&quot;</span>: <span class="pl-s"><span class="pl-pds">&quot;</span>python3<span class="pl-pds">&quot;</span></span></div>
                </div>
                <div class="d-flex flex-justify-start flex-items-start">
                  <div class="blob-num blame-blob-num color-bg-subtle js-line-number" id="L805">805</div>
                  <div class="blob-code blob-code-inner js-file-line" id="LC805">  },</div>
                </div>
                <div class="d-flex flex-justify-start flex-items-start">
                  <div class="blob-num blame-blob-num color-bg-subtle js-line-number" id="L806">806</div>
                  <div class="blob-code blob-code-inner js-file-line" id="LC806">  <span class="pl-ent">&quot;language_info&quot;</span>: {</div>
                </div>
                <div class="d-flex flex-justify-start flex-items-start">
                  <div class="blob-num blame-blob-num color-bg-subtle js-line-number" id="L807">807</div>
                  <div class="blob-code blob-code-inner js-file-line" id="LC807">   <span class="pl-ent">&quot;codemirror_mode&quot;</span>: {</div>
                </div>
                <div class="d-flex flex-justify-start flex-items-start">
                  <div class="blob-num blame-blob-num color-bg-subtle js-line-number" id="L808">808</div>
                  <div class="blob-code blob-code-inner js-file-line" id="LC808">    <span class="pl-ent">&quot;name&quot;</span>: <span class="pl-s"><span class="pl-pds">&quot;</span>ipython<span class="pl-pds">&quot;</span></span>,</div>
                </div>
                <div class="d-flex flex-justify-start flex-items-start">
                  <div class="blob-num blame-blob-num color-bg-subtle js-line-number" id="L809">809</div>
                  <div class="blob-code blob-code-inner js-file-line" id="LC809">    <span class="pl-ent">&quot;version&quot;</span>: <span class="pl-c1">3</span></div>
                </div>
                <div class="d-flex flex-justify-start flex-items-start">
                  <div class="blob-num blame-blob-num color-bg-subtle js-line-number" id="L810">810</div>
                  <div class="blob-code blob-code-inner js-file-line" id="LC810">   },</div>
                </div>
                <div class="d-flex flex-justify-start flex-items-start">
                  <div class="blob-num blame-blob-num color-bg-subtle js-line-number" id="L811">811</div>
                  <div class="blob-code blob-code-inner js-file-line" id="LC811">   <span class="pl-ent">&quot;file_extension&quot;</span>: <span class="pl-s"><span class="pl-pds">&quot;</span>.py<span class="pl-pds">&quot;</span></span>,</div>
                </div>
                <div class="d-flex flex-justify-start flex-items-start">
                  <div class="blob-num blame-blob-num color-bg-subtle js-line-number" id="L812">812</div>
                  <div class="blob-code blob-code-inner js-file-line" id="LC812">   <span class="pl-ent">&quot;mimetype&quot;</span>: <span class="pl-s"><span class="pl-pds">&quot;</span>text/x-python<span class="pl-pds">&quot;</span></span>,</div>
                </div>
                <div class="d-flex flex-justify-start flex-items-start">
                  <div class="blob-num blame-blob-num color-bg-subtle js-line-number" id="L813">813</div>
                  <div class="blob-code blob-code-inner js-file-line" id="LC813">   <span class="pl-ent">&quot;name&quot;</span>: <span class="pl-s"><span class="pl-pds">&quot;</span>python<span class="pl-pds">&quot;</span></span>,</div>
                </div>
                <div class="d-flex flex-justify-start flex-items-start">
                  <div class="blob-num blame-blob-num color-bg-subtle js-line-number" id="L814">814</div>
                  <div class="blob-code blob-code-inner js-file-line" id="LC814">   <span class="pl-ent">&quot;nbconvert_exporter&quot;</span>: <span class="pl-s"><span class="pl-pds">&quot;</span>python<span class="pl-pds">&quot;</span></span>,</div>
                </div>
                <div class="d-flex flex-justify-start flex-items-start">
                  <div class="blob-num blame-blob-num color-bg-subtle js-line-number" id="L815">815</div>
                  <div class="blob-code blob-code-inner js-file-line" id="LC815">   <span class="pl-ent">&quot;pygments_lexer&quot;</span>: <span class="pl-s"><span class="pl-pds">&quot;</span>ipython3<span class="pl-pds">&quot;</span></span>,</div>
                </div>
                <div class="d-flex flex-justify-start flex-items-start">
                  <div class="blob-num blame-blob-num color-bg-subtle js-line-number" id="L816">816</div>
                  <div class="blob-code blob-code-inner js-file-line" id="LC816">   <span class="pl-ent">&quot;version&quot;</span>: <span class="pl-s"><span class="pl-pds">&quot;</span>3.8.5<span class="pl-pds">&quot;</span></span></div>
                </div>
                <div class="d-flex flex-justify-start flex-items-start">
                  <div class="blob-num blame-blob-num color-bg-subtle js-line-number" id="L817">817</div>
                  <div class="blob-code blob-code-inner js-file-line" id="LC817">  }</div>
                </div>
                <div class="d-flex flex-justify-start flex-items-start">
                  <div class="blob-num blame-blob-num color-bg-subtle js-line-number" id="L818">818</div>
                  <div class="blob-code blob-code-inner js-file-line" id="LC818"> },</div>
                </div>
                <div class="d-flex flex-justify-start flex-items-start">
                  <div class="blob-num blame-blob-num color-bg-subtle js-line-number" id="L819">819</div>
                  <div class="blob-code blob-code-inner js-file-line" id="LC819"> <span class="pl-ent">&quot;nbformat&quot;</span>: <span class="pl-c1">4</span>,</div>
                </div>
                <div class="d-flex flex-justify-start flex-items-start">
                  <div class="blob-num blame-blob-num color-bg-subtle js-line-number" id="L820">820</div>
                  <div class="blob-code blob-code-inner js-file-line" id="LC820"> <span class="pl-ent">&quot;nbformat_minor&quot;</span>: <span class="pl-c1">5</span></div>
                </div>
                <div class="d-flex flex-justify-start flex-items-start">
                  <div class="blob-num blame-blob-num color-bg-subtle js-line-number" id="L821">821</div>
                  <div class="blob-code blob-code-inner js-file-line" id="LC821">}</div>
                </div>
            </div>
          </div>
      </div>
    </div>

  </div>

</div>


  </div>

  </turbo-frame>


    </main>
  </div>

  </div>

          <footer class="footer width-full container-xl p-responsive" role="contentinfo">
  <h2 class='sr-only'>Footer</h2>

  <div class="position-relative d-flex flex-items-center pb-2 f6 color-fg-muted border-top color-border-muted flex-column-reverse flex-lg-row flex-wrap flex-lg-nowrap mt-6 pt-6">
    <div class="list-style-none d-flex flex-wrap col-0 col-lg-2 flex-justify-start flex-lg-justify-between mb-2 mb-lg-0">
      <div class="mt-2 mt-lg-0 d-flex flex-items-center">
        <a aria-label="Homepage" title="GitHub" class="footer-octicon mr-2" href="https://github.com">
          <svg aria-hidden="true" height="24" viewBox="0 0 16 16" version="1.1" width="24" data-view-component="true" class="octicon octicon-mark-github">
    <path d="M8 0c4.42 0 8 3.58 8 8a8.013 8.013 0 0 1-5.45 7.59c-.4.08-.55-.17-.55-.38 0-.27.01-1.13.01-2.2 0-.75-.25-1.23-.54-1.48 1.78-.2 3.65-.88 3.65-3.95 0-.88-.31-1.59-.82-2.15.08-.2.36-1.02-.08-2.12 0 0-.67-.22-2.2.82-.64-.18-1.32-.27-2-.27-.68 0-1.36.09-2 .27-1.53-1.03-2.2-.82-2.2-.82-.44 1.1-.16 1.92-.08 2.12-.51.56-.82 1.28-.82 2.15 0 3.06 1.86 3.75 3.64 3.95-.23.2-.44.55-.51 1.07-.46.21-1.61.55-2.33-.66-.15-.24-.6-.83-1.23-.82-.67.01-.27.38.01.53.34.19.73.9.82 1.13.16.45.68 1.31 2.69.94 0 .67.01 1.3.01 1.49 0 .21-.15.45-.55.38A7.995 7.995 0 0 1 0 8c0-4.42 3.58-8 8-8Z"></path>
</svg>
</a>        <span>
        &copy; 2023 GitHub, Inc.
        </span>
      </div>
    </div>

    <nav aria-label='footer' class="col-12 col-lg-8">
      <h3 class='sr-only' id='sr-footer-heading'>Footer navigation</h3>
      <ul class="list-style-none d-flex flex-wrap col-12 flex-justify-center flex-lg-justify-between mb-2 mb-lg-0" aria-labelledby='sr-footer-heading'>
          <li class="mr-3 mr-lg-0"><a href="https://docs.github.com/site-policy/github-terms/github-terms-of-service" data-analytics-event="{&quot;category&quot;:&quot;Footer&quot;,&quot;action&quot;:&quot;go to terms&quot;,&quot;label&quot;:&quot;text:terms&quot;}">Terms</a></li>
          <li class="mr-3 mr-lg-0"><a href="https://docs.github.com/site-policy/privacy-policies/github-privacy-statement" data-analytics-event="{&quot;category&quot;:&quot;Footer&quot;,&quot;action&quot;:&quot;go to privacy&quot;,&quot;label&quot;:&quot;text:privacy&quot;}">Privacy</a></li>
          <li class="mr-3 mr-lg-0"><a data-analytics-event="{&quot;category&quot;:&quot;Footer&quot;,&quot;action&quot;:&quot;go to security&quot;,&quot;label&quot;:&quot;text:security&quot;}" href="https://github.com/security">Security</a></li>
          <li class="mr-3 mr-lg-0"><a href="https://www.githubstatus.com/" data-analytics-event="{&quot;category&quot;:&quot;Footer&quot;,&quot;action&quot;:&quot;go to status&quot;,&quot;label&quot;:&quot;text:status&quot;}">Status</a></li>
          <li class="mr-3 mr-lg-0"><a data-ga-click="Footer, go to help, text:Docs" href="https://docs.github.com">Docs</a></li>
          <li class="mr-3 mr-lg-0"><a href="https://support.github.com?tags=dotcom-footer" data-analytics-event="{&quot;category&quot;:&quot;Footer&quot;,&quot;action&quot;:&quot;go to contact&quot;,&quot;label&quot;:&quot;text:contact&quot;}">Contact GitHub</a></li>
          <li class="mr-3 mr-lg-0"><a href="https://github.com/pricing" data-analytics-event="{&quot;category&quot;:&quot;Footer&quot;,&quot;action&quot;:&quot;go to Pricing&quot;,&quot;label&quot;:&quot;text:Pricing&quot;}">Pricing</a></li>
        <li class="mr-3 mr-lg-0"><a href="https://docs.github.com" data-analytics-event="{&quot;category&quot;:&quot;Footer&quot;,&quot;action&quot;:&quot;go to api&quot;,&quot;label&quot;:&quot;text:api&quot;}">API</a></li>
        <li class="mr-3 mr-lg-0"><a href="https://services.github.com" data-analytics-event="{&quot;category&quot;:&quot;Footer&quot;,&quot;action&quot;:&quot;go to training&quot;,&quot;label&quot;:&quot;text:training&quot;}">Training</a></li>
          <li class="mr-3 mr-lg-0"><a href="https://github.blog" data-analytics-event="{&quot;category&quot;:&quot;Footer&quot;,&quot;action&quot;:&quot;go to blog&quot;,&quot;label&quot;:&quot;text:blog&quot;}">Blog</a></li>
          <li><a data-ga-click="Footer, go to about, text:about" href="https://github.com/about">About</a></li>
      </ul>
    </nav>
  </div>

  <div class="d-flex flex-justify-center pb-6">
    <span class="f6 color-fg-muted"></span>
  </div>
</footer>




  <div id="ajax-error-message" class="ajax-error-message flash flash-error" hidden>
    <svg aria-hidden="true" height="16" viewBox="0 0 16 16" version="1.1" width="16" data-view-component="true" class="octicon octicon-alert">
    <path d="M6.457 1.047c.659-1.234 2.427-1.234 3.086 0l6.082 11.378A1.75 1.75 0 0 1 14.082 15H1.918a1.75 1.75 0 0 1-1.543-2.575Zm1.763.707a.25.25 0 0 0-.44 0L1.698 13.132a.25.25 0 0 0 .22.368h12.164a.25.25 0 0 0 .22-.368Zm.53 3.996v2.5a.75.75 0 0 1-1.5 0v-2.5a.75.75 0 0 1 1.5 0ZM9 11a1 1 0 1 1-2 0 1 1 0 0 1 2 0Z"></path>
</svg>
    <button type="button" class="flash-close js-ajax-error-dismiss" aria-label="Dismiss error">
      <svg aria-hidden="true" height="16" viewBox="0 0 16 16" version="1.1" width="16" data-view-component="true" class="octicon octicon-x">
    <path d="M3.72 3.72a.75.75 0 0 1 1.06 0L8 6.94l3.22-3.22a.749.749 0 0 1 1.275.326.749.749 0 0 1-.215.734L9.06 8l3.22 3.22a.749.749 0 0 1-.326 1.275.749.749 0 0 1-.734-.215L8 9.06l-3.22 3.22a.751.751 0 0 1-1.042-.018.751.751 0 0 1-.018-1.042L6.94 8 3.72 4.78a.75.75 0 0 1 0-1.06Z"></path>
</svg>
    </button>
    You can’t perform that action at this time.
  </div>

  <div class="js-stale-session-flash flash flash-warn flash-banner" hidden
    >
    <svg aria-hidden="true" height="16" viewBox="0 0 16 16" version="1.1" width="16" data-view-component="true" class="octicon octicon-alert">
    <path d="M6.457 1.047c.659-1.234 2.427-1.234 3.086 0l6.082 11.378A1.75 1.75 0 0 1 14.082 15H1.918a1.75 1.75 0 0 1-1.543-2.575Zm1.763.707a.25.25 0 0 0-.44 0L1.698 13.132a.25.25 0 0 0 .22.368h12.164a.25.25 0 0 0 .22-.368Zm.53 3.996v2.5a.75.75 0 0 1-1.5 0v-2.5a.75.75 0 0 1 1.5 0ZM9 11a1 1 0 1 1-2 0 1 1 0 0 1 2 0Z"></path>
</svg>
    <span class="js-stale-session-flash-signed-in" hidden>You signed in with another tab or window. <a href="">Reload</a> to refresh your session.</span>
    <span class="js-stale-session-flash-signed-out" hidden>You signed out in another tab or window. <a href="">Reload</a> to refresh your session.</span>
  </div>
    <template id="site-details-dialog">
  <details class="details-reset details-overlay details-overlay-dark lh-default color-fg-default hx_rsm" open>
    <summary role="button" aria-label="Close dialog"></summary>
    <details-dialog class="Box Box--overlay d-flex flex-column anim-fade-in fast hx_rsm-dialog hx_rsm-modal">
      <button class="Box-btn-octicon m-0 btn-octicon position-absolute right-0 top-0" type="button" aria-label="Close dialog" data-close-dialog>
        <svg aria-hidden="true" height="16" viewBox="0 0 16 16" version="1.1" width="16" data-view-component="true" class="octicon octicon-x">
    <path d="M3.72 3.72a.75.75 0 0 1 1.06 0L8 6.94l3.22-3.22a.749.749 0 0 1 1.275.326.749.749 0 0 1-.215.734L9.06 8l3.22 3.22a.749.749 0 0 1-.326 1.275.749.749 0 0 1-.734-.215L8 9.06l-3.22 3.22a.751.751 0 0 1-1.042-.018.751.751 0 0 1-.018-1.042L6.94 8 3.72 4.78a.75.75 0 0 1 0-1.06Z"></path>
</svg>
      </button>
      <div class="octocat-spinner my-6 js-details-dialog-spinner"></div>
    </details-dialog>
  </details>
</template>

    <div class="Popover js-hovercard-content position-absolute" style="display: none; outline: none;" tabindex="0">
  <div class="Popover-message Popover-message--bottom-left Popover-message--large Box color-shadow-large" style="width:360px;">
  </div>
</div>

    <template id="snippet-clipboard-copy-button">
  <div class="zeroclipboard-container position-absolute right-0 top-0">
    <clipboard-copy aria-label="Copy" class="ClipboardButton btn js-clipboard-copy m-2 p-0 tooltipped-no-delay" data-copy-feedback="Copied!" data-tooltip-direction="w">
      <svg aria-hidden="true" height="16" viewBox="0 0 16 16" version="1.1" width="16" data-view-component="true" class="octicon octicon-copy js-clipboard-copy-icon m-2">
    <path d="M0 6.75C0 5.784.784 5 1.75 5h1.5a.75.75 0 0 1 0 1.5h-1.5a.25.25 0 0 0-.25.25v7.5c0 .138.112.25.25.25h7.5a.25.25 0 0 0 .25-.25v-1.5a.75.75 0 0 1 1.5 0v1.5A1.75 1.75 0 0 1 9.25 16h-7.5A1.75 1.75 0 0 1 0 14.25Z"></path><path d="M5 1.75C5 .784 5.784 0 6.75 0h7.5C15.216 0 16 .784 16 1.75v7.5A1.75 1.75 0 0 1 14.25 11h-7.5A1.75 1.75 0 0 1 5 9.25Zm1.75-.25a.25.25 0 0 0-.25.25v7.5c0 .138.112.25.25.25h7.5a.25.25 0 0 0 .25-.25v-7.5a.25.25 0 0 0-.25-.25Z"></path>
</svg>
      <svg aria-hidden="true" height="16" viewBox="0 0 16 16" version="1.1" width="16" data-view-component="true" class="octicon octicon-check js-clipboard-check-icon color-fg-success d-none m-2">
    <path d="M13.78 4.22a.75.75 0 0 1 0 1.06l-7.25 7.25a.75.75 0 0 1-1.06 0L2.22 9.28a.751.751 0 0 1 .018-1.042.751.751 0 0 1 1.042-.018L6 10.94l6.72-6.72a.75.75 0 0 1 1.06 0Z"></path>
</svg>
    </clipboard-copy>
  </div>
</template>


    <style>
      .user-mention[href$="/KAOCHINGHAO"] {
        color: var(--color-user-mention-fg);
        background-color: var(--color-user-mention-bg);
        border-radius: 2px;
        margin-left: -2px;
        margin-right: -2px;
        padding: 0 2px;
      }
    </style>


    </div>

    <div id="js-global-screen-reader-notice" class="sr-only" aria-live="polite" ></div>
  </body>
</html>

